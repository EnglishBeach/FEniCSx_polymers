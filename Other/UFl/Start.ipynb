{
 "cells": [
  {
   "cell_type": "code",
   "execution_count": 1,
   "metadata": {},
   "outputs": [],
   "source": [
    "from ufl import *\n",
    "import numpy as np\n",
    "from mpi4py import MPI\n",
    "\n",
    "\n",
    "def printer(elements):\n",
    "    if isinstance( elements,list):\n",
    "        for elem in elements:\n",
    "            print('{:}   :::   {:}'.format(elem,type(elem)))\n",
    "    else: print('{:} : {:}'.format(elements,type(elements)))\n",
    "\n",
    "\n",
    "def ti(tit=''):\n",
    "    if tit == 'end': print('{:-^80}'.format('End block'))\n",
    "    else: print('{:*^80}'.format(tit))"
   ]
  },
  {
   "cell_type": "code",
   "execution_count": 2,
   "metadata": {},
   "outputs": [
    {
     "name": "stdout",
     "output_type": "stream",
     "text": [
      "************************************Preprare************************************\n",
      "v_1   :::   <class 'ufl.argument.Argument'>\n",
      "w_1   :::   <class 'ufl.coefficient.Coefficient'>\n",
      "x[0]   :::   <class 'ufl.indexed.Indexed'>\n",
      "**********************************Derivatives***********************************\n",
      "sin(2 + x[0])   :::   <class 'ufl.mathfunctions.Sin'>\n",
      "{ sin(2 + x[0]) } * dx(<Mesh #-1>[everywhere], {})   :::   <class 'ufl.form.Form'>\n",
      "{ ([2 + sin(x[1]), x[0]]) : ([2 + sin(x[1]), x[0]]) } * dx(<Mesh #-1>[everywhere], {})   :::   <class 'ufl.form.Form'>\n",
      "v_1   :::   <class 'ufl.argument.Argument'>\n",
      "v_0   :::   <class 'ufl.argument.Argument'>\n",
      "c_1   :::   <class 'ufl.constant.Constant'>\n",
      "sum_{i_8} ([2 + sin(x[1]), x[0]])[i_8] * ([2 + sin(x[1]), x[0]])[i_8]    :::   <class 'ufl.indexsum.IndexSum'>\n",
      "-----------------------------------End block------------------------------------\n",
      "***********************************Variables************************************\n",
      "2 * w_1   :::   <class 'ufl.algebra.Product'>\n",
      "var0(2 * w_1)   :::   <class 'ufl.variable.Variable'>\n",
      "(var0(2 * w_1)) ** 2   :::   <class 'ufl.algebra.Power'>\n",
      "d/d[var0(2 * w_1)] ((var0(2 * w_1)) ** 2)   :::   <class 'ufl.differentiation.VariableDerivative'>\n",
      "d/d[w_1] ((var0(2 * w_1)) ** 2)   :::   <class 'ufl.differentiation.VariableDerivative'>\n",
      "************************************Replace*************************************\n",
      "w_2 * w_3 ** w_4 : <class 'ufl.algebra.Product'>\n",
      "40 : <class 'ufl.constantvalue.IntValue'>\n",
      "************************************Operands************************************\n",
      "2 + x[0] : <class 'ufl.algebra.Sum'>\n",
      "(Product(IntValue(2), Sin(Sum(IntValue(2), Indexed(SpatialCoordinate(Mesh(VectorElement(FiniteElement('Lagrange', triangle, 1), dim=2), -1)), MultiIndex((FixedIndex(0),)))))), Sin(Cos(Sum(Indexed(SpatialCoordinate(Mesh(VectorElement(FiniteElement('Lagrange', triangle, 1), dim=2), -1)), MultiIndex((FixedIndex(0),))), Product(IntValue(2), Indexed(SpatialCoordinate(Mesh(VectorElement(FiniteElement('Lagrange', triangle, 1), dim=2), -1)), MultiIndex((FixedIndex(1),)))))))) : <class 'tuple'>\n",
      "-----------------------------------End block------------------------------------\n",
      "()\n",
      "()\n",
      "(2,)\n",
      "()\n",
      "*************************************coefs**************************************\n",
      "x[0] * w_2 * w_4 + w_2 * w_3 ** w_4   :::   <class 'ufl.algebra.Sum'>\n",
      "x[0] * 5 * w_4 + 5 * 2 ** w_4   :::   <class 'ufl.algebra.Sum'>\n",
      "20 + 10 * x[0]   :::   <class 'ufl.algebra.Sum'>\n",
      "-----------------------------------End block------------------------------------\n"
     ]
    }
   ],
   "source": [
    "cell = Cell(cellname='triangle', geometric_dimension=2)\n",
    "\n",
    "el = FiniteElement(\n",
    "    family='CG',\n",
    "    cell=cell,\n",
    "    degree=1,\n",
    "    )\n",
    "\n",
    "i = Index()\n",
    "x, y = SpatialCoordinate(cell)\n",
    "arg = Argument(number=1, function_space=el)\n",
    "coef = Coefficient(count=1, function_space=el)\n",
    "\n",
    "ti('Preprare')\n",
    "printer([arg, coef, x])\n",
    "\n",
    "a = sin(x + 2)\n",
    "a2 = a * dx\n",
    "a3 = a * ds\n",
    "v = as_vector([sin(y) + 2, x])\n",
    "v2 = v**2 * dx\n",
    "trial = TrialFunction(el)\n",
    "test = TestFunction(el)\n",
    "const = Constant(count=1, domain=cell)\n",
    "ti('Derivatives')\n",
    "printer([a, a2, v2, trial, test, const, v[i] * v[i]])\n",
    "ti('end')\n",
    "\n",
    "ti('Variables')\n",
    "g = coef * 2\n",
    "g2 = variable(g)\n",
    "h = g2**2\n",
    "printer([g, g2, h, diff(h, g2), diff(h, coef)])\n",
    "\n",
    "ti('Replace')\n",
    "coef1, coef2, coef3 = Coefficient(el), Coefficient(el), Coefficient(el)\n",
    "a_coef = coef1 * coef2**coef3\n",
    "printer(a_coef)\n",
    "printer(replace(a_coef, {coef1: 5, coef2: 2, coef3: 3}))\n",
    "\n",
    "ti('Operands')\n",
    "printer(*a.ufl_operands)\n",
    "b = sin(cos(x + y*2)) + 2*a\n",
    "printer(b.ufl_operands)\n",
    "ti('end')\n",
    "\n",
    "print(b.ufl_free_indices)\n",
    "print(b.ufl_shape)\n",
    "print(v.ufl_shape)\n",
    "v3 = v**2\n",
    "print(v3.ufl_shape)\n",
    "\n",
    "ti('coefs')\n",
    "test1 = (coef1 * coef2**coef3 + coef1*coef3*x)\n",
    "test2 = replace(test1, {coef1: 5, coef2: 2})\n",
    "test3 = replace(test2, {coef3: 2, coef2: 2})\n",
    "printer([test1, test2, test3])\n",
    "ti('end')"
   ]
  },
  {
   "cell_type": "code",
   "execution_count": 3,
   "metadata": {},
   "outputs": [
    {
     "name": "stdout",
     "output_type": "stream",
     "text": [
      "Expected non-abstract domain for initalization of function space.\n"
     ]
    },
    {
     "ename": "UFLException",
     "evalue": "Expected non-abstract domain for initalization of function space.",
     "output_type": "error",
     "traceback": [
      "\u001b[0;31m---------------------------------------------------------------------------\u001b[0m",
      "\u001b[0;31mAttributeError\u001b[0m                            Traceback (most recent call last)",
      "File \u001b[0;32m/usr/local/lib/python3.10/dist-packages/ufl/functionspace.py:40\u001b[0m, in \u001b[0;36mFunctionSpace.__init__\u001b[0;34m(self, domain, element)\u001b[0m\n\u001b[1;32m     39\u001b[0m \u001b[39mtry\u001b[39;00m:\n\u001b[0;32m---> 40\u001b[0m     domain_cell \u001b[39m=\u001b[39m domain\u001b[39m.\u001b[39;49mufl_cell()\n\u001b[1;32m     41\u001b[0m \u001b[39mexcept\u001b[39;00m \u001b[39mAttributeError\u001b[39;00m:\n",
      "\u001b[0;31mAttributeError\u001b[0m: 'AbstractDomain' object has no attribute 'ufl_cell'",
      "\nDuring handling of the above exception, another exception occurred:\n",
      "\u001b[0;31mUFLException\u001b[0m                              Traceback (most recent call last)",
      "\u001b[1;32m/home/Other/UFl/Start.ipynb Ячейка 3\u001b[0m in \u001b[0;36m<cell line: 8>\u001b[0;34m()\u001b[0m\n\u001b[1;32m      <a href='vscode-notebook-cell://attached-container%2B7b22636f6e7461696e65724e616d65223a222f46456e69435378227d/home/Other/UFl/Start.ipynb#W2sdnNjb2RlLXJlbW90ZQ%3D%3D?line=0'>1</a>\u001b[0m element2 \u001b[39m=\u001b[39m VectorElement(\n\u001b[1;32m      <a href='vscode-notebook-cell://attached-container%2B7b22636f6e7461696e65724e616d65223a222f46456e69435378227d/home/Other/UFl/Start.ipynb#W2sdnNjb2RlLXJlbW90ZQ%3D%3D?line=1'>2</a>\u001b[0m     family\u001b[39m=\u001b[39m\u001b[39m'\u001b[39m\u001b[39mCG\u001b[39m\u001b[39m'\u001b[39m,\n\u001b[1;32m      <a href='vscode-notebook-cell://attached-container%2B7b22636f6e7461696e65724e616d65223a222f46456e69435378227d/home/Other/UFl/Start.ipynb#W2sdnNjb2RlLXJlbW90ZQ%3D%3D?line=2'>3</a>\u001b[0m     cell\u001b[39m=\u001b[39mcell,\n\u001b[1;32m      <a href='vscode-notebook-cell://attached-container%2B7b22636f6e7461696e65724e616d65223a222f46456e69435378227d/home/Other/UFl/Start.ipynb#W2sdnNjb2RlLXJlbW90ZQ%3D%3D?line=3'>4</a>\u001b[0m     degree\u001b[39m=\u001b[39m\u001b[39m1\u001b[39m,\n\u001b[1;32m      <a href='vscode-notebook-cell://attached-container%2B7b22636f6e7461696e65724e616d65223a222f46456e69435378227d/home/Other/UFl/Start.ipynb#W2sdnNjb2RlLXJlbW90ZQ%3D%3D?line=4'>5</a>\u001b[0m     )\n\u001b[1;32m      <a href='vscode-notebook-cell://attached-container%2B7b22636f6e7461696e65724e616d65223a222f46456e69435378227d/home/Other/UFl/Start.ipynb#W2sdnNjb2RlLXJlbW90ZQ%3D%3D?line=6'>7</a>\u001b[0m domain2 \u001b[39m=\u001b[39m AbstractDomain(geometric_dimension\u001b[39m=\u001b[39m\u001b[39m2\u001b[39m, topological_dimension\u001b[39m=\u001b[39m\u001b[39m2\u001b[39m)\n\u001b[0;32m----> <a href='vscode-notebook-cell://attached-container%2B7b22636f6e7461696e65724e616d65223a222f46456e69435378227d/home/Other/UFl/Start.ipynb#W2sdnNjb2RlLXJlbW90ZQ%3D%3D?line=7'>8</a>\u001b[0m space2 \u001b[39m=\u001b[39m FunctionSpace(domain\u001b[39m=\u001b[39;49mdomain2, element\u001b[39m=\u001b[39;49melement2)\n\u001b[1;32m      <a href='vscode-notebook-cell://attached-container%2B7b22636f6e7461696e65724e616d65223a222f46456e69435378227d/home/Other/UFl/Start.ipynb#W2sdnNjb2RlLXJlbW90ZQ%3D%3D?line=8'>9</a>\u001b[0m coef2 \u001b[39m=\u001b[39m Coefficient(count\u001b[39m=\u001b[39m\u001b[39m1\u001b[39m, function_space\u001b[39m=\u001b[39mspace2)\n\u001b[1;32m     <a href='vscode-notebook-cell://attached-container%2B7b22636f6e7461696e65724e616d65223a222f46456e69435378227d/home/Other/UFl/Start.ipynb#W2sdnNjb2RlLXJlbW90ZQ%3D%3D?line=9'>10</a>\u001b[0m printer(coef2)\n",
      "File \u001b[0;32m/usr/local/lib/python3.10/dist-packages/ufl/functionspace.py:42\u001b[0m, in \u001b[0;36mFunctionSpace.__init__\u001b[0;34m(self, domain, element)\u001b[0m\n\u001b[1;32m     40\u001b[0m     domain_cell \u001b[39m=\u001b[39m domain\u001b[39m.\u001b[39mufl_cell()\n\u001b[1;32m     41\u001b[0m \u001b[39mexcept\u001b[39;00m \u001b[39mAttributeError\u001b[39;00m:\n\u001b[0;32m---> 42\u001b[0m     error(\u001b[39m\"\u001b[39;49m\u001b[39mExpected non-abstract domain for initalization of function space.\u001b[39;49m\u001b[39m\"\u001b[39;49m)\n\u001b[1;32m     43\u001b[0m \u001b[39melse\u001b[39;00m:\n\u001b[1;32m     44\u001b[0m     \u001b[39mif\u001b[39;00m element\u001b[39m.\u001b[39mcell() \u001b[39m!=\u001b[39m domain_cell:\n",
      "File \u001b[0;32m/usr/local/lib/python3.10/dist-packages/ufl/log.py:158\u001b[0m, in \u001b[0;36mLogger.error\u001b[0;34m(self, *message)\u001b[0m\n\u001b[1;32m    156\u001b[0m \u001b[39m\"\u001b[39m\u001b[39mWrite error message and raise an exception.\u001b[39m\u001b[39m\"\u001b[39m\n\u001b[1;32m    157\u001b[0m \u001b[39mself\u001b[39m\u001b[39m.\u001b[39m_log\u001b[39m.\u001b[39merror(\u001b[39m*\u001b[39mmessage)\n\u001b[0;32m--> 158\u001b[0m \u001b[39mraise\u001b[39;00m \u001b[39mself\u001b[39m\u001b[39m.\u001b[39m_exception_type(\u001b[39mself\u001b[39m\u001b[39m.\u001b[39m_format_raw(\u001b[39m*\u001b[39mmessage))\n",
      "\u001b[0;31mUFLException\u001b[0m: Expected non-abstract domain for initalization of function space."
     ]
    }
   ],
   "source": [
    "element2 = VectorElement(\n",
    "    family='CG',\n",
    "    cell=cell,\n",
    "    degree=1,\n",
    "    )\n",
    "\n",
    "domain2 = AbstractDomain(geometric_dimension=2, topological_dimension=2)\n",
    "space2 = FunctionSpace(domain=domain2, element=element2)\n",
    "coef2 = Coefficient(count=1, function_space=space2)\n",
    "printer(coef2)"
   ]
  },
  {
   "cell_type": "markdown",
   "metadata": {},
   "source": [
    "# to fem"
   ]
  },
  {
   "cell_type": "code",
   "execution_count": 4,
   "metadata": {},
   "outputs": [],
   "source": [
    "from dolfinx import fem,mesh"
   ]
  },
  {
   "cell_type": "code",
   "execution_count": 5,
   "metadata": {},
   "outputs": [],
   "source": [
    "domain = mesh.create_unit_square(\n",
    "    comm=MPI.COMM_WORLD,\n",
    "    cell_type=mesh.CellType.triangle,\n",
    "    nx=10,\n",
    "    ny=10,\n",
    "    )\n",
    "\n",
    "space = fem.FunctionSpace(mesh=domain, element=el)\n",
    "coef0_f = fem.Function(space)"
   ]
  },
  {
   "cell_type": "code",
   "execution_count": null,
   "metadata": {},
   "outputs": [],
   "source": [
    "coef0_f."
   ]
  },
  {
   "cell_type": "code",
   "execution_count": 29,
   "metadata": {},
   "outputs": [
    {
     "data": {
      "text/plain": [
       "<dolfinx.mesh.Mesh at 0x7f18b1bc0630>"
      ]
     },
     "execution_count": 29,
     "metadata": {},
     "output_type": "execute_result"
    }
   ],
   "source": [
    "t01 = coef0_f.ufl_domain()\n",
    "t02 = t01.ufl_cargo()\n",
    "t02"
   ]
  },
  {
   "cell_type": "code",
   "execution_count": 25,
   "metadata": {},
   "outputs": [
    {
     "data": {
      "text/plain": [
       "Mesh(VectorElement(FiniteElement('Lagrange', triangle, 1), dim=2), -1)"
      ]
     },
     "execution_count": 25,
     "metadata": {},
     "output_type": "execute_result"
    }
   ],
   "source": [
    "t1 = coef.ufl_domain()\n",
    "t2 = t1.ufl_cargo()\n",
    "t3 = coef.ufl_function_space()\n",
    "t4 = coef.ufl_function_space()\n",
    "t1"
   ]
  },
  {
   "cell_type": "code",
   "execution_count": 24,
   "metadata": {},
   "outputs": [
    {
     "ename": "AttributeError",
     "evalue": "'NoneType' object has no attribute 'comm'",
     "output_type": "error",
     "traceback": [
      "\u001b[0;31m---------------------------------------------------------------------------\u001b[0m",
      "\u001b[0;31mAttributeError\u001b[0m                            Traceback (most recent call last)",
      "\u001b[1;32m/home/Other/UFl/Start.ipynb Ячейка 8\u001b[0m in \u001b[0;36m<cell line: 1>\u001b[0;34m()\u001b[0m\n\u001b[0;32m----> <a href='vscode-notebook-cell://attached-container%2B7b22636f6e7461696e65724e616d65223a222f46456e69435378227d/home/Other/UFl/Start.ipynb#X60sdnNjb2RlLXJlbW90ZQ%3D%3D?line=0'>1</a>\u001b[0m coef_exp \u001b[39m=\u001b[39m fem\u001b[39m.\u001b[39;49mExpression(\n\u001b[1;32m      <a href='vscode-notebook-cell://attached-container%2B7b22636f6e7461696e65724e616d65223a222f46456e69435378227d/home/Other/UFl/Start.ipynb#X60sdnNjb2RlLXJlbW90ZQ%3D%3D?line=1'>2</a>\u001b[0m     ufl_expression\u001b[39m=\u001b[39;49mcoef,\n\u001b[1;32m      <a href='vscode-notebook-cell://attached-container%2B7b22636f6e7461696e65724e616d65223a222f46456e69435378227d/home/Other/UFl/Start.ipynb#X60sdnNjb2RlLXJlbW90ZQ%3D%3D?line=2'>3</a>\u001b[0m     X\u001b[39m=\u001b[39;49mspace\u001b[39m.\u001b[39;49melement\u001b[39m.\u001b[39;49minterpolation_points(),\n\u001b[1;32m      <a href='vscode-notebook-cell://attached-container%2B7b22636f6e7461696e65724e616d65223a222f46456e69435378227d/home/Other/UFl/Start.ipynb#X60sdnNjb2RlLXJlbW90ZQ%3D%3D?line=3'>4</a>\u001b[0m     )\n",
      "File \u001b[0;32m/usr/local/dolfinx-real/lib/python3.10/dist-packages/dolfinx/fem/function.py:117\u001b[0m, in \u001b[0;36mExpression.__init__\u001b[0;34m(self, ufl_expression, X, form_compiler_params, jit_params, dtype)\u001b[0m\n\u001b[1;32m    114\u001b[0m \u001b[39melse\u001b[39;00m:\n\u001b[1;32m    115\u001b[0m     \u001b[39mraise\u001b[39;00m \u001b[39mRuntimeError\u001b[39;00m(\u001b[39mf\u001b[39m\u001b[39m\"\u001b[39m\u001b[39mUnsupported scalar type \u001b[39m\u001b[39m{\u001b[39;00mdtype\u001b[39m}\u001b[39;00m\u001b[39m for Expression.\u001b[39m\u001b[39m\"\u001b[39m)\n\u001b[0;32m--> 117\u001b[0m \u001b[39mself\u001b[39m\u001b[39m.\u001b[39m_ufcx_expression, module, \u001b[39mself\u001b[39m\u001b[39m.\u001b[39m_code \u001b[39m=\u001b[39m jit\u001b[39m.\u001b[39mffcx_jit(mesh\u001b[39m.\u001b[39;49mcomm, (ufl_expression, _X),\n\u001b[1;32m    118\u001b[0m                                                          form_compiler_params\u001b[39m=\u001b[39mform_compiler_params,\n\u001b[1;32m    119\u001b[0m                                                          jit_params\u001b[39m=\u001b[39mjit_params)\n\u001b[1;32m    120\u001b[0m \u001b[39mself\u001b[39m\u001b[39m.\u001b[39m_ufl_expression \u001b[39m=\u001b[39m ufl_expression\n\u001b[1;32m    122\u001b[0m \u001b[39m# Prepare coefficients data. For every coefficient in form take\u001b[39;00m\n\u001b[1;32m    123\u001b[0m \u001b[39m# its C++ object.\u001b[39;00m\n",
      "\u001b[0;31mAttributeError\u001b[0m: 'NoneType' object has no attribute 'comm'"
     ]
    }
   ],
   "source": [
    "coef_exp = fem.Expression(\n",
    "    ufl_expression=coef,\n",
    "    X=space.element.interpolation_points(),\n",
    "    )\n"
   ]
  }
 ],
 "metadata": {
  "interpreter": {
   "hash": "916dbcbb3f70747c44a77c7bcd40155683ae19c65e1c03b4aa3499c5328201f1"
  },
  "kernelspec": {
   "display_name": "Python 3.9.7 64-bit",
   "language": "python",
   "name": "python3"
  },
  "language_info": {
   "codemirror_mode": {
    "name": "ipython",
    "version": 3
   },
   "file_extension": ".py",
   "mimetype": "text/x-python",
   "name": "python",
   "nbconvert_exporter": "python",
   "pygments_lexer": "ipython3",
   "version": "3.10.4"
  },
  "orig_nbformat": 4
 },
 "nbformat": 4,
 "nbformat_minor": 2
}
