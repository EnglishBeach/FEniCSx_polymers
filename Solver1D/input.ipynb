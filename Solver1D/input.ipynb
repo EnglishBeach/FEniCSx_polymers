{
 "cells": [
  {
   "cell_type": "code",
   "execution_count": 1,
   "metadata": {},
   "outputs": [],
   "source": [
    "# Import\n",
    "import numpy as np\n",
    "import matplotlib.pyplot as plt\n",
    "from Parametrs import *\n",
    "from Structure import *\n",
    "\n",
    "import jsonpickle as jp\n",
    "import shutil\n",
    "import re\n",
    "import inspect\n",
    "\n",
    "\n",
    "def clear_savedir(path_save):\n",
    "    \"\"\"Clear directory in VTK folder\"\"\"\n",
    "\n",
    "    try:\n",
    "        shutil.rmtree(path_save)\n",
    "    except:\n",
    "        pass\n",
    "\n",
    "\n",
    "def view_file1D(\n",
    "    name,\n",
    "    dir='/home/VTK/System1D_files/',\n",
    "    view_dir='/home/VTK/System1D_files/0',\n",
    "):\n",
    "    shutil.copytree(dir + name, view_dir, dirs_exist_ok=True)\n",
    "\n",
    "\n",
    "def repr_str(func, rules: list = {}) -> str:\n",
    "    # TODO: to module\n",
    "    # FIXME: (( to (\\n(\n",
    "    rep = str(func)\n",
    "    rep = re.sub(r'\\{ A \\| A_\\{i_(\\d|\\{\\d+\\})\\} \\=', '', rep)\n",
    "    rep = re.sub(r'\\[i_(\\d|{\\d+})]', '', rep)\n",
    "    rep = re.sub(r'dx.+\\)', 'dx', rep)\n",
    "    rep = re.sub(r'ds.+\\)', 'ds', rep)\n",
    "    for key, raw in rules.items():\n",
    "        rep = rep.replace(str(raw),key)\n",
    "\n",
    "    base = {\n",
    "        'v_0[0]': 'v',\n",
    "        'v_0[1]': 'u',\n",
    "        '-1 * ': '-',\n",
    "        '+ -': '-',\n",
    "        'f[0]': 'N',\n",
    "        'f[1]': 'P',\n",
    "        '{': '{\\n',\n",
    "        '} *': '\\n} *',\n",
    "    }\n",
    "    for key, raw in base.items():\n",
    "        rep = rep.replace(key, raw)\n",
    "\n",
    "    beauty = {\n",
    "        '(grad(P))': 'grad(P)',\n",
    "        '(grad(N))': 'grad(N)',\n",
    "        '(grad(u))': 'grad(u)',\n",
    "        '(grad(v))': 'grad(v)',\n",
    "        '})': ')',\n",
    "        '+ (': '\\n   +(',\n",
    "    }\n",
    "    for key, raw in beauty.items():\n",
    "        rep = rep.replace(key, raw)\n",
    "    return rep"
   ]
  },
  {
   "cell_type": "code",
   "execution_count": 2,
   "metadata": {},
   "outputs": [],
   "source": [
    "# # For linux\n",
    "# p_save = Param_save(dir_save=r'D:\\WORKS\\PolimerSolve\\Solver1D\\Solves\\1\\system1D_anotaton.txt')\n",
    "# p_save.dir_save\n",
    "# path= p_save.dir_save\n",
    "# path += array[0]\n",
    "# path +=p_save.file_name+'_anotation.txt'\n",
    "# path"
   ]
  },
  {
   "cell_type": "code",
   "execution_count": 2,
   "metadata": {},
   "outputs": [
    {
     "data": {
      "text/plain": [
       "['1', '2', '3', '4', '5', '6']"
      ]
     },
     "execution_count": 2,
     "metadata": {},
     "output_type": "execute_result"
    }
   ],
   "source": [
    "import os\n",
    "l =[]\n",
    "for  i in os.walk('Solves'):\n",
    "    l.append(i[0])\n",
    "l = l[1:]\n",
    "array = [l[i].split('\\\\')[1] for i in range(len(l))]\n",
    "array"
   ]
  },
  {
   "cell_type": "code",
   "execution_count": 4,
   "metadata": {},
   "outputs": [
    {
     "ename": "IntegrityError",
     "evalue": "(1062, \"Duplicate entry 'sigmoid-0.1-0.3-20' for key 'light1d_kind_left_right_slope'\")",
     "output_type": "error",
     "traceback": [
      "\u001b[1;31m---------------------------------------------------------------------------\u001b[0m",
      "\u001b[1;31mIndexError\u001b[0m                                Traceback (most recent call last)",
      "File \u001b[1;32mc:\\Python38\\lib\\site-packages\\peewee.py:7072\u001b[0m, in \u001b[0;36mBaseModelSelect.get\u001b[1;34m(self, database)\u001b[0m\n\u001b[0;32m   7071\u001b[0m \u001b[39mtry\u001b[39;00m:\n\u001b[1;32m-> 7072\u001b[0m     \u001b[39mreturn\u001b[39;00m clone\u001b[39m.\u001b[39;49mexecute(database)[\u001b[39m0\u001b[39;49m]\n\u001b[0;32m   7073\u001b[0m \u001b[39mexcept\u001b[39;00m \u001b[39mIndexError\u001b[39;00m:\n",
      "File \u001b[1;32mc:\\Python38\\lib\\site-packages\\peewee.py:4436\u001b[0m, in \u001b[0;36mCursorWrapper.__getitem__\u001b[1;34m(self, item)\u001b[0m\n\u001b[0;32m   4435\u001b[0m     \u001b[39mself\u001b[39m\u001b[39m.\u001b[39mfill_cache(item \u001b[39mif\u001b[39;00m item \u001b[39m>\u001b[39m \u001b[39m0\u001b[39m \u001b[39melse\u001b[39;00m \u001b[39m0\u001b[39m)\n\u001b[1;32m-> 4436\u001b[0m     \u001b[39mreturn\u001b[39;00m \u001b[39mself\u001b[39;49m\u001b[39m.\u001b[39;49mrow_cache[item]\n\u001b[0;32m   4437\u001b[0m \u001b[39melse\u001b[39;00m:\n",
      "\u001b[1;31mIndexError\u001b[0m: list index out of range",
      "\nDuring handling of the above exception, another exception occurred:\n",
      "\u001b[1;31mLight1DDoesNotExist\u001b[0m                       Traceback (most recent call last)",
      "File \u001b[1;32mc:\\Python38\\lib\\site-packages\\peewee.py:6666\u001b[0m, in \u001b[0;36mModel.get_or_create\u001b[1;34m(cls, **kwargs)\u001b[0m\n\u001b[0;32m   6665\u001b[0m \u001b[39mtry\u001b[39;00m:\n\u001b[1;32m-> 6666\u001b[0m     \u001b[39mreturn\u001b[39;00m query\u001b[39m.\u001b[39;49mget(), \u001b[39mFalse\u001b[39;00m\n\u001b[0;32m   6667\u001b[0m \u001b[39mexcept\u001b[39;00m \u001b[39mcls\u001b[39m\u001b[39m.\u001b[39mDoesNotExist:\n",
      "File \u001b[1;32mc:\\Python38\\lib\\site-packages\\peewee.py:7075\u001b[0m, in \u001b[0;36mBaseModelSelect.get\u001b[1;34m(self, database)\u001b[0m\n\u001b[0;32m   7074\u001b[0m sql, params \u001b[39m=\u001b[39m clone\u001b[39m.\u001b[39msql()\n\u001b[1;32m-> 7075\u001b[0m \u001b[39mraise\u001b[39;00m \u001b[39mself\u001b[39m\u001b[39m.\u001b[39mmodel\u001b[39m.\u001b[39mDoesNotExist(\u001b[39m'\u001b[39m\u001b[39m%s\u001b[39;00m\u001b[39m instance matching query does \u001b[39m\u001b[39m'\u001b[39m\n\u001b[0;32m   7076\u001b[0m                               \u001b[39m'\u001b[39m\u001b[39mnot exist:\u001b[39m\u001b[39m\\n\u001b[39;00m\u001b[39mSQL: \u001b[39m\u001b[39m%s\u001b[39;00m\u001b[39m\\n\u001b[39;00m\u001b[39mParams: \u001b[39m\u001b[39m%s\u001b[39;00m\u001b[39m'\u001b[39m \u001b[39m%\u001b[39m\n\u001b[0;32m   7077\u001b[0m                               (clone\u001b[39m.\u001b[39mmodel, sql, params))\n",
      "\u001b[1;31mLight1DDoesNotExist\u001b[0m: <Model: Light1D> instance matching query does not exist:\nSQL: SELECT `t1`.`id`, `t1`.`kind`, `t1`.`left`, `t1`.`right`, `t1`.`slope` FROM `light1d` AS `t1` WHERE ((((`t1`.`kind` = %s) AND (`t1`.`left` = %s)) AND (`t1`.`right` = %s)) AND (`t1`.`slope` = %s)) LIMIT %s OFFSET %s\nParams: ['sigmoid', 0.1, 0.3, 20.0, 1, 0]",
      "\nDuring handling of the above exception, another exception occurred:\n",
      "\u001b[1;31mIntegrityError\u001b[0m                            Traceback (most recent call last)",
      "\u001b[1;32md:\\WORKS\\PolimerSolve\\Solver1D\\input.ipynb Cell 4\u001b[0m in \u001b[0;36m<cell line: 1>\u001b[1;34m()\u001b[0m\n\u001b[0;32m     <a href='vscode-notebook-cell:/d%3A/WORKS/PolimerSolve/Solver1D/input.ipynb#W3sZmlsZQ%3D%3D?line=12'>13</a>\u001b[0m note \u001b[39m=\u001b[39m {}\n\u001b[0;32m     <a href='vscode-notebook-cell:/d%3A/WORKS/PolimerSolve/Solver1D/input.ipynb#W3sZmlsZQ%3D%3D?line=13'>14</a>\u001b[0m note\u001b[39m.\u001b[39mupdate({\u001b[39m'\u001b[39m\u001b[39mmesh\u001b[39m\u001b[39m'\u001b[39m: Mesh1D\u001b[39m.\u001b[39mget_or_create(\u001b[39m*\u001b[39m\u001b[39m*\u001b[39mdump\u001b[39m.\u001b[39mmesh\u001b[39m.\u001b[39m\u001b[39m__dict__\u001b[39m)})\n\u001b[1;32m---> <a href='vscode-notebook-cell:/d%3A/WORKS/PolimerSolve/Solver1D/input.ipynb#W3sZmlsZQ%3D%3D?line=14'>15</a>\u001b[0m note\u001b[39m.\u001b[39mupdate({\u001b[39m'\u001b[39m\u001b[39mlight\u001b[39m\u001b[39m'\u001b[39m: Light1D\u001b[39m.\u001b[39;49mget_or_create(\u001b[39m*\u001b[39;49m\u001b[39m*\u001b[39;49mdump\u001b[39m.\u001b[39;49mlight\u001b[39m.\u001b[39;49m\u001b[39m__dict__\u001b[39;49m)})\n\u001b[0;32m     <a href='vscode-notebook-cell:/d%3A/WORKS/PolimerSolve/Solver1D/input.ipynb#W3sZmlsZQ%3D%3D?line=15'>16</a>\u001b[0m note\u001b[39m.\u001b[39mupdate({\u001b[39m'\u001b[39m\u001b[39msolver\u001b[39m\u001b[39m'\u001b[39m: Solver\u001b[39m.\u001b[39mget_or_create(\u001b[39m*\u001b[39m\u001b[39m*\u001b[39msolve_confs)})\n\u001b[0;32m     <a href='vscode-notebook-cell:/d%3A/WORKS/PolimerSolve/Solver1D/input.ipynb#W3sZmlsZQ%3D%3D?line=16'>17</a>\u001b[0m note\u001b[39m.\u001b[39mupdate({\n\u001b[0;32m     <a href='vscode-notebook-cell:/d%3A/WORKS/PolimerSolve/Solver1D/input.ipynb#W3sZmlsZQ%3D%3D?line=17'>18</a>\u001b[0m     \u001b[39m'\u001b[39m\u001b[39mtask\u001b[39m\u001b[39m'\u001b[39m:\n\u001b[0;32m     <a href='vscode-notebook-cell:/d%3A/WORKS/PolimerSolve/Solver1D/input.ipynb#W3sZmlsZQ%3D%3D?line=18'>19</a>\u001b[0m     Task\u001b[39m.\u001b[39mget_or_create(\n\u001b[1;32m   (...)\u001b[0m\n\u001b[0;32m     <a href='vscode-notebook-cell:/d%3A/WORKS/PolimerSolve/Solver1D/input.ipynb#W3sZmlsZQ%3D%3D?line=28'>29</a>\u001b[0m     )\n\u001b[0;32m     <a href='vscode-notebook-cell:/d%3A/WORKS/PolimerSolve/Solver1D/input.ipynb#W3sZmlsZQ%3D%3D?line=29'>30</a>\u001b[0m })\n",
      "File \u001b[1;32mc:\\Python38\\lib\\site-packages\\peewee.py:6668\u001b[0m, in \u001b[0;36mModel.get_or_create\u001b[1;34m(cls, **kwargs)\u001b[0m\n\u001b[0;32m   6666\u001b[0m     \u001b[39mreturn\u001b[39;00m query\u001b[39m.\u001b[39mget(), \u001b[39mFalse\u001b[39;00m\n\u001b[0;32m   6667\u001b[0m \u001b[39mexcept\u001b[39;00m \u001b[39mcls\u001b[39m\u001b[39m.\u001b[39mDoesNotExist:\n\u001b[1;32m-> 6668\u001b[0m     \u001b[39mraise\u001b[39;00m exc\n",
      "File \u001b[1;32mc:\\Python38\\lib\\site-packages\\peewee.py:6663\u001b[0m, in \u001b[0;36mModel.get_or_create\u001b[1;34m(cls, **kwargs)\u001b[0m\n\u001b[0;32m   6661\u001b[0m         kwargs\u001b[39m.\u001b[39mupdate(defaults)\n\u001b[0;32m   6662\u001b[0m     \u001b[39mwith\u001b[39;00m \u001b[39mcls\u001b[39m\u001b[39m.\u001b[39m_meta\u001b[39m.\u001b[39mdatabase\u001b[39m.\u001b[39matomic():\n\u001b[1;32m-> 6663\u001b[0m         \u001b[39mreturn\u001b[39;00m \u001b[39mcls\u001b[39;49m\u001b[39m.\u001b[39;49mcreate(\u001b[39m*\u001b[39;49m\u001b[39m*\u001b[39;49mkwargs), \u001b[39mTrue\u001b[39;00m\n\u001b[0;32m   6664\u001b[0m \u001b[39mexcept\u001b[39;00m IntegrityError \u001b[39mas\u001b[39;00m exc:\n\u001b[0;32m   6665\u001b[0m     \u001b[39mtry\u001b[39;00m:\n",
      "File \u001b[1;32mc:\\Python38\\lib\\site-packages\\peewee.py:6532\u001b[0m, in \u001b[0;36mModel.create\u001b[1;34m(cls, **query)\u001b[0m\n\u001b[0;32m   6529\u001b[0m \u001b[39m@classmethod\u001b[39m\n\u001b[0;32m   6530\u001b[0m \u001b[39mdef\u001b[39;00m \u001b[39mcreate\u001b[39m(\u001b[39mcls\u001b[39m, \u001b[39m*\u001b[39m\u001b[39m*\u001b[39mquery):\n\u001b[0;32m   6531\u001b[0m     inst \u001b[39m=\u001b[39m \u001b[39mcls\u001b[39m(\u001b[39m*\u001b[39m\u001b[39m*\u001b[39mquery)\n\u001b[1;32m-> 6532\u001b[0m     inst\u001b[39m.\u001b[39;49msave(force_insert\u001b[39m=\u001b[39;49m\u001b[39mTrue\u001b[39;49;00m)\n\u001b[0;32m   6533\u001b[0m     \u001b[39mreturn\u001b[39;00m inst\n",
      "File \u001b[1;32mc:\\Python38\\lib\\site-packages\\peewee.py:6742\u001b[0m, in \u001b[0;36mModel.save\u001b[1;34m(self, force_insert, only)\u001b[0m\n\u001b[0;32m   6740\u001b[0m     rows \u001b[39m=\u001b[39m \u001b[39mself\u001b[39m\u001b[39m.\u001b[39mupdate(\u001b[39m*\u001b[39m\u001b[39m*\u001b[39mfield_dict)\u001b[39m.\u001b[39mwhere(\u001b[39mself\u001b[39m\u001b[39m.\u001b[39m_pk_expr())\u001b[39m.\u001b[39mexecute()\n\u001b[0;32m   6741\u001b[0m \u001b[39melif\u001b[39;00m pk_field \u001b[39mis\u001b[39;00m \u001b[39mnot\u001b[39;00m \u001b[39mNone\u001b[39;00m:\n\u001b[1;32m-> 6742\u001b[0m     pk \u001b[39m=\u001b[39m \u001b[39mself\u001b[39;49m\u001b[39m.\u001b[39;49minsert(\u001b[39m*\u001b[39;49m\u001b[39m*\u001b[39;49mfield_dict)\u001b[39m.\u001b[39;49mexecute()\n\u001b[0;32m   6743\u001b[0m     \u001b[39mif\u001b[39;00m pk \u001b[39mis\u001b[39;00m \u001b[39mnot\u001b[39;00m \u001b[39mNone\u001b[39;00m \u001b[39mand\u001b[39;00m (\u001b[39mself\u001b[39m\u001b[39m.\u001b[39m_meta\u001b[39m.\u001b[39mauto_increment \u001b[39mor\u001b[39;00m\n\u001b[0;32m   6744\u001b[0m                            pk_value \u001b[39mis\u001b[39;00m \u001b[39mNone\u001b[39;00m):\n\u001b[0;32m   6745\u001b[0m         \u001b[39mself\u001b[39m\u001b[39m.\u001b[39m_pk \u001b[39m=\u001b[39m pk\n",
      "File \u001b[1;32mc:\\Python38\\lib\\site-packages\\peewee.py:1962\u001b[0m, in \u001b[0;36mdatabase_required.<locals>.inner\u001b[1;34m(self, database, *args, **kwargs)\u001b[0m\n\u001b[0;32m   1959\u001b[0m \u001b[39mif\u001b[39;00m \u001b[39mnot\u001b[39;00m database:\n\u001b[0;32m   1960\u001b[0m     \u001b[39mraise\u001b[39;00m InterfaceError(\u001b[39m'\u001b[39m\u001b[39mQuery must be bound to a database in order \u001b[39m\u001b[39m'\u001b[39m\n\u001b[0;32m   1961\u001b[0m                          \u001b[39m'\u001b[39m\u001b[39mto call \u001b[39m\u001b[39m\"\u001b[39m\u001b[39m%s\u001b[39;00m\u001b[39m\"\u001b[39m\u001b[39m.\u001b[39m\u001b[39m'\u001b[39m \u001b[39m%\u001b[39m method\u001b[39m.\u001b[39m\u001b[39m__name__\u001b[39m)\n\u001b[1;32m-> 1962\u001b[0m \u001b[39mreturn\u001b[39;00m method(\u001b[39mself\u001b[39;49m, database, \u001b[39m*\u001b[39;49margs, \u001b[39m*\u001b[39;49m\u001b[39m*\u001b[39;49mkwargs)\n",
      "File \u001b[1;32mc:\\Python38\\lib\\site-packages\\peewee.py:2033\u001b[0m, in \u001b[0;36mBaseQuery.execute\u001b[1;34m(self, database)\u001b[0m\n\u001b[0;32m   2031\u001b[0m \u001b[39m@database_required\u001b[39m\n\u001b[0;32m   2032\u001b[0m \u001b[39mdef\u001b[39;00m \u001b[39mexecute\u001b[39m(\u001b[39mself\u001b[39m, database):\n\u001b[1;32m-> 2033\u001b[0m     \u001b[39mreturn\u001b[39;00m \u001b[39mself\u001b[39;49m\u001b[39m.\u001b[39;49m_execute(database)\n",
      "File \u001b[1;32mc:\\Python38\\lib\\site-packages\\peewee.py:2838\u001b[0m, in \u001b[0;36mInsert._execute\u001b[1;34m(self, database)\u001b[0m\n\u001b[0;32m   2836\u001b[0m     \u001b[39mself\u001b[39m\u001b[39m.\u001b[39m_returning \u001b[39m=\u001b[39m (\u001b[39mself\u001b[39m\u001b[39m.\u001b[39mtable\u001b[39m.\u001b[39m_primary_key,)\n\u001b[0;32m   2837\u001b[0m \u001b[39mtry\u001b[39;00m:\n\u001b[1;32m-> 2838\u001b[0m     \u001b[39mreturn\u001b[39;00m \u001b[39msuper\u001b[39;49m(Insert, \u001b[39mself\u001b[39;49m)\u001b[39m.\u001b[39;49m_execute(database)\n\u001b[0;32m   2839\u001b[0m \u001b[39mexcept\u001b[39;00m \u001b[39mself\u001b[39m\u001b[39m.\u001b[39mDefaultValuesException:\n\u001b[0;32m   2840\u001b[0m     \u001b[39mpass\u001b[39;00m\n",
      "File \u001b[1;32mc:\\Python38\\lib\\site-packages\\peewee.py:2551\u001b[0m, in \u001b[0;36m_WriteQuery._execute\u001b[1;34m(self, database)\u001b[0m\n\u001b[0;32m   2549\u001b[0m     cursor \u001b[39m=\u001b[39m \u001b[39mself\u001b[39m\u001b[39m.\u001b[39mexecute_returning(database)\n\u001b[0;32m   2550\u001b[0m \u001b[39melse\u001b[39;00m:\n\u001b[1;32m-> 2551\u001b[0m     cursor \u001b[39m=\u001b[39m database\u001b[39m.\u001b[39;49mexecute(\u001b[39mself\u001b[39;49m)\n\u001b[0;32m   2552\u001b[0m \u001b[39mreturn\u001b[39;00m \u001b[39mself\u001b[39m\u001b[39m.\u001b[39mhandle_result(database, cursor)\n",
      "File \u001b[1;32mc:\\Python38\\lib\\site-packages\\peewee.py:3250\u001b[0m, in \u001b[0;36mDatabase.execute\u001b[1;34m(self, query, commit, **context_options)\u001b[0m\n\u001b[0;32m   3248\u001b[0m ctx \u001b[39m=\u001b[39m \u001b[39mself\u001b[39m\u001b[39m.\u001b[39mget_sql_context(\u001b[39m*\u001b[39m\u001b[39m*\u001b[39mcontext_options)\n\u001b[0;32m   3249\u001b[0m sql, params \u001b[39m=\u001b[39m ctx\u001b[39m.\u001b[39msql(query)\u001b[39m.\u001b[39mquery()\n\u001b[1;32m-> 3250\u001b[0m \u001b[39mreturn\u001b[39;00m \u001b[39mself\u001b[39;49m\u001b[39m.\u001b[39;49mexecute_sql(sql, params, commit\u001b[39m=\u001b[39;49mcommit)\n",
      "File \u001b[1;32mc:\\Python38\\lib\\site-packages\\peewee.py:3244\u001b[0m, in \u001b[0;36mDatabase.execute_sql\u001b[1;34m(self, sql, params, commit)\u001b[0m\n\u001b[0;32m   3242\u001b[0m     \u001b[39melse\u001b[39;00m:\n\u001b[0;32m   3243\u001b[0m         \u001b[39mif\u001b[39;00m commit \u001b[39mand\u001b[39;00m \u001b[39mnot\u001b[39;00m \u001b[39mself\u001b[39m\u001b[39m.\u001b[39min_transaction():\n\u001b[1;32m-> 3244\u001b[0m             \u001b[39mself\u001b[39m\u001b[39m.\u001b[39mcommit()\n\u001b[0;32m   3245\u001b[0m \u001b[39mreturn\u001b[39;00m cursor\n",
      "File \u001b[1;32mc:\\Python38\\lib\\site-packages\\peewee.py:3010\u001b[0m, in \u001b[0;36mExceptionWrapper.__exit__\u001b[1;34m(self, exc_type, exc_value, traceback)\u001b[0m\n\u001b[0;32m   3008\u001b[0m new_type \u001b[39m=\u001b[39m \u001b[39mself\u001b[39m\u001b[39m.\u001b[39mexceptions[exc_type\u001b[39m.\u001b[39m\u001b[39m__name__\u001b[39m]\n\u001b[0;32m   3009\u001b[0m exc_args \u001b[39m=\u001b[39m exc_value\u001b[39m.\u001b[39margs\n\u001b[1;32m-> 3010\u001b[0m reraise(new_type, new_type(exc_value, \u001b[39m*\u001b[39;49mexc_args), traceback)\n",
      "File \u001b[1;32mc:\\Python38\\lib\\site-packages\\peewee.py:192\u001b[0m, in \u001b[0;36mreraise\u001b[1;34m(tp, value, tb)\u001b[0m\n\u001b[0;32m    190\u001b[0m \u001b[39mdef\u001b[39;00m \u001b[39mreraise\u001b[39m(tp, value, tb\u001b[39m=\u001b[39m\u001b[39mNone\u001b[39;00m):\n\u001b[0;32m    191\u001b[0m     \u001b[39mif\u001b[39;00m value\u001b[39m.\u001b[39m__traceback__ \u001b[39mis\u001b[39;00m \u001b[39mnot\u001b[39;00m tb:\n\u001b[1;32m--> 192\u001b[0m         \u001b[39mraise\u001b[39;00m value\u001b[39m.\u001b[39mwith_traceback(tb)\n\u001b[0;32m    193\u001b[0m     \u001b[39mraise\u001b[39;00m value\n",
      "File \u001b[1;32mc:\\Python38\\lib\\site-packages\\peewee.py:3237\u001b[0m, in \u001b[0;36mDatabase.execute_sql\u001b[1;34m(self, sql, params, commit)\u001b[0m\n\u001b[0;32m   3235\u001b[0m cursor \u001b[39m=\u001b[39m \u001b[39mself\u001b[39m\u001b[39m.\u001b[39mcursor(commit)\n\u001b[0;32m   3236\u001b[0m \u001b[39mtry\u001b[39;00m:\n\u001b[1;32m-> 3237\u001b[0m     cursor\u001b[39m.\u001b[39;49mexecute(sql, params \u001b[39mor\u001b[39;49;00m ())\n\u001b[0;32m   3238\u001b[0m \u001b[39mexcept\u001b[39;00m \u001b[39mException\u001b[39;00m:\n\u001b[0;32m   3239\u001b[0m     \u001b[39mif\u001b[39;00m \u001b[39mself\u001b[39m\u001b[39m.\u001b[39mautorollback \u001b[39mand\u001b[39;00m \u001b[39mnot\u001b[39;00m \u001b[39mself\u001b[39m\u001b[39m.\u001b[39min_transaction():\n",
      "File \u001b[1;32mc:\\Python38\\lib\\site-packages\\pymysql\\cursors.py:148\u001b[0m, in \u001b[0;36mCursor.execute\u001b[1;34m(self, query, args)\u001b[0m\n\u001b[0;32m    144\u001b[0m     \u001b[39mpass\u001b[39;00m\n\u001b[0;32m    146\u001b[0m query \u001b[39m=\u001b[39m \u001b[39mself\u001b[39m\u001b[39m.\u001b[39mmogrify(query, args)\n\u001b[1;32m--> 148\u001b[0m result \u001b[39m=\u001b[39m \u001b[39mself\u001b[39;49m\u001b[39m.\u001b[39;49m_query(query)\n\u001b[0;32m    149\u001b[0m \u001b[39mself\u001b[39m\u001b[39m.\u001b[39m_executed \u001b[39m=\u001b[39m query\n\u001b[0;32m    150\u001b[0m \u001b[39mreturn\u001b[39;00m result\n",
      "File \u001b[1;32mc:\\Python38\\lib\\site-packages\\pymysql\\cursors.py:310\u001b[0m, in \u001b[0;36mCursor._query\u001b[1;34m(self, q)\u001b[0m\n\u001b[0;32m    308\u001b[0m \u001b[39mself\u001b[39m\u001b[39m.\u001b[39m_last_executed \u001b[39m=\u001b[39m q\n\u001b[0;32m    309\u001b[0m \u001b[39mself\u001b[39m\u001b[39m.\u001b[39m_clear_result()\n\u001b[1;32m--> 310\u001b[0m conn\u001b[39m.\u001b[39;49mquery(q)\n\u001b[0;32m    311\u001b[0m \u001b[39mself\u001b[39m\u001b[39m.\u001b[39m_do_get_result()\n\u001b[0;32m    312\u001b[0m \u001b[39mreturn\u001b[39;00m \u001b[39mself\u001b[39m\u001b[39m.\u001b[39mrowcount\n",
      "File \u001b[1;32mc:\\Python38\\lib\\site-packages\\pymysql\\connections.py:548\u001b[0m, in \u001b[0;36mConnection.query\u001b[1;34m(self, sql, unbuffered)\u001b[0m\n\u001b[0;32m    546\u001b[0m     sql \u001b[39m=\u001b[39m sql\u001b[39m.\u001b[39mencode(\u001b[39mself\u001b[39m\u001b[39m.\u001b[39mencoding, \u001b[39m\"\u001b[39m\u001b[39msurrogateescape\u001b[39m\u001b[39m\"\u001b[39m)\n\u001b[0;32m    547\u001b[0m \u001b[39mself\u001b[39m\u001b[39m.\u001b[39m_execute_command(COMMAND\u001b[39m.\u001b[39mCOM_QUERY, sql)\n\u001b[1;32m--> 548\u001b[0m \u001b[39mself\u001b[39m\u001b[39m.\u001b[39m_affected_rows \u001b[39m=\u001b[39m \u001b[39mself\u001b[39;49m\u001b[39m.\u001b[39;49m_read_query_result(unbuffered\u001b[39m=\u001b[39;49munbuffered)\n\u001b[0;32m    549\u001b[0m \u001b[39mreturn\u001b[39;00m \u001b[39mself\u001b[39m\u001b[39m.\u001b[39m_affected_rows\n",
      "File \u001b[1;32mc:\\Python38\\lib\\site-packages\\pymysql\\connections.py:775\u001b[0m, in \u001b[0;36mConnection._read_query_result\u001b[1;34m(self, unbuffered)\u001b[0m\n\u001b[0;32m    773\u001b[0m \u001b[39melse\u001b[39;00m:\n\u001b[0;32m    774\u001b[0m     result \u001b[39m=\u001b[39m MySQLResult(\u001b[39mself\u001b[39m)\n\u001b[1;32m--> 775\u001b[0m     result\u001b[39m.\u001b[39;49mread()\n\u001b[0;32m    776\u001b[0m \u001b[39mself\u001b[39m\u001b[39m.\u001b[39m_result \u001b[39m=\u001b[39m result\n\u001b[0;32m    777\u001b[0m \u001b[39mif\u001b[39;00m result\u001b[39m.\u001b[39mserver_status \u001b[39mis\u001b[39;00m \u001b[39mnot\u001b[39;00m \u001b[39mNone\u001b[39;00m:\n",
      "File \u001b[1;32mc:\\Python38\\lib\\site-packages\\pymysql\\connections.py:1156\u001b[0m, in \u001b[0;36mMySQLResult.read\u001b[1;34m(self)\u001b[0m\n\u001b[0;32m   1154\u001b[0m \u001b[39mdef\u001b[39;00m \u001b[39mread\u001b[39m(\u001b[39mself\u001b[39m):\n\u001b[0;32m   1155\u001b[0m     \u001b[39mtry\u001b[39;00m:\n\u001b[1;32m-> 1156\u001b[0m         first_packet \u001b[39m=\u001b[39m \u001b[39mself\u001b[39;49m\u001b[39m.\u001b[39;49mconnection\u001b[39m.\u001b[39;49m_read_packet()\n\u001b[0;32m   1158\u001b[0m         \u001b[39mif\u001b[39;00m first_packet\u001b[39m.\u001b[39mis_ok_packet():\n\u001b[0;32m   1159\u001b[0m             \u001b[39mself\u001b[39m\u001b[39m.\u001b[39m_read_ok_packet(first_packet)\n",
      "File \u001b[1;32mc:\\Python38\\lib\\site-packages\\pymysql\\connections.py:725\u001b[0m, in \u001b[0;36mConnection._read_packet\u001b[1;34m(self, packet_type)\u001b[0m\n\u001b[0;32m    723\u001b[0m     \u001b[39mif\u001b[39;00m \u001b[39mself\u001b[39m\u001b[39m.\u001b[39m_result \u001b[39mis\u001b[39;00m \u001b[39mnot\u001b[39;00m \u001b[39mNone\u001b[39;00m \u001b[39mand\u001b[39;00m \u001b[39mself\u001b[39m\u001b[39m.\u001b[39m_result\u001b[39m.\u001b[39munbuffered_active \u001b[39mis\u001b[39;00m \u001b[39mTrue\u001b[39;00m:\n\u001b[0;32m    724\u001b[0m         \u001b[39mself\u001b[39m\u001b[39m.\u001b[39m_result\u001b[39m.\u001b[39munbuffered_active \u001b[39m=\u001b[39m \u001b[39mFalse\u001b[39;00m\n\u001b[1;32m--> 725\u001b[0m     packet\u001b[39m.\u001b[39;49mraise_for_error()\n\u001b[0;32m    726\u001b[0m \u001b[39mreturn\u001b[39;00m packet\n",
      "File \u001b[1;32mc:\\Python38\\lib\\site-packages\\pymysql\\protocol.py:221\u001b[0m, in \u001b[0;36mMysqlPacket.raise_for_error\u001b[1;34m(self)\u001b[0m\n\u001b[0;32m    219\u001b[0m \u001b[39mif\u001b[39;00m DEBUG:\n\u001b[0;32m    220\u001b[0m     \u001b[39mprint\u001b[39m(\u001b[39m\"\u001b[39m\u001b[39merrno =\u001b[39m\u001b[39m\"\u001b[39m, errno)\n\u001b[1;32m--> 221\u001b[0m err\u001b[39m.\u001b[39;49mraise_mysql_exception(\u001b[39mself\u001b[39;49m\u001b[39m.\u001b[39;49m_data)\n",
      "File \u001b[1;32mc:\\Python38\\lib\\site-packages\\pymysql\\err.py:143\u001b[0m, in \u001b[0;36mraise_mysql_exception\u001b[1;34m(data)\u001b[0m\n\u001b[0;32m    141\u001b[0m \u001b[39mif\u001b[39;00m errorclass \u001b[39mis\u001b[39;00m \u001b[39mNone\u001b[39;00m:\n\u001b[0;32m    142\u001b[0m     errorclass \u001b[39m=\u001b[39m InternalError \u001b[39mif\u001b[39;00m errno \u001b[39m<\u001b[39m \u001b[39m1000\u001b[39m \u001b[39melse\u001b[39;00m OperationalError\n\u001b[1;32m--> 143\u001b[0m \u001b[39mraise\u001b[39;00m errorclass(errno, errval)\n",
      "\u001b[1;31mIntegrityError\u001b[0m: (1062, \"Duplicate entry 'sigmoid-0.1-0.3-20' for key 'light1d_kind_left_right_slope'\")"
     ]
    }
   ],
   "source": [
    "for name in array:\n",
    "    path = r'D:\\WORKS\\PolimerSolve\\Solver1D\\Solves\\file\\system1D_anotaton.txt'.replace(\n",
    "        'file', name\n",
    "    )\n",
    "    with open(file=path, mode='r') as file:\n",
    "        dump = jp.decode(file.read())\n",
    "\n",
    "    solve_confs = {\n",
    "        key: str(value)\n",
    "        for key, value in dump.solve_confs.__dict__.items()\n",
    "    }\n",
    "    with database_connection:\n",
    "        note = {}\n",
    "        note.update({'mesh': Mesh1D.get_or_create(**dump.mesh.__dict__)})\n",
    "        note.update({'light': Light1D.get_or_create(**dump.light.__dict__)})\n",
    "        note.update({'solver': Solver.get_or_create(**solve_confs)})\n",
    "        note.update({\n",
    "            'task':\n",
    "            Task.get_or_create(\n",
    "                name=name,\n",
    "                desc=dump.save.desc,\n",
    "                T=dump.time.T,\n",
    "                dt=dump.time.dt,\n",
    "                mesh=note['mesh'][0],\n",
    "                N0=dump.initial.N0,\n",
    "                P0=dump.initial.P0,\n",
    "                light=note['light'][0],\n",
    "                solver=note['solver'][0]\n",
    "            )\n",
    "        })\n",
    "        for key, value in dump.consts.__dict__.items():\n",
    "            Const.get_or_create(parametr=key, value=value, task=note['task'][0])"
   ]
  }
 ],
 "metadata": {
  "kernelspec": {
   "display_name": "Python 3.8.0 64-bit",
   "language": "python",
   "name": "python3"
  },
  "language_info": {
   "codemirror_mode": {
    "name": "ipython",
    "version": 3
   },
   "file_extension": ".py",
   "mimetype": "text/x-python",
   "name": "python",
   "nbconvert_exporter": "python",
   "pygments_lexer": "ipython3",
   "version": "3.8.0"
  },
  "orig_nbformat": 4,
  "vscode": {
   "interpreter": {
    "hash": "9650cb4e16cdd4a8e8e2d128bf38d875813998db22a3c986335f89e0cb4d7bb2"
   }
  }
 },
 "nbformat": 4,
 "nbformat_minor": 2
}
