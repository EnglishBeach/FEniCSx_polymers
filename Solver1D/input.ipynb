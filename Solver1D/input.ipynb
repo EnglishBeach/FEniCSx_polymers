{
 "cells": [
  {
   "cell_type": "code",
   "execution_count": 1,
   "metadata": {},
   "outputs": [],
   "source": [
    "# Import\n",
    "import numpy as np\n",
    "import matplotlib.pyplot as plt\n",
    "from Parametrs import *\n",
    "from Structure import *\n",
    "\n",
    "import jsonpickle as jp\n",
    "import shutil\n",
    "import re\n",
    "import inspect\n",
    "from tqdm import tqdm\n",
    "\n",
    "\n",
    "def clear_savedir(path_save):\n",
    "    \"\"\"Clear directory in VTK folder\"\"\"\n",
    "\n",
    "    try:\n",
    "        shutil.rmtree(path_save)\n",
    "    except:\n",
    "        pass\n",
    "\n",
    "\n",
    "def view_file1D(\n",
    "    name,\n",
    "    dir='/home/VTK/System1D_files/',\n",
    "    view_dir='/home/VTK/System1D_files/0',\n",
    "):\n",
    "    shutil.copytree(dir + name, view_dir, dirs_exist_ok=True)\n",
    "\n",
    "\n",
    "def repr_str(func, rules: list = {}) -> str:\n",
    "    # TODO: to module\n",
    "    # FIXME: (( to (\\n(\n",
    "    rep = str(func)\n",
    "    rep = re.sub(r'\\{ A \\| A_\\{i_(\\d|\\{\\d+\\})\\} \\=', '', rep)\n",
    "    rep = re.sub(r'\\[i_(\\d|{\\d+})]', '', rep)\n",
    "    rep = re.sub(r'dx.+\\)', 'dx', rep)\n",
    "    rep = re.sub(r'ds.+\\)', 'ds', rep)\n",
    "    for key, raw in rules.items():\n",
    "        rep = rep.replace(str(raw),key)\n",
    "\n",
    "    base = {\n",
    "        'v_0[0]': 'v',\n",
    "        'v_0[1]': 'u',\n",
    "        '-1 * ': '-',\n",
    "        '+ -': '-',\n",
    "        'f[0]': 'N',\n",
    "        'f[1]': 'P',\n",
    "        '{': '{\\n',\n",
    "        '} *': '\\n} *',\n",
    "    }\n",
    "    for key, raw in base.items():\n",
    "        rep = rep.replace(key, raw)\n",
    "\n",
    "    beauty = {\n",
    "        '(grad(P))': 'grad(P)',\n",
    "        '(grad(N))': 'grad(N)',\n",
    "        '(grad(u))': 'grad(u)',\n",
    "        '(grad(v))': 'grad(v)',\n",
    "        '})': ')',\n",
    "        '+ (': '\\n   +(',\n",
    "    }\n",
    "    for key, raw in beauty.items():\n",
    "        rep = rep.replace(key, raw)\n",
    "    return rep"
   ]
  },
  {
   "cell_type": "code",
   "execution_count": 2,
   "metadata": {},
   "outputs": [],
   "source": [
    "# # For linux\n",
    "# p_save = Param_save(dir_save=r'D:\\WORKS\\PolimerSolve\\Solver1D\\Solves\\1\\system1D_anotaton.txt')\n",
    "# p_save.dir_save\n",
    "# path= p_save.dir_save\n",
    "# path += array[0]\n",
    "# path +=p_save.file_name+'_anotation.txt'\n",
    "# path"
   ]
  },
  {
   "cell_type": "code",
   "execution_count": 6,
   "metadata": {},
   "outputs": [
    {
     "data": {
      "text/plain": [
       "['1', '2', '3', '4', '6']"
      ]
     },
     "execution_count": 6,
     "metadata": {},
     "output_type": "execute_result"
    }
   ],
   "source": [
    "import os\n",
    "l =[]\n",
    "for  i in os.walk('Solves'):\n",
    "    l.append(i[0])\n",
    "l = l[1:]\n",
    "_array = [l[i].split('\\\\')[1] for i in range(len(l))]\n",
    "_array"
   ]
  },
  {
   "cell_type": "code",
   "execution_count": 7,
   "metadata": {},
   "outputs": [
    {
     "name": "stderr",
     "output_type": "stream",
     "text": [
      "Quering...: 100%|██████████| 5/5 [00:10<00:00,  2.08s/it]\n"
     ]
    }
   ],
   "source": [
    "array = tqdm(desc=f'Quering...', iterable=_array)\n",
    "\n",
    "for name in array:\n",
    "    path = r'D:\\WORKS\\PolimerSolve\\Solver1D\\Solves\\file\\system1D_anotaton.txt'.replace(\n",
    "        'file', name\n",
    "    )\n",
    "    with open(file=path, mode='r') as file:\n",
    "        dump = jp.decode(file.read())\n",
    "\n",
    "    solve_confs = {\n",
    "        key: str(value)\n",
    "        for key, value in dump.solve_confs.__dict__.items()\n",
    "    }\n",
    "    with database_connection:\n",
    "        note = {}\n",
    "        note.update({'mesh': Mesh1D.get_or_create(**dump.mesh.__dict__)})\n",
    "        note.update({'light': Light1D.get_or_create(**dump.light.__dict__)})\n",
    "        note.update({'solver': Solver.get_or_create(**solve_confs)})\n",
    "        note.update({\n",
    "            'task':\n",
    "            Task.get_or_create(\n",
    "                name=name,\n",
    "                desc=dump.save.desc,\n",
    "                T=dump.time.T,\n",
    "                dt=dump.time.dt,\n",
    "                mesh=note['mesh'][0],\n",
    "                N0=dump.initial.N0,\n",
    "                P0=dump.initial.P0,\n",
    "                light=note['light'][0],\n",
    "                solver=note['solver'][0]\n",
    "            )\n",
    "        })\n",
    "        for key, value in dump.consts.__dict__.items():\n",
    "            Const.get_or_create(parametr=key, value=value, task=note['task'][0])"
   ]
  }
 ],
 "metadata": {
  "kernelspec": {
   "display_name": "Python 3.8.0 64-bit",
   "language": "python",
   "name": "python3"
  },
  "language_info": {
   "codemirror_mode": {
    "name": "ipython",
    "version": 3
   },
   "file_extension": ".py",
   "mimetype": "text/x-python",
   "name": "python",
   "nbconvert_exporter": "python",
   "pygments_lexer": "ipython3",
   "version": "3.8.0"
  },
  "orig_nbformat": 4,
  "vscode": {
   "interpreter": {
    "hash": "9650cb4e16cdd4a8e8e2d128bf38d875813998db22a3c986335f89e0cb4d7bb2"
   }
  }
 },
 "nbformat": 4,
 "nbformat_minor": 2
}
