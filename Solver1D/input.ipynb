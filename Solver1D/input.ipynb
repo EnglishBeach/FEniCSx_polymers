{
 "cells": [
  {
   "cell_type": "code",
   "execution_count": 1,
   "metadata": {},
   "outputs": [],
   "source": [
    "# Import\n",
    "import numpy as np\n",
    "import matplotlib.pyplot as plt\n",
    "from Parametrs import *\n",
    "from Structure import *\n",
    "\n",
    "import jsonpickle as jp\n",
    "import shutil\n",
    "import re\n",
    "import inspect\n",
    "\n",
    "\n",
    "def clear_savedir(path_save):\n",
    "    \"\"\"Clear directory in VTK folder\"\"\"\n",
    "\n",
    "    try:\n",
    "        shutil.rmtree(path_save)\n",
    "    except:\n",
    "        pass\n",
    "\n",
    "\n",
    "def view_file1D(\n",
    "    name,\n",
    "    dir='/home/VTK/System1D_files/',\n",
    "    view_dir='/home/VTK/System1D_files/0',\n",
    "):\n",
    "    shutil.copytree(dir + name, view_dir, dirs_exist_ok=True)\n",
    "\n",
    "\n",
    "def repr_str(func, rules: list = {}) -> str:\n",
    "    # TODO: to module\n",
    "    # FIXME: (( to (\\n(\n",
    "    rep = str(func)\n",
    "    rep = re.sub(r'\\{ A \\| A_\\{i_(\\d|\\{\\d+\\})\\} \\=', '', rep)\n",
    "    rep = re.sub(r'\\[i_(\\d|{\\d+})]', '', rep)\n",
    "    rep = re.sub(r'dx.+\\)', 'dx', rep)\n",
    "    rep = re.sub(r'ds.+\\)', 'ds', rep)\n",
    "    for key, raw in rules.items():\n",
    "        rep = rep.replace(str(raw),key)\n",
    "\n",
    "    base = {\n",
    "        'v_0[0]': 'v',\n",
    "        'v_0[1]': 'u',\n",
    "        '-1 * ': '-',\n",
    "        '+ -': '-',\n",
    "        'f[0]': 'N',\n",
    "        'f[1]': 'P',\n",
    "        '{': '{\\n',\n",
    "        '} *': '\\n} *',\n",
    "    }\n",
    "    for key, raw in base.items():\n",
    "        rep = rep.replace(key, raw)\n",
    "\n",
    "    beauty = {\n",
    "        '(grad(P))': 'grad(P)',\n",
    "        '(grad(N))': 'grad(N)',\n",
    "        '(grad(u))': 'grad(u)',\n",
    "        '(grad(v))': 'grad(v)',\n",
    "        '})': ')',\n",
    "        '+ (': '\\n   +(',\n",
    "    }\n",
    "    for key, raw in beauty.items():\n",
    "        rep = rep.replace(key, raw)\n",
    "    return rep"
   ]
  },
  {
   "cell_type": "code",
   "execution_count": 2,
   "metadata": {},
   "outputs": [],
   "source": [
    "# # For linux\n",
    "# p_save = Param_save(dir_save=r'D:\\WORKS\\PolimerSolve\\Solver1D\\Solves\\1\\system1D_anotaton.txt')\n",
    "# p_save.dir_save\n",
    "# path= p_save.dir_save\n",
    "# path += array[0]\n",
    "# path +=p_save.file_name+'_anotation.txt'\n",
    "# path"
   ]
  },
  {
   "cell_type": "code",
   "execution_count": 2,
   "metadata": {},
   "outputs": [
    {
     "data": {
      "text/plain": [
       "['1', '2', '3', '4', '5', '6']"
      ]
     },
     "execution_count": 2,
     "metadata": {},
     "output_type": "execute_result"
    }
   ],
   "source": [
    "import os\n",
    "l =[]\n",
    "for  i in os.walk('Solves'):\n",
    "    l.append(i[0])\n",
    "l = l[1:]\n",
    "array = [l[i].split('\\\\')[1] for i in range(len(l))]\n",
    "array"
   ]
  },
  {
   "cell_type": "code",
   "execution_count": 3,
   "metadata": {},
   "outputs": [],
   "source": [
    "path = r'D:\\WORKS\\PolimerSolve\\Solver1D\\Solves\\file\\system1D_anotaton.txt'.replace('file',array[1])\n",
    "with open(file=path, mode='r') as file:\n",
    "    dump=jp.decode(file.read())"
   ]
  },
  {
   "cell_type": "code",
   "execution_count": 4,
   "metadata": {},
   "outputs": [
    {
     "data": {
      "text/plain": [
       "{'petsc_opts': {'ksp_type': 'preonly',\n",
       "  'pc_type': 'lu',\n",
       "  'pc_factor_mat_solver_type': 'mumps'},\n",
       " 'solve_opts': {'convergence': 'incremental', 'tolerance': 1e-06},\n",
       " 'form_opts': {'scalar_type': 'double'},\n",
       " 'jit_opts': {}}"
      ]
     },
     "execution_count": 4,
     "metadata": {},
     "output_type": "execute_result"
    }
   ],
   "source": [
    "dump.solve_confs.__dict__"
   ]
  },
  {
   "cell_type": "code",
   "execution_count": null,
   "metadata": {},
   "outputs": [],
   "source": [
    "with database_connection:\n",
    "    Solver.get_or_create(\n",
    "        **dump.solve_confs.__dict__\n",
    "    )"
   ]
  },
  {
   "cell_type": "code",
   "execution_count": 10,
   "metadata": {},
   "outputs": [
    {
     "data": {
      "text/plain": [
       "(<Mesh1D: 2>, False)"
      ]
     },
     "execution_count": 10,
     "metadata": {},
     "output_type": "execute_result"
    }
   ],
   "source": [
    "with database_connection:\n",
    "    note = []\n",
    "    note.append(\n",
    "        Mesh1D.get_or_create(\n",
    "            description='Test note',\n",
    "            **dump.mesh.__dict__,\n",
    "        )\n",
    "    )\n",
    "    note.append(\n",
    "        Light1D.get_or_create(description='Test note', **dump.light.__dict__)\n",
    "    )\n",
    "    note.append(\n",
    "        Solver\n",
    "    )\n",
    "[]"
   ]
  }
 ],
 "metadata": {
  "kernelspec": {
   "display_name": "Python 3.8.0 64-bit",
   "language": "python",
   "name": "python3"
  },
  "language_info": {
   "codemirror_mode": {
    "name": "ipython",
    "version": 3
   },
   "file_extension": ".py",
   "mimetype": "text/x-python",
   "name": "python",
   "nbconvert_exporter": "python",
   "pygments_lexer": "ipython3",
   "version": "3.8.0"
  },
  "orig_nbformat": 4,
  "vscode": {
   "interpreter": {
    "hash": "9650cb4e16cdd4a8e8e2d128bf38d875813998db22a3c986335f89e0cb4d7bb2"
   }
  }
 },
 "nbformat": 4,
 "nbformat_minor": 2
}
