{
 "cells": [
  {
   "cell_type": "code",
   "execution_count": 1,
   "metadata": {},
   "outputs": [],
   "source": [
    "from FEnicS_base import *\n",
    "import dolfinx\n",
    "from dolfinx import mesh, fem, io, nls\n",
    "from dolfinx.fem import VectorFunctionSpace\n",
    "from mpi4py import MPI\n",
    "import numpy as np\n",
    "import ufl\n",
    "import matplotlib.pyplot as plt\n",
    "\n",
    "import jsonpickle as jp\n",
    "import shutil\n",
    "import re\n",
    "import inspect\n",
    "from tqdm import tqdm"
   ]
  },
  {
   "cell_type": "code",
   "execution_count": 2,
   "metadata": {},
   "outputs": [
    {
     "name": "stdout",
     "output_type": "stream",
     "text": [
      "Index out of bounds.\n"
     ]
    },
    {
     "name": "stderr",
     "output_type": "stream",
     "text": [
      "ERROR:UFL:Index out of bounds.\n"
     ]
    },
    {
     "ename": "UFLException",
     "evalue": "Index out of bounds.",
     "output_type": "error",
     "traceback": [
      "\u001b[0;31m---------------------------------------------------------------------------\u001b[0m",
      "\u001b[0;31mUFLException\u001b[0m                              Traceback (most recent call last)",
      "\u001b[1;32m/home/Solver1D/test1.ipynb Cell 2\u001b[0m in \u001b[0;36m<cell line: 15>\u001b[0;34m()\u001b[0m\n\u001b[1;32m     <a href='vscode-notebook-cell://attached-container%2B7b22636f6e7461696e65724e616d65223a222f46456e69435378227d/home/Solver1D/test1.ipynb#W1sdnNjb2RlLXJlbW90ZQ%3D%3D?line=11'>12</a>\u001b[0m sub2 \u001b[39m=\u001b[39m space\u001b[39m.\u001b[39msub(\u001b[39m1\u001b[39m)\u001b[39m.\u001b[39mcollapse()[\u001b[39m0\u001b[39m]\n\u001b[1;32m     <a href='vscode-notebook-cell://attached-container%2B7b22636f6e7461696e65724e616d65223a222f46456e69435378227d/home/Solver1D/test1.ipynb#W1sdnNjb2RlLXJlbW90ZQ%3D%3D?line=13'>14</a>\u001b[0m x \u001b[39m=\u001b[39m SpatialCoordinate(space)[\u001b[39m0\u001b[39m]\n\u001b[0;32m---> <a href='vscode-notebook-cell://attached-container%2B7b22636f6e7461696e65724e616d65223a222f46456e69435378227d/home/Solver1D/test1.ipynb#W1sdnNjb2RlLXJlbW90ZQ%3D%3D?line=14'>15</a>\u001b[0m y \u001b[39m=\u001b[39m SpatialCoordinate(space)[\u001b[39m1\u001b[39;49m]\n\u001b[1;32m     <a href='vscode-notebook-cell://attached-container%2B7b22636f6e7461696e65724e616d65223a222f46456e69435378227d/home/Solver1D/test1.ipynb#W1sdnNjb2RlLXJlbW90ZQ%3D%3D?line=15'>16</a>\u001b[0m set_connectivity(domain)\n\u001b[1;32m     <a href='vscode-notebook-cell://attached-container%2B7b22636f6e7461696e65724e616d65223a222f46456e69435378227d/home/Solver1D/test1.ipynb#W1sdnNjb2RlLXJlbW90ZQ%3D%3D?line=17'>18</a>\u001b[0m ds \u001b[39m=\u001b[39m Measure(\u001b[39m\"\u001b[39m\u001b[39mds\u001b[39m\u001b[39m\"\u001b[39m, domain\u001b[39m=\u001b[39mdomain)\n",
      "File \u001b[0;32m/usr/local/lib/python3.10/dist-packages/ufl/exproperators.py:438\u001b[0m, in \u001b[0;36m_getitem\u001b[0;34m(self, component)\u001b[0m\n\u001b[1;32m    435\u001b[0m shape \u001b[39m=\u001b[39m \u001b[39mself\u001b[39m\u001b[39m.\u001b[39mufl_shape\n\u001b[1;32m    437\u001b[0m \u001b[39m# Analyse slices (:) and Ellipsis (...)\u001b[39;00m\n\u001b[0;32m--> 438\u001b[0m all_indices, slice_indices, repeated_indices \u001b[39m=\u001b[39m create_slice_indices(component, shape, \u001b[39mself\u001b[39;49m\u001b[39m.\u001b[39;49mufl_free_indices)\n\u001b[1;32m    440\u001b[0m \u001b[39m# Check that we have the right number of indices for a tensor with\u001b[39;00m\n\u001b[1;32m    441\u001b[0m \u001b[39m# this shape\u001b[39;00m\n\u001b[1;32m    442\u001b[0m \u001b[39mif\u001b[39;00m \u001b[39mlen\u001b[39m(shape) \u001b[39m!=\u001b[39m \u001b[39mlen\u001b[39m(all_indices):\n",
      "File \u001b[0;32m/usr/local/lib/python3.10/dist-packages/ufl/index_combination_utils.py:153\u001b[0m, in \u001b[0;36mcreate_slice_indices\u001b[0;34m(component, shape, fi)\u001b[0m\n\u001b[1;32m    151\u001b[0m \u001b[39melif\u001b[39;00m \u001b[39misinstance\u001b[39m(ind, \u001b[39mint\u001b[39m):\n\u001b[1;32m    152\u001b[0m     \u001b[39mif\u001b[39;00m \u001b[39mint\u001b[39m(ind) \u001b[39m>\u001b[39m\u001b[39m=\u001b[39m shape[\u001b[39mlen\u001b[39m(all_indices)]:\n\u001b[0;32m--> 153\u001b[0m         error(\u001b[39m\"\u001b[39;49m\u001b[39mIndex out of bounds.\u001b[39;49m\u001b[39m\"\u001b[39;49m)\n\u001b[1;32m    154\u001b[0m     all_indices\u001b[39m.\u001b[39mappend(FixedIndex(ind))\n\u001b[1;32m    155\u001b[0m \u001b[39melif\u001b[39;00m \u001b[39misinstance\u001b[39m(ind, \u001b[39mslice\u001b[39m):\n",
      "File \u001b[0;32m/usr/local/lib/python3.10/dist-packages/ufl/log.py:158\u001b[0m, in \u001b[0;36mLogger.error\u001b[0;34m(self, *message)\u001b[0m\n\u001b[1;32m    156\u001b[0m \u001b[39m\"\u001b[39m\u001b[39mWrite error message and raise an exception.\u001b[39m\u001b[39m\"\u001b[39m\n\u001b[1;32m    157\u001b[0m \u001b[39mself\u001b[39m\u001b[39m.\u001b[39m_log\u001b[39m.\u001b[39merror(\u001b[39m*\u001b[39mmessage)\n\u001b[0;32m--> 158\u001b[0m \u001b[39mraise\u001b[39;00m \u001b[39mself\u001b[39m\u001b[39m.\u001b[39m_exception_type(\u001b[39mself\u001b[39m\u001b[39m.\u001b[39m_format_raw(\u001b[39m*\u001b[39mmessage))\n",
      "\u001b[0;31mUFLException\u001b[0m: Index out of bounds."
     ]
    }
   ],
   "source": [
    "domain = mesh.create_interval(nx=100, comm=MPI.COMM_WORLD, points=[0, 1])\n",
    "# domain = mesh.create_unit_square(\n",
    "#     MPI.COMM_WORLD,\n",
    "#     10,\n",
    "#     10,\n",
    "#     cell_type=mesh.CellType.quadrilateral,\n",
    "# )\n",
    "element = ufl.FiniteElement(family='CG', cell=domain.ufl_cell(), degree=1)\n",
    "element2 = ufl.VectorElement(family='CG', cell=domain.ufl_cell(), degree=1)\n",
    "space = FunctionSpace(domain, element=ufl.MixedElement(element, element2))\n",
    "sub1 = space.sub(0).collapse()[0]\n",
    "sub2 = space.sub(1).collapse()[0]\n",
    "\n",
    "x = SpatialCoordinate(space)[0]\n",
    "y = SpatialCoordinate(space)[1]\n",
    "set_connectivity(domain)\n",
    "\n",
    "ds = Measure(\"ds\", domain=domain)\n",
    "norm = FacetNormal(domain)\n",
    "\n",
    "func = Function(space)\n",
    "sub_u, sub_g = func.sub(0), func.sub(1)\n",
    "u, g = split(func)\n",
    "\n",
    "fi, si = TestFunctions(space)\n",
    "\n",
    "f = Constant(space, 2)\n",
    "\n",
    "F = div(g) * fi * dx - f*fi*dx\n",
    "F += (g|dot|si) * dx - (grad(u)|dot|si) * dx\n",
    "# F -= (grad(u)|dot|norm) * v * ds\n",
    "\n",
    "bcs = [\n",
    "    DirichletBC(\n",
    "        space=sub2,\n",
    "        form=np.array((0, 0), dtype=np.float64),\n",
    "        combined_marker=lambda x: np.isclose(x[0], 0)\n",
    "    ),\n",
    "    DirichletBC(\n",
    "        space=sub2,\n",
    "        form=np.array((0, 0), dtype=np.float64),\n",
    "        combined_marker=lambda x: np.isclose(x[0], 1)\n",
    "    ),\n",
    "    DirichletBC(\n",
    "        space=sub1,\n",
    "        form=Constant(space,2),\n",
    "        combined_marker=lambda x: np.isclose(x[0], 0)\n",
    "    ),\n",
    "]\n",
    "problem = NonlinearProblem(\n",
    "    u=func,\n",
    "    F=F,\n",
    "    bcs=bcs,\n",
    "    petsc_options={\n",
    "        \"ksp_type\": \"preonly\", \"pc_type\": \"lu\"\n",
    "    }\n",
    ")"
   ]
  },
  {
   "cell_type": "code",
   "execution_count": null,
   "metadata": {},
   "outputs": [
    {
     "ename": "RuntimeError",
     "evalue": "Newton solver did not converge because maximum number of iterations reached",
     "output_type": "error",
     "traceback": [
      "\u001b[0;31m---------------------------------------------------------------------------\u001b[0m",
      "\u001b[0;31mRuntimeError\u001b[0m                              Traceback (most recent call last)",
      "\u001b[1;32m/home/Solver1D/test1.ipynb Cell 3\u001b[0m in \u001b[0;36m<cell line: 1>\u001b[0;34m()\u001b[0m\n\u001b[0;32m----> <a href='vscode-notebook-cell://attached-container%2B7b22636f6e7461696e65724e616d65223a222f46456e69435378227d/home/Solver1D/test1.ipynb#W2sdnNjb2RlLXJlbW90ZQ%3D%3D?line=0'>1</a>\u001b[0m problem\u001b[39m.\u001b[39;49msolve()\n\u001b[1;32m      <a href='vscode-notebook-cell://attached-container%2B7b22636f6e7461696e65724e616d65223a222f46456e69435378227d/home/Solver1D/test1.ipynb#W2sdnNjb2RlLXJlbW90ZQ%3D%3D?line=1'>2</a>\u001b[0m func_plot2D(Function(space, u,\u001b[39m'\u001b[39m\u001b[39mbase\u001b[39m\u001b[39m'\u001b[39m))\n",
      "File \u001b[0;32m/home/Solver1D/FEnicS_base.py:521\u001b[0m, in \u001b[0;36mNonlinearProblem.solve\u001b[0;34m(self)\u001b[0m\n\u001b[1;32m    515\u001b[0m \u001b[39mdef\u001b[39;00m \u001b[39msolve\u001b[39m(\u001b[39mself\u001b[39m):\n\u001b[1;32m    516\u001b[0m     \u001b[39m\"\"\"Solve function\u001b[39;00m\n\u001b[1;32m    517\u001b[0m \n\u001b[1;32m    518\u001b[0m \u001b[39m    Returns:\u001b[39;00m\n\u001b[1;32m    519\u001b[0m \u001b[39m        fem.Function: Solved function\u001b[39;00m\n\u001b[1;32m    520\u001b[0m \u001b[39m    \"\"\"\u001b[39;00m\n\u001b[0;32m--> 521\u001b[0m     result \u001b[39m=\u001b[39m \u001b[39mself\u001b[39;49m\u001b[39m.\u001b[39;49m_solver\u001b[39m.\u001b[39;49msolve(\u001b[39mself\u001b[39;49m\u001b[39m.\u001b[39;49m_u)\n\u001b[1;32m    522\u001b[0m     \u001b[39mreturn\u001b[39;00m result\n",
      "File \u001b[0;32m/usr/local/dolfinx-real/lib/python3.10/dist-packages/dolfinx/nls/petsc.py:41\u001b[0m, in \u001b[0;36mNewtonSolver.solve\u001b[0;34m(self, u)\u001b[0m\n\u001b[1;32m     38\u001b[0m \u001b[39mdef\u001b[39;00m \u001b[39msolve\u001b[39m(\u001b[39mself\u001b[39m, u: fem\u001b[39m.\u001b[39mFunction):\n\u001b[1;32m     39\u001b[0m     \u001b[39m\"\"\"Solve non-linear problem into function u. Returns the number\u001b[39;00m\n\u001b[1;32m     40\u001b[0m \u001b[39m    of iterations and if the solver converged.\"\"\"\u001b[39;00m\n\u001b[0;32m---> 41\u001b[0m     n, converged \u001b[39m=\u001b[39m \u001b[39msuper\u001b[39;49m()\u001b[39m.\u001b[39;49msolve(u\u001b[39m.\u001b[39;49mvector)\n\u001b[1;32m     42\u001b[0m     u\u001b[39m.\u001b[39mx\u001b[39m.\u001b[39mscatter_forward()\n\u001b[1;32m     43\u001b[0m     \u001b[39mreturn\u001b[39;00m n, converged\n",
      "\u001b[0;31mRuntimeError\u001b[0m: Newton solver did not converge because maximum number of iterations reached"
     ]
    }
   ],
   "source": [
    "problem.solve()\n",
    "func_plot1D([Function(space, u,'base')])"
   ]
  }
 ],
 "metadata": {
  "kernelspec": {
   "display_name": "Python 3.10.4 64-bit",
   "language": "python",
   "name": "python3"
  },
  "language_info": {
   "codemirror_mode": {
    "name": "ipython",
    "version": 3
   },
   "file_extension": ".py",
   "mimetype": "text/x-python",
   "name": "python",
   "nbconvert_exporter": "python",
   "pygments_lexer": "ipython3",
   "version": "3.10.4"
  },
  "orig_nbformat": 4,
  "vscode": {
   "interpreter": {
    "hash": "916dbcbb3f70747c44a77c7bcd40155683ae19c65e1c03b4aa3499c5328201f1"
   }
  }
 },
 "nbformat": 4,
 "nbformat_minor": 2
}
