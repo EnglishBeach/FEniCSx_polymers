{
 "cells": [
  {
   "cell_type": "code",
   "execution_count": 1,
   "metadata": {},
   "outputs": [
    {
     "ename": "ModuleNotFoundError",
     "evalue": "No module named 'parametrs'",
     "output_type": "error",
     "traceback": [
      "\u001b[0;31m---------------------------------------------------------------------------\u001b[0m",
      "\u001b[0;31mModuleNotFoundError\u001b[0m                       Traceback (most recent call last)",
      "\u001b[1;32m/home/Solver1D/DataBase/input.ipynb Cell 1\u001b[0m in \u001b[0;36m<cell line: 4>\u001b[0;34m()\u001b[0m\n\u001b[1;32m      <a href='vscode-notebook-cell://attached-container%2B7b22636f6e7461696e65724e616d65223a222f46456e69435378227d/home/Solver1D/DataBase/input.ipynb#W0sdnNjb2RlLXJlbW90ZQ%3D%3D?line=1'>2</a>\u001b[0m \u001b[39mimport\u001b[39;00m \u001b[39mnumpy\u001b[39;00m \u001b[39mas\u001b[39;00m \u001b[39mnp\u001b[39;00m\n\u001b[1;32m      <a href='vscode-notebook-cell://attached-container%2B7b22636f6e7461696e65724e616d65223a222f46456e69435378227d/home/Solver1D/DataBase/input.ipynb#W0sdnNjb2RlLXJlbW90ZQ%3D%3D?line=2'>3</a>\u001b[0m \u001b[39mimport\u001b[39;00m \u001b[39mmatplotlib\u001b[39;00m\u001b[39m.\u001b[39;00m\u001b[39mpyplot\u001b[39;00m \u001b[39mas\u001b[39;00m \u001b[39mplt\u001b[39;00m\n\u001b[0;32m----> <a href='vscode-notebook-cell://attached-container%2B7b22636f6e7461696e65724e616d65223a222f46456e69435378227d/home/Solver1D/DataBase/input.ipynb#W0sdnNjb2RlLXJlbW90ZQ%3D%3D?line=3'>4</a>\u001b[0m \u001b[39mfrom\u001b[39;00m \u001b[39mparametrs\u001b[39;00m \u001b[39mimport\u001b[39;00m \u001b[39m*\u001b[39m\n\u001b[1;32m      <a href='vscode-notebook-cell://attached-container%2B7b22636f6e7461696e65724e616d65223a222f46456e69435378227d/home/Solver1D/DataBase/input.ipynb#W0sdnNjb2RlLXJlbW90ZQ%3D%3D?line=4'>5</a>\u001b[0m \u001b[39mfrom\u001b[39;00m \u001b[39mdb_structure\u001b[39;00m \u001b[39mimport\u001b[39;00m \u001b[39m*\u001b[39m\n\u001b[1;32m      <a href='vscode-notebook-cell://attached-container%2B7b22636f6e7461696e65724e616d65223a222f46456e69435378227d/home/Solver1D/DataBase/input.ipynb#W0sdnNjb2RlLXJlbW90ZQ%3D%3D?line=6'>7</a>\u001b[0m \u001b[39mimport\u001b[39;00m \u001b[39mjsonpickle\u001b[39;00m \u001b[39mas\u001b[39;00m \u001b[39mjp\u001b[39;00m\n",
      "\u001b[0;31mModuleNotFoundError\u001b[0m: No module named 'parametrs'"
     ]
    }
   ],
   "source": [
    "# Import\n",
    "import numpy as np\n",
    "import matplotlib.pyplot as plt\n",
    "from parametrs import *\n",
    "from db_structure import *\n",
    "\n",
    "import jsonpickle as jp\n",
    "import shutil\n",
    "import re\n",
    "import inspect\n",
    "from tqdm import tqdm\n",
    "\n",
    "\n",
    "def clear_savedir(path_save):\n",
    "    \"\"\"Clear directory in VTK folder\"\"\"\n",
    "\n",
    "    try:\n",
    "        shutil.rmtree(path_save)\n",
    "    except:\n",
    "        pass\n",
    "\n",
    "\n",
    "def view_file1D(\n",
    "    name,\n",
    "    dir='/home/VTK/System1D_files/',\n",
    "    view_dir='/home/VTK/System1D_files/0',\n",
    "):\n",
    "    shutil.copytree(dir + name, view_dir, dirs_exist_ok=True)\n",
    "\n",
    "\n",
    "def repr_str(func, rules: list = {}) -> str:\n",
    "    # TODO: to module\n",
    "    # FIXME: (( to (\\n(\n",
    "    rep = str(func)\n",
    "    rep = re.sub(r'\\{ A \\| A_\\{i_(\\d|\\{\\d+\\})\\} \\=', '', rep)\n",
    "    rep = re.sub(r'\\[i_(\\d|{\\d+})]', '', rep)\n",
    "    rep = re.sub(r'dx.+\\)', 'dx', rep)\n",
    "    rep = re.sub(r'ds.+\\)', 'ds', rep)\n",
    "    for key, raw in rules.items():\n",
    "        rep = rep.replace(str(raw),key)\n",
    "\n",
    "    base = {\n",
    "        'v_0[0]': 'v',\n",
    "        'v_0[1]': 'u',\n",
    "        '-1 * ': '-',\n",
    "        '+ -': '-',\n",
    "        'f[0]': 'N',\n",
    "        'f[1]': 'P',\n",
    "        '{': '{\\n',\n",
    "        '} *': '\\n} *',\n",
    "    }\n",
    "    for key, raw in base.items():\n",
    "        rep = rep.replace(key, raw)\n",
    "\n",
    "    beauty = {\n",
    "        '(grad(P))': 'grad(P)',\n",
    "        '(grad(N))': 'grad(N)',\n",
    "        '(grad(u))': 'grad(u)',\n",
    "        '(grad(v))': 'grad(v)',\n",
    "        '})': ')',\n",
    "        '+ (': '\\n   +(',\n",
    "    }\n",
    "    for key, raw in beauty.items():\n",
    "        rep = rep.replace(key, raw)\n",
    "    return rep"
   ]
  },
  {
   "cell_type": "code",
   "execution_count": 1,
   "metadata": {},
   "outputs": [
    {
     "ename": "ImportError",
     "evalue": "attempted relative import with no known parent package",
     "output_type": "error",
     "traceback": [
      "\u001b[0;31m---------------------------------------------------------------------------\u001b[0m",
      "\u001b[0;31mImportError\u001b[0m                               Traceback (most recent call last)",
      "\u001b[1;32m/home/Solver1D/DataBase/input.ipynb Cell 2\u001b[0m in \u001b[0;36m<cell line: 1>\u001b[0;34m()\u001b[0m\n\u001b[0;32m----> <a href='vscode-notebook-cell://attached-container%2B7b22636f6e7461696e65724e616d65223a222f46456e69435378227d/home/Solver1D/DataBase/input.ipynb#W4sdnNjb2RlLXJlbW90ZQ%3D%3D?line=0'>1</a>\u001b[0m \u001b[39mfrom\u001b[39;00m \u001b[39m.\u001b[39;00m \u001b[39mimport\u001b[39;00m parametrs\n",
      "\u001b[0;31mImportError\u001b[0m: attempted relative import with no known parent package"
     ]
    }
   ],
   "source": [
    "from . import parametrs"
   ]
  },
  {
   "cell_type": "code",
   "execution_count": 2,
   "metadata": {},
   "outputs": [],
   "source": [
    "# # For linux\n",
    "# p_save = Param_save(dir_save=r'D:\\WORKS\\PolimerSolve\\Solver1D\\Solves\\1\\system1D_anotaton.txt')\n",
    "# p_save.dir_save\n",
    "# path= p_save.dir_save\n",
    "# path += array[0]\n",
    "# path +=p_save.file_name+'_anotation.txt'\n",
    "# path"
   ]
  },
  {
   "cell_type": "code",
   "execution_count": 6,
   "metadata": {},
   "outputs": [
    {
     "data": {
      "text/plain": [
       "['1', '2', '3', '4', '6']"
      ]
     },
     "execution_count": 6,
     "metadata": {},
     "output_type": "execute_result"
    }
   ],
   "source": [
    "import os\n",
    "l =[]\n",
    "for  i in os.walk('Solves'):\n",
    "    l.append(i[0])\n",
    "l = l[1:]\n",
    "_array = [l[i].split('\\\\')[1] for i in range(len(l))]\n",
    "_array"
   ]
  },
  {
   "cell_type": "code",
   "execution_count": 8,
   "metadata": {},
   "outputs": [
    {
     "name": "stderr",
     "output_type": "stream",
     "text": [
      "Quering...: 100%|██████████| 5/5 [00:10<00:00,  2.05s/it]\n"
     ]
    }
   ],
   "source": [
    "array = tqdm(desc=f'Quering...', iterable=_array)\n",
    "\n",
    "for name in array:\n",
    "    path = r'D:\\WORKS\\PolimerSolve\\Solver1D\\Solves\\file\\system1D_anotaton.txt'.replace(\n",
    "        'file', name\n",
    "    )\n",
    "    with open(file=path, mode='r') as file:\n",
    "        dump = jp.decode(file.read())\n",
    "\n",
    "    solve_confs = {\n",
    "        key: str(value)\n",
    "        for key, value in dump.solve_confs.__dict__.items()\n",
    "    }\n",
    "    with database_connection:\n",
    "        note = {}\n",
    "        note.update({'mesh': Mesh1D.get_or_create(**dump.mesh.__dict__)[0]})\n",
    "        note.update({'light': Light1D.get_or_create(**dump.light.__dict__)[0]})\n",
    "        note.update({'solver': Solver.get_or_create(**solve_confs)[0]})\n",
    "        note.update({\n",
    "            'task':\n",
    "            Task.get_or_create(\n",
    "                name=name,\n",
    "                desc=dump.save.desc,\n",
    "                T=dump.time.T,\n",
    "                dt=dump.time.dt,\n",
    "                mesh=note['mesh'],\n",
    "                N0=dump.initial.N0,\n",
    "                P0=dump.initial.P0,\n",
    "                light=note['light'],\n",
    "                solver=note['solver']\n",
    "            )[0]\n",
    "        })\n",
    "        for key, value in dump.consts.__dict__.items():\n",
    "            Const.get_or_create(parametr=key, value=value, task=note['task'])"
   ]
  }
 ],
 "metadata": {
  "kernelspec": {
   "display_name": "Python 3.10.4 64-bit",
   "language": "python",
   "name": "python3"
  },
  "language_info": {
   "codemirror_mode": {
    "name": "ipython",
    "version": 3
   },
   "file_extension": ".py",
   "mimetype": "text/x-python",
   "name": "python",
   "nbconvert_exporter": "python",
   "pygments_lexer": "ipython3",
   "version": "3.10.4"
  },
  "orig_nbformat": 4,
  "vscode": {
   "interpreter": {
    "hash": "916dbcbb3f70747c44a77c7bcd40155683ae19c65e1c03b4aa3499c5328201f1"
   }
  }
 },
 "nbformat": 4,
 "nbformat_minor": 2
}
