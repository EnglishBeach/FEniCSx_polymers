{
 "cells": [
  {
   "cell_type": "code",
   "execution_count": 2,
   "metadata": {},
   "outputs": [],
   "source": [
    "import ufl\n",
    "import numpy as np"
   ]
  },
  {
   "cell_type": "code",
   "execution_count": 3,
   "metadata": {},
   "outputs": [],
   "source": [
    "cell = ufl.Cell('interval')\n",
    "scalar_el= ufl.FiniteElement('CG',cell,1)\n",
    "vector_el = ufl.VectorElement('CG',cell,1)"
   ]
  },
  {
   "cell_type": "code",
   "execution_count": 28,
   "metadata": {},
   "outputs": [],
   "source": [
    "i = ufl.Index()\n",
    "v1= ufl.as_vector([0.5,2.,0.])\n",
    "M = ufl.as_matrix(\n",
    "    [        \n",
    "    [1,0],\n",
    "    [0,2]\n",
    "    ]\n",
    "    )"
   ]
  },
  {
   "cell_type": "code",
   "execution_count": 39,
   "metadata": {},
   "outputs": [
    {
     "ename": "TypeError",
     "evalue": "evaluate() missing 4 required positional arguments: 'x', 'mapping', 'component', and 'index_values'",
     "output_type": "error",
     "traceback": [
      "\u001b[0;31m---------------------------------------------------------------------------\u001b[0m",
      "\u001b[0;31mTypeError\u001b[0m                                 Traceback (most recent call last)",
      "\u001b[1;32m/home/UFl/UFL matrix.ipynb Cell 4'\u001b[0m in \u001b[0;36m<cell line: 3>\u001b[0;34m()\u001b[0m\n\u001b[1;32m      <a href='vscode-notebook-cell://attached-container%2B7b22636f6e7461696e65724e616d65223a222f4d79436f6e7461696e6572227d/home/UFl/UFL%20matrix.ipynb#ch0000006vscode-remote?line=0'>1</a>\u001b[0m sum1 \u001b[39m=\u001b[39m v1[i]\u001b[39m*\u001b[39mv1[i]\n\u001b[1;32m      <a href='vscode-notebook-cell://attached-container%2B7b22636f6e7461696e65724e616d65223a222f4d79436f6e7461696e6572227d/home/UFl/UFL%20matrix.ipynb#ch0000006vscode-remote?line=1'>2</a>\u001b[0m sum2\u001b[39m=\u001b[39m v1\u001b[39m*\u001b[39mv1[i]\n\u001b[0;32m----> <a href='vscode-notebook-cell://attached-container%2B7b22636f6e7461696e65724e616d65223a222f4d79436f6e7461696e6572227d/home/UFl/UFL%20matrix.ipynb#ch0000006vscode-remote?line=2'>3</a>\u001b[0m \u001b[39mprint\u001b[39m(sum2\u001b[39m.\u001b[39;49mevaluate())\n",
      "\u001b[0;31mTypeError\u001b[0m: evaluate() missing 4 required positional arguments: 'x', 'mapping', 'component', and 'index_values'"
     ]
    }
   ],
   "source": [
    "sum1 = v1[i]*v1[i]\n",
    "print(sum1)"
   ]
  },
  {
   "cell_type": "code",
   "execution_count": null,
   "metadata": {},
   "outputs": [],
   "source": []
  }
 ],
 "metadata": {
  "interpreter": {
   "hash": "916dbcbb3f70747c44a77c7bcd40155683ae19c65e1c03b4aa3499c5328201f1"
  },
  "kernelspec": {
   "display_name": "Python 3.9.7 64-bit",
   "language": "python",
   "name": "python3"
  },
  "language_info": {
   "codemirror_mode": {
    "name": "ipython",
    "version": 3
   },
   "file_extension": ".py",
   "mimetype": "text/x-python",
   "name": "python",
   "nbconvert_exporter": "python",
   "pygments_lexer": "ipython3",
   "version": "3.9.7"
  },
  "orig_nbformat": 4
 },
 "nbformat": 4,
 "nbformat_minor": 2
}
