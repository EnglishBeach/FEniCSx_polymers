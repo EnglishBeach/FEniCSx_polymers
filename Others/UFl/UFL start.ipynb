{
 "cells": [
  {
   "cell_type": "code",
   "execution_count": 1,
   "metadata": {},
   "outputs": [],
   "source": [
    "import ufl\n",
    "import numpy as np"
   ]
  },
  {
   "cell_type": "code",
   "execution_count": 2,
   "metadata": {},
   "outputs": [
    {
     "name": "stdout",
     "output_type": "stream",
     "text": [
      "<class 'ufl.cell.Cell'>\n",
      "True\n",
      "True\n",
      "3\n",
      "(Cell('interval', 2),)\n"
     ]
    }
   ],
   "source": [
    "cell= ufl.Cell('triangle')\n",
    "print(type(cell))\n",
    "print(cell.is_simplex())\n",
    "print(cell.has_simplex_facets())\n",
    "print(cell.num_facets())\n",
    "print(cell.facet_types())"
   ]
  },
  {
   "cell_type": "code",
   "execution_count": 3,
   "metadata": {},
   "outputs": [
    {
     "name": "stdout",
     "output_type": "stream",
     "text": [
      "1\n",
      "1\n"
     ]
    }
   ],
   "source": [
    "elem= ufl.FiniteElement('CG',cell,1)\n",
    "print(elem.value_size())\n",
    "print(elem.degree())\n",
    "elem2 = ufl.VectorElement('CG',cell,1)"
   ]
  },
  {
   "cell_type": "code",
   "execution_count": 4,
   "metadata": {},
   "outputs": [],
   "source": [
    "arg= ufl.Argument(elem,3)\n",
    "arg1,arg2 = ufl.Arguments(elem2,1)\n",
    "test = ufl.TestFunction(elem)\n",
    "trial = ufl.TrialFunction(elem)"
   ]
  },
  {
   "cell_type": "code",
   "execution_count": 5,
   "metadata": {},
   "outputs": [
    {
     "name": "stdout",
     "output_type": "stream",
     "text": [
      "v_3\n",
      "v_1[0]\n",
      "v_1[1]\n",
      "<class 'ufl.argument.Argument'>\n",
      "<class 'ufl.indexed.Indexed'>\n",
      "<class 'ufl.indexed.Indexed'>\n",
      "v_0\n",
      "<class 'ufl.argument.Argument'>\n",
      "v_1\n",
      "<class 'ufl.argument.Argument'>\n"
     ]
    }
   ],
   "source": [
    "print(arg)\n",
    "print(arg1)\n",
    "print(arg2)\n",
    "print(type(arg))\n",
    "print(type(arg1))\n",
    "print(type(arg2))\n",
    "\n",
    "print(test)\n",
    "print(type(test))\n",
    "print(trial)\n",
    "print(type(trial))\n"
   ]
  },
  {
   "cell_type": "code",
   "execution_count": 6,
   "metadata": {},
   "outputs": [
    {
     "data": {
      "text/plain": [
       "Argument(FunctionSpace(Mesh(VectorElement(FiniteElement('Lagrange', triangle, 1), dim=2), -1), FiniteElement('Lagrange', triangle, 1)), 1, None)"
      ]
     },
     "execution_count": 6,
     "metadata": {},
     "output_type": "execute_result"
    }
   ],
   "source": [
    "trial"
   ]
  },
  {
   "cell_type": "code",
   "execution_count": 7,
   "metadata": {},
   "outputs": [
    {
     "data": {
      "text/plain": [
       "Argument(FunctionSpace(Mesh(VectorElement(FiniteElement('Lagrange', triangle, 1), dim=2), -1), FiniteElement('Lagrange', triangle, 1)), 0, None)"
      ]
     },
     "execution_count": 7,
     "metadata": {},
     "output_type": "execute_result"
    }
   ],
   "source": [
    "test"
   ]
  },
  {
   "cell_type": "code",
   "execution_count": 8,
   "metadata": {},
   "outputs": [],
   "source": [
    "coef = ufl.Coefficient(elem2)\n",
    "const = ufl.Constant(cell)"
   ]
  },
  {
   "cell_type": "code",
   "execution_count": 9,
   "metadata": {},
   "outputs": [
    {
     "data": {
      "text/plain": [
       "Constant(Mesh(VectorElement(FiniteElement('Lagrange', triangle, 1), dim=2), -1), (), 0)"
      ]
     },
     "execution_count": 9,
     "metadata": {},
     "output_type": "execute_result"
    }
   ],
   "source": [
    "const"
   ]
  },
  {
   "cell_type": "code",
   "execution_count": 10,
   "metadata": {},
   "outputs": [
    {
     "data": {
      "text/plain": [
       "Coefficient(FunctionSpace(Mesh(VectorElement(FiniteElement('Lagrange', triangle, 1), dim=2), -1), VectorElement(FiniteElement('Lagrange', triangle, 1), dim=2)), 0)"
      ]
     },
     "execution_count": 10,
     "metadata": {},
     "output_type": "execute_result"
    }
   ],
   "source": [
    "coef"
   ]
  },
  {
   "cell_type": "code",
   "execution_count": 11,
   "metadata": {},
   "outputs": [],
   "source": [
    "x= ufl.SpatialCoordinate(cell)\n",
    "eq_left= ufl.sin(x[1])*test*ufl.dx"
   ]
  },
  {
   "cell_type": "code",
   "execution_count": 12,
   "metadata": {},
   "outputs": [],
   "source": [
    "n = ufl.FacetNormal(cell)\n",
    "M= ufl.dot(n,coef)"
   ]
  },
  {
   "cell_type": "code",
   "execution_count": 21,
   "metadata": {},
   "outputs": [
    {
     "name": "stdout",
     "output_type": "stream",
     "text": [
      "{ v_0 * v_1 } * dx(<Mesh #-1>[everywhere], {})\n"
     ]
    }
   ],
   "source": [
    "print(\n",
    "    test*trial*ufl.dx\n",
    ")"
   ]
  }
 ],
 "metadata": {
  "interpreter": {
   "hash": "916dbcbb3f70747c44a77c7bcd40155683ae19c65e1c03b4aa3499c5328201f1"
  },
  "kernelspec": {
   "display_name": "Python 3.9.7 64-bit",
   "language": "python",
   "name": "python3"
  },
  "language_info": {
   "codemirror_mode": {
    "name": "ipython",
    "version": 3
   },
   "file_extension": ".py",
   "mimetype": "text/x-python",
   "name": "python",
   "nbconvert_exporter": "python",
   "pygments_lexer": "ipython3",
   "version": "3.9.7"
  },
  "orig_nbformat": 4
 },
 "nbformat": 4,
 "nbformat_minor": 2
}
