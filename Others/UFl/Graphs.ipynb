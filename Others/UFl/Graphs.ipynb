{
 "cells": [
  {
   "cell_type": "code",
   "execution_count": 18,
   "metadata": {},
   "outputs": [],
   "source": [
    "import ufl\n",
    "import ufl.algorithms as ulg"
   ]
  },
  {
   "cell_type": "code",
   "execution_count": 2,
   "metadata": {},
   "outputs": [],
   "source": [
    "FiniteElement = ufl.FiniteElement\n",
    "TestFunction = ufl.TestFunction\n",
    "TrialFunction = ufl.TrialFunction\n",
    "Coefficient = ufl.Coefficient\n",
    "dx = ufl.dx\n",
    "ds = ufl.ds\n"
   ]
  },
  {
   "cell_type": "code",
   "execution_count": 3,
   "metadata": {},
   "outputs": [],
   "source": [
    "element = FiniteElement(\"CG\", 'triangle', 1)\n",
    "v = TestFunction(element)\n",
    "u = TrialFunction(element)\n",
    "c = Coefficient(element)\n",
    "f = Coefficient(element)\n",
    "a = c*u*v*dx + f*v*ds"
   ]
  },
  {
   "cell_type": "code",
   "execution_count": 16,
   "metadata": {},
   "outputs": [
    {
     "name": "stdout",
     "output_type": "stream",
     "text": [
      "{ v_0 * v_1 * w_0 } * dx(<Mesh #-1>[everywhere], {})\n",
      "  +  { v_0 * w_1 } * ds(<Mesh #-1>[everywhere], {})\n",
      "Form([Integral(Product(Argument(FunctionSpace(Mesh(VectorElement(FiniteElement('Lagrange', triangle, 1), dim=2), -1), FiniteElement('Lagrange', triangle, 1)), 0, None), Product(Argument(FunctionSpace(Mesh(VectorElement(FiniteElement('Lagrange', triangle, 1), dim=2), -1), FiniteElement('Lagrange', triangle, 1)), 1, None), Coefficient(FunctionSpace(Mesh(VectorElement(FiniteElement('Lagrange', triangle, 1), dim=2), -1), FiniteElement('Lagrange', triangle, 1)), 0))), 'cell', Mesh(VectorElement(FiniteElement('Lagrange', triangle, 1), dim=2), -1), 'everywhere', {}, None), Integral(Product(Argument(FunctionSpace(Mesh(VectorElement(FiniteElement('Lagrange', triangle, 1), dim=2), -1), FiniteElement('Lagrange', triangle, 1)), 0, None), Coefficient(FunctionSpace(Mesh(VectorElement(FiniteElement('Lagrange', triangle, 1), dim=2), -1), FiniteElement('Lagrange', triangle, 1)), 1)), 'exterior_facet', Mesh(VectorElement(FiniteElement('Lagrange', triangle, 1), dim=2), -1), 'everywhere', {}, None)])\n"
     ]
    }
   ],
   "source": [
    "print(str(a))\n",
    "print(\n",
    "    repr(a)\n",
    ")"
   ]
  },
  {
   "cell_type": "code",
   "execution_count": 20,
   "metadata": {},
   "outputs": [
    {
     "name": "stdout",
     "output_type": "stream",
     "text": [
      "Form:\n",
      "    Integral:\n",
      "        integral type: cell\n",
      "        subdomain id: everywhere\n",
      "        integrand:\n",
      "            Product\n",
      "            (\n",
      "                Argument(FunctionSpace(Mesh(VectorElement(FiniteElement('Lagrange', triangle, 1), dim=2), -1), FiniteElement('Lagrange', triangle, 1)), 0, None)\n",
      "                Product\n",
      "                (\n",
      "                    Argument(FunctionSpace(Mesh(VectorElement(FiniteElement('Lagrange', triangle, 1), dim=2), -1), FiniteElement('Lagrange', triangle, 1)), 1, None)\n",
      "                    Coefficient(FunctionSpace(Mesh(VectorElement(FiniteElement('Lagrange', triangle, 1), dim=2), -1), FiniteElement('Lagrange', triangle, 1)), 0)\n",
      "                )\n",
      "            )\n",
      "    Integral:\n",
      "        integral type: exterior_facet\n",
      "        subdomain id: everywhere\n",
      "        integrand:\n",
      "            Product\n",
      "            (\n",
      "                Argument(FunctionSpace(Mesh(VectorElement(FiniteElement('Lagrange', triangle, 1), dim=2), -1), FiniteElement('Lagrange', triangle, 1)), 0, None)\n",
      "                Coefficient(FunctionSpace(Mesh(VectorElement(FiniteElement('Lagrange', triangle, 1), dim=2), -1), FiniteElement('Lagrange', triangle, 1)), 1)\n",
      "            )\n"
     ]
    }
   ],
   "source": [
    "print(ulg.tree_format(a))"
   ]
  },
  {
   "cell_type": "code",
   "execution_count": null,
   "metadata": {},
   "outputs": [],
   "source": [
    "ulg.gra"
   ]
  }
 ],
 "metadata": {
  "interpreter": {
   "hash": "916dbcbb3f70747c44a77c7bcd40155683ae19c65e1c03b4aa3499c5328201f1"
  },
  "kernelspec": {
   "display_name": "Python 3.9.7 64-bit",
   "language": "python",
   "name": "python3"
  },
  "language_info": {
   "codemirror_mode": {
    "name": "ipython",
    "version": 3
   },
   "file_extension": ".py",
   "mimetype": "text/x-python",
   "name": "python",
   "nbconvert_exporter": "python",
   "pygments_lexer": "ipython3",
   "version": "3.9.7"
  },
  "orig_nbformat": 4
 },
 "nbformat": 4,
 "nbformat_minor": 2
}
