{
 "cells": [
  {
   "cell_type": "code",
   "execution_count": 1,
   "metadata": {},
   "outputs": [],
   "source": [
    "import pyvista as pv\n",
    "import numpy as np\n",
    "from pyvista import examples "
   ]
  },
  {
   "cell_type": "code",
   "execution_count": 2,
   "metadata": {},
   "outputs": [],
   "source": [
    "pv.set_jupyter_backend('pythreejs')\n",
    "pv.start_xvfb() #start backend xserver"
   ]
  },
  {
   "cell_type": "code",
   "execution_count": 3,
   "metadata": {},
   "outputs": [
    {
     "data": {
      "text/html": [
       "<table><tr><th>Header</th><th>Data Arrays</th></tr><tr><td>\n",
       "<table>\n",
       "<tr><th>UniformGrid</th><th>Information</th></tr>\n",
       "<tr><td>N Cells</td><td>729</td></tr>\n",
       "<tr><td>N Points</td><td>1000</td></tr>\n",
       "<tr><td>X Bounds</td><td>0.000e+00, 9.000e+00</td></tr>\n",
       "<tr><td>Y Bounds</td><td>0.000e+00, 9.000e+00</td></tr>\n",
       "<tr><td>Z Bounds</td><td>0.000e+00, 9.000e+00</td></tr>\n",
       "<tr><td>Dimensions</td><td>10, 10, 10</td></tr>\n",
       "<tr><td>Spacing</td><td>1.000e+00, 1.000e+00, 1.000e+00</td></tr>\n",
       "<tr><td>N Arrays</td><td>2</td></tr>\n",
       "</table>\n",
       "\n",
       "</td><td>\n",
       "<table>\n",
       "<tr><th>Name</th><th>Field</th><th>Type</th><th>N Comp</th><th>Min</th><th>Max</th></tr>\n",
       "<tr><td><b>Spatial Point Data</b></td><td>Points</td><td>float64</td><td>1</td><td>0.000e+00</td><td>7.290e+02</td></tr>\n",
       "<tr><td>Spatial Cell Data</td><td>Cells</td><td>float64</td><td>1</td><td>0.000e+00</td><td>5.120e+02</td></tr>\n",
       "</table>\n",
       "\n",
       "</td></tr> </table>"
      ],
      "text/plain": [
       "UniformGrid (0x7fe8e28cb160)\n",
       "  N Cells:\t729\n",
       "  N Points:\t1000\n",
       "  X Bounds:\t0.000e+00, 9.000e+00\n",
       "  Y Bounds:\t0.000e+00, 9.000e+00\n",
       "  Z Bounds:\t0.000e+00, 9.000e+00\n",
       "  Dimensions:\t10, 10, 10\n",
       "  Spacing:\t1.000e+00, 1.000e+00, 1.000e+00\n",
       "  N Arrays:\t2"
      ]
     },
     "execution_count": 3,
     "metadata": {},
     "output_type": "execute_result"
    }
   ],
   "source": [
    "polycube = examples.load_uniform()\n",
    "polycube"
   ]
  },
  {
   "cell_type": "code",
   "execution_count": 4,
   "metadata": {},
   "outputs": [
    {
     "data": {
      "application/vnd.jupyter.widget-view+json": {
       "model_id": "7af4c78e3fbf43278f8b5e2dbcaaf17a",
       "version_major": 2,
       "version_minor": 0
      },
      "text/plain": [
       "GridspecLayout(children=(Renderer(camera=PerspectiveCamera(aspect=0.6666666666666666, children=(DirectionalLig…"
      ]
     },
     "metadata": {},
     "output_type": "display_data"
    }
   ],
   "source": [
    "plot= pv.Plotter(shape=(1,2))\n",
    "plot.add_mesh(polycube,scalars='Spatial Cell Data',show_edges=True)\n",
    "plot.subplot(0,1)\n",
    "plot.add_mesh(polycube,scalars='Spatial Point Data',show_edges=True,cmap='Greens_r')\n",
    "plot.show()"
   ]
  },
  {
   "cell_type": "code",
   "execution_count": 5,
   "metadata": {},
   "outputs": [
    {
     "data": {
      "text/html": [
       "<table><tr><th>Header</th><th>Data Arrays</th></tr><tr><td>\n",
       "<table>\n",
       "<tr><th>PolyData</th><th>Information</th></tr>\n",
       "<tr><td>N Cells</td><td>6</td></tr>\n",
       "<tr><td>N Points</td><td>8</td></tr>\n",
       "<tr><td>X Bounds</td><td>-5.000e-01, 5.000e-01</td></tr>\n",
       "<tr><td>Y Bounds</td><td>-5.000e-01, 5.000e-01</td></tr>\n",
       "<tr><td>Z Bounds</td><td>-5.000e-01, 5.000e-01</td></tr>\n",
       "<tr><td>N Arrays</td><td>5</td></tr>\n",
       "</table>\n",
       "\n",
       "</td><td>\n",
       "<table>\n",
       "<tr><th>Name</th><th>Field</th><th>Type</th><th>N Comp</th><th>Min</th><th>Max</th></tr>\n",
       "<tr><td>Normals</td><td>Points</td><td>float32</td><td>3</td><td>-1.000e+00</td><td>1.000e+00</td></tr>\n",
       "<tr><td>TCoords</td><td>Points</td><td>float32</td><td>2</td><td>-1.000e+00</td><td>1.000e+00</td></tr>\n",
       "<tr><td><b>MyScalars</b></td><td>Points</td><td>int64</td><td>1</td><td>0.000e+00</td><td>7.000e+00</td></tr>\n",
       "<tr><td>Unnamed_0</td><td>Cells</td><td>int64</td><td>1</td><td>0.000e+00</td><td>5.000e+00</td></tr>\n",
       "<tr><td>MyCells</td><td>Cells</td><td>int64</td><td>1</td><td>0.000e+00</td><td>5.000e+00</td></tr>\n",
       "</table>\n",
       "\n",
       "</td></tr> </table>"
      ],
      "text/plain": [
       "PolyData (0x7fe8e117f460)\n",
       "  N Cells:\t6\n",
       "  N Points:\t8\n",
       "  X Bounds:\t-5.000e-01, 5.000e-01\n",
       "  Y Bounds:\t-5.000e-01, 5.000e-01\n",
       "  Z Bounds:\t-5.000e-01, 5.000e-01\n",
       "  N Arrays:\t5"
      ]
     },
     "execution_count": 5,
     "metadata": {},
     "output_type": "execute_result"
    }
   ],
   "source": [
    "cube = pv.Cube()\n",
    "cube['MyScalars'] = range(8)\n",
    "cube['MyCells'] = range(6)\n",
    "cube"
   ]
  },
  {
   "cell_type": "code",
   "execution_count": 6,
   "metadata": {},
   "outputs": [
    {
     "data": {
      "application/vnd.jupyter.widget-view+json": {
       "model_id": "e6ee1750972247c0b5aea713eaf88456",
       "version_major": 2,
       "version_minor": 0
      },
      "text/plain": [
       "GridspecLayout(children=(Renderer(camera=PerspectiveCamera(children=(DirectionalLight(intensity=0.25, position…"
      ]
     },
     "metadata": {},
     "output_type": "display_data"
    }
   ],
   "source": [
    "plot_cube= pv.Plotter(window_size=(800,400),shape=(1,2))\n",
    "plot_cube.add_mesh(cube,scalars='MyScalars',cmap='inferno')\n",
    "plot_cube.subplot(0,1)\n",
    "plot_cube.add_mesh(cube,scalars='MyCells',cmap='Greens')\n",
    "plot_cube.show()"
   ]
  },
  {
   "cell_type": "code",
   "execution_count": null,
   "metadata": {},
   "outputs": [],
   "source": []
  }
 ],
 "metadata": {
  "interpreter": {
   "hash": "916dbcbb3f70747c44a77c7bcd40155683ae19c65e1c03b4aa3499c5328201f1"
  },
  "kernelspec": {
   "display_name": "Python 3.9.7 64-bit",
   "language": "python",
   "name": "python3"
  },
  "language_info": {
   "codemirror_mode": {
    "name": "ipython",
    "version": 3
   },
   "file_extension": ".py",
   "mimetype": "text/x-python",
   "name": "python",
   "nbconvert_exporter": "python",
   "pygments_lexer": "ipython3",
   "version": "3.9.7"
  },
  "orig_nbformat": 4
 },
 "nbformat": 4,
 "nbformat_minor": 2
}
