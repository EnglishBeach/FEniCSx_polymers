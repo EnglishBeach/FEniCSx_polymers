{
    "cells": [
        {
            "cell_type": "code",
            "execution_count": 1,
            "metadata": {},
            "outputs": [],
            "source": [
                "import matplotlib.pyplot as plt\n",
                "import numpy as np\n",
                "import pyvista as pv"
            ]
        },
        {
            "cell_type": "code",
            "execution_count": 2,
            "metadata": {},
            "outputs": [],
            "source": [
                "pv.set_jupyter_backend('pythreejs')\n",
                "pv.start_xvfb() #start backend xserver"
            ]
        },
        {
            "cell_type": "code",
            "execution_count": 3,
            "metadata": {},
            "outputs": [
                {
                    "data": {
                        "text/plain": [
                            "array([[ 1.        ,  0.95918367,  0.91836735, ..., -0.91836735,\n",
                            "        -0.95918367, -1.        ],\n",
                            "       [ 0.95918367,  0.92003332,  0.88088297, ..., -0.88088297,\n",
                            "        -0.92003332, -0.95918367],\n",
                            "       [ 0.91836735,  0.88088297,  0.84339858, ..., -0.84339858,\n",
                            "        -0.88088297, -0.91836735],\n",
                            "       ...,\n",
                            "       [-0.91836735, -0.88088297, -0.84339858, ...,  0.84339858,\n",
                            "         0.88088297,  0.91836735],\n",
                            "       [-0.95918367, -0.92003332, -0.88088297, ...,  0.88088297,\n",
                            "         0.92003332,  0.95918367],\n",
                            "       [-1.        , -0.95918367, -0.91836735, ...,  0.91836735,\n",
                            "         0.95918367,  1.        ]])"
                        ]
                    },
                    "execution_count": 3,
                    "metadata": {},
                    "output_type": "execute_result"
                }
            ],
            "source": [
                "x=np.linspace(-1,1,50)\n",
                "y=x\n",
                "z=np.outer(x,y)\n",
                "z"
            ]
        },
        {
            "cell_type": "code",
            "execution_count": 4,
            "metadata": {},
            "outputs": [
                {
                    "data": {
                        "text/plain": [
                            "<matplotlib.contour.QuadContourSet at 0x7f7f9fb72f40>"
                        ]
                    },
                    "execution_count": 4,
                    "metadata": {},
                    "output_type": "execute_result"
                },
                {
                    "data": {
                        "image/png": "[encoded data removed]",
                        "text/plain": [
                            "<Figure size 432x288 with 1 Axes>"
                        ]
                    },
                    "metadata": {
                        "needs_background": "light"
                    },
                    "output_type": "display_data"
                }
            ],
            "source": [
                "plt.figure()\n",
                "plt.contour(x,y,z)"
            ]
        },
        {
            "cell_type": "markdown",
            "metadata": {},
            "source": [
                "### Coordinates creating"
            ]
        },
        {
            "cell_type": "code",
            "execution_count": 5,
            "metadata": {},
            "outputs": [],
            "source": [
                "# Cells number\n",
                "nx, ny, nz = 50, 2, 3\n",
                "nx+=1\n",
                "ny+=1\n",
                "nz+=1"
            ]
        },
        {
            "cell_type": "code",
            "execution_count": 6,
            "metadata": {},
            "outputs": [],
            "source": [
                "x = np.arange(0, nx)\n",
                "\n",
                "x = np.repeat(x, 2)\n",
                "x = x[1:-1]\n",
                "\n",
                "x = np.repeat(x, 1)\n",
                "x = np.tile(x, (ny * 2 - 2) * (nz * 2 - 2))"
            ]
        },
        {
            "cell_type": "code",
            "execution_count": 7,
            "metadata": {},
            "outputs": [],
            "source": [
                "y = np.arange(0, ny)\n",
                "\n",
                "y = np.repeat(y, 2)\n",
                "y = y[1:-1]\n",
                "\n",
                "y = np.repeat(y, nx * 2 - 2)\n",
                "y = np.tile(y, nz * 2 - 2)"
            ]
        },
        {
            "cell_type": "code",
            "execution_count": 8,
            "metadata": {},
            "outputs": [],
            "source": [
                "z = np.arange(0, nz)\n",
                "\n",
                "z = np.repeat(z, 2)\n",
                "z = z[1:-1]\n",
                "\n",
                "z = np.repeat(z, (nx * 2 - 2) * (ny * 2 - 2))\n",
                "z = np.tile(z, 1)"
            ]
        },
        {
            "cell_type": "code",
            "execution_count": 9,
            "metadata": {},
            "outputs": [],
            "source": [
                "mesh_cord = np.stack((x, y, z))\n",
                "mesh_cord = mesh_cord.transpose()"
            ]
        },
        {
            "cell_type": "code",
            "execution_count": 10,
            "metadata": {},
            "outputs": [
                {
                    "data": {
                        "text/plain": [
                            "300"
                        ]
                    },
                    "execution_count": 10,
                    "metadata": {},
                    "output_type": "execute_result"
                }
            ],
            "source": [
                "(nx-1)*(ny-1)*(nz-1)"
            ]
        },
        {
            "cell_type": "code",
            "execution_count": 11,
            "metadata": {},
            "outputs": [
                {
                    "data": {
                        "application/vnd.jupyter.widget-view+json": {
                            "model_id": "dae26db0240645258d06ee421a58a96e",
                            "version_major": 2,
                            "version_minor": 0
                        },
                        "text/plain": [
                            "Renderer(camera=PerspectiveCamera(aspect=1.3333333333333333, children=(DirectionalLight(intensity=0.25, positi…"
                        ]
                    },
                    "metadata": {},
                    "output_type": "display_data"
                },
                {
                    "data": {
                        "text/html": [
                            "<table><tr><th>Header</th><th>Data Arrays</th></tr><tr><td>\n",
                            "<table>\n",
                            "<tr><th>ExplicitStructuredGrid</th><th>Information</th></tr>\n",
                            "<tr><td>N Cells</td><td>300</td></tr>\n",
                            "<tr><td>N Points</td><td>612</td></tr>\n",
                            "<tr><td>X Bounds</td><td>0.000e+00, 5.000e+01</td></tr>\n",
                            "<tr><td>Y Bounds</td><td>0.000e+00, 2.000e+00</td></tr>\n",
                            "<tr><td>Z Bounds</td><td>0.000e+00, 3.000e+00</td></tr>\n",
                            "<tr><td>N Arrays</td><td>2</td></tr>\n",
                            "</table>\n",
                            "\n",
                            "</td><td>\n",
                            "<table>\n",
                            "<tr><th>Name</th><th>Field</th><th>Type</th><th>N Comp</th><th>Min</th><th>Max</th></tr>\n",
                            "<tr><td>Point data</td><td>Points</td><td>float64</td><td>1</td><td>0.000e+00</td><td>1.000e+01</td></tr>\n",
                            "<tr><td><b>Cell data</b></td><td>Cells</td><td>float64</td><td>1</td><td>0.000e+00</td><td>1.000e+01</td></tr>\n",
                            "</table>\n",
                            "\n",
                            "</td></tr> </table>"
                        ],
                        "text/plain": [
                            "ExplicitStructuredGrid (0x7f7f978c9580)\n",
                            "  N Cells:\t300\n",
                            "  N Points:\t612\n",
                            "  X Bounds:\t0.000e+00, 5.000e+01\n",
                            "  Y Bounds:\t0.000e+00, 2.000e+00\n",
                            "  Z Bounds:\t0.000e+00, 3.000e+00\n",
                            "  N Arrays:\t2"
                        ]
                    },
                    "execution_count": 11,
                    "metadata": {},
                    "output_type": "execute_result"
                }
            ],
            "source": [
                "dimension = np.asarray((nx, ny, nz))\n",
                "grid = pv.ExplicitStructuredGrid(dimension, mesh_cord)\n",
                "\n",
                "point_data= np.linspace(0,10,nx*ny*nz)\n",
                "grid.point_data['Point data']= point_data\n",
                "\n",
                "cell_data= np.linspace(0,10,(nx-1)*(ny-1)*(nz-1))\n",
                "grid.cell_data['Cell data']= cell_data\n",
                "\n",
                "grid.set_active_scalars('Cell data')\n",
                "plot = pv.Plotter()\n",
                "plot.add_mesh(grid)\n",
                "# grid = grid.compute_connectivity()\n",
                "grid.plot(show_edges=True)\n",
                "grid"
            ]
        },
        {
            "cell_type": "code",
            "execution_count": null,
            "metadata": {},
            "outputs": [],
            "source": []
        }
    ],
    "metadata": {
        "interpreter": {
            "hash": "916dbcbb3f70747c44a77c7bcd40155683ae19c65e1c03b4aa3499c5328201f1"
        },
        "kernelspec": {
            "display_name": "Python 3.9.7 64-bit",
            "language": "python",
            "name": "python3"
        },
        "language_info": {
            "codemirror_mode": {
                "name": "ipython",
                "version": 3
            },
            "file_extension": ".py",
            "mimetype": "text/x-python",
            "name": "python",
            "nbconvert_exporter": "python",
            "pygments_lexer": "ipython3",
            "version": "3.9.7"
        },
        "orig_nbformat": 4
    },
    "nbformat": 4,
    "nbformat_minor": 2
}
