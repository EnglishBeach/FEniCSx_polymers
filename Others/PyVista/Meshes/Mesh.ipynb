{
 "cells": [
  {
   "cell_type": "code",
   "execution_count": 1,
   "metadata": {},
   "outputs": [],
   "source": [
    "import pyvista as pv\n",
    "import numpy as np"
   ]
  },
  {
   "cell_type": "code",
   "execution_count": 2,
   "metadata": {},
   "outputs": [],
   "source": [
    "pv.set_jupyter_backend('pythreejs')\n",
    "# pv.set_jupyter_backend('ipygany')\n",
    "# pv.set_jupyter_backend('static')\n",
    "pv.start_xvfb() #start backend xserver"
   ]
  },
  {
   "cell_type": "markdown",
   "metadata": {},
   "source": [
    "### From Matrix XYZ"
   ]
  },
  {
   "cell_type": "code",
   "execution_count": 3,
   "metadata": {},
   "outputs": [
    {
     "data": {
      "application/vnd.jupyter.widget-view+json": {
       "model_id": "6dab6b9594f94dd1be9a6c7e7ed06fd0",
       "version_major": 2,
       "version_minor": 0
      },
      "text/plain": [
       "Renderer(camera=PerspectiveCamera(aspect=1.3333333333333333, children=(DirectionalLight(intensity=0.25, positi…"
      ]
     },
     "metadata": {},
     "output_type": "display_data"
    }
   ],
   "source": [
    "mesh = [\n",
    "        [0.,0.,0.],\n",
    "        [1.,0.,0.],\n",
    "        [1.,1.,1.]\n",
    "    ]\n",
    "\n",
    "plot_data= pv.PolyData(mesh)\n",
    "plot_data.plot(point_size=20,style='points',cpos='xy',show_bounds=True)"
   ]
  },
  {
   "cell_type": "markdown",
   "metadata": {},
   "source": [
    "### From MeshGrid"
   ]
  },
  {
   "cell_type": "code",
   "execution_count": 4,
   "metadata": {},
   "outputs": [],
   "source": [
    "# Make data\n",
    "x = np.arange(-10, 10, 0.25)\n",
    "y = np.arange(-10, 10, 0.25)\n",
    "x, y = np.meshgrid(x, y)\n",
    "r = np.sqrt(x**2 + y**2)\n",
    "z = np.sin(r)"
   ]
  },
  {
   "cell_type": "code",
   "execution_count": 5,
   "metadata": {},
   "outputs": [],
   "source": [
    "mesh1= pv.StructuredGrid(x, y, z)"
   ]
  },
  {
   "cell_type": "code",
   "execution_count": 13,
   "metadata": {},
   "outputs": [],
   "source": [
    "n, m = 29, 32\n",
    "x = np.linspace(-200, 200, num=n) + np.random.uniform(-5, 5, size=n)\n",
    "y = np.linspace(-200, 200, num=m) + np.random.uniform(-5, 5, size=m)\n",
    "xx, yy = np.meshgrid(x, y)\n",
    "\n",
    "A, b = 100, 100\n",
    "zz = A * np.exp(-0.5 * ((xx / b) ** 2.0 + (yy / b) ** 2.0))\n",
    "points = np.c_[xx.reshape(-1), yy.reshape(-1), zz.reshape(-1)]\n",
    "\n",
    "foo = pv.PolyData(points)\n",
    "foo.rotate_z(90, inplace=True)\n",
    "data_xyz=foo.points\n",
    "# data_xyz"
   ]
  },
  {
   "cell_type": "code",
   "execution_count": 14,
   "metadata": {},
   "outputs": [
    {
     "data": {
      "text/plain": [
       "pyvista_ndarray([[ 197.74931263, -204.01287821,    1.76626638],\n",
       "                 [ 197.74931263, -188.11389523,    2.4123196 ],\n",
       "                 [ 197.74931263, -171.78927066,    3.23604847],\n",
       "                 ...,\n",
       "                 [-201.67741845,  173.52286547,    2.90365965],\n",
       "                 [-201.67741845,  185.64119809,    2.3357859 ],\n",
       "                 [-201.67741845,  200.73399674,    1.74503438]])"
      ]
     },
     "execution_count": 14,
     "metadata": {},
     "output_type": "execute_result"
    }
   ],
   "source": [
    "mesh2=pv.StructuredGrid()\n",
    "mesh2.points=data_xyz\n",
    "mesh2.dimensions = [n, m, 1]\n",
    "mesh2.points"
   ]
  },
  {
   "cell_type": "code",
   "execution_count": 15,
   "metadata": {},
   "outputs": [
    {
     "data": {
      "application/vnd.jupyter.widget-view+json": {
       "model_id": "48addfff1ad9453bac898a9be4acfe0e",
       "version_major": 2,
       "version_minor": 0
      },
      "text/plain": [
       "GridspecLayout(children=(Renderer(camera=PerspectiveCamera(children=(DirectionalLight(intensity=0.25, position…"
      ]
     },
     "metadata": {},
     "output_type": "display_data"
    }
   ],
   "source": [
    "plot= pv.Plotter(window_size=(800,400),shape=(1,2))\n",
    "plot.subplot(0,0)\n",
    "plot.add_axes()\n",
    "plot.add_mesh(mesh1,show_edges=False)\n",
    "# grid.plot_curvature(clim=[-1, 1])\n",
    "\n",
    "plot.subplot(0,1)\n",
    "plot.add_mesh(mesh2,show_edges=True)\n",
    "plot.show()"
   ]
  }
 ],
 "metadata": {
  "interpreter": {
   "hash": "916dbcbb3f70747c44a77c7bcd40155683ae19c65e1c03b4aa3499c5328201f1"
  },
  "kernelspec": {
   "display_name": "Python 3.9.7 64-bit",
   "language": "python",
   "name": "python3"
  },
  "language_info": {
   "codemirror_mode": {
    "name": "ipython",
    "version": 3
   },
   "file_extension": ".py",
   "mimetype": "text/x-python",
   "name": "python",
   "nbconvert_exporter": "python",
   "pygments_lexer": "ipython3",
   "version": "3.9.7"
  },
  "orig_nbformat": 4
 },
 "nbformat": 4,
 "nbformat_minor": 2
}
