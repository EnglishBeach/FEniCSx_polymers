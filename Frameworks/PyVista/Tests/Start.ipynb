{
 "cells": [
  {
   "cell_type": "code",
   "execution_count": 1,
   "metadata": {},
   "outputs": [],
   "source": [
    "import pyvista as pv\n",
    "import numpy as np"
   ]
  },
  {
   "cell_type": "code",
   "execution_count": 2,
   "metadata": {},
   "outputs": [],
   "source": [
    "pv.set_jupyter_backend('pythreejs')\n",
    "pv.start_xvfb() #start backend xserver"
   ]
  },
  {
   "cell_type": "code",
   "execution_count": 3,
   "metadata": {},
   "outputs": [],
   "source": [
    "num_spheres = 100\n",
    "raw_cord = np.random.random((num_spheres, 3))\n",
    "raw_cord;"
   ]
  },
  {
   "cell_type": "code",
   "execution_count": 4,
   "metadata": {},
   "outputs": [
    {
     "data": {
      "text/html": [
       "\n",
       "<table>\n",
       "<tr><th>PolyData</th><th>Information</th></tr>\n",
       "<tr><td>N Cells</td><td>100</td></tr>\n",
       "<tr><td>N Points</td><td>100</td></tr>\n",
       "<tr><td>X Bounds</td><td>1.067e-03, 9.924e-01</td></tr>\n",
       "<tr><td>Y Bounds</td><td>1.116e-02, 9.955e-01</td></tr>\n",
       "<tr><td>Z Bounds</td><td>8.502e-03, 9.938e-01</td></tr>\n",
       "<tr><td>N Arrays</td><td>0</td></tr>\n",
       "</table>\n",
       "\n"
      ],
      "text/plain": [
       "PolyData (0x7f93e448f8e0)\n",
       "  N Cells:\t100\n",
       "  N Points:\t100\n",
       "  X Bounds:\t1.067e-03, 9.924e-01\n",
       "  Y Bounds:\t1.116e-02, 9.955e-01\n",
       "  Z Bounds:\t8.502e-03, 9.938e-01\n",
       "  N Arrays:\t0"
      ]
     },
     "execution_count": 4,
     "metadata": {},
     "output_type": "execute_result"
    }
   ],
   "source": [
    "mesh = pv.PolyData(raw_cord)\n",
    "mesh"
   ]
  },
  {
   "cell_type": "code",
   "execution_count": 5,
   "metadata": {},
   "outputs": [
    {
     "data": {
      "application/vnd.jupyter.widget-view+json": {
       "model_id": "5578b960867f4f58965e76bc1249f8e2",
       "version_major": 2,
       "version_minor": 0
      },
      "text/plain": [
       "Renderer(camera=PerspectiveCamera(aspect=1.3333333333333333, children=(DirectionalLight(intensity=0.25, positi…"
      ]
     },
     "metadata": {},
     "output_type": "display_data"
    }
   ],
   "source": [
    "mesh.plot(point_size=5,style='points')"
   ]
  },
  {
   "cell_type": "code",
   "execution_count": 6,
   "metadata": {},
   "outputs": [
    {
     "data": {
      "application/vnd.jupyter.widget-view+json": {
       "model_id": "f91425da6fea4ba78b88cb471f197a27",
       "version_major": 2,
       "version_minor": 0
      },
      "text/plain": [
       "Renderer(camera=PerspectiveCamera(aspect=1.3333333333333333, children=(DirectionalLight(intensity=0.25, positi…"
      ]
     },
     "metadata": {},
     "output_type": "display_data"
    }
   ],
   "source": [
    "range_color = True\n",
    "\n",
    "if range_color: mesh['orig_shpere'] = np.arange(num_spheres)*0.05\n",
    "else:\n",
    "    a = np.ones(num_spheres)*0.1\n",
    "    a[0:num_spheres // 2] = 0.2\n",
    "    mesh['sphere_rang'] = a\n",
    "    mesh['sphere_rang2'] = a*0+1\n",
    "\n",
    "sphere = pv.Sphere(radius=0.03, phi_resolution=10, theta_resolution=10)\n",
    "sphere_graph = mesh.glyph(scale=False, geom=sphere)\n",
    "\n",
    "sphere_graph.plot(cmap='inferno',background='White',cpos=(-0.1,-0.1,-0.5))\n"
   ]
  },
  {
   "cell_type": "code",
   "execution_count": 7,
   "metadata": {},
   "outputs": [
    {
     "data": {
      "text/html": [
       "<table><tr><th>Header</th><th>Data Arrays</th></tr><tr><td>\n",
       "<table>\n",
       "<tr><th>PolyData</th><th>Information</th></tr>\n",
       "<tr><td>N Cells</td><td>16000</td></tr>\n",
       "<tr><td>N Points</td><td>8200</td></tr>\n",
       "<tr><td>X Bounds</td><td>-2.848e-02, 1.022e+00</td></tr>\n",
       "<tr><td>Y Bounds</td><td>-1.694e-02, 1.024e+00</td></tr>\n",
       "<tr><td>Z Bounds</td><td>-2.150e-02, 1.024e+00</td></tr>\n",
       "<tr><td>N Arrays</td><td>3</td></tr>\n",
       "</table>\n",
       "\n",
       "</td><td>\n",
       "<table>\n",
       "<tr><th>Name</th><th>Field</th><th>Type</th><th>N Comp</th><th>Min</th><th>Max</th></tr>\n",
       "<tr><td>orig_shpere</td><td>Points</td><td>float64</td><td>1</td><td>0.000e+00</td><td>4.950e+00</td></tr>\n",
       "<tr><td><b>GlyphScale</b></td><td>Points</td><td>float32</td><td>1</td><td>0.000e+00</td><td>4.950e+00</td></tr>\n",
       "<tr><td>Normals</td><td>Points</td><td>float32</td><td>3</td><td>-1.000e+00</td><td>1.000e+00</td></tr>\n",
       "</table>\n",
       "\n",
       "</td></tr> </table>"
      ],
      "text/plain": [
       "PolyData (0x7f94140f0100)\n",
       "  N Cells:\t16000\n",
       "  N Points:\t8200\n",
       "  X Bounds:\t-2.848e-02, 1.022e+00\n",
       "  Y Bounds:\t-1.694e-02, 1.024e+00\n",
       "  Z Bounds:\t-2.150e-02, 1.024e+00\n",
       "  N Arrays:\t3"
      ]
     },
     "execution_count": 7,
     "metadata": {},
     "output_type": "execute_result"
    }
   ],
   "source": [
    "sphere_graph"
   ]
  }
 ],
 "metadata": {
  "interpreter": {
   "hash": "916dbcbb3f70747c44a77c7bcd40155683ae19c65e1c03b4aa3499c5328201f1"
  },
  "kernelspec": {
   "display_name": "Python 3.9.7 64-bit",
   "language": "python",
   "name": "python3"
  },
  "language_info": {
   "codemirror_mode": {
    "name": "ipython",
    "version": 3
   },
   "file_extension": ".py",
   "mimetype": "text/x-python",
   "name": "python",
   "nbconvert_exporter": "python",
   "pygments_lexer": "ipython3",
   "version": "3.9.7"
  },
  "orig_nbformat": 4
 },
 "nbformat": 4,
 "nbformat_minor": 2
}
