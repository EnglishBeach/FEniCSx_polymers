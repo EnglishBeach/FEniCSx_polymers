{
 "cells": [
  {
   "cell_type": "code",
   "execution_count": 1,
   "metadata": {},
   "outputs": [],
   "source": [
    "from ufl import *\n",
    "import numpy as np\n",
    "\n",
    "from dolfinx import mesh\n",
    "from mpi4py import MPI\n",
    "\n",
    "\n",
    "def printer(x):\n",
    "    print(f'{x}    *** {type(x)}')"
   ]
  },
  {
   "cell_type": "code",
   "execution_count": 2,
   "metadata": {},
   "outputs": [
    {
     "name": "stdout",
     "output_type": "stream",
     "text": [
      "****Numbers function****\n",
      "v_3    *** <class 'ufl.argument.Argument'>\n",
      "v_1    *** <class 'ufl.argument.Argument'>\n",
      "v_0    *** <class 'ufl.argument.Argument'>\n",
      "w_1    *** <class 'ufl.coefficient.Coefficient'>\n",
      "x[0]    *** <class 'ufl.indexed.Indexed'>\n",
      "*************************\n",
      "sin(2 + x[0])    *** <class 'ufl.mathfunctions.Sin'>\n",
      "{ sin(2 + x[0]) } * dx(<Mesh #0>[everywhere], {})    *** <class 'ufl.form.Form'>\n",
      "{ ([2 + sin(x[1]), x[0]]) : ([2 + sin(x[1]), x[0]]) } * dx(<Mesh #0>[everywhere], {})    *** <class 'ufl.form.Form'>\n",
      "c_1    *** <class 'ufl.constant.Constant'>\n",
      "sum_{i_8} ([2 + sin(x[1]), x[0]])[i_8] * ([2 + sin(x[1]), x[0]])[i_8]     *** <class 'ufl.indexsum.IndexSum'>\n"
     ]
    }
   ],
   "source": [
    "cell = Cell(cellname='triangle')\n",
    "\n",
    "domain = mesh.create_unit_square(\n",
    "    nx=10,\n",
    "    ny=10,\n",
    "    cell_type=mesh.CellType.triangle,\n",
    "    comm=MPI.COMM_WORLD,\n",
    "    )\n",
    "element = FiniteElement(\n",
    "    family='CG',\n",
    "    cell=cell,\n",
    "    degree=1,\n",
    "    )\n",
    "element2 = VectorElement(\n",
    "    family='CG',\n",
    "    cell=cell,\n",
    "    degree=1,\n",
    "    )\n",
    "space = FunctionSpace(element=element, domain=domain)\n",
    "space2 = FunctionSpace(element=element2, domain=domain)\n",
    "i = Index()\n",
    "x, y = SpatialCoordinate(domain)\n",
    "arg = Argument(number=3, function_space=space)\n",
    "coef = Coefficient(count=1, function_space=space)\n",
    "coef2 = Coefficient(count=2, function_space=space2)\n",
    "\n",
    "a = sin(x + 2)\n",
    "a2 = a * dx\n",
    "a3 = a * ds\n",
    "v = as_vector([sin(y) + 2, x])\n",
    "v2 = v**2 * dx\n",
    "trial = TrialFunction(space)\n",
    "test = TestFunction(space)\n",
    "const = Constant(count=1, domain=domain)\n",
    "\n",
    "print('****Numbers function****')\n",
    "printer(arg)\n",
    "printer(trial)\n",
    "printer(test)\n",
    "printer(coef)\n",
    "printer(x)\n",
    "print('*************************')\n",
    "printer(a)\n",
    "printer(a2)\n",
    "printer(v2)\n",
    "printer(const)\n",
    "printer(v[i]*v[i])"
   ]
  },
  {
   "cell_type": "code",
   "execution_count": 3,
   "metadata": {},
   "outputs": [
    {
     "name": "stdout",
     "output_type": "stream",
     "text": [
      "FunctionSpace(<dolfinx.mesh.Mesh object at 0x7f7d0c66b010>, FiniteElement('Lagrange', triangle, 1))    *** <class 'ufl.functionspace.FunctionSpace'>\n"
     ]
    }
   ],
   "source": [
    "printer(space)"
   ]
  },
  {
   "cell_type": "code",
   "execution_count": 4,
   "metadata": {},
   "outputs": [
    {
     "name": "stdout",
     "output_type": "stream",
     "text": [
      "2 * w_1    *** <class 'ufl.algebra.Product'>\n",
      "var0(2 * w_1)    *** <class 'ufl.variable.Variable'>\n",
      "(var0(2 * w_1)) ** 2    *** <class 'ufl.algebra.Power'>\n",
      "d/d[var0(2 * w_1)] ((var0(2 * w_1)) ** 2)    *** <class 'ufl.differentiation.VariableDerivative'>\n",
      "d/d[w_1] ((var0(2 * w_1)) ** 2)    *** <class 'ufl.differentiation.VariableDerivative'>\n"
     ]
    }
   ],
   "source": [
    "g = coef*2\n",
    "g2 = variable(g)\n",
    "h = g2**2\n",
    "printer(g)\n",
    "printer(g2)\n",
    "printer(h)\n",
    "printer(diff(h,g2))\n",
    "printer(diff(h,coef))"
   ]
  },
  {
   "cell_type": "code",
   "execution_count": 5,
   "metadata": {},
   "outputs": [
    {
     "name": "stdout",
     "output_type": "stream",
     "text": [
      "w_3 * w_4 ** w_5    *** <class 'ufl.algebra.Product'>\n",
      "40    *** <class 'ufl.constantvalue.IntValue'>\n"
     ]
    }
   ],
   "source": [
    "coef1,coef2,coef3 = Coefficient(space),Coefficient(space),Coefficient(space)\n",
    "a_coef = coef1*coef2**coef3\n",
    "\n",
    "printer(a_coef)\n",
    "printer(replace(a_coef,{coef1:5,coef2:2,coef3:3}))"
   ]
  },
  {
   "cell_type": "code",
   "execution_count": 16,
   "metadata": {},
   "outputs": [
    {
     "name": "stdout",
     "output_type": "stream",
     "text": [
      "(Sum(IntValue(2), Indexed(SpatialCoordinate(Mesh(VectorElement(FiniteElement('Lagrange', triangle, 1), dim=2), 0)), MultiIndex((FixedIndex(0),)))),)\n",
      "(Cos(Sum(Indexed(SpatialCoordinate(Mesh(VectorElement(FiniteElement('Lagrange', triangle, 1), dim=2), 0)), MultiIndex((FixedIndex(0),))), Product(IntValue(2), Indexed(SpatialCoordinate(Mesh(VectorElement(FiniteElement('Lagrange', triangle, 1), dim=2), 0)), MultiIndex((FixedIndex(1),)))))),)\n",
      "***************\n",
      "()\n",
      "()\n",
      "(2,)\n",
      "()\n"
     ]
    }
   ],
   "source": [
    "print(a.ufl_operands)\n",
    "b = sin(cos(x+y*2))\n",
    "print(b.ufl_operands)\n",
    "print('***************')\n",
    "print(b.ufl_free_indices)\n",
    "print(b.ufl_shape)\n",
    "print(v.ufl_shape)\n",
    "v3= v**2\n",
    "print(v3.ufl_shape)"
   ]
  }
 ],
 "metadata": {
  "interpreter": {
   "hash": "916dbcbb3f70747c44a77c7bcd40155683ae19c65e1c03b4aa3499c5328201f1"
  },
  "kernelspec": {
   "display_name": "Python 3.9.7 64-bit",
   "language": "python",
   "name": "python3"
  },
  "language_info": {
   "codemirror_mode": {
    "name": "ipython",
    "version": 3
   },
   "file_extension": ".py",
   "mimetype": "text/x-python",
   "name": "python",
   "nbconvert_exporter": "python",
   "pygments_lexer": "ipython3",
   "version": "3.10.4"
  },
  "orig_nbformat": 4
 },
 "nbformat": 4,
 "nbformat_minor": 2
}
