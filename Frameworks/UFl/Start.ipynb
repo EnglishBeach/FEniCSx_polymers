{
 "cells": [
  {
   "cell_type": "code",
   "execution_count": 1,
   "metadata": {},
   "outputs": [],
   "source": [
    "from ufl import *\n",
    "import numpy as np\n",
    "\n",
    "from dolfinx import mesh\n",
    "from mpi4py import MPI\n",
    "\n",
    "\n",
    "def printer(x):\n",
    "    print(f'{x}    *** {type(x)}')"
   ]
  },
  {
   "cell_type": "code",
   "execution_count": 2,
   "metadata": {},
   "outputs": [
    {
     "name": "stdout",
     "output_type": "stream",
     "text": [
      "****Numbers function****\n",
      "v_3    *** <class 'ufl.argument.Argument'>\n",
      "v_1    *** <class 'ufl.argument.Argument'>\n",
      "v_0    *** <class 'ufl.argument.Argument'>\n",
      "w_1    *** <class 'ufl.coefficient.Coefficient'>\n",
      "x[0]    *** <class 'ufl.indexed.Indexed'>\n",
      "*************************\n",
      "sin(2 + x[0])    *** <class 'ufl.mathfunctions.Sin'>\n",
      "{ sin(2 + x[0]) } * dx(<Mesh #0>[everywhere], {})    *** <class 'ufl.form.Form'>\n",
      "{ ([2 + sin(x[1]), x[0]]) : ([2 + sin(x[1]), x[0]]) } * dx(<Mesh #0>[everywhere], {})    *** <class 'ufl.form.Form'>\n",
      "c_1    *** <class 'ufl.constant.Constant'>\n",
      "sum_{i_8} ([2 + sin(x[1]), x[0]])[i_8] * ([2 + sin(x[1]), x[0]])[i_8]     *** <class 'ufl.indexsum.IndexSum'>\n"
     ]
    }
   ],
   "source": [
    "cell = Cell(cellname='triangle')\n",
    "\n",
    "domain = mesh.create_unit_square(\n",
    "    nx=10,\n",
    "    ny=10,\n",
    "    cell_type=mesh.CellType.triangle,\n",
    "    comm=MPI.COMM_WORLD,\n",
    "    )\n",
    "element = FiniteElement(\n",
    "    family='CG',\n",
    "    cell=cell,\n",
    "    degree=1,\n",
    "    )\n",
    "element2 = VectorElement(\n",
    "    family='CG',\n",
    "    cell=cell,\n",
    "    degree=1,\n",
    "    )\n",
    "space = FunctionSpace(element=element, domain=domain)\n",
    "space2 = FunctionSpace(element=element2, domain=domain)\n",
    "i = Index()\n",
    "x, y = SpatialCoordinate(domain)\n",
    "arg = Argument(number=3, function_space=space)\n",
    "coef = Coefficient(count=1, function_space=space)\n",
    "coef2 = Coefficient(count=2, function_space=space2)\n",
    "\n",
    "a = sin(x + 2)\n",
    "a2 = a * dx\n",
    "a3 = a * ds\n",
    "v = as_vector([sin(y) + 2, x])\n",
    "v2 = v**2 * dx\n",
    "trial = TrialFunction(space)\n",
    "test = TestFunction(space)\n",
    "const = Constant(count=1, domain=domain)\n",
    "\n",
    "print('****Numbers function****')\n",
    "printer(arg)\n",
    "printer(trial)\n",
    "printer(test)\n",
    "printer(coef)\n",
    "printer(x)\n",
    "print('*************************')\n",
    "printer(a)\n",
    "printer(a2)\n",
    "printer(v2)\n",
    "printer(const)\n",
    "printer(v[i]*v[i])"
   ]
  },
  {
   "cell_type": "code",
   "execution_count": 3,
   "metadata": {},
   "outputs": [
    {
     "name": "stdout",
     "output_type": "stream",
     "text": [
      "FunctionSpace(<dolfinx.mesh.Mesh object at 0x7f452e7bcc70>, FiniteElement('Lagrange', triangle, 1))    *** <class 'ufl.functionspace.FunctionSpace'>\n"
     ]
    }
   ],
   "source": [
    "printer(space)"
   ]
  },
  {
   "cell_type": "code",
   "execution_count": 4,
   "metadata": {},
   "outputs": [
    {
     "name": "stdout",
     "output_type": "stream",
     "text": [
      "2 * w_1    *** <class 'ufl.algebra.Product'>\n",
      "var0(2 * w_1)    *** <class 'ufl.variable.Variable'>\n",
      "(var0(2 * w_1)) ** 2    *** <class 'ufl.algebra.Power'>\n",
      "d/d[var0(2 * w_1)] ((var0(2 * w_1)) ** 2)    *** <class 'ufl.differentiation.VariableDerivative'>\n",
      "d/d[w_1] ((var0(2 * w_1)) ** 2)    *** <class 'ufl.differentiation.VariableDerivative'>\n"
     ]
    }
   ],
   "source": [
    "g = coef*2\n",
    "g2 = variable(g)\n",
    "h = g2**2\n",
    "printer(g)\n",
    "printer(g2)\n",
    "printer(h)\n",
    "printer(diff(h,g2))\n",
    "printer(diff(h,coef))"
   ]
  },
  {
   "cell_type": "code",
   "execution_count": 5,
   "metadata": {},
   "outputs": [
    {
     "name": "stdout",
     "output_type": "stream",
     "text": [
      "w_3 * w_4 ** w_5    *** <class 'ufl.algebra.Product'>\n",
      "40    *** <class 'ufl.constantvalue.IntValue'>\n"
     ]
    }
   ],
   "source": [
    "coef1,coef2,coef3 = Coefficient(space),Coefficient(space),Coefficient(space)\n",
    "a_coef = coef1*coef2**coef3\n",
    "\n",
    "printer(a_coef)\n",
    "printer(replace(a_coef,{coef1:5,coef2:2,coef3:3}))"
   ]
  },
  {
   "cell_type": "code",
   "execution_count": 6,
   "metadata": {},
   "outputs": [
    {
     "name": "stdout",
     "output_type": "stream",
     "text": [
      "(Sum(IntValue(2), Indexed(SpatialCoordinate(Mesh(VectorElement(FiniteElement('Lagrange', triangle, 1), dim=2), 0)), MultiIndex((FixedIndex(0),)))),)\n",
      "(Cos(Sum(Indexed(SpatialCoordinate(Mesh(VectorElement(FiniteElement('Lagrange', triangle, 1), dim=2), 0)), MultiIndex((FixedIndex(0),))), Product(IntValue(2), Indexed(SpatialCoordinate(Mesh(VectorElement(FiniteElement('Lagrange', triangle, 1), dim=2), 0)), MultiIndex((FixedIndex(1),)))))),)\n",
      "***************\n",
      "()\n",
      "()\n",
      "(2,)\n",
      "()\n"
     ]
    }
   ],
   "source": [
    "print(a.ufl_operands)\n",
    "b = sin(cos(x+y*2))\n",
    "print(b.ufl_operands)\n",
    "print('***************')\n",
    "print(b.ufl_free_indices)\n",
    "print(b.ufl_shape)\n",
    "print(v.ufl_shape)\n",
    "v3= v**2\n",
    "print(v3.ufl_shape)"
   ]
  },
  {
   "cell_type": "code",
   "execution_count": 18,
   "metadata": {},
   "outputs": [
    {
     "name": "stdout",
     "output_type": "stream",
     "text": [
      "x[0] * w_3 * w_5 + w_3 * w_4 ** w_5\n",
      "x[0] * 5 * w_5 + 5 * 2 ** w_5\n",
      "2\n",
      "20 + 10 * x[0]\n",
      "2\n"
     ]
    }
   ],
   "source": [
    "test1= (coef1*coef2**coef3+coef1*coef3*x)\n",
    "print(test1)\n",
    "test2  = replace(test1,{coef1:5,coef2:2})\n",
    "print(test2)\n",
    "print(len(test2.ufl_operands))\n",
    "test3 = replace(test2,{coef3:2,coef2:2})\n",
    "print(test3)\n",
    "print(len(test3.ufl_operands))"
   ]
  },
  {
   "cell_type": "code",
   "execution_count": 21,
   "metadata": {},
   "outputs": [
    {
     "ename": "AttributeError",
     "evalue": "'Sum' object has no attribute 'arguments'",
     "output_type": "error",
     "traceback": [
      "\u001b[0;31m---------------------------------------------------------------------------\u001b[0m",
      "\u001b[0;31mAttributeError\u001b[0m                            Traceback (most recent call last)",
      "\u001b[1;32m/home/Frameworks/UFl/Start.ipynb Ячейка 8\u001b[0m in \u001b[0;36m<cell line: 1>\u001b[0;34m()\u001b[0m\n\u001b[0;32m----> <a href='vscode-notebook-cell://attached-container%2B7b22636f6e7461696e65724e616d65223a222f46456e69435378227d/home/Frameworks/UFl/Start.ipynb#X12sdnNjb2RlLXJlbW90ZQ%3D%3D?line=0'>1</a>\u001b[0m test2\u001b[39m.\u001b[39;49marguments\n",
      "\u001b[0;31mAttributeError\u001b[0m: 'Sum' object has no attribute 'arguments'"
     ]
    }
   ],
   "source": []
  }
 ],
 "metadata": {
  "interpreter": {
   "hash": "916dbcbb3f70747c44a77c7bcd40155683ae19c65e1c03b4aa3499c5328201f1"
  },
  "kernelspec": {
   "display_name": "Python 3.9.7 64-bit",
   "language": "python",
   "name": "python3"
  },
  "language_info": {
   "codemirror_mode": {
    "name": "ipython",
    "version": 3
   },
   "file_extension": ".py",
   "mimetype": "text/x-python",
   "name": "python",
   "nbconvert_exporter": "python",
   "pygments_lexer": "ipython3",
   "version": "3.10.4"
  },
  "orig_nbformat": 4
 },
 "nbformat": 4,
 "nbformat_minor": 2
}
