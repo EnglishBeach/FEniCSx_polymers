{
 "cells": [
  {
   "cell_type": "code",
   "execution_count": 1,
   "metadata": {},
   "outputs": [],
   "source": [
    "import ipywidgets.widgets as wdg\n",
    "from ipywidgets import interact\n",
    "from ipywidgets import interactive\n",
    "from ipywidgets import interaction\n",
    "\n",
    "import matplotlib.pyplot as plt\n",
    "import numpy as np"
   ]
  },
  {
   "cell_type": "code",
   "execution_count": 2,
   "metadata": {},
   "outputs": [],
   "source": [
    "x_wdg= wdg.FloatSlider(\n",
    "    value=0,\n",
    "    min=0,\n",
    "    max=10,\n",
    "    step=0.01,\n",
    "    description='X: ',\n",
    "    disabled=False,\n",
    "    # continuous_update=False,\n",
    "    # orientation='',\n",
    "    readout=True,\n",
    "    readout_format='d'\n",
    ")\n",
    "y_wdg= wdg.FloatSlider(\n",
    "    value=0,\n",
    "    min=0,\n",
    "    max=10,\n",
    "    step=0.1,\n",
    "    description='Y: ',\n",
    "    disabled=False,\n",
    "    # continuous_update=False,\n",
    "    # orientation='',\n",
    "    readout=True,\n",
    "    # readout_format='d'\n",
    ")"
   ]
  },
  {
   "cell_type": "code",
   "execution_count": 3,
   "metadata": {},
   "outputs": [
    {
     "data": {
      "application/vnd.jupyter.widget-view+json": {
       "model_id": "0b3a93ed2594481aaf404ba5c1f82cd0",
       "version_major": 2,
       "version_minor": 0
      },
      "text/plain": [
       "VBox(children=(FloatSlider(value=0.0, description='X: ', max=10.0, readout_format='d', step=0.01), FloatSlider…"
      ]
     },
     "metadata": {},
     "output_type": "display_data"
    },
    {
     "data": {
      "application/vnd.jupyter.widget-view+json": {
       "model_id": "c188d77900984f569f3f4f5b4159bd18",
       "version_major": 2,
       "version_minor": 0
      },
      "text/plain": [
       "Output()"
      ]
     },
     "metadata": {},
     "output_type": "display_data"
    }
   ],
   "source": [
    "def func(a=1, b=0.5):\n",
    "    plt.style.use('dark_background')\n",
    "    x = np.linspace(-5, 5, 11)\n",
    "    fig = plt.figure(figsize=(16, 8))\n",
    "\n",
    "    ax1 = fig.add_subplot(1, 2, 1)\n",
    "    ax1.plot(x, a * x + b)\n",
    "    ax1.set(xlim=(-5, 5), ylim=(-40, 40))\n",
    "\n",
    "    ax2 = fig.add_subplot(1,2,2)\n",
    "    plt.scatter(x,a*x+ b* np.random.random(len(x)))\n",
    "    ax2.set(xlim=(-3, 2), ylim=(-20, 20))\n",
    "    fig.show()\n",
    "    return\n",
    "\n",
    "\n",
    "manipulators = wdg.VBox([x_wdg, y_wdg])\n",
    "output = wdg.interactive_output(func, {'a': x_wdg, 'b': y_wdg})\n",
    "display(manipulators, output)\n"
   ]
  },
  {
   "cell_type": "code",
   "execution_count": null,
   "metadata": {},
   "outputs": [],
   "source": []
  }
 ],
 "metadata": {
  "interpreter": {
   "hash": "916dbcbb3f70747c44a77c7bcd40155683ae19c65e1c03b4aa3499c5328201f1"
  },
  "kernelspec": {
   "display_name": "Python 3.9.7 64-bit",
   "language": "python",
   "name": "python3"
  },
  "language_info": {
   "codemirror_mode": {
    "name": "ipython",
    "version": 3
   },
   "file_extension": ".py",
   "mimetype": "text/x-python",
   "name": "python",
   "nbconvert_exporter": "python",
   "pygments_lexer": "ipython3",
   "version": "3.9.7"
  },
  "orig_nbformat": 4
 },
 "nbformat": 4,
 "nbformat_minor": 2
}
