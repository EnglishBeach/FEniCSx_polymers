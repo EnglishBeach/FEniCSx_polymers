{
 "cells": [
  {
   "cell_type": "code",
   "execution_count": 1,
   "metadata": {},
   "outputs": [],
   "source": [
    "import fenics as fe\n",
    "import matplotlib.pyplot as plt\n",
    "import numpy as np "
   ]
  },
  {
   "cell_type": "code",
   "execution_count": 2,
   "metadata": {},
   "outputs": [],
   "source": [
    "from ipywidgets import IntProgress\n",
    "from IPython.display import display\n",
    "\n",
    "def log_progress(sequence, every=10):\n",
    "    progress = IntProgress(min=0, max=len(sequence), value=0)\n",
    "    display(progress)\n",
    "\n",
    "    for index, record in enumerate(sequence):\n",
    "        \n",
    "        if index % every == 0:\n",
    "            progress.value = index\n",
    "        yield record\n",
    "    progress.value = len(sequence)"
   ]
  },
  {
   "cell_type": "markdown",
   "metadata": {},
   "source": [
    "### Space"
   ]
  },
  {
   "cell_type": "code",
   "execution_count": 3,
   "metadata": {},
   "outputs": [],
   "source": [
    "mesh_dx = 20\n",
    "mesh = fe.RectangleMesh(fe.Point(-2, -2), fe.Point(2, 2), mesh_dx, mesh_dx)\n",
    "space_v = fe.VectorFunctionSpace(mesh, 'P', 2)\n",
    "space_p = fe.FunctionSpace(mesh, 'P', 1)\n",
    "\n",
    "v = fe.TrialFunction(space_v)\n",
    "test_v = fe.TestFunction(space_v)\n",
    "v0=fe.Constant((0,0))\n",
    "\n",
    "p = fe.TrialFunction(space_p)\n",
    "test_p = fe.TestFunction(space_p)\n",
    "p0=fe.Constant(0)\n"
   ]
  },
  {
   "cell_type": "markdown",
   "metadata": {},
   "source": [
    "### Boundary"
   ]
  },
  {
   "cell_type": "code",
   "execution_count": 4,
   "metadata": {},
   "outputs": [],
   "source": [
    "# Flows in the box\n",
    "walls = 'near(x[1],0) || near(x[1],1)'\n",
    "# def walls(x, on_bound):\n",
    "#     return fe.near(x[1],0) or fe.near(x[1],1)\n",
    "left = 'near(x[0],0)'\n",
    "right = 'near(x[0],1)'\n",
    "\n",
    "bcu_wall = fe.DirichletBC(space_v, fe.Constant((0,0)), walls)\n",
    "bcp_left=fe.DirichletBC(space_p,fe.Constant(0),left)\n",
    "bcp_right=fe.DirichletBC(space_p,fe.Constant(0),right)\n",
    "\n",
    "bcu=[bcu_wall]\n",
    "bcp=[bcp_left,bcp_right]"
   ]
  },
  {
   "cell_type": "markdown",
   "metadata": {},
   "source": [
    "### Operators"
   ]
  },
  {
   "cell_type": "code",
   "execution_count": 5,
   "metadata": {},
   "outputs": [],
   "source": [
    "Grad= fe.nabla_grad\n",
    "Dot=fe.dot\n",
    "dx=fe.dx\n",
    "ds=fe.ds"
   ]
  },
  {
   "cell_type": "markdown",
   "metadata": {},
   "source": [
    "### Equations"
   ]
  },
  {
   "cell_type": "code",
   "execution_count": 6,
   "metadata": {},
   "outputs": [
    {
     "name": "stdout",
     "output_type": "stream",
     "text": [
      "Cannot determine geometric dimension from expression.\n"
     ]
    },
    {
     "ename": "UFLException",
     "evalue": "Cannot determine geometric dimension from expression.",
     "output_type": "error",
     "traceback": [
      "\u001b[0;31m---------------------------------------------------------------------------\u001b[0m",
      "\u001b[0;31mUFLException\u001b[0m                              Traceback (most recent call last)",
      "\u001b[1;32m/home/homeubuntu/Git Fenics/Test/3 Navier Stokes.ipynb Cell 10'\u001b[0m in \u001b[0;36m<cell line: 9>\u001b[0;34m()\u001b[0m\n\u001b[1;32m      <a href='vscode-notebook-cell://wsl%2Bubuntu/home/homeubuntu/Git%20Fenics/Test/3%20Navier%20Stokes.ipynb#ch0000011vscode-remote?line=5'>6</a>\u001b[0m     \u001b[39mreturn\u001b[39;00m \u001b[39m2\u001b[39m \u001b[39m*\u001b[39m Epsilon(f) \u001b[39m-\u001b[39m p \u001b[39m*\u001b[39m fe\u001b[39m.\u001b[39mIdentity(\u001b[39mlen\u001b[39m(f))\n\u001b[1;32m      <a href='vscode-notebook-cell://wsl%2Bubuntu/home/homeubuntu/Git%20Fenics/Test/3%20Navier%20Stokes.ipynb#ch0000011vscode-remote?line=7'>8</a>\u001b[0m n\u001b[39m=\u001b[39m\u001b[39m1\u001b[39m\n\u001b[0;32m----> <a href='vscode-notebook-cell://wsl%2Bubuntu/home/homeubuntu/Git%20Fenics/Test/3%20Navier%20Stokes.ipynb#ch0000011vscode-remote?line=8'>9</a>\u001b[0m L \u001b[39m=\u001b[39m \u001b[39m2\u001b[39m \u001b[39m*\u001b[39m Dot((v \u001b[39m-\u001b[39m v0) \u001b[39m/\u001b[39m \u001b[39m2\u001b[39m, test_v) \u001b[39m*\u001b[39m dx \u001b[39m+\u001b[39m Dot(v0, Grad(v0), test_v) \u001b[39m*\u001b[39m dx \u001b[39m+\u001b[39m\\\n\u001b[1;32m     <a href='vscode-notebook-cell://wsl%2Bubuntu/home/homeubuntu/Git%20Fenics/Test/3%20Navier%20Stokes.ipynb#ch0000011vscode-remote?line=9'>10</a>\u001b[0m     fe\u001b[39m.\u001b[39minner(sigma(\u001b[39m0.5\u001b[39m \u001b[39m*\u001b[39m (v \u001b[39m+\u001b[39m v0)), Epsilon(test_v)) \u001b[39m*\u001b[39m dx \u001b[39m+\u001b[39m\\\n\u001b[1;32m     <a href='vscode-notebook-cell://wsl%2Bubuntu/home/homeubuntu/Git%20Fenics/Test/3%20Navier%20Stokes.ipynb#ch0000011vscode-remote?line=10'>11</a>\u001b[0m     Dot(p0 \u001b[39m*\u001b[39m n, test_v) \u001b[39m*\u001b[39m ds \u001b[39m-\u001b[39m\\\n\u001b[1;32m     <a href='vscode-notebook-cell://wsl%2Bubuntu/home/homeubuntu/Git%20Fenics/Test/3%20Navier%20Stokes.ipynb#ch0000011vscode-remote?line=11'>12</a>\u001b[0m     Dot(\u001b[39m2\u001b[39m \u001b[39m*\u001b[39m Grad(v) \u001b[39m*\u001b[39m n, test_v) \u001b[39m*\u001b[39m ds\n",
      "File \u001b[0;32m/usr/lib/python3/dist-packages/ufl/operators.py:408\u001b[0m, in \u001b[0;36mnabla_grad\u001b[0;34m(f)\u001b[0m\n\u001b[1;32m    <a href='file:///usr/lib/python3/dist-packages/ufl/operators.py?line=391'>392</a>\u001b[0m \u001b[39m\"\"\"UFL operator: Take the gradient of *f*.\u001b[39;00m\n\u001b[1;32m    <a href='file:///usr/lib/python3/dist-packages/ufl/operators.py?line=392'>393</a>\u001b[0m \n\u001b[1;32m    <a href='file:///usr/lib/python3/dist-packages/ufl/operators.py?line=393'>394</a>\u001b[0m \u001b[39mThis operator follows the grad convention where\u001b[39;00m\n\u001b[0;32m   (...)\u001b[0m\n\u001b[1;32m    <a href='file:///usr/lib/python3/dist-packages/ufl/operators.py?line=404'>405</a>\u001b[0m \u001b[39mSee also: :py:func:`grad`\u001b[39;00m\n\u001b[1;32m    <a href='file:///usr/lib/python3/dist-packages/ufl/operators.py?line=405'>406</a>\u001b[0m \u001b[39m\"\"\"\u001b[39;00m\n\u001b[1;32m    <a href='file:///usr/lib/python3/dist-packages/ufl/operators.py?line=406'>407</a>\u001b[0m f \u001b[39m=\u001b[39m as_ufl(f)\n\u001b[0;32m--> <a href='file:///usr/lib/python3/dist-packages/ufl/operators.py?line=407'>408</a>\u001b[0m \u001b[39mreturn\u001b[39;00m NablaGrad(f)\n",
      "File \u001b[0;32m/usr/lib/python3/dist-packages/ufl/differentiation.py:280\u001b[0m, in \u001b[0;36mNablaGrad.__new__\u001b[0;34m(cls, f)\u001b[0m\n\u001b[1;32m    <a href='file:///usr/lib/python3/dist-packages/ufl/differentiation.py?line=276'>277</a>\u001b[0m \u001b[39mdef\u001b[39;00m \u001b[39m__new__\u001b[39m(\u001b[39mcls\u001b[39m, f):\n\u001b[1;32m    <a href='file:///usr/lib/python3/dist-packages/ufl/differentiation.py?line=277'>278</a>\u001b[0m     \u001b[39m# Return zero if expression is trivially constant\u001b[39;00m\n\u001b[1;32m    <a href='file:///usr/lib/python3/dist-packages/ufl/differentiation.py?line=278'>279</a>\u001b[0m     \u001b[39mif\u001b[39;00m is_cellwise_constant(f):\n\u001b[0;32m--> <a href='file:///usr/lib/python3/dist-packages/ufl/differentiation.py?line=279'>280</a>\u001b[0m         dim \u001b[39m=\u001b[39m find_geometric_dimension(f)\n\u001b[1;32m    <a href='file:///usr/lib/python3/dist-packages/ufl/differentiation.py?line=280'>281</a>\u001b[0m         \u001b[39mreturn\u001b[39;00m Zero((dim,) \u001b[39m+\u001b[39m f\u001b[39m.\u001b[39mufl_shape, f\u001b[39m.\u001b[39mufl_free_indices,\n\u001b[1;32m    <a href='file:///usr/lib/python3/dist-packages/ufl/differentiation.py?line=281'>282</a>\u001b[0m                     f\u001b[39m.\u001b[39mufl_index_dimensions)\n\u001b[1;32m    <a href='file:///usr/lib/python3/dist-packages/ufl/differentiation.py?line=282'>283</a>\u001b[0m     \u001b[39mreturn\u001b[39;00m CompoundDerivative\u001b[39m.\u001b[39m\u001b[39m__new__\u001b[39m(\u001b[39mcls\u001b[39m)\n",
      "File \u001b[0;32m/usr/lib/python3/dist-packages/ufl/domain.py:373\u001b[0m, in \u001b[0;36mfind_geometric_dimension\u001b[0;34m(expr)\u001b[0m\n\u001b[1;32m    <a href='file:///usr/lib/python3/dist-packages/ufl/domain.py?line=369'>370</a>\u001b[0m                 gdims\u001b[39m.\u001b[39madd(cell\u001b[39m.\u001b[39mgeometric_dimension())\n\u001b[1;32m    <a href='file:///usr/lib/python3/dist-packages/ufl/domain.py?line=371'>372</a>\u001b[0m \u001b[39mif\u001b[39;00m \u001b[39mlen\u001b[39m(gdims) \u001b[39m!=\u001b[39m \u001b[39m1\u001b[39m:\n\u001b[0;32m--> <a href='file:///usr/lib/python3/dist-packages/ufl/domain.py?line=372'>373</a>\u001b[0m     error(\u001b[39m\"\u001b[39;49m\u001b[39mCannot determine geometric dimension from expression.\u001b[39;49m\u001b[39m\"\u001b[39;49m)\n\u001b[1;32m    <a href='file:///usr/lib/python3/dist-packages/ufl/domain.py?line=373'>374</a>\u001b[0m gdim, \u001b[39m=\u001b[39m gdims\n\u001b[1;32m    <a href='file:///usr/lib/python3/dist-packages/ufl/domain.py?line=374'>375</a>\u001b[0m \u001b[39mreturn\u001b[39;00m gdim\n",
      "File \u001b[0;32m/usr/lib/python3/dist-packages/ufl/log.py:158\u001b[0m, in \u001b[0;36mLogger.error\u001b[0;34m(self, *message)\u001b[0m\n\u001b[1;32m    <a href='file:///usr/lib/python3/dist-packages/ufl/log.py?line=155'>156</a>\u001b[0m \u001b[39m\"\u001b[39m\u001b[39mWrite error message and raise an exception.\u001b[39m\u001b[39m\"\u001b[39m\n\u001b[1;32m    <a href='file:///usr/lib/python3/dist-packages/ufl/log.py?line=156'>157</a>\u001b[0m \u001b[39mself\u001b[39m\u001b[39m.\u001b[39m_log\u001b[39m.\u001b[39merror(\u001b[39m*\u001b[39mmessage)\n\u001b[0;32m--> <a href='file:///usr/lib/python3/dist-packages/ufl/log.py?line=157'>158</a>\u001b[0m \u001b[39mraise\u001b[39;00m \u001b[39mself\u001b[39m\u001b[39m.\u001b[39m_exception_type(\u001b[39mself\u001b[39m\u001b[39m.\u001b[39m_format_raw(\u001b[39m*\u001b[39mmessage))\n",
      "\u001b[0;31mUFLException\u001b[0m: Cannot determine geometric dimension from expression."
     ]
    }
   ],
   "source": [
    "def Epsilon(f):\n",
    "    return fe.sym(Grad(f))\n",
    "\n",
    "\n",
    "def sigma(f):\n",
    "    return 2 * Epsilon(f) - p * fe.Identity(len(f))\n",
    "\n",
    "n=1\n",
    "L = 2 * Dot((v - v0) / 2, test_v) * dx + Dot(v0, Grad(v0), test_v) * dx +\\\n",
    "    fe.inner(sigma(0.5 * (v + v0)), Epsilon(test_v)) * dx +\\\n",
    "    Dot(p0 * n, test_v) * ds -\\\n",
    "    Dot(2 * Grad(v) * n, test_v) * ds\n"
   ]
  },
  {
   "cell_type": "code",
   "execution_count": null,
   "metadata": {},
   "outputs": [],
   "source": []
  }
 ],
 "metadata": {
  "interpreter": {
   "hash": "916dbcbb3f70747c44a77c7bcd40155683ae19c65e1c03b4aa3499c5328201f1"
  },
  "kernelspec": {
   "display_name": "Python 3.8.10 64-bit",
   "language": "python",
   "name": "python3"
  },
  "language_info": {
   "codemirror_mode": {
    "name": "ipython",
    "version": 3
   },
   "file_extension": ".py",
   "mimetype": "text/x-python",
   "name": "python",
   "nbconvert_exporter": "python",
   "pygments_lexer": "ipython3",
   "version": "3.8.10"
  },
  "orig_nbformat": 4
 },
 "nbformat": 4,
 "nbformat_minor": 2
}
