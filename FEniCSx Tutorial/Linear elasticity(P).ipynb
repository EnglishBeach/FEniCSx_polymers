{
 "cells": [
  {
   "cell_type": "code",
   "execution_count": 1,
   "metadata": {},
   "outputs": [],
   "source": [
    "import ufl\n",
    "from ufl import  TrialFunction, TestFunction, FacetNormal, lhs, rhs,SpatialCoordinate\n",
    "\n",
    "import dolfinx\n",
    "from dolfinx import mesh, fem, io\n",
    "from dolfinx.fem import FunctionSpace, VectorFunctionSpace, locate_dofs_geometrical, form\n",
    "from dolfinx.fem.petsc import LinearProblem\n",
    "\n",
    "from mpi4py import MPI\n",
    "import petsc4py.PETSc\n",
    "import numpy as np\n",
    "import matplotlib.pyplot as plt\n",
    "\n",
    "\n",
    "# Operators:\n",
    "class Infix:\n",
    "\n",
    "    def __init__(self, function):\n",
    "        self.function = function\n",
    "\n",
    "    def __ror__(self, other):\n",
    "        return Infix(lambda x, self=self, other=other: self.function(other, x))\n",
    "\n",
    "    def __or__(self, other):\n",
    "        return self.function(other)\n",
    "\n",
    "    def __call__(self, value1, value2):\n",
    "        return self.function(value1, value2)\n",
    "\n",
    "\n",
    "dot = Infix(ufl.dot)\n",
    "inner = Infix(ufl.inner)\n",
    "\n",
    "def vector(*args):\n",
    "    return ufl.as_vector(tuple(args))\n",
    "\n",
    "from ufl import exp,sym,tr,sqrt\n",
    "from ufl import nabla_div as div\n",
    "from ufl import nabla_grad as grad\n",
    "from ufl import as_matrix as matrix\n",
    "\n",
    "npor = Infix(np.logical_or)\n",
    "npand = Infix(np.logical_and)\n",
    "\n",
    "def I(func_like):\n",
    "    \"\"\"Create matrix Identity dimension of func_like\n",
    "\n",
    "    Args:\n",
    "        func_like (Function): Give geometric dimension\n",
    "\n",
    "    Returns:\n",
    "        Tensor: Identity\n",
    "    \"\"\"\n",
    "    return ufl.Identity(func_like.geometric_dimension())\n",
    "\n",
    "# Classes:\n",
    "\n",
    "\n",
    "def Function(space, func=None):\n",
    "    \"\"\"Function on new space. Default create just Function on space\n",
    "\n",
    "    Args:\n",
    "        space (FunctionSpace): New space\n",
    "        function (): Ufl_function, fem.Function, callable function, fem.Constant, constant\n",
    "\n",
    "    Returns:\n",
    "        fem.Function: Function\n",
    "    \"\"\"\n",
    "    if func == None: return fem.Function(space)\n",
    "\n",
    "    result = fem.Function(space)\n",
    "\n",
    "    if not callable(func):\n",
    "        expression = lambda x: x[0] * 0 + func\n",
    "\n",
    "    elif hasattr(func, 'function_space'):\n",
    "        expression = func\n",
    "\n",
    "    elif hasattr(func, 'value'):\n",
    "        expression = lambda x: x[0] * 0 + func.value\n",
    "\n",
    "    elif hasattr(func, 'ufl_domain'):\n",
    "        expression = fem.Expression(func, space.element.interpolation_points())\n",
    "    else:\n",
    "        expression = func\n",
    "\n",
    "    result.interpolate(expression)\n",
    "    return result\n",
    "\n",
    "\n",
    "def Constant(space, const):\n",
    "    \"\"\"Constant on space\n",
    "\n",
    "    Args:\n",
    "        space (fem.FunctionSpace): Space\n",
    "        const (auny number): Any number\n",
    "\n",
    "    Returns:\n",
    "        fem.function.Constant: Constant on space\n",
    "    \"\"\"\n",
    "    return fem.Constant(space, petsc4py.PETSc.ScalarType(const))\n",
    "\n",
    "\n",
    "def create_facet_markers(domain, bound_markers):\n",
    "    \"\"\"Mark facets under conditious\n",
    "\n",
    "    Args:\n",
    "        domain (Domain): Domain\n",
    "        bound_markers (mark,python_function): List of mark and function\n",
    "    \n",
    "    Return:\n",
    "        tags(mesh.meshtags): Marked facets\n",
    "    \"\"\"\n",
    "    facet_indices, facet_markers = [], []\n",
    "    for (marker, condition) in bound_markers:\n",
    "        facets = mesh.locate_entities(\n",
    "            domain,\n",
    "            domain.topology.dim - 1,\n",
    "            condition,\n",
    "            )\n",
    "        facet_indices.append(facets)\n",
    "        facet_markers.append(np.full_like(facets, marker))\n",
    "    facet_indices = np.hstack(facet_indices).astype(np.int32)\n",
    "    facet_markers = np.hstack(facet_markers).astype(np.int32)\n",
    "    sorted_facets = np.argsort(facet_indices)\n",
    "    facet_tags = mesh.meshtags(\n",
    "        domain,\n",
    "        domain.topology.dim - 1,\n",
    "        facet_indices[sorted_facets],\n",
    "        facet_markers[sorted_facets],\n",
    "        )\n",
    "\n",
    "    return facet_tags\n",
    "\n",
    "\n",
    "def create_connectivity(domain):\n",
    "    \"\"\"Need to compute facets to Boundary value\n",
    "\n",
    "    Args:\n",
    "        domain (Mesh): Domain\n",
    "    \"\"\"\n",
    "    domain.topology.create_connectivity(\n",
    "        domain.topology.dim - 1,\n",
    "        domain.topology.dim,\n",
    "        )\n",
    "\n",
    "\n",
    "def DirichletBC(space, func, combined_marker):\n",
    "    \"\"\"Create Dirichlet condition\n",
    "\n",
    "    Args:\n",
    "        space (fem.FunctionSpace): Function space\n",
    "        func (fem.function): fem.Function\n",
    "        combined_marker (Any): One from next\n",
    "        \\nFunction - boundary marker function\n",
    "        \\nAll - all boundary\n",
    "        \\n(mesh.meshtags, marker) - list or tuple, marker of boundary from Marked_facets - mesh.meshtags\n",
    "        \n",
    "    Returns:\n",
    "        condition (dirichletbc): Dirichlet condition\n",
    "    \"\"\"\n",
    "\n",
    "    def get_exterior_facets():\n",
    "        exterior_facets = mesh.exterior_facet_indices(domain.topology)\n",
    "        return exterior_facets\n",
    "\n",
    "    def all_dirichlet(dofs, func):\n",
    "        if hasattr(func, 'function_space'):\n",
    "            bc = fem.dirichletbc(dofs=dofs, value=func)\n",
    "        else:\n",
    "            bc = fem.dirichletbc(V=space, dofs=dofs, value=func)\n",
    "        return bc\n",
    "\n",
    "    domain = space.mesh\n",
    "\n",
    "    if combined_marker == 'All':\n",
    "        facets = get_exterior_facets()\n",
    "        dofs = fem.locate_dofs_topological(\n",
    "            space,\n",
    "            domain.topology.dim - 1,\n",
    "            facets,\n",
    "            )\n",
    "\n",
    "    elif type(combined_marker) == (tuple or list):\n",
    "        marked_facets, marker = combined_marker\n",
    "        facets = marked_facets.find(marker)\n",
    "        dofs = fem.locate_dofs_topological(\n",
    "            space,\n",
    "            domain.topology.dim - 1,\n",
    "            facets,\n",
    "            )\n",
    "    else:\n",
    "        dofs = fem.locate_dofs_geometrical(space, marker=combined_marker)\n",
    "\n",
    "    bc = all_dirichlet(dofs, func)\n",
    "\n",
    "    return bc\n",
    "\n",
    "\n",
    "# Post processing:\n",
    "def errors_L(uS, uEx):\n",
    "    \"\"\"Compute error norm on boundary\n",
    "\n",
    "    Args:\n",
    "        uS (Function): Numeric solution\n",
    "        uEx (Function): Exact or model solution\n",
    "\n",
    "    Returns:\n",
    "        List: L1 and L2 norms\n",
    "    \"\"\"\n",
    "    domain = uS.function_space.mesh\n",
    "\n",
    "    V_err = FunctionSpace(\n",
    "        domain,\n",
    "        ('CG', uS.function_space.element.space_dimension),\n",
    "        )\n",
    "    uEx = Function(V_err, uEx)\n",
    "    L1_scalar = fem.assemble_scalar(form((uS-uEx) * dx))\n",
    "    L2_scalar = fem.assemble_scalar(form((uS - uEx)**2 * dx))\n",
    "\n",
    "    L1_err = np.abs(domain.comm.allreduce(L1_scalar, op=MPI.SUM))\n",
    "    L2_err = np.sqrt(domain.comm.allreduce(L2_scalar, op=MPI.SUM))\n",
    "    return (L1_err, L2_err)\n",
    "\n",
    "\n",
    "def line_collision(domain, line_cord):\n",
    "    \"\"\"Generate points and cells of colliding domain and line\n",
    "\n",
    "    Args:\n",
    "        domain (mesh): Domain\n",
    "        line_cord (array): 3D line contervertor of coordinates \n",
    "\n",
    "    Returns:\n",
    "        Tuple: Collision points and collision cells\n",
    "    \"\"\"\n",
    "    bb_tree = dolfinx.geometry.BoundingBoxTree(domain, domain.topology.dim)\n",
    "\n",
    "    cells_on_line = []\n",
    "    points_on_line = []\n",
    "    cell_candidates = dolfinx.geometry.compute_collisions(bb_tree, line_cord.T)\n",
    "    colliding_cells = dolfinx.geometry.compute_colliding_cells(\n",
    "        domain, cell_candidates, line_cord.T\n",
    "        )\n",
    "    for i, point in enumerate(line_cord.T):\n",
    "        if len(colliding_cells.links(i)) > 0:\n",
    "            points_on_line.append(point)\n",
    "            cells_on_line.append(colliding_cells.links(i)[0])\n",
    "\n",
    "    points_on_line = np.array(points_on_line, dtype=np.float64)\n",
    "\n",
    "    return (points_on_line, cells_on_line)\n",
    "\n",
    "\n",
    "def graph2D(fig, lists, natural_show=False, points_on=False):\n",
    "    \"\"\"Create graph from fem.Function\n",
    "\n",
    "    Args:\n",
    "        fig (plt.Figure): Figure\n",
    "        lists (fem.Function , plt.Axes, str): List of (u, curent axes, title)\n",
    "        method (bool): Graph method True = tripcolor, False = tricontourf\n",
    "    \"\"\"\n",
    "\n",
    "    def data_construct(dofs, x_array):\n",
    "        data = np.column_stack((dofs[:, 0:2], x_array))\n",
    "        x_data = data[:, 0]\n",
    "        y_data = data[:, 1]\n",
    "        z_data = data[:, 2]\n",
    "        return [x_data, y_data, z_data]\n",
    "\n",
    "    for list in lists:\n",
    "        fig, ax = plt.subplots()\n",
    "        plt.close()\n",
    "        u, ax, title = list\n",
    "        dofs = u.function_space.tabulate_dof_coordinates()\n",
    "        ax.set_title(title)\n",
    "        data = data_construct(dofs, u.x.array)\n",
    "\n",
    "        if points_on: ax.plot(data[0], data[1], 'o', markersize=2, color='grey')\n",
    "\n",
    "        if natural_show:\n",
    "            plot = ax.tripcolor(*data)\n",
    "        else:\n",
    "            try:\n",
    "                levels = np.linspace(u.x.array.min(), u.x.array.max(), 10)\n",
    "                plot = ax.tricontourf(\n",
    "                    *data,\n",
    "                    levels=levels,\n",
    "                    )\n",
    "            except:\n",
    "                print(f'{title} - error')\n",
    "\n",
    "        ax.set_aspect(1)\n",
    "        fig.colorbar(plot, ax=ax)\n",
    "    return"
   ]
  },
  {
   "cell_type": "code",
   "execution_count": 2,
   "metadata": {},
   "outputs": [],
   "source": [
    "L = 1\n",
    "W = 0.2\n",
    "domain = mesh.create_box(\n",
    "    MPI.COMM_WORLD,\n",
    "    [np.array([0, 0, 0]), np.array([L, W, W])],\n",
    "    [10, 3, 3],\n",
    "    cell_type=mesh.CellType.hexahedron,\n",
    "    )\n",
    "create_connectivity(domain=domain)\n",
    "V = VectorFunctionSpace(domain, ('CG', 1))\n",
    "\n",
    "u, v = TrialFunction(V), TestFunction(V)\n",
    "x, y, z = SpatialCoordinate(V)\n",
    "ds = ufl.Measure(\"ds\", domain=domain)\n",
    "dx = ufl.Measure('cell', subdomain_id='everywhere')\n",
    "\n",
    "delta = 0.4 * (W / L)**2\n",
    "lamb = 1.25\n",
    "mu = 1\n",
    "rho = 2\n",
    "eT = vector(0, 0.01, -0.02)\n",
    "euD1 = vector(0, 0, 0)\n",
    "euD2 = vector(0, 0, -0.2)\n",
    "ef = vector(0, 0, -rho * delta)\n",
    "epsilon = lambda u: sym(grad(u))\n",
    "sigma = lambda u: lamb * div(u) * I(u) + 2 * mu * epsilon(u)\n",
    "\n",
    "T = Constant(V, eT)\n",
    "uD1 = Constant(V, (0, 0, 0))\n",
    "uD2 = Constant(V, euD2)\n",
    "f = Constant(V, ef)\n",
    "\n",
    "bcs = [\n",
    "    DirichletBC(V, uD1, lambda x: np.isclose(x[0], 0)),\n",
    "    DirichletBC(V, uD2, lambda x: np.isclose(x[0], 1)),\n",
    "    ]\n",
    "\n",
    "\n",
    "F = (sigma(u)|inner|epsilon(v)) * dx - (f|dot|v) * dx - (T|dot|v) * ds"
   ]
  },
  {
   "cell_type": "code",
   "execution_count": 3,
   "metadata": {},
   "outputs": [],
   "source": [
    "problem = LinearProblem(\n",
    "    lhs(F),\n",
    "    rhs(F),\n",
    "    bcs=bcs,\n",
    "    petsc_options={\n",
    "        \"ksp_type\": \"preonly\", \"pc_type\": \"lu\"\n",
    "        },\n",
    "    )\n",
    "uS = problem.solve()"
   ]
  },
  {
   "cell_type": "code",
   "execution_count": 4,
   "metadata": {},
   "outputs": [],
   "source": [
    "s = sigma(uS) - 1 / 3 * tr(sigma(uS)) * I(uS)\n",
    "estress = sqrt(3 / 2 * s**2)\n",
    "\n",
    "V_von = FunctionSpace(domain, ('CG', 1))\n",
    "stress = Function(V_von, estress)"
   ]
  },
  {
   "cell_type": "code",
   "execution_count": 5,
   "metadata": {},
   "outputs": [],
   "source": [
    "with io.VTKFile (\n",
    "    domain.comm,\n",
    "    '/home/VTK/Elasticity_files/elasticity.pvd',\n",
    "    'w'\n",
    ") as file:\n",
    "    # file.write_mesh(domain)\n",
    "    uS.name = 'Deformation'\n",
    "    stress.name = 'Stress von Mises'\n",
    "    # Tf.name = 'External power'\n",
    "    file.write_function([uS,stress])"
   ]
  },
  {
   "cell_type": "markdown",
   "metadata": {},
   "source": [
    "# Vector function problem"
   ]
  },
  {
   "cell_type": "code",
   "execution_count": 6,
   "metadata": {},
   "outputs": [],
   "source": [
    "    cord = SpatialCoordinate(V)\n",
    "    if len(cord) == 1:\n",
    "        x_cargo = cord[0] - cord[0]\n",
    "    else:\n",
    "        x_cargo = vector(*cord) - vector(*cord)"
   ]
  },
  {
   "cell_type": "code",
   "execution_count": 7,
   "metadata": {},
   "outputs": [
    {
     "name": "stdout",
     "output_type": "stream",
     "text": [
      "[0. 0. 0. 0. 0. 0. 0. 0. 0. 0. 0. 0. 0. 0. 0. 0. 0. 0. 0. 0. 0. 0. 0. 0.\n",
      " 0. 0. 0. 0. 0. 0. 0. 0. 0. 0. 0. 0. 0. 0. 0. 0. 0. 0. 0. 0. 0. 0. 0. 0.\n",
      " 0. 0. 0. 0. 0. 0. 0. 0. 0. 0. 0. 0. 0. 0. 0. 0. 0. 0. 0. 0. 0. 0. 0. 0.\n",
      " 0. 0. 0. 0. 0. 0. 0. 0. 0. 0. 0. 0. 0. 0. 0. 0. 0. 0. 0. 0. 0. 0. 0. 0.\n",
      " 0. 0. 0. 0. 0. 0. 0. 0. 0. 0. 0. 0. 0. 0. 0. 0. 0. 0. 0. 0. 0. 0. 0. 0.\n",
      " 0. 0. 0. 0. 0. 0. 0. 0. 0. 0. 0. 0. 0. 0. 0. 0. 0. 0. 0. 0. 0. 0. 0. 0.\n",
      " 0. 0. 0. 0. 0. 0. 0. 0. 0. 0. 0. 0. 0. 0. 0. 0. 0. 0. 0. 0. 0. 0. 0. 0.\n",
      " 0. 0. 0. 0. 0. 0. 0. 0. 0. 0. 0. 0. 0. 0. 0. 0. 0. 0. 0. 0. 0. 0. 0. 0.\n",
      " 0. 0. 0. 0. 0. 0. 0. 0. 0. 0. 0. 0. 0. 0. 0. 0. 0. 0. 0. 0. 0. 0. 0. 0.\n",
      " 0. 0. 0. 0. 0. 0. 0. 0. 0. 0. 0. 0. 0. 0. 0. 0. 0. 0. 0. 0. 0. 0. 0. 0.\n",
      " 0. 0. 0. 0. 0. 0. 0. 0. 0. 0. 0. 0. 0. 0. 0. 0. 0. 0. 0. 0. 0. 0. 0. 0.\n",
      " 0. 0. 0. 0. 0. 0. 0. 0. 0. 0. 0. 0. 0. 0. 0. 0. 0. 0. 0. 0. 0. 0. 0. 0.\n",
      " 0. 0. 0. 0. 0. 0. 0. 0. 0. 0. 0. 0. 0. 0. 0. 0. 0. 0. 0. 0. 0. 0. 0. 0.\n",
      " 0. 0. 0. 0. 0. 0. 0. 0. 0. 0. 0. 0. 0. 0. 0. 0. 0. 0. 0. 0. 0. 0. 0. 0.\n",
      " 0. 0. 0. 0. 0. 0. 0. 0. 0. 0. 0. 0. 0. 0. 0. 0. 0. 0. 0. 0. 0. 0. 0. 0.\n",
      " 0. 0. 0. 0. 0. 0. 0. 0. 0. 0. 0. 0. 0. 0. 0. 0. 0. 0. 0. 0. 0. 0. 0. 0.\n",
      " 0. 0. 0. 0. 0. 0. 0. 0. 0. 0. 0. 0. 0. 0. 0. 0. 0. 0. 0. 0. 0. 0. 0. 0.\n",
      " 0. 0. 0. 0. 0. 0. 0. 0. 0. 0. 0. 0. 0. 0. 0. 0. 0. 0. 0. 0. 0. 0. 0. 0.\n",
      " 0. 0. 0. 0. 0. 0. 0. 0. 0. 0. 0. 0. 0. 0. 0. 0. 0. 0. 0. 0. 0. 0. 0. 0.\n",
      " 0. 0. 0. 0. 0. 0. 0. 0. 0. 0. 0. 0. 0. 0. 0. 0. 0. 0. 0. 0. 0. 0. 0. 0.\n",
      " 0. 0. 0. 0. 0. 0. 0. 0. 0. 0. 0. 0. 0. 0. 0. 0. 0. 0. 0. 0. 0. 0. 0. 0.\n",
      " 0. 0. 0. 0. 0. 0. 0. 0. 0. 0. 0. 0. 0. 0. 0. 0. 0. 0. 0. 0. 0. 0. 0. 0.]\n"
     ]
    }
   ],
   "source": [
    "print(\n",
    "Function(\n",
    "    V,\n",
    "    vector(*f.value)-vector(*f.value)+ x_cargo,\n",
    "    ).x.array\n",
    ")"
   ]
  },
  {
   "cell_type": "code",
   "execution_count": 8,
   "metadata": {},
   "outputs": [
    {
     "data": {
      "text/plain": [
       "ListTensor(Zero((), (), ()), Zero((), (), ()), FloatValue(-0.03200000000000001))"
      ]
     },
     "execution_count": 8,
     "metadata": {},
     "output_type": "execute_result"
    }
   ],
   "source": [
    "vector(*f.value)"
   ]
  },
  {
   "cell_type": "code",
   "execution_count": 15,
   "metadata": {},
   "outputs": [],
   "source": [
    "def Function1(space, func=None):\n",
    "    \"\"\"Function on new space. Without func just create a Function on space. \n",
    "    \\nScalars - UFL_function, fem.Function, callable function, fem.Constant, constant\n",
    "    \\nVectors - UFL_vector, callable function which returns list of elements,\n",
    "    Args:\n",
    "        space (FunctionSpace): New space\n",
    "        function (): \n",
    "\n",
    "    Returns:\n",
    "        fem.Function: Function\n",
    "    \"\"\"\n",
    "\n",
    "    result = fem.Function(space)\n",
    "    tupe = str(func.__class__)[8:-2]\n",
    "    cord = SpatialCoordinate(space)\n",
    "    cargo_vector = vector(*map(lambda x, y: x - y, cord, cord))\n",
    "\n",
    "    # None\n",
    "    if func == None:\n",
    "        return result\n",
    "\n",
    "    # fem.Function\n",
    "    elif tupe == ('dolfinx.fem.function.Function'):\n",
    "        expression = func\n",
    "\n",
    "    # fem.Constant\n",
    "    elif tupe == ('dolfinx.fem.function.Constant'):\n",
    "        if len(func.ufl_shape) == 0 : func2 = func.value + (cord[0] - cord[0])\n",
    "        else: func2 = vector(*func.value) + cargo_vector\n",
    "        expression = fem.Expression(func2, space.element.interpolation_points())\n",
    "\n",
    "    # ufl object\n",
    "    elif tupe[:3] == 'ufl':\n",
    "        if len(func.ufl_shape) !=0: func2 = func + cargo_vector\n",
    "        else: func2 = func\n",
    "        expression = fem.Expression(func2, space.element.interpolation_points())\n",
    "\n",
    "    # Python function\n",
    "    elif tupe == ('function'): expression = func\n",
    " \n",
    "    # Number\n",
    "    elif not hasattr(func, '__call__'):\n",
    "        if hasattr(func,'__getitem__'): func2 =  vector(*func) + cargo_vector\n",
    "        else: func2 = func + (cord[0] - cord[0])\n",
    "        expression = fem.Expression(func2, space.element.interpolation_points())\n",
    "\n",
    "\n",
    "    result.interpolate(expression)\n",
    "    return result"
   ]
  },
  {
   "cell_type": "code",
   "execution_count": 10,
   "metadata": {},
   "outputs": [
    {
     "name": "stdout",
     "output_type": "stream",
     "text": [
      "0 0 0\n"
     ]
    }
   ],
   "source": [
    "a = [1,2,3]\n",
    "b = [1,2,3]\n",
    "print(*map(lambda x,y: x-y,a,b))"
   ]
  },
  {
   "cell_type": "code",
   "execution_count": 11,
   "metadata": {},
   "outputs": [],
   "source": [
    "Function(\n",
    "    V,\n",
    "    vector(*T.value) + vector(\n",
    "        *map(\n",
    "            lambda x, y: x - y,\n",
    "            SpatialCoordinate(V),\n",
    "            SpatialCoordinate(V),\n",
    "            )\n",
    "        ),\n",
    "    ).x.array;"
   ]
  },
  {
   "cell_type": "code",
   "execution_count": 12,
   "metadata": {},
   "outputs": [],
   "source": [
    "f3_compar = Function(V, vector(x - x, 0, 0))\n",
    "f3_compar.name = 'f3 comp'\n",
    "\n",
    "f6_func = lambda x: (x[0], x[1], x[0] * 0+1)\n",
    "\n",
    "f1 = Function1(V, uS)\n",
    "f2 = Function1(V, T)\n",
    "f3 = Function1(V, vector(0, 0, 0))\n",
    "f4 = Function1(V, vector(1, 2, 0))\n",
    "f5 = Function1(V, vector(x, y, 1))\n",
    "f6 = Function1(V, f6_func)\n",
    "f7 = Function1(V, (1, 3, 4))\n",
    "\n",
    "f_list = [f1, f2, f3, f4, f5, f6, f7]\n",
    "count = 1\n",
    "for i in f_list:\n",
    "    i.name = f'f{count}'\n",
    "    count += 1"
   ]
  },
  {
   "cell_type": "code",
   "execution_count": 16,
   "metadata": {},
   "outputs": [],
   "source": [
    "const = Constant(V_von, 6)\n",
    "t6_func = lambda x: x[0] + x[1]\n",
    "\n",
    "t1 = Function1(V_von, stress)\n",
    "t2 = Function1(V_von, const)\n",
    "t3 = Function1(V_von, 0)\n",
    "t4 = Function1(V_von, x)\n",
    "t5 = Function1(V_von, x + y)\n",
    "t6 = Function1(V_von, t6_func)\n",
    "t7 = Function1(V_von, t6 - t5)\n",
    "\n",
    "t_list = [t1, t2, t3, t4, t5, t6, t7]\n",
    "count = 1\n",
    "for i in t_list:\n",
    "    i.name = f't{count}'\n",
    "    count += 1"
   ]
  },
  {
   "cell_type": "code",
   "execution_count": 17,
   "metadata": {},
   "outputs": [],
   "source": [
    "import shutil\n",
    "try:\n",
    "    shutil.rmtree('/home/VTK/Elasticity_files')\n",
    "except:\n",
    "    print('Directory empty yet')"
   ]
  },
  {
   "cell_type": "code",
   "execution_count": 18,
   "metadata": {},
   "outputs": [],
   "source": [
    "with io.VTKFile (\n",
    "    domain.comm,\n",
    "    '/home/VTK/Elasticity_files/test.pvd',\n",
    "    'w'\n",
    ") as file:\n",
    "    file.write_function([f3_compar,*f_list,*t_list])"
   ]
  },
  {
   "cell_type": "code",
   "execution_count": null,
   "metadata": {},
   "outputs": [
    {
     "name": "stdout",
     "output_type": "stream",
     "text": [
      "<class 'ufl.constantvalue.Zero'> <class 'ufl.tensors.ListTensor'> <class 'ufl.tensors.ListTensor'> <class 'ufl.tensors.ListTensor'> <class 'ufl.algebra.Sum'>\n"
     ]
    }
   ],
   "source": [
    "a0 = x+y\n",
    "a =vector(0,0,0)\n",
    "b = vector(1,0,0)\n",
    "c= vector(x,2,y)\n",
    "d=vector(x-x,0,0)\n",
    "print(type(a),type(b),type(c),type(d),type(a0))"
   ]
  },
  {
   "cell_type": "code",
   "execution_count": null,
   "metadata": {},
   "outputs": [
    {
     "data": {
      "text/plain": [
       "()"
      ]
     },
     "execution_count": 116,
     "metadata": {},
     "output_type": "execute_result"
    }
   ],
   "source": [
    "a0.ufl_shape"
   ]
  },
  {
   "cell_type": "code",
   "execution_count": null,
   "metadata": {},
   "outputs": [
    {
     "name": "stdout",
     "output_type": "stream",
     "text": [
      "0 (shape (3,)) \n",
      " [1, 0, 0] \n",
      " [x[0], 2, x[1]] \n",
      " [x[0] + -1 * x[0], 0, 0]\n"
     ]
    }
   ],
   "source": [
    "print(a,'\\n',b,'\\n',c,'\\n',d)"
   ]
  },
  {
   "cell_type": "code",
   "execution_count": null,
   "metadata": {},
   "outputs": [
    {
     "data": {
      "text/plain": [
       "array([1., 0., 0., 1., 0., 0., 1., 0., 0., 1., 0., 0., 1., 0., 0., 1., 0.,\n",
       "       0., 1., 0., 0., 1., 0., 0., 1., 0., 0., 1., 0., 0., 1., 0., 0., 1.,\n",
       "       0., 0., 1., 0., 0., 1., 0., 0., 1., 0., 0., 1., 0., 0., 1., 0., 0.,\n",
       "       1., 0., 0., 1., 0., 0., 1., 0., 0., 1., 0., 0., 1., 0., 0., 1., 0.,\n",
       "       0., 1., 0., 0., 1., 0., 0., 1., 0., 0., 1., 0., 0., 1., 0., 0., 1.,\n",
       "       0., 0., 1., 0., 0., 1., 0., 0., 1., 0., 0., 1., 0., 0., 1., 0., 0.,\n",
       "       1., 0., 0., 1., 0., 0., 1., 0., 0., 1., 0., 0., 1., 0., 0., 1., 0.,\n",
       "       0., 1., 0., 0., 1., 0., 0., 1., 0., 0., 1., 0., 0., 1., 0., 0., 1.,\n",
       "       0., 0., 1., 0., 0., 1., 0., 0., 1., 0., 0., 1., 0., 0., 1., 0., 0.,\n",
       "       1., 0., 0., 1., 0., 0., 1., 0., 0.])"
      ]
     },
     "execution_count": 15,
     "metadata": {},
     "output_type": "execute_result"
    }
   ],
   "source": [
    "# fem.Expression(a+d, V.element.interpolation_points())\n",
    "f1 = Function1(V, b+d)\n",
    "f1.x.array"
   ]
  },
  {
   "cell_type": "code",
   "execution_count": null,
   "metadata": {},
   "outputs": [
    {
     "name": "stdout",
     "output_type": "stream",
     "text": [
      "[4.68880007e-310 6.92031841e-310 1.58101007e-322]\n"
     ]
    }
   ],
   "source": [
    "e1 = Constant(V,(0.,0,0)).value\n",
    "print(e1)\n",
    "e2= vector(*e1)\n"
   ]
  },
  {
   "cell_type": "markdown",
   "metadata": {},
   "source": [
    "# Problem with div grad"
   ]
  },
  {
   "cell_type": "code",
   "execution_count": null,
   "metadata": {},
   "outputs": [
    {
     "data": {
      "text/plain": [
       "array([ 0.13520928, -0.30563969,  1.07687124, -0.1933472 ,  0.15846901,\n",
       "       -0.26971689,  0.19162666, -0.2967705 ,  1.07816788, -0.33369451,\n",
       "        0.1892422 , -0.25361774, -0.11085528, -0.30434304,  1.07059534,\n",
       "        0.20992064,  0.16693495, -0.27592499, -0.05613061, -0.30434304,\n",
       "        1.07816788,  0.07140286,  0.17244426, -0.25574164,  0.20465949,\n",
       "       -0.2967705 ,  1.07059534, -0.3963923 ,  0.1892422 , -0.27592499,\n",
       "       -0.04034312, -0.30434304,  1.07687124,  0.0046927 ,  0.17244426,\n",
       "       -0.26971689, -0.20465949, -0.2967705 ,  1.07059534,  0.3963923 ,\n",
       "        0.1892422 , -0.27592499, -0.15099677, -0.30563969,  1.07816788,\n",
       "        0.26005736,  0.15846901, -0.25574164, -0.03776398,  0.24202746,\n",
       "       -0.50166298, -0.03892628,  0.18147657, -0.52083004,  0.00955219,\n",
       "        0.22761762, -0.47468899,  0.0107145 ,  0.22510218, -0.51858826,\n",
       "       -0.13520928, -0.30563969,  1.07687124,  0.1933472 ,  0.15846901,\n",
       "       -0.26971689, -0.03776398,  0.18147657, -0.47468899,  0.00955219,\n",
       "        0.22510218, -0.50166298,  0.03776398,  0.18147657, -0.47468899,\n",
       "        0.03892628,  0.24202746, -0.51858826,  0.04218708,  0.04102999,\n",
       "       -0.29422725,  0.18323451,  0.04786533, -0.30079969, -0.15391817,\n",
       "        0.04386399, -0.30480103, -0.0161005 ,  0.03669933, -0.2985579 ,\n",
       "        0.03776398,  0.24202746, -0.50166298,  0.24523218,  0.04786533,\n",
       "       -0.30480103,  0.05130977,  0.03669933, -0.29422725, -0.24523218,\n",
       "        0.04786533, -0.30480103, -0.10959735,  0.04102999, -0.2985579 ,\n",
       "        0.05371481, -0.27967648,  0.28758694, -0.00224037, -0.26509306,\n",
       "        0.29569486,  0.04530061, -0.27735298,  0.28343494, -0.00988626,\n",
       "       -0.27369245,  0.29357097, -0.04218708,  0.04102999, -0.29422725,\n",
       "       -0.0157354 , -0.26509306,  0.28343494, -0.02521155, -0.27369245,\n",
       "        0.28758694,  0.0157354 , -0.26509306,  0.28343494, -0.03838951,\n",
       "       -0.27967648,  0.29357097,  0.05371481, -0.31032707,  0.23058043,\n",
       "       -0.00224037, -0.29208312,  0.23656446,  0.04530061, -0.30434304,\n",
       "        0.22430454, -0.00988626, -0.30434304,  0.23656446, -0.05371481,\n",
       "       -0.27967648,  0.28758694, -0.0157354 , -0.29208312,  0.22430454,\n",
       "       -0.02521155, -0.30434304,  0.23058043,  0.0157354 , -0.29208312,\n",
       "        0.22430454, -0.03838951, -0.31032707,  0.23656446, -0.05371481,\n",
       "       -0.31032707,  0.23058043])"
      ]
     },
     "execution_count": 19,
     "metadata": {},
     "output_type": "execute_result"
    }
   ],
   "source": [
    "testf2 = Function(V, div(sym(grad(uS))))\n",
    "testf2.x.array"
   ]
  },
  {
   "cell_type": "code",
   "execution_count": null,
   "metadata": {},
   "outputs": [
    {
     "data": {
      "text/plain": [
       "array([0., 0., 0., 0., 0., 0., 0., 0., 0., 0., 0., 0., 0., 0., 0., 0., 0.,\n",
       "       0., 0., 0., 0., 0., 0., 0., 0., 0., 0., 0., 0., 0., 0., 0., 0., 0.,\n",
       "       0., 0., 0., 0., 0., 0., 0., 0., 0., 0., 0., 0., 0., 0., 0., 0., 0.,\n",
       "       0., 0., 0., 0., 0., 0., 0., 0., 0., 0., 0., 0., 0., 0., 0., 0., 0.,\n",
       "       0., 0., 0., 0., 0., 0., 0., 0., 0., 0., 0., 0., 0., 0., 0., 0., 0.,\n",
       "       0., 0., 0., 0., 0., 0., 0., 0., 0., 0., 0., 0., 0., 0., 0., 0., 0.,\n",
       "       0., 0., 0., 0., 0., 0., 0., 0., 0., 0., 0., 0., 0., 0., 0., 0., 0.,\n",
       "       0., 0., 0., 0., 0., 0., 0., 0., 0., 0., 0., 0., 0., 0., 0., 0., 0.,\n",
       "       0., 0., 0., 0., 0., 0., 0., 0., 0., 0., 0., 0., 0., 0., 0., 0., 0.,\n",
       "       0., 0., 0., 0., 0., 0., 0., 0., 0.])"
      ]
     },
     "execution_count": 20,
     "metadata": {},
     "output_type": "execute_result"
    }
   ],
   "source": [
    "testf3 = Function(V, div(grad(uS)))\n",
    "testf3.x.array"
   ]
  },
  {
   "cell_type": "code",
   "execution_count": null,
   "metadata": {},
   "outputs": [
    {
     "data": {
      "text/plain": [
       "ufl.tensoralgebra.Sym"
      ]
     },
     "execution_count": 21,
     "metadata": {},
     "output_type": "execute_result"
    }
   ],
   "source": [
    "type(sym(grad(uS)))\n"
   ]
  },
  {
   "cell_type": "code",
   "execution_count": null,
   "metadata": {},
   "outputs": [
    {
     "data": {
      "text/plain": [
       "ufl.differentiation.NablaGrad"
      ]
     },
     "execution_count": 22,
     "metadata": {},
     "output_type": "execute_result"
    }
   ],
   "source": [
    "type(grad(uS))"
   ]
  }
 ],
 "metadata": {
  "kernelspec": {
   "display_name": "Python 3.10.4 64-bit",
   "language": "python",
   "name": "python3"
  },
  "language_info": {
   "codemirror_mode": {
    "name": "ipython",
    "version": 3
   },
   "file_extension": ".py",
   "mimetype": "text/x-python",
   "name": "python",
   "nbconvert_exporter": "python",
   "pygments_lexer": "ipython3",
   "version": "3.10.4"
  },
  "orig_nbformat": 4,
  "vscode": {
   "interpreter": {
    "hash": "916dbcbb3f70747c44a77c7bcd40155683ae19c65e1c03b4aa3499c5328201f1"
   }
  }
 },
 "nbformat": 4,
 "nbformat_minor": 2
}
