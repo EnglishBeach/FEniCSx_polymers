{
 "cells": [
  {
   "cell_type": "code",
   "execution_count": 1,
   "metadata": {},
   "outputs": [],
   "source": [
    "import ufl\n",
    "from ufl import  TrialFunction, TestFunction, FacetNormal, lhs, rhs,SpatialCoordinate\n",
    "\n",
    "import dolfinx\n",
    "from dolfinx import mesh, fem, io\n",
    "from dolfinx.fem import FunctionSpace, VectorFunctionSpace, locate_dofs_geometrical, form\n",
    "from dolfinx.fem.petsc import LinearProblem\n",
    "\n",
    "from mpi4py import MPI\n",
    "import petsc4py.PETSc\n",
    "import numpy as np\n",
    "import matplotlib.pyplot as plt\n",
    "\n",
    "\n",
    "# Operators:\n",
    "class Infix:\n",
    "\n",
    "    def __init__(self, function):\n",
    "        self.function = function\n",
    "\n",
    "    def __ror__(self, other):\n",
    "        return Infix(lambda x, self=self, other=other: self.function(other, x))\n",
    "\n",
    "    def __or__(self, other):\n",
    "        return self.function(other)\n",
    "\n",
    "    def __call__(self, value1, value2):\n",
    "        return self.function(value1, value2)\n",
    "\n",
    "\n",
    "dot = Infix(ufl.inner)\n",
    "from ufl import dx, ds, exp\n",
    "from ufl import nabla_div as div\n",
    "from ufl import nabla_grad as grad\n",
    "\n",
    "npor = Infix(np.logical_or)\n",
    "npand = Infix(np.logical_and)\n",
    "\n",
    "# Classes:\n",
    "\n",
    "\n",
    "def Function(space, func=None):\n",
    "    \"\"\"Function on new space. Default create just Function on space\n",
    "\n",
    "    Args:\n",
    "        space (FunctionSpace): New space\n",
    "        function (): Ufl_function, fem.Function, callable function, fem.Constant, constant\n",
    "\n",
    "    Returns:\n",
    "        fem.Function: Function\n",
    "    \"\"\"\n",
    "    if func == None: return fem.Function(space)\n",
    "\n",
    "    result = fem.Function(space)\n",
    "    \n",
    "    if not callable(func):\n",
    "        expression = lambda x: x[0] * 0 + func\n",
    "        \n",
    "    elif hasattr(func, 'function_space'):\n",
    "        expression = func\n",
    "\n",
    "    elif hasattr(func, 'value'):\n",
    "        expression = lambda x: x[0] * 0 + func.value\n",
    "\n",
    "    elif hasattr(func, 'ufl_domain'):\n",
    "        expression = fem.Expression(func, space.element.interpolation_points())\n",
    "    else:\n",
    "        expression = func\n",
    "        \n",
    "    result.interpolate(expression)\n",
    "    return result\n",
    "\n",
    "\n",
    "def Constant(space, const):\n",
    "    \"\"\"Constant on space\n",
    "\n",
    "    Args:\n",
    "        space (fem.FunctionSpace): Space\n",
    "        const (auny number): Any number\n",
    "\n",
    "    Returns:\n",
    "        fem.function.Constant: Constant on space\n",
    "    \"\"\"\n",
    "    return fem.Constant(space, petsc4py.PETSc.ScalarType(const))\n",
    "\n",
    "\n",
    "def create_facet_markers(domain, bound_markers):\n",
    "    \"\"\"Mark facets under conditious\n",
    "\n",
    "    Args:\n",
    "        domain (Domain): Domain\n",
    "        bound_markers (mark,python_function): List of mark and function\n",
    "    \n",
    "    Return:\n",
    "        tags(mesh.meshtags): Marked facets\n",
    "    \"\"\"\n",
    "    facet_indices, facet_markers = [], []\n",
    "    for (marker, condition) in bound_markers:\n",
    "        facets = mesh.locate_entities(\n",
    "            domain,\n",
    "            domain.topology.dim - 1,\n",
    "            condition,\n",
    "            )\n",
    "        facet_indices.append(facets)\n",
    "        facet_markers.append(np.full_like(facets, marker))\n",
    "    facet_indices = np.hstack(facet_indices).astype(np.int32)\n",
    "    facet_markers = np.hstack(facet_markers).astype(np.int32)\n",
    "    sorted_facets = np.argsort(facet_indices)\n",
    "    facet_tags = mesh.meshtags(\n",
    "        domain,\n",
    "        domain.topology.dim - 1,\n",
    "        facet_indices[sorted_facets],\n",
    "        facet_markers[sorted_facets],\n",
    "        )\n",
    "\n",
    "    return facet_tags\n",
    "\n",
    "\n",
    "def create_connectivity(domain):\n",
    "    \"\"\"Need to compute facets to Boundary value\n",
    "\n",
    "    Args:\n",
    "        domain (Mesh): Domain\n",
    "    \"\"\"\n",
    "    domain.topology.create_connectivity(\n",
    "        domain.topology.dim - 1,\n",
    "        domain.topology.dim,\n",
    "        )\n",
    "\n",
    "\n",
    "def DirichletBC(space, func, combined_marker):\n",
    "    \"\"\"Create Dirichlet condition\n",
    "\n",
    "    Args:\n",
    "        space (fem.FunctionSpace): Function space\n",
    "        func (fem.function): Function or Constant\n",
    "        combined_marker (Any): One from next\n",
    "        \\nFunction - boundary marker function\n",
    "        \\nAll - all boundary\n",
    "        \\n(mesh.meshtags, marker) - list or tuple, marker of boundary from Marked_facets - mesh.meshtags\n",
    "        \n",
    "    Returns:\n",
    "        condition (dirichletbc): Dirichlet condition\n",
    "    \"\"\"\n",
    "\n",
    "    def get_exterior_facets():\n",
    "        exterior_facets = mesh.exterior_facet_indices(domain.topology)\n",
    "        return exterior_facets\n",
    "\n",
    "    def all_dirichlet(dofs, func):\n",
    "        if hasattr(func, 'function_space'):\n",
    "            bc = fem.dirichletbc(dofs=dofs, value=func)\n",
    "        else:\n",
    "            bc = fem.dirichletbc(V=space, dofs=dofs, value=func)\n",
    "        return bc\n",
    "\n",
    "    domain = space.mesh\n",
    "\n",
    "    if combined_marker == 'All':\n",
    "        facets = get_exterior_facets()\n",
    "        dofs = fem.locate_dofs_topological(\n",
    "            space,\n",
    "            domain.topology.dim - 1,\n",
    "            facets,\n",
    "            )\n",
    "\n",
    "    elif type(combined_marker) == (tuple or list):\n",
    "        marked_facets, marker = combined_marker\n",
    "        facets = marked_facets.find(marker)\n",
    "        dofs = fem.locate_dofs_topological(\n",
    "            space,\n",
    "            domain.topology.dim - 1,\n",
    "            facets,\n",
    "            )\n",
    "    else:\n",
    "        dofs = fem.locate_dofs_geometrical(space, marker=combined_marker)\n",
    "\n",
    "    bc = all_dirichlet(dofs, func)\n",
    "\n",
    "    return bc\n",
    "\n",
    "\n",
    "# Post processing:\n",
    "def errors_L(uS, uEx):\n",
    "    \"\"\"Compute error norm on boundary\n",
    "\n",
    "    Args:\n",
    "        uS (Function): Numeric solution\n",
    "        uEx (Function): Exact or model solution\n",
    "\n",
    "    Returns:\n",
    "        List: L1 and L2 norms\n",
    "    \"\"\"\n",
    "    domain = uS.function_space.mesh\n",
    "\n",
    "    V_err = FunctionSpace(\n",
    "        domain,\n",
    "        ('CG', uS.function_space.element.space_dimension),\n",
    "        )\n",
    "    uEx = Function(V_err, uEx)\n",
    "    L1_scalar = fem.assemble_scalar(form((uS-uEx) * dx))\n",
    "    L2_scalar = fem.assemble_scalar(form((uS - uEx)**2 * dx))\n",
    "\n",
    "    L1_err = np.abs(domain.comm.allreduce(L1_scalar, op=MPI.SUM))\n",
    "    L2_err = np.sqrt(domain.comm.allreduce(L2_scalar, op=MPI.SUM))\n",
    "    return (L1_err, L2_err)\n",
    "\n",
    "\n",
    "def line_collision(domain, line_cord):\n",
    "    \"\"\"Generate points and cells of colliding domain and line\n",
    "\n",
    "    Args:\n",
    "        domain (mesh): Domain\n",
    "        line_cord (array): 3D line contervertor of coordinates \n",
    "\n",
    "    Returns:\n",
    "        Tuple: Collision points and collision cells\n",
    "    \"\"\"\n",
    "    bb_tree = dolfinx.geometry.BoundingBoxTree(domain, domain.topology.dim)\n",
    "\n",
    "    cells_on_line = []\n",
    "    points_on_line = []\n",
    "    cell_candidates = dolfinx.geometry.compute_collisions(bb_tree, line_cord.T)\n",
    "    colliding_cells = dolfinx.geometry.compute_colliding_cells(\n",
    "        domain, cell_candidates, line_cord.T\n",
    "        )\n",
    "    for i, point in enumerate(line_cord.T):\n",
    "        if len(colliding_cells.links(i)) > 0:\n",
    "            points_on_line.append(point)\n",
    "            cells_on_line.append(colliding_cells.links(i)[0])\n",
    "\n",
    "    points_on_line = np.array(points_on_line, dtype=np.float64)\n",
    "\n",
    "    return (points_on_line, cells_on_line)\n",
    "\n",
    "\n",
    "def graph2D(fig, lists, natural_show=False, points_on=False):\n",
    "    \"\"\"Create graph\n",
    "\n",
    "    Args:\n",
    "        fig (figure): Figure\n",
    "        lists (u , ax, title): List of arguments\n",
    "        method (bool): Graph method: True= tripcolor, False= tricontourf\n",
    "    \"\"\"\n",
    "\n",
    "    def data_construct(dofs, x_array):\n",
    "        data = np.column_stack((dofs[:, 0:2], x_array))\n",
    "        x_data = data[:, 0]\n",
    "        y_data = data[:, 1]\n",
    "        z_data = data[:, 2]\n",
    "        return [x_data, y_data, z_data]\n",
    "\n",
    "    for list in lists:\n",
    "        fig, ax = plt.subplots()\n",
    "        plt.close()\n",
    "        u, ax, title = list\n",
    "        dofs = u.function_space.tabulate_dof_coordinates()\n",
    "        ax.set_title(title)\n",
    "        data = data_construct(dofs, u.x.array)\n",
    "\n",
    "        if points_on: ax.plot(data[0], data[1], 'o', markersize=2, color='grey')\n",
    "\n",
    "        if natural_show:\n",
    "            plot = ax.tripcolor(*data)\n",
    "        else:\n",
    "            try:\n",
    "                levels = np.linspace(u.x.array.min(), u.x.array.max(), 10)\n",
    "                plot = ax.tricontourf(\n",
    "                    *data,\n",
    "                    levels=levels,\n",
    "                    )\n",
    "            except:\n",
    "                print(f'{title} - error')\n",
    "\n",
    "        ax.set_aspect(1)\n",
    "        fig.colorbar(plot, ax=ax)\n",
    "    return"
   ]
  },
  {
   "cell_type": "code",
   "execution_count": 2,
   "metadata": {},
   "outputs": [],
   "source": [
    "N = 20\n",
    "domain = mesh.create_unit_square(\n",
    "    MPI.COMM_WORLD,\n",
    "    N,\n",
    "    N,\n",
    "    # cell_type=mesh.CellType.quadrilateral,\n",
    "    )\n",
    "V = FunctionSpace(domain, ('CG', 1))\n",
    "x, y = SpatialCoordinate(V)\n",
    "n = FacetNormal(domain=domain)\n",
    "dx = ufl.Measure('cell', subdomain_id='everywhere')\n",
    "\n",
    "euEx =  1 + x**2 + 2 * y**2\n",
    "euD =  1 + x**2 + 2 * y**2\n",
    "es = x\n",
    "\n",
    "r = Constant(V, 1000)\n",
    "k = Constant(V, 1)\n",
    "\n",
    "g = -(n|dot|grad(euEx))\n",
    "f = -div(grad(euEx))\n",
    "# f= Constant(V,0)"
   ]
  },
  {
   "cell_type": "code",
   "execution_count": 3,
   "metadata": {},
   "outputs": [],
   "source": [
    "u, v = TrialFunction(V), TestFunction(V)\n",
    "uEx = Function(V, euEx)\n",
    "s = Function(V, uEx)\n",
    "uD = Function(V, euD)\n",
    "\n",
    "bound_markers = [\n",
    "    (1, lambda x: np.isclose(x[0], 0)),\n",
    "    (2, lambda x: np.isclose(x[0], 1)),\n",
    "    (3, lambda x: np.isclose(x[1], 0)),\n",
    "    (4, lambda x: np.isclose(x[1], 1)),\n",
    "    ]\n",
    "marked_facets = create_facet_markers(\n",
    "    domain=domain,\n",
    "    bound_markers=bound_markers,\n",
    "    )\n",
    "create_connectivity(domain=domain)\n",
    "ds = ufl.Measure('ds', domain=domain, subdomain_data=marked_facets)\n",
    "\n",
    "bcs = [\n",
    "    DirichletBC(V, uD, (marked_facets, 1)),\n",
    "    DirichletBC(V, uD, (marked_facets, 2)),\n",
    "     # DirichletBC(V, uD, (marked_facets, 3)),\n",
    "    ]\n",
    "\n",
    "F = k * (grad(u)|dot|grad(v)) * dx - f*v*dx +\\\n",
    "    g * v * ds(4) + r*(u-s)*v*ds(3)"
   ]
  },
  {
   "cell_type": "code",
   "execution_count": 4,
   "metadata": {},
   "outputs": [],
   "source": [
    "ufl_func = euEx\n",
    "func= uEx\n",
    "const = k\n",
    "pyfunc = lambda x: x[1]+x[0]\n",
    "pyconst = 6\n",
    "list_of_types = [ufl_func,func,const,pyfunc,pyconst]"
   ]
  },
  {
   "cell_type": "code",
   "execution_count": 5,
   "metadata": {},
   "outputs": [],
   "source": [
    "test1 = Function(V, lambda x: x[1]+x[0]**2)\n",
    "test2 = Function(V, y+x**2)\n",
    "test3 = Function(V,1)"
   ]
  },
  {
   "cell_type": "code",
   "execution_count": 6,
   "metadata": {},
   "outputs": [],
   "source": [
    "problem = LinearProblem(\n",
    "    lhs(F),\n",
    "    rhs(F),\n",
    "    bcs=bcs,\n",
    "    petsc_options={\n",
    "        \"ksp_type\": \"preonly\", \"pc_type\": \"lu\"\n",
    "        },\n",
    "    )\n",
    "uS = problem.solve()"
   ]
  },
  {
   "cell_type": "code",
   "execution_count": 7,
   "metadata": {},
   "outputs": [
    {
     "name": "stdout",
     "output_type": "stream",
     "text": [
      "True\n",
      "True\n",
      "True\n",
      "True\n",
      "False\n"
     ]
    }
   ],
   "source": [
    "for i in list_of_types:\n",
    "    print(\n",
    "        callable(i)\n",
    "    )\n"
   ]
  },
  {
   "cell_type": "markdown",
   "metadata": {},
   "source": [
    "# Div grad problem"
   ]
  },
  {
   "cell_type": "code",
   "execution_count": 8,
   "metadata": {},
   "outputs": [
    {
     "name": "stdout",
     "output_type": "stream",
     "text": [
      "[6. 6. 6. 6. 6. 6.] [6. 6. 6. 6. 6.]\n"
     ]
    }
   ],
   "source": [
    "f2 = Function(V,div(grad(euEx)))\n",
    "print(f2.x.array[0:6],f2.x.array[:-6:-1])"
   ]
  },
  {
   "cell_type": "code",
   "execution_count": 9,
   "metadata": {},
   "outputs": [
    {
     "name": "stdout",
     "output_type": "stream",
     "text": [
      "[1.85 0.1  1.95 0.1  1.95 0.3 ] [3.9  0.05 3.9  0.05 3.9 ]\n"
     ]
    }
   ],
   "source": [
    "V2= VectorFunctionSpace(domain,('CG',1))\n",
    "f31 = Function(V2,grad(uS))\n",
    "print(f31.x.array[0:6],f31.x.array[:-6:-1])"
   ]
  },
  {
   "cell_type": "code",
   "execution_count": 10,
   "metadata": {},
   "outputs": [
    {
     "name": "stdout",
     "output_type": "stream",
     "text": [
      "[6. 6. 6. 6. 6. 6.] [ 0.00000000e+00  0.00000000e+00  0.00000000e+00  2.00000000e+00\n",
      " -7.10681514e-13]\n"
     ]
    }
   ],
   "source": [
    "f32 = Function(V, div(f31))\n",
    "print(f32.x.array[0:6],f32.x.array[:-6:-1])"
   ]
  },
  {
   "cell_type": "code",
   "execution_count": 11,
   "metadata": {},
   "outputs": [
    {
     "name": "stdout",
     "output_type": "stream",
     "text": [
      "[0. 0. 0. 0. 0. 0.] [0. 0. 0. 0. 0.]\n"
     ]
    }
   ],
   "source": [
    "f4 = Function(V,div(grad(uS)))\n",
    "print(f4.x.array[0:6],f4.x.array[:-6:-1])"
   ]
  },
  {
   "cell_type": "code",
   "execution_count": null,
   "metadata": {},
   "outputs": [
    {
     "data": {
      "text/plain": [
       "FunctionSpace(Mesh(VectorElement(FiniteElement('Lagrange', triangle, 1), dim=2), 0), FiniteElement('Lagrange', triangle, 1))"
      ]
     },
     "execution_count": 21,
     "metadata": {},
     "output_type": "execute_result"
    }
   ],
   "source": [
    "V"
   ]
  },
  {
   "cell_type": "code",
   "execution_count": null,
   "metadata": {},
   "outputs": [
    {
     "name": "stdout",
     "output_type": "stream",
     "text": [
      "<class 'dolfinx.fem.function.Constant'> <class 'ufl.algebra.Product'> <class 'dolfinx.fem.function.Function'>\n"
     ]
    }
   ],
   "source": [
    "print(\n",
    "    type(k),\n",
    "    type(f),\n",
    "    type(uEx)\n",
    ")"
   ]
  },
  {
   "cell_type": "markdown",
   "metadata": {},
   "source": [
    "# Ends"
   ]
  },
  {
   "cell_type": "code",
   "execution_count": 15,
   "metadata": {},
   "outputs": [
    {
     "data": {
      "image/png": "[encoded data removed]",
      "text/plain": [
       "<Figure size 1008x1008 with 8 Axes>"
      ]
     },
     "metadata": {
      "needs_background": "light"
     },
     "output_type": "display_data"
    }
   ],
   "source": [
    "fig, ((ax, ax_donm),(ax_dif,ax2)) = plt.subplots(2, 2)\n",
    "fig.set_size_inches(14, 14)\n",
    "\n",
    "lis = [\n",
    "    [uS, ax, 'Numerical'],\n",
    "    [Function(V,k), ax_donm, 'div grad euEx'],\n",
    "    [f32, ax_dif, 'div( grad uS)'],\n",
    "    [f4,ax2,'div grad uS']\n",
    "    ]\n",
    "\n",
    "graph2D(\n",
    "    fig=fig,\n",
    "    lists=lis,\n",
    "    natural_show=True,\n",
    "    points_on=True\n",
    "    )"
   ]
  },
  {
   "cell_type": "code",
   "execution_count": null,
   "metadata": {},
   "outputs": [],
   "source": [
    "with io.VTKFile (\n",
    "    domain.comm,\n",
    "    '3.4Poisson_Int_marker_Files/Poisson.pvd',\n",
    "    'w'\n",
    ") as file:\n",
    "    # file.write_mesh(domain)\n",
    "    uS.name = 'uS'\n",
    "    uEx.name = 'uEx'\n",
    "    f2.name = 'div grad euEx'\n",
    "    f31.name = 'grad uS'\n",
    "    f32.name = 'div( grad uS)'\n",
    "    f4.name = 'div grad uS'\n",
    "    file.write_function([uS,uEx,f2,f31,f32,f4])"
   ]
  }
 ],
 "metadata": {
  "kernelspec": {
   "display_name": "Python 3.10.4 64-bit",
   "language": "python",
   "name": "python3"
  },
  "language_info": {
   "codemirror_mode": {
    "name": "ipython",
    "version": 3
   },
   "file_extension": ".py",
   "mimetype": "text/x-python",
   "name": "python",
   "nbconvert_exporter": "python",
   "pygments_lexer": "ipython3",
   "version": "3.10.4"
  },
  "orig_nbformat": 4,
  "vscode": {
   "interpreter": {
    "hash": "916dbcbb3f70747c44a77c7bcd40155683ae19c65e1c03b4aa3499c5328201f1"
   }
  }
 },
 "nbformat": 4,
 "nbformat_minor": 2
}
