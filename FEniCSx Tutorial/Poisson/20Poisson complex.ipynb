{
 "cells": [
  {
   "cell_type": "code",
   "execution_count": 1,
   "metadata": {},
   "outputs": [],
   "source": [
    "# MESH is toolkit for facets and meshes\n",
    "# FEM is function toolkit\n",
    "# IO is file manager\n",
    "# PLOT is plot manager\n",
    "# MPI for multyprocessors operation\n",
    "# UFL is folrmula translator\n",
    "# PETS is linear algebra solver\n",
    "\n",
    "from dolfinx import mesh, fem, io, plot\n",
    "import ufl\n",
    "from mpi4py import MPI\n",
    "from petsc4py.PETSc import ScalarType\n",
    "import numpy as np\n",
    "import matplotlib.pyplot as plt\n",
    "\n",
    "\n",
    "class Infix:\n",
    "\n",
    "    def __init__(self, function):\n",
    "        self.function = function\n",
    "\n",
    "    def __ror__(self, other):\n",
    "        return Infix(lambda x, self=self, other=other: self.function(other, x))\n",
    "\n",
    "    def __or__(self, other):\n",
    "        return self.function(other)\n",
    "\n",
    "    def __call__(self, value1, value2):\n",
    "        return self.function(value1, value2)"
   ]
  },
  {
   "cell_type": "code",
   "execution_count": 2,
   "metadata": {},
   "outputs": [],
   "source": [
    "domain = mesh.create_unit_square(MPI.COMM_WORLD, 20, 20)\n",
    "\n",
    "domain.topology.create_connectivity(\n",
    "    domain.topology.dim - 1, domain.topology.dim\n",
    "    )     #Create definition of facets\n",
    "\n",
    "V = fem.FunctionSpace(domain, ('CG', 1))"
   ]
  },
  {
   "cell_type": "code",
   "execution_count": 3,
   "metadata": {},
   "outputs": [],
   "source": [
    "u_real = fem.Function(V, dtype=np.float64)\n",
    "u_comp = fem.Function(V,dtype=np.complex128)\n",
    "\n",
    "u_real.interpolate(lambda x: x[0])\n",
    "u_comp.interpolate(lambda x: 0.5*x[0]**2 + 1j*x[1]**2)"
   ]
  },
  {
   "cell_type": "code",
   "execution_count": 4,
   "metadata": {},
   "outputs": [
    {
     "name": "stdout",
     "output_type": "stream",
     "text": [
      "<class 'numpy.float64'>\n"
     ]
    },
    {
     "ename": "AssertionError",
     "evalue": "",
     "output_type": "error",
     "traceback": [
      "\u001b[0;31m---------------------------------------------------------------------------\u001b[0m",
      "\u001b[0;31mAssertionError\u001b[0m                            Traceback (most recent call last)",
      "\u001b[1;32m/home/FenicsX/My tasks/2Poisson complex.ipynb Ячейка 4\u001b[0m in \u001b[0;36m<cell line: 3>\u001b[0;34m()\u001b[0m\n\u001b[1;32m      <a href='vscode-notebook-cell://attached-container%2B7b22636f6e7461696e65724e616d65223a222f7465737431227d/home/FenicsX/My%20tasks/2Poisson%20complex.ipynb#W6sdnNjb2RlLXJlbW90ZQ%3D%3D?line=0'>1</a>\u001b[0m \u001b[39m# Checing of complex numbers\u001b[39;00m\n\u001b[1;32m      <a href='vscode-notebook-cell://attached-container%2B7b22636f6e7461696e65724e616d65223a222f7465737431227d/home/FenicsX/My%20tasks/2Poisson%20complex.ipynb#W6sdnNjb2RlLXJlbW90ZQ%3D%3D?line=1'>2</a>\u001b[0m \u001b[39mprint\u001b[39m(ScalarType)\n\u001b[0;32m----> <a href='vscode-notebook-cell://attached-container%2B7b22636f6e7461696e65724e616d65223a222f7465737431227d/home/FenicsX/My%20tasks/2Poisson%20complex.ipynb#W6sdnNjb2RlLXJlbW90ZQ%3D%3D?line=2'>3</a>\u001b[0m \u001b[39massert\u001b[39;00m np\u001b[39m.\u001b[39mdtype(ScalarType)\u001b[39m.\u001b[39mkind \u001b[39m==\u001b[39m \u001b[39m'\u001b[39m\u001b[39mc\u001b[39m\u001b[39m'\u001b[39m\n",
      "\u001b[0;31mAssertionError\u001b[0m: "
     ]
    }
   ],
   "source": [
    "# Checing of complex numbers\n",
    "print(ScalarType)\n",
    "assert np.dtype(ScalarType).kind == 'c'"
   ]
  }
 ],
 "metadata": {
  "kernelspec": {
   "display_name": "Python 3.10.4 64-bit",
   "language": "python",
   "name": "python3"
  },
  "language_info": {
   "codemirror_mode": {
    "name": "ipython",
    "version": 3
   },
   "file_extension": ".py",
   "mimetype": "text/x-python",
   "name": "python",
   "nbconvert_exporter": "python",
   "pygments_lexer": "ipython3",
   "version": "3.10.4"
  },
  "orig_nbformat": 4,
  "vscode": {
   "interpreter": {
    "hash": "31f2aee4e71d21fbe5cf8b01ff0e069b9275f58929596ceb00d14d90e3e16cd6"
   }
  }
 },
 "nbformat": 4,
 "nbformat_minor": 2
}
