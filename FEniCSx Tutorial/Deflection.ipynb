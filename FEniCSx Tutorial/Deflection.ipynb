{
 "cells": [
  {
   "cell_type": "code",
   "execution_count": 1,
   "metadata": {},
   "outputs": [],
   "source": [
    "import ufl\n",
    "from ufl import dx, ds, grad, TrialFunction, TestFunction, FacetNormal, lhs, rhs,SpatialCoordinate,exp\n",
    "\n",
    "import dolfinx\n",
    "from dolfinx import mesh, fem, io\n",
    "from dolfinx.fem import Constant, FunctionSpace,Function, dirichletbc,locate_dofs_geometrical,form\n",
    "from dolfinx.fem.petsc import LinearProblem\n",
    "\n",
    "from mpi4py import MPI\n",
    "from petsc4py.PETSc import ScalarType\n",
    "import numpy as np\n",
    "import matplotlib.pyplot as plt\n",
    "\n",
    "\n",
    "class Infix:\n",
    "\n",
    "    def __init__(self, function):\n",
    "        self.function = function\n",
    "\n",
    "    def __ror__(self, other):\n",
    "        return Infix(lambda x, self=self, other=other: self.function(other, x))\n",
    "\n",
    "    def __or__(self, other):\n",
    "        return self.function(other)\n",
    "\n",
    "    def __call__(self, value1, value2):\n",
    "        return self.function(value1, value2)\n",
    "\n",
    "\n",
    "def all_boundary_dofs(domain, space):\n",
    "    domain.topology.create_connectivity(\n",
    "        domain.topology.dim - 1,\n",
    "        domain.topology.dim,\n",
    "        )\n",
    "    boundary_facets = mesh.exterior_facet_indices(domain.topology)\n",
    "    boundary_dofs = fem.locate_dofs_topological(\n",
    "        space,\n",
    "        domain.topology.dim - 1,\n",
    "        boundary_facets,\n",
    "        )\n",
    "    return boundary_dofs\n",
    "\n",
    "\n",
    "dot = Infix(ufl.inner)\n",
    "\n",
    "\n",
    "def errors_L(uS, def_uEx):\n",
    "    domain = uS.function_space.mesh\n",
    "\n",
    "    V_err = FunctionSpace(\n",
    "        domain, ('CG', uS.function_space.element.space_dimension)\n",
    "        )\n",
    "    uEx = Function(V_err)\n",
    "    uEx.interpolate(def_uEx)\n",
    "    L1_scalar = fem.assemble_scalar(form((uS-uEx) * dx))\n",
    "    L2_scalar = fem.assemble_scalar(form((uS - uEx)**2 * dx))\n",
    "\n",
    "    L1_err = np.abs(domain.comm.allreduce(L1_scalar, op=MPI.SUM))\n",
    "    L2_err = np.sqrt(domain.comm.allreduce(L2_scalar, op=MPI.SUM))\n",
    "    return (L1_err, L2_err)\n",
    "\n",
    "\n",
    "def expression_ufl(space, ufl_function):\n",
    "\n",
    "    expr = fem.Expression(ufl_function, space.element.interpolation_points())\n",
    "    func = fem.Function(space)\n",
    "    func.interpolate(expr)\n",
    "    return func\n",
    "\n",
    "\n",
    "def line_collision(domain, line_cord):\n",
    "    \"\"\"Generate points and cells of colliding domain and line\n",
    "\n",
    "    Args:\n",
    "        domain (mesh): Domain\n",
    "        line_cord (array): 3D line contervertor of coordinates \n",
    "\n",
    "    Returns:\n",
    "        Tuple: Collision points and collision cells\n",
    "    \"\"\"\n",
    "    bb_tree = dolfinx.geometry.BoundingBoxTree(domain, domain.topology.dim)\n",
    "\n",
    "    cells_on_line = []\n",
    "    points_on_line = []\n",
    "    cell_candidates = dolfinx.geometry.compute_collisions(bb_tree, line_cord.T)\n",
    "    colliding_cells = dolfinx.geometry.compute_colliding_cells(\n",
    "        domain, cell_candidates, line_cord.T\n",
    "        )\n",
    "    for i, point in enumerate(line_cord.T):\n",
    "        if len(colliding_cells.links(i)) > 0:\n",
    "            points_on_line.append(point)\n",
    "            cells_on_line.append(colliding_cells.links(i)[0])\n",
    "\n",
    "    points_on_line = np.array(points_on_line, dtype=np.float64)\n",
    "\n",
    "    return (points_on_line, cells_on_line)\n",
    "\n",
    "\n",
    "def graph2D(fig, lists):\n",
    "    \"\"\"Create graph\n",
    "\n",
    "    Args:\n",
    "        fig : \n",
    "        lists (list): geometry_x, u_array,axe,title\n",
    "    \"\"\"\n",
    "\n",
    "    def data_construct(geometry, x_array):\n",
    "        data = np.column_stack((geometry[:, 0:2], x_array))\n",
    "        x_data = data[:, 0]\n",
    "        y_data = data[:, 1]\n",
    "        z_data = data[:, 2]\n",
    "        return [x_data, y_data, z_data]\n",
    "\n",
    "    for list in lists:\n",
    "        geometry_x, u_array, axe, title = list\n",
    "\n",
    "        levels = np.linspace(u_array.min(), u_array.max(), 10)\n",
    "        axe.set_title(title)\n",
    "        plot = axe.tricontourf(\n",
    "            *data_construct(geometry_x, u_array), levels=levels\n",
    "            )\n",
    "        axe.set_aspect(1)\n",
    "        fig.colorbar(plot, ax=axe)\n",
    "    return"
   ]
  },
  {
   "cell_type": "code",
   "execution_count": 2,
   "metadata": {},
   "outputs": [
    {
     "name": "stdout",
     "output_type": "stream",
     "text": [
      "Info    : Meshing 1D...\n",
      "Info    : Meshing curve 1 (Ellipse)\n",
      "Info    : Done meshing 1D (Wall 0.0001483s, CPU 0.000138s)\n",
      "Info    : Meshing 2D...\n",
      "Info    : Meshing surface 1 (Plane, Frontal-Delaunay)\n",
      "Info    : Done meshing 2D (Wall 0.064376s, CPU 0.064584s)\n",
      "Info    : 1550 nodes 3099 elements\n"
     ]
    }
   ],
   "source": [
    "# Genereting mesh\n",
    "import gmsh\n",
    "\n",
    "gmsh.initialize()\n",
    "membrane = gmsh.model.occ.addDisk(0, 0, 0, 1, 1)\n",
    "gmsh.model.occ.synchronize()\n",
    "gdim = 2\n",
    "gmsh.model.addPhysicalGroup(gdim, [membrane], 1)\n",
    "gmsh.option.setNumber(\"Mesh.CharacteristicLengthMin\", 0.05)\n",
    "gmsh.option.setNumber(\"Mesh.CharacteristicLengthMax\", 0.05)\n",
    "gmsh.model.mesh.generate(gdim)\n",
    "from dolfinx.io import gmshio\n",
    "\n",
    "gmsh_model_rank = 0\n",
    "mesh_comm = MPI.COMM_WORLD\n",
    "domain, cell_markers, facet_markers = gmshio.model_to_mesh(gmsh.model, mesh_comm, gmsh_model_rank, gdim=gdim)"
   ]
  },
  {
   "cell_type": "code",
   "execution_count": 3,
   "metadata": {},
   "outputs": [],
   "source": [
    "defc_alpha = 4\n",
    "defc_betta = 13\n",
    "defc_R0 = 0.3"
   ]
  },
  {
   "cell_type": "code",
   "execution_count": 4,
   "metadata": {},
   "outputs": [],
   "source": [
    "V = FunctionSpace(domain, ('Lagrange', 1))\n",
    "x, y = SpatialCoordinate(domain)\n"
   ]
  },
  {
   "cell_type": "code",
   "execution_count": 5,
   "metadata": {},
   "outputs": [],
   "source": [
    "bound_dofs = all_boundary_dofs(domain=domain, space=V)\n",
    "bcs1 = dirichletbc(V=V, dofs=bound_dofs, value=ScalarType(0))\n",
    "bcs = [bcs1]\n",
    "\n",
    "ALPHA = Constant(V, ScalarType(defc_alpha))\n",
    "BETTA = Constant(V, ScalarType(defc_betta))\n",
    "R0 = Constant(V, ScalarType(defc_R0))\n",
    "p = ALPHA * exp(-BETTA**2 * (x**2 + (y - R0)**2))\n",
    "p = expression_ufl(space=V, ufl_function=p)\n",
    "\n",
    "u, v = TrialFunction(V), TestFunction(V)\n",
    "\n",
    "F = (grad(u)|dot|grad(v)) * dx - p*v*dx"
   ]
  },
  {
   "cell_type": "code",
   "execution_count": 6,
   "metadata": {},
   "outputs": [],
   "source": [
    "problem = LinearProblem(\n",
    "    lhs(F),\n",
    "    rhs(F),\n",
    "    bcs=bcs,\n",
    "    petsc_options={\n",
    "        \"ksp_type\": \"preonly\",\n",
    "        \"pc_type\": \"lu\",\n",
    "        },\n",
    "    )\n",
    "uS = problem.solve()\n",
    "# p = expression_ufl(space=FunctionSpace(domain,('CG',5)), ufl_function=p)"
   ]
  },
  {
   "cell_type": "code",
   "execution_count": 7,
   "metadata": {},
   "outputs": [
    {
     "data": {
      "image/png": "[encoded data removed]",
      "text/plain": [
       "<Figure size 1152x576 with 4 Axes>"
      ]
     },
     "metadata": {
      "needs_background": "light"
     },
     "output_type": "display_data"
    }
   ],
   "source": [
    "fig, (ax_uS, ax_p) = plt.subplots(1, 2)\n",
    "fig.set_size_inches(16, 8)\n",
    "lis = [\n",
    "    [domain.geometry.x, uS.x.array, ax_uS, 'Deflection'],\n",
    "    [domain.geometry.x, p.x.array, ax_p, 'Pressure']\n",
    "    ]\n",
    "graph2D(fig=fig, lists=lis)\n"
   ]
  },
  {
   "cell_type": "code",
   "execution_count": 8,
   "metadata": {},
   "outputs": [
    {
     "data": {
      "text/plain": [
       "[<matplotlib.lines.Line2D at 0x7f0cf44d1a80>]"
      ]
     },
     "execution_count": 8,
     "metadata": {},
     "output_type": "execute_result"
    },
    {
     "data": {
      "image/png": "[encoded data removed]",
      "text/plain": [
       "<Figure size 432x288 with 1 Axes>"
      ]
     },
     "metadata": {
      "needs_background": "light"
     },
     "output_type": "display_data"
    }
   ],
   "source": [
    "tol = 0.001\n",
    "y_line = np.linspace(-1 + tol, 1 - tol, 101)\n",
    "line = np.zeros((3, 101))\n",
    "\n",
    "line[1] = y_line\n",
    "collision_line = line_collision(domain=domain, line_cord=line)\n",
    "uS_online = uS.eval(*collision_line)\n",
    "p_online = p.eval(*collision_line)\n",
    "\n",
    "plt.plot(y_line,50*uS_online,)\n",
    "plt.plot(y_line,p_online,)"
   ]
  },
  {
   "cell_type": "code",
   "execution_count": 9,
   "metadata": {},
   "outputs": [],
   "source": [
    "with io.VTKFile(domain.comm, '/home/VTK/Deflection_files/Deflection.pvd', 'w') as file:\n",
    "    uS.name = 'Deflection'\n",
    "    p.name = 'Pressure'\n",
    "    file.write_function([uS,p])"
   ]
  }
 ],
 "metadata": {
  "kernelspec": {
   "display_name": "Python 3.10.4 64-bit",
   "language": "python",
   "name": "python3"
  },
  "language_info": {
   "codemirror_mode": {
    "name": "ipython",
    "version": 3
   },
   "file_extension": ".py",
   "mimetype": "text/x-python",
   "name": "python",
   "nbconvert_exporter": "python",
   "pygments_lexer": "ipython3",
   "version": "3.10.4"
  },
  "orig_nbformat": 4,
  "vscode": {
   "interpreter": {
    "hash": "916dbcbb3f70747c44a77c7bcd40155683ae19c65e1c03b4aa3499c5328201f1"
   }
  }
 },
 "nbformat": 4,
 "nbformat_minor": 2
}
