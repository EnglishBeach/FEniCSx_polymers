{
 "cells": [
  {
   "cell_type": "code",
   "execution_count": 1,
   "metadata": {},
   "outputs": [],
   "source": [
    "import numpy as np\n",
    "\n",
    "import ufl\n",
    "from dolfinx import cpp as _cpp\n",
    "from dolfinx import fem\n",
    "from dolfinx.fem import (Constant, Function, FunctionSpace, dirichletbc,\n",
    "                         extract_function_spaces, form,\n",
    "                         locate_dofs_geometrical, locate_dofs_topological)\n",
    "from dolfinx.io import XDMFFile\n",
    "from dolfinx.mesh import (CellType, GhostMode, create_rectangle,\n",
    "                          locate_entities_boundary)\n",
    "from ufl import div, dx, grad, inner\n",
    "\n",
    "from mpi4py import MPI\n",
    "from petsc4py import PETSc"
   ]
  },
  {
   "cell_type": "code",
   "execution_count": 2,
   "metadata": {},
   "outputs": [],
   "source": [
    "# Create mesh\n",
    "msh = create_rectangle(MPI.COMM_WORLD,\n",
    "                       [np.array([0, 0]), np.array([1, 1])],\n",
    "                       [50, 50],\n",
    "                       CellType.triangle, GhostMode.none)\n",
    "\n",
    "\n",
    "# Function to mark x = 0, x = 1 and y = 0\n",
    "def noslip_boundary(x):\n",
    "    return np.logical_or(np.logical_or(np.isclose(x[0], 0.0),\n",
    "                                       np.isclose(x[0], 1.0)),\n",
    "                         np.isclose(x[1], 0.0))\n",
    "\n",
    "\n",
    "# Function to mark the lid (y = 1)\n",
    "def lid(x):\n",
    "    return np.isclose(x[1], 1.0)\n",
    "\n",
    "\n",
    "# Lid velocity\n",
    "def lid_velocity_expression(x):\n",
    "    return np.stack((np.ones(x.shape[1]), np.zeros(x.shape[1])))"
   ]
  },
  {
   "cell_type": "code",
   "execution_count": 3,
   "metadata": {},
   "outputs": [],
   "source": [
    "P2 = ufl.VectorElement(\"Lagrange\", msh.ufl_cell(), 2)\n",
    "P1 = ufl.FiniteElement(\"Lagrange\", msh.ufl_cell(), 1)\n",
    "V, Q = FunctionSpace(msh, P2), FunctionSpace(msh, P1)"
   ]
  },
  {
   "cell_type": "code",
   "execution_count": 4,
   "metadata": {},
   "outputs": [
    {
     "data": {
      "text/plain": [
       "VectorElement(FiniteElement('Lagrange', triangle, 2), dim=2)"
      ]
     },
     "execution_count": 4,
     "metadata": {},
     "output_type": "execute_result"
    }
   ],
   "source": [
    "P2"
   ]
  },
  {
   "cell_type": "code",
   "execution_count": 5,
   "metadata": {},
   "outputs": [
    {
     "name": "stdout",
     "output_type": "stream",
     "text": [
      "(D) Norm of velocity 26.77335457836057\n",
      "(D) Norm of pressure 507.2303083106857\n"
     ]
    }
   ],
   "source": [
    "# Create the function space\n",
    "TH = P2 * P1\n",
    "W = FunctionSpace(msh, TH)\n",
    "W0, _ = W.sub(0).collapse()\n",
    "\n",
    "# No slip boundary condition\n",
    "noslip = Function(V)\n",
    "facets = locate_entities_boundary(msh, 1, noslip_boundary)\n",
    "dofs = locate_dofs_topological((W.sub(0), V), 1, facets)\n",
    "bc0 = dirichletbc(noslip, dofs, W.sub(0))\n",
    "\n",
    "\n",
    "# Driving velocity condition u = (1, 0) on top boundary (y = 1)\n",
    "lid_velocity = Function(W0)\n",
    "lid_velocity.interpolate(lid_velocity_expression)\n",
    "facets = locate_entities_boundary(msh, 1, lid)\n",
    "dofs = locate_dofs_topological((W.sub(0), V), 1, facets)\n",
    "bc1 = dirichletbc(lid_velocity, dofs, W.sub(0))\n",
    "\n",
    "\n",
    "# Since for this problem the pressure is only determined up to a\n",
    "# constant, we pin the pressure at the point (0, 0)\n",
    "zero = Function(Q)\n",
    "zero.x.set(0.0)\n",
    "dofs = locate_dofs_geometrical((W.sub(1), Q), lambda x: np.isclose(x.T, [0, 0, 0]).all(axis=1))\n",
    "bc2 = dirichletbc(zero, dofs, W.sub(1))\n",
    "\n",
    "# Collect Dirichlet boundary conditions\n",
    "bcs = [bc0, bc1, bc2]\n",
    "\n",
    "# Define variational problem\n",
    "(u, p) = ufl.TrialFunctions(W)\n",
    "(v, q) = ufl.TestFunctions(W)\n",
    "f = Function(W0)\n",
    "a = form((inner(grad(u), grad(v)) + inner(p, div(v)) + inner(div(u), q)) * dx)\n",
    "L = form(inner(f, v) * dx)\n",
    "\n",
    "\n",
    "# Assemble LHS matrix and RHS vector\n",
    "A = fem.petsc.assemble_matrix(a, bcs=bcs)\n",
    "A.assemble()\n",
    "b = fem.petsc.assemble_vector(L)\n",
    "\n",
    "fem.petsc.apply_lifting(b, [a], bcs=[bcs])\n",
    "b.ghostUpdate(addv=PETSc.InsertMode.ADD, mode=PETSc.ScatterMode.REVERSE)\n",
    "\n",
    "# Set Dirichlet boundary condition values in the RHS\n",
    "fem.petsc.set_bc(b, bcs)\n",
    "\n",
    "# Create and configure solver\n",
    "ksp = PETSc.KSP().create(msh.comm)\n",
    "ksp.setOperators(A)\n",
    "ksp.setType(\"preonly\")\n",
    "ksp.getPC().setType(\"lu\")\n",
    "ksp.getPC().setFactorSolverType(\"superlu_dist\")\n",
    "\n",
    "# Compute the solution\n",
    "U = Function(W)\n",
    "ksp.solve(b, U.vector)\n",
    "\n",
    "# Split the mixed solution and collapse\n",
    "u = U.sub(0).collapse()\n",
    "p = U.sub(1).collapse()\n",
    "\n",
    "# Compute norms\n",
    "norm_u_3 = u.x.norm()\n",
    "norm_p_3 = p.x.norm()\n",
    "if MPI.COMM_WORLD.rank == 0:\n",
    "    print(f\"(D) Norm of velocity {norm_u_3}\")\n",
    "    print(f\"(D) Norm of pressure {norm_p_3}\")\n",
    "\n",
    "# Write the solution to file\n",
    "with XDMFFile(MPI.COMM_WORLD, \"/home/VTK/3.4Stokes_test_Files/new_velocity.xdmf\", \"w\") as ufile_xdmf:\n",
    "    u.x.scatter_forward()\n",
    "    ufile_xdmf.write_mesh(msh)\n",
    "    ufile_xdmf.write_function(u)\n",
    "\n",
    "with XDMFFile(MPI.COMM_WORLD, \"/home/VTK/3.4Stokes_test_Files/my.xdmf\", \"w\") as pfile_xdmf:\n",
    "    p.x.scatter_forward()\n",
    "    pfile_xdmf.write_mesh(msh)\n",
    "    pfile_xdmf.write_function(p)"
   ]
  },
  {
   "cell_type": "code",
   "execution_count": 6,
   "metadata": {},
   "outputs": [
    {
     "name": "stdout",
     "output_type": "stream",
     "text": [
      "KSP Object: 1 MPI processes\n",
      "  type: preonly\n",
      "  maximum iterations=10000, initial guess is zero\n",
      "  tolerances:  relative=1e-05, absolute=1e-50, divergence=10000.\n",
      "  left preconditioning\n",
      "  using NONE norm type for convergence test\n",
      "PC Object: 1 MPI processes\n",
      "  type: lu\n",
      "    out-of-place factorization\n",
      "    tolerance for zero pivot 2.22045e-14\n",
      "    matrix ordering: external\n",
      "    factor fill ratio given 0., needed 0.      Factored matrix follows:\n",
      "        Mat Object: 1 MPI processes\n",
      "          type: superlu_dist\n",
      "          rows=23003, cols=23003\n",
      "          package used to perform factorization: superlu_dist\n",
      "          total: nonzeros=0, allocated nonzeros=0\n",
      "            SuperLU_DIST run parameters:\n",
      "              Process grid nprow 1 x npcol 1 \n",
      "              Equilibrate matrix TRUE \n",
      "              Replace tiny pivots FALSE \n",
      "              Use iterative refinement FALSE \n",
      "              Processors in row 1 col partition 1 \n",
      "              Row permutation LargeDiag_MC64\n",
      "              Column permutation MMD_AT_PLUS_A\n",
      "              Parallel symbolic factorization FALSE \n",
      "              Repeated factorization SamePattern\n",
      "  linear system matrix = precond matrix:\n",
      "  Mat Object: 1 MPI processes\n",
      "    type: seqaij\n",
      "    rows=23003, cols=23003\n",
      "    total: nonzeros=673009, allocated nonzeros=673009\n",
      "    total number of mallocs used during MatSetValues calls=0\n",
      "      using I-node routines: found 12798 nodes, limit used is 5\n"
     ]
    }
   ],
   "source": [
    "ksp.view()"
   ]
  }
 ],
 "metadata": {
  "kernelspec": {
   "display_name": "Python 3.10.4 64-bit",
   "language": "python",
   "name": "python3"
  },
  "language_info": {
   "codemirror_mode": {
    "name": "ipython",
    "version": 3
   },
   "file_extension": ".py",
   "mimetype": "text/x-python",
   "name": "python",
   "nbconvert_exporter": "python",
   "pygments_lexer": "ipython3",
   "version": "3.10.4"
  },
  "orig_nbformat": 4,
  "vscode": {
   "interpreter": {
    "hash": "916dbcbb3f70747c44a77c7bcd40155683ae19c65e1c03b4aa3499c5328201f1"
   }
  }
 },
 "nbformat": 4,
 "nbformat_minor": 2
}
