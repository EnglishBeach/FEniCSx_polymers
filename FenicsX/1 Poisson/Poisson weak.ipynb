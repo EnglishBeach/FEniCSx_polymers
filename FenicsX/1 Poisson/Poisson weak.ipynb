{
 "cells": [
  {
   "cell_type": "code",
   "execution_count": 1,
   "metadata": {},
   "outputs": [],
   "source": [
    "# from dolfinx import mesh,fem,plot as msh1,fem,plot\n",
    "import dolfinx.mesh as mesh\n",
    "import dolfinx.fem as fem\n",
    "import dolfinx.plot as plot\n",
    "import ufl\n",
    "import mpi4py.MPI as mpi\n",
    "# import petsc4py.PETSc as pet\n",
    "import numpy as np\n",
    "\n",
    "import pyvista"
   ]
  },
  {
   "cell_type": "code",
   "execution_count": 2,
   "metadata": {},
   "outputs": [],
   "source": [
    "N = 20\n",
    "domain = mesh.create_unit_square(mpi.COMM_WORLD, N, N)\n",
    "space = fem.FunctionSpace(domain, ('CG', 1))"
   ]
  },
  {
   "cell_type": "code",
   "execution_count": 3,
   "metadata": {},
   "outputs": [],
   "source": [
    "# Dot = ufl.dot\n",
    "Dot = ufl.inner\n",
    "Grad = ufl.grad\n",
    "dx = ufl.dx\n",
    "ds = ufl.ds\n",
    "Div = ufl.div"
   ]
  },
  {
   "cell_type": "code",
   "execution_count": 4,
   "metadata": {},
   "outputs": [],
   "source": [
    "u0 = fem.Function(space)\n",
    "x = ufl.SpatialCoordinate(domain)\n",
    "u_expression = 1 + x[0]**2 + x[1]**2\n",
    "u0.interpolate(fem.Expression(u_expression, space.element.interpolation_points))\n",
    "f = -Div(Grad(u_expression))"
   ]
  },
  {
   "cell_type": "code",
   "execution_count": 5,
   "metadata": {},
   "outputs": [],
   "source": [
    "u = ufl.TrialFunction(space)\n",
    "v = ufl.TestFunction(space)\n",
    "\n",
    "n = ufl.FacetNormal(domain)\n",
    "h = 2 * ufl.Circumradius(domain)\n",
    "alfa = fem.Constant(domain, np.float64(10))\n",
    "a = Dot(Grad(u), Grad(v)) * dx -\\\n",
    "    Dot(n, Grad(u)) * v * ds - Dot(n, Grad(v)) * u * ds +\\\n",
    "    alfa / h * u * v * ds\n",
    "L = Dot(f, v) * dx -\\\n",
    "    Dot(n, Grad(v)) * u0 * ds + alfa/h * u0 * v* ds\n"
   ]
  },
  {
   "cell_type": "code",
   "execution_count": 6,
   "metadata": {},
   "outputs": [],
   "source": [
    "problem= fem.petsc.LinearProblem(a,L)\n",
    "uh=problem.solve()"
   ]
  },
  {
   "cell_type": "code",
   "execution_count": 7,
   "metadata": {},
   "outputs": [
    {
     "name": "stdout",
     "output_type": "stream",
     "text": [
      "L^2-error: 1.05e-04\n"
     ]
    }
   ],
   "source": [
    "error_form = fem.form(Dot(uh - u0, uh - u0) * dx)\n",
    "error_local = fem.assemble_scalar(error_form)\n",
    "errorL2 = np.sqrt(domain.comm.allreduce(error_local, op=mpi.SUM))\n",
    "if domain.comm.rank == 0:\n",
    "    print(fr\"L^2-error: {errorL2:.2e}\")"
   ]
  },
  {
   "cell_type": "code",
   "execution_count": 17,
   "metadata": {},
   "outputs": [
    {
     "data": {
      "application/vnd.jupyter.widget-view+json": {
       "model_id": "f6fd6bed42714faea96dd62889a1ae28",
       "version_major": 2,
       "version_minor": 0
      },
      "text/plain": [
       "Renderer(camera=PerspectiveCamera(aspect=1.3333333333333333, children=(DirectionalLight(intensity=0.25, positi…"
      ]
     },
     "metadata": {},
     "output_type": "display_data"
    }
   ],
   "source": [
    "pyvista.set_jupyter_backend(\"pythreejs\")\n",
    "\n",
    "grid = pyvista.UnstructuredGrid(*plot.create_vtk_mesh(space))\n",
    "grid.point_data[\"u\"] = uh.x.array.real\n",
    "grid.set_active_scalars(\"u\")\n",
    "plotter = pyvista.Plotter()\n",
    "plotter.add_mesh(grid, show_edges=False, show_scalar_bar=True)\n",
    "plotter.view_xy()\n",
    "pyvista.OFF_SCREEN = False\n",
    "if not pyvista.OFF_SCREEN:\n",
    "    plotter.show()\n",
    "else:\n",
    "    pyvista.start_xvfb()\n",
    "    figure = plotter.screenshot(\"nitsche.png\")"
   ]
  },
  {
   "cell_type": "code",
   "execution_count": null,
   "metadata": {},
   "outputs": [],
   "source": []
  }
 ],
 "metadata": {
  "interpreter": {
   "hash": "916dbcbb3f70747c44a77c7bcd40155683ae19c65e1c03b4aa3499c5328201f1"
  },
  "kernelspec": {
   "display_name": "Python 3.9.7 64-bit",
   "language": "python",
   "name": "python3"
  },
  "language_info": {
   "codemirror_mode": {
    "name": "ipython",
    "version": 3
   },
   "file_extension": ".py",
   "mimetype": "text/x-python",
   "name": "python",
   "nbconvert_exporter": "python",
   "pygments_lexer": "ipython3",
   "version": "3.9.7"
  },
  "orig_nbformat": 4
 },
 "nbformat": 4,
 "nbformat_minor": 2
}
