{
 "cells": [
  {
   "cell_type": "code",
   "execution_count": 39,
   "metadata": {},
   "outputs": [],
   "source": [
    "import dolfinx.mesh as msh\n",
    "import dolfinx.fem as fem\n",
    "import mpi4py.MPI as mpi\n",
    "\n",
    "import dolfinx.plot as dolplot\n",
    "import ufl\n",
    "import pyvista\n",
    "\n",
    "import numpy as np\n",
    "import petsc4py.PETSc as pet"
   ]
  },
  {
   "cell_type": "markdown",
   "metadata": {},
   "source": [
    "### Solve"
   ]
  },
  {
   "cell_type": "code",
   "execution_count": 40,
   "metadata": {},
   "outputs": [],
   "source": [
    "domain= msh.create_unit_square ( mpi.COMM_WORLD,10,10, msh.CellType.quadrilateral )\n",
    "space= fem.FunctionSpace(domain, ('CG',1))"
   ]
  },
  {
   "cell_type": "code",
   "execution_count": 41,
   "metadata": {},
   "outputs": [],
   "source": [
    "u0_express=lambda x: 1 + x[0]**2 + 2 * x[1]**2\n",
    "u0 = fem.Function(space)\n",
    "u0.interpolate(u0_express);"
   ]
  },
  {
   "cell_type": "code",
   "execution_count": 42,
   "metadata": {},
   "outputs": [],
   "source": [
    "spacedim= domain.topology.dim\n",
    "domain.topology.create_connectivity(spacedim-1,spacedim)\n",
    "bound_facet=msh.compute_boundary_facets(domain.topology)\n",
    "bound_facet=np.flatnonzero(bound_facet)"
   ]
  },
  {
   "cell_type": "code",
   "execution_count": 43,
   "metadata": {},
   "outputs": [],
   "source": [
    "bound_dofs = fem.locate_dofs_topological(space, spacedim - 1, bound_facet)\n",
    "bc = fem.dirichletbc(u0, bound_dofs)"
   ]
  },
  {
   "cell_type": "code",
   "execution_count": 44,
   "metadata": {},
   "outputs": [],
   "source": [
    "u = ufl.TrialFunction(space)\n",
    "v = ufl.TestFunction(space)"
   ]
  },
  {
   "cell_type": "code",
   "execution_count": 45,
   "metadata": {},
   "outputs": [],
   "source": [
    "f = fem.Constant(domain, pet.ScalarType(-6))"
   ]
  },
  {
   "cell_type": "code",
   "execution_count": 46,
   "metadata": {},
   "outputs": [],
   "source": [
    "# Dot = ufl.dot\n",
    "Dot=ufl.inner\n",
    "Grad = ufl.grad\n",
    "dx = ufl.dx\n"
   ]
  },
  {
   "cell_type": "code",
   "execution_count": 47,
   "metadata": {},
   "outputs": [],
   "source": [
    "a = Dot(Grad(u), Grad(v)) *dx\n",
    "L = f * v * dx"
   ]
  },
  {
   "cell_type": "code",
   "execution_count": 48,
   "metadata": {},
   "outputs": [],
   "source": [
    "problem= fem.petsc.LinearProblem(a,L,bcs=[bc],petsc_options={\"ksp_type\": \"preonly\", \"pc_type\": \"lu\"})"
   ]
  },
  {
   "cell_type": "code",
   "execution_count": 49,
   "metadata": {},
   "outputs": [],
   "source": [
    "uh = problem.solve()"
   ]
  },
  {
   "cell_type": "markdown",
   "metadata": {},
   "source": [
    "### Error"
   ]
  },
  {
   "cell_type": "code",
   "execution_count": 50,
   "metadata": {},
   "outputs": [],
   "source": [
    "space2=fem.FunctionSpace(domain,('CG',2))\n",
    "u_extrapol=fem.Function(space2)\n",
    "u_extrapol.interpolate(u0_express)"
   ]
  },
  {
   "cell_type": "code",
   "execution_count": 51,
   "metadata": {},
   "outputs": [
    {
     "name": "stdout",
     "output_type": "stream",
     "text": [
      "Error max: 2.66e-15\n",
      "Error: 5.27e-03\n"
     ]
    }
   ],
   "source": [
    "l2_error= fem.form(Dot(uh-u_extrapol,uh-u_extrapol)*dx)\n",
    "error_local=fem.assemble_scalar(l2_error)\n",
    "erorr_l2=np.sqrt(domain.comm.allreduce(error_local,op=mpi.SUM))\n",
    "\n",
    "error_max= np.max(\n",
    "    np.abs(u0.x.array-uh.x.array)\n",
    ")\n",
    "print(f'Error max: {error_max:.2e}')\n",
    "print(f'Error: {erorr_l2:.2e}')"
   ]
  },
  {
   "cell_type": "markdown",
   "metadata": {},
   "source": [
    "### Visualise"
   ]
  },
  {
   "cell_type": "code",
   "execution_count": 52,
   "metadata": {},
   "outputs": [],
   "source": [
    "topology,cell_types,geometry = dolplot.create_vtk_mesh(domain,spacedim)\n",
    "grid = pyvista.UnstructuredGrid(topology, cell_types, geometry)"
   ]
  },
  {
   "cell_type": "code",
   "execution_count": 53,
   "metadata": {},
   "outputs": [],
   "source": [
    "import matplotlib.pyplot as plt"
   ]
  },
  {
   "cell_type": "code",
   "execution_count": 54,
   "metadata": {},
   "outputs": [
    {
     "data": {
      "application/vnd.jupyter.widget-view+json": {
       "model_id": "5e554310d6ec4347bab09b0471999460",
       "version_major": 2,
       "version_minor": 0
      },
      "text/plain": [
       "Renderer(camera=PerspectiveCamera(aspect=1.3333333333333333, children=(DirectionalLight(intensity=0.25, positi…"
      ]
     },
     "metadata": {},
     "output_type": "display_data"
    }
   ],
   "source": [
    "pyvista.set_jupyter_backend(\"pythreejs\")\n",
    "plotter = pyvista.Plotter()\n",
    "plotter.add_mesh(grid, show_edges=True)\n",
    "plotter.view_xy()\n",
    "\n",
    "pyvista.OFF_SCREEN = False\n",
    "if not pyvista.OFF_SCREEN:\n",
    "    plotter.show()\n",
    "else:\n",
    "    pyvista.start_xvfb()\n",
    "    figure = plotter.screenshot(\"fundamentals_mesh.png\")"
   ]
  },
  {
   "cell_type": "code",
   "execution_count": 55,
   "metadata": {},
   "outputs": [
    {
     "data": {
      "application/vnd.jupyter.widget-view+json": {
       "model_id": "36fcf93574644b548474bded83870968",
       "version_major": 2,
       "version_minor": 0
      },
      "text/plain": [
       "Renderer(camera=PerspectiveCamera(aspect=1.3333333333333333, children=(DirectionalLight(intensity=0.25, positi…"
      ]
     },
     "metadata": {},
     "output_type": "display_data"
    }
   ],
   "source": [
    "u_topology, u_cell_types, u_geometry = dolplot.create_vtk_mesh(space)   \n",
    "u_grid = pyvista.UnstructuredGrid(u_topology, u_cell_types, u_geometry)\n",
    "u_grid.point_data[\"u\"] = uh.x.array.real\n",
    "u_grid.set_active_scalars(\"u\")\n",
    "u_plotter = pyvista.Plotter()\n",
    "u_plotter.add_mesh(u_grid, show_edges=False)\n",
    "u_plotter.view_xy()\n",
    "if not pyvista.OFF_SCREEN:\n",
    "    u_plotter.show()"
   ]
  },
  {
   "cell_type": "code",
   "execution_count": 56,
   "metadata": {},
   "outputs": [
    {
     "data": {
      "application/vnd.jupyter.widget-view+json": {
       "model_id": "1f0013188582457f9ac02a2fb7642192",
       "version_major": 2,
       "version_minor": 0
      },
      "text/plain": [
       "AppLayout(children=(VBox(children=(HTML(value='<h3>u</h3>'), Dropdown(description='Colormap:', options={'BrBG'…"
      ]
     },
     "metadata": {},
     "output_type": "display_data"
    }
   ],
   "source": [
    "if not pyvista.OFF_SCREEN:\n",
    "    warped = u_grid.warp_by_scalar()\n",
    "    plotter2 = pyvista.Plotter()\n",
    "    plotter2.add_mesh(warped, show_edges=True, show_scalar_bar=True)\n",
    "    plotter2.show(jupyter_backend=\"ipygany\")"
   ]
  },
  {
   "cell_type": "code",
   "execution_count": 57,
   "metadata": {},
   "outputs": [],
   "source": [
    "from dolfinx import io\n",
    "with io.VTKFile(domain.comm, \"output.pvd\", \"w\") as vtk:\n",
    "    vtk.write([uh._cpp_object])\n",
    "with io.XDMFFile(domain.comm, \"output.xdmf\", \"w\") as xdmf:\n",
    "    xdmf.write_mesh(domain)\n",
    "    xdmf.write_function(uh)"
   ]
  },
  {
   "cell_type": "code",
   "execution_count": null,
   "metadata": {},
   "outputs": [],
   "source": []
  }
 ],
 "metadata": {
  "interpreter": {
   "hash": "916dbcbb3f70747c44a77c7bcd40155683ae19c65e1c03b4aa3499c5328201f1"
  },
  "kernelspec": {
   "display_name": "Python 3.9.7 64-bit",
   "language": "python",
   "name": "python3"
  },
  "language_info": {
   "codemirror_mode": {
    "name": "ipython",
    "version": 3
   },
   "file_extension": ".py",
   "mimetype": "text/x-python",
   "name": "python",
   "nbconvert_exporter": "python",
   "pygments_lexer": "ipython3",
   "version": "3.9.7"
  },
  "orig_nbformat": 4
 },
 "nbformat": 4,
 "nbformat_minor": 2
}
