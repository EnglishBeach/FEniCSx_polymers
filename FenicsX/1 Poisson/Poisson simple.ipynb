{
 "cells": [
  {
   "cell_type": "code",
   "execution_count": 1,
   "metadata": {},
   "outputs": [],
   "source": [
    "import dolfinx.mesh as msh\n",
    "import dolfinx.fem as fem\n",
    "import mpi4py.MPI as mpi\n",
    "\n",
    "import dolfinx.plot as dolplot\n",
    "import ufl\n",
    "import pyvista\n",
    "import matplotlib.pyplot as plt\n",
    "\n",
    "import numpy as np\n",
    "import petsc4py.PETSc as pet"
   ]
  },
  {
   "cell_type": "code",
   "execution_count": 2,
   "metadata": {},
   "outputs": [],
   "source": [
    "domain= msh.create_unit_square ( mpi.COMM_WORLD,10,10, msh.CellType.quadrilateral )\n",
    "space= fem.FunctionSpace(domain, ('CG',1))"
   ]
  },
  {
   "cell_type": "code",
   "execution_count": 3,
   "metadata": {},
   "outputs": [],
   "source": [
    "u0_express=lambda x: 1 + x[0]**2 + 2 * x[1]**2\n",
    "u0 = fem.Function(space)\n",
    "u0.interpolate(u0_express);"
   ]
  },
  {
   "cell_type": "code",
   "execution_count": 21,
   "metadata": {},
   "outputs": [
    {
     "name": "stdout",
     "output_type": "stream",
     "text": [
      "<class 'function'>\n",
      "<class 'dolfinx.fem.function.Function'>\n"
     ]
    }
   ],
   "source": [
    "print(type(u0_express))\n",
    "print(type(u0))"
   ]
  },
  {
   "cell_type": "code",
   "execution_count": 38,
   "metadata": {},
   "outputs": [
    {
     "data": {
      "text/plain": [
       "array([1.28])"
      ]
     },
     "execution_count": 38,
     "metadata": {},
     "output_type": "execute_result"
    }
   ],
   "source": [
    "u0.eval([1,0,0],cells=[2])"
   ]
  },
  {
   "cell_type": "code",
   "execution_count": 5,
   "metadata": {},
   "outputs": [],
   "source": [
    "spacedim= domain.topology.dim\n",
    "domain.topology.create_connectivity(spacedim-1,spacedim)\n",
    "bound_facet=msh.compute_boundary_facets(domain.topology)\n",
    "bound_facet=np.flatnonzero(bound_facet)"
   ]
  },
  {
   "cell_type": "code",
   "execution_count": 6,
   "metadata": {},
   "outputs": [],
   "source": [
    "bound_dofs = fem.locate_dofs_topological(space, spacedim - 1, bound_facet)\n",
    "bc = fem.dirichletbc(u0, bound_dofs)"
   ]
  },
  {
   "cell_type": "code",
   "execution_count": 7,
   "metadata": {},
   "outputs": [],
   "source": [
    "u = ufl.TrialFunction(space)\n",
    "v = ufl.TestFunction(space)"
   ]
  },
  {
   "cell_type": "code",
   "execution_count": 8,
   "metadata": {},
   "outputs": [],
   "source": [
    "f = fem.Constant(domain, np.float64(-6))"
   ]
  },
  {
   "cell_type": "code",
   "execution_count": 9,
   "metadata": {},
   "outputs": [],
   "source": [
    "# Dot = ufl.dot\n",
    "Dot=ufl.inner\n",
    "Grad = ufl.grad\n",
    "dx = ufl.dx\n"
   ]
  },
  {
   "cell_type": "code",
   "execution_count": 10,
   "metadata": {},
   "outputs": [],
   "source": [
    "a = Dot(Grad(u), Grad(v)) *dx\n",
    "L = f * v * dx"
   ]
  },
  {
   "cell_type": "code",
   "execution_count": 11,
   "metadata": {},
   "outputs": [],
   "source": [
    "problem= fem.petsc.LinearProblem(a,L,bcs=[bc],petsc_options={\"ksp_type\": \"preonly\", \"pc_type\": \"lu\"})"
   ]
  },
  {
   "cell_type": "code",
   "execution_count": 12,
   "metadata": {},
   "outputs": [],
   "source": [
    "uh = problem.solve()"
   ]
  },
  {
   "cell_type": "markdown",
   "metadata": {},
   "source": [
    "### Error"
   ]
  },
  {
   "cell_type": "code",
   "execution_count": 13,
   "metadata": {},
   "outputs": [],
   "source": [
    "space2=fem.FunctionSpace(domain,('CG',2))\n",
    "u_extrapol=fem.Function(space2)\n",
    "u_extrapol.interpolate(u0_express)"
   ]
  },
  {
   "cell_type": "code",
   "execution_count": 14,
   "metadata": {},
   "outputs": [
    {
     "name": "stdout",
     "output_type": "stream",
     "text": [
      "Error max: 2.66e-15\n",
      "Error: 5.27e-03\n"
     ]
    }
   ],
   "source": [
    "l2_error= fem.form(Dot(uh-u_extrapol,uh-u_extrapol)*dx)\n",
    "error_local=fem.assemble_scalar(l2_error)\n",
    "erorr_l2=np.sqrt(domain.comm.allreduce(error_local,op=mpi.SUM))\n",
    "\n",
    "error_max= np.max(\n",
    "    np.abs(u0.x.array-uh.x.array)\n",
    ")\n",
    "print(f'Error max: {error_max:.2e}')\n",
    "print(f'Error: {erorr_l2:.2e}')"
   ]
  },
  {
   "cell_type": "markdown",
   "metadata": {},
   "source": [
    "### Visualise pyvista"
   ]
  },
  {
   "cell_type": "code",
   "execution_count": 15,
   "metadata": {},
   "outputs": [
    {
     "data": {
      "application/vnd.jupyter.widget-view+json": {
       "model_id": "6984fcca6c8a459ca5f9946e3ce92704",
       "version_major": 2,
       "version_minor": 0
      },
      "text/plain": [
       "Renderer(camera=PerspectiveCamera(children=(DirectionalLight(intensity=0.25, position=(0.0, 0.0, 100000.0), qu…"
      ]
     },
     "metadata": {},
     "output_type": "display_data"
    }
   ],
   "source": [
    "u_topology, u_cell_types, u_geometry = dolplot.create_vtk_mesh(space)   \n",
    "u_grid = pyvista.UnstructuredGrid(u_topology, u_cell_types, u_geometry)\n",
    "\n",
    "pyvista.set_jupyter_backend(\"pythreejs\")\n",
    "\n",
    "\n",
    "u_grid.point_data[\"u\"] = uh.x.array.real\n",
    "u_grid.set_active_scalars(\"u\")\n",
    "u_plotter = pyvista.Plotter(window_size=(500,500))\n",
    "u_plotter.add_mesh(u_grid, show_edges=True)\n",
    "u_plotter.view_xy()\n",
    "\n",
    "pyvista.OFF_SCREEN = False\n",
    "if not pyvista.OFF_SCREEN:\n",
    "    u_plotter.show()\n",
    "else:\n",
    "    pyvista.start_xvfb()\n",
    "    figure = u_plotter.screenshot(\"fundamentals_mesh.png\")    "
   ]
  },
  {
   "cell_type": "code",
   "execution_count": 16,
   "metadata": {},
   "outputs": [
    {
     "data": {
      "application/vnd.jupyter.widget-view+json": {
       "model_id": "c940b20936d24d049a9c7d4fb0b04802",
       "version_major": 2,
       "version_minor": 0
      },
      "text/plain": [
       "Renderer(camera=PerspectiveCamera(children=(DirectionalLight(intensity=0.25, position=(0.0, 0.0, 100000.0), qu…"
      ]
     },
     "metadata": {},
     "output_type": "display_data"
    }
   ],
   "source": [
    "warped = u_grid.warp_by_scalar()\n",
    "plotter2 = pyvista.Plotter(window_size=(500,500))\n",
    "plotter2.add_mesh(warped, show_edges=True, show_scalar_bar=True)\n",
    "plotter2.add_axes()\n",
    "# plotter2.show(jupyter_backend=\"ipygany\")\n",
    "plotter2.show()"
   ]
  },
  {
   "cell_type": "code",
   "execution_count": 17,
   "metadata": {},
   "outputs": [],
   "source": [
    "from dolfinx import io\n",
    "with io.VTKFile(domain.comm, \"output.pvd\", \"w\") as vtk:\n",
    "    vtk.write([uh._cpp_object])\n",
    "with io.XDMFFile(domain.comm, \"output.xdmf\", \"w\") as xdmf:\n",
    "    xdmf.write_mesh(domain)\n",
    "    xdmf.write_function(uh)"
   ]
  },
  {
   "cell_type": "markdown",
   "metadata": {},
   "source": [
    "### Visualise Matplot"
   ]
  },
  {
   "cell_type": "code",
   "execution_count": 18,
   "metadata": {},
   "outputs": [
    {
     "name": "stdout",
     "output_type": "stream",
     "text": [
      "121 121\n"
     ]
    }
   ],
   "source": [
    "u_topology, u_cell_types, u_geometry=dolplot.create_vtk_mesh(space) \n",
    "print(\n",
    "len(u_geometry),\n",
    "len(uh.x.array),\n",
    ")\n",
    "\n",
    "data=np.column_stack((u_geometry[:,0:2],uh.x.array))\n",
    "x_data= data[:,0]\n",
    "y_data=data[:,1]\n",
    "z_data=data[:,2]"
   ]
  },
  {
   "cell_type": "code",
   "execution_count": 19,
   "metadata": {},
   "outputs": [
    {
     "data": {
      "text/html": [
       "\n",
       "<table>\n",
       "<tr><th>PolyData</th><th>Information</th></tr>\n",
       "<tr><td>N Cells</td><td>121</td></tr>\n",
       "<tr><td>N Points</td><td>121</td></tr>\n",
       "<tr><td>X Bounds</td><td>-2.776e-18, 1.000e+00</td></tr>\n",
       "<tr><td>Y Bounds</td><td>-2.776e-18, 1.000e+00</td></tr>\n",
       "<tr><td>Z Bounds</td><td>1.000e+00, 4.000e+00</td></tr>\n",
       "<tr><td>N Arrays</td><td>0</td></tr>\n",
       "</table>\n",
       "\n"
      ],
      "text/plain": [
       "PolyData (0x7feb74df6a60)\n",
       "  N Cells:\t121\n",
       "  N Points:\t121\n",
       "  X Bounds:\t-2.776e-18, 1.000e+00\n",
       "  Y Bounds:\t-2.776e-18, 1.000e+00\n",
       "  Z Bounds:\t1.000e+00, 4.000e+00\n",
       "  N Arrays:\t0"
      ]
     },
     "execution_count": 19,
     "metadata": {},
     "output_type": "execute_result"
    }
   ],
   "source": [
    "plot_data = pyvista.PolyData(data)\n",
    "plot_data"
   ]
  },
  {
   "cell_type": "code",
   "execution_count": 20,
   "metadata": {},
   "outputs": [
    {
     "data": {
      "text/plain": [
       "<matplotlib.collections.PolyCollection at 0x7feb74c58f10>"
      ]
     },
     "execution_count": 20,
     "metadata": {},
     "output_type": "execute_result"
    },
    {
     "data": {
      "image/png": "[encoded data removed]",
      "text/plain": [
       "<Figure size 576x576 with 4 Axes>"
      ]
     },
     "metadata": {
      "needs_background": "light"
     },
     "output_type": "display_data"
    }
   ],
   "source": [
    "levels = np.linspace(z_data.min(), z_data.max(), 10)\n",
    "fig, ax = plt.subplots(2,2,figsize=(8,8))\n",
    "\n",
    "ax[0,0].tripcolor(x_data, y_data, z_data,shading='gouraud')\n",
    "ax[0,1].tricontourf(x_data, y_data, z_data, levels=levels)\n",
    "ax[1,0].tripcolor(x_data, y_data, z_data,shading='flat')\n"
   ]
  },
  {
   "cell_type": "code",
   "execution_count": null,
   "metadata": {},
   "outputs": [],
   "source": []
  }
 ],
 "metadata": {
  "interpreter": {
   "hash": "916dbcbb3f70747c44a77c7bcd40155683ae19c65e1c03b4aa3499c5328201f1"
  },
  "kernelspec": {
   "display_name": "Python 3.9.7 64-bit",
   "language": "python",
   "name": "python3"
  },
  "language_info": {
   "codemirror_mode": {
    "name": "ipython",
    "version": 3
   },
   "file_extension": ".py",
   "mimetype": "text/x-python",
   "name": "python",
   "nbconvert_exporter": "python",
   "pygments_lexer": "ipython3",
   "version": "3.9.7"
  },
  "orig_nbformat": 4
 },
 "nbformat": 4,
 "nbformat_minor": 2
}
