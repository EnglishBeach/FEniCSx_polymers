{
 "cells": [
  {
   "cell_type": "code",
   "execution_count": 1,
   "metadata": {},
   "outputs": [],
   "source": [
    "import dolfinx.mesh as msh\n",
    "import dolfinx.fem as fem\n",
    "import mpi4py.MPI as mpi\n",
    "\n",
    "import dolfinx.plot as dolplot\n",
    "import ufl\n",
    "import pyvista\n",
    "\n",
    "import numpy as np\n",
    "import petsc4py.PETSc as pet"
   ]
  },
  {
   "cell_type": "code",
   "execution_count": 2,
   "metadata": {},
   "outputs": [],
   "source": [
    "import matplotlib.pyplot as plt"
   ]
  },
  {
   "cell_type": "markdown",
   "metadata": {},
   "source": [
    "### Solve"
   ]
  },
  {
   "cell_type": "code",
   "execution_count": 3,
   "metadata": {},
   "outputs": [],
   "source": [
    "domain= msh.create_unit_square ( mpi.COMM_WORLD,10,10, msh.CellType.quadrilateral )\n",
    "space= fem.FunctionSpace(domain, ('CG',1))"
   ]
  },
  {
   "cell_type": "code",
   "execution_count": 4,
   "metadata": {},
   "outputs": [],
   "source": [
    "u0_express=lambda x: 1 + x[0]**2 + 2 * x[1]**2\n",
    "u0 = fem.Function(space)\n",
    "u0.interpolate(u0_express);"
   ]
  },
  {
   "cell_type": "code",
   "execution_count": 5,
   "metadata": {},
   "outputs": [],
   "source": [
    "spacedim= domain.topology.dim\n",
    "domain.topology.create_connectivity(spacedim-1,spacedim)\n",
    "bound_facet=msh.compute_boundary_facets(domain.topology)\n",
    "bound_facet=np.flatnonzero(bound_facet)"
   ]
  },
  {
   "cell_type": "code",
   "execution_count": 6,
   "metadata": {},
   "outputs": [],
   "source": [
    "bound_dofs = fem.locate_dofs_topological(space, spacedim - 1, bound_facet)\n",
    "bc = fem.dirichletbc(u0, bound_dofs)"
   ]
  },
  {
   "cell_type": "code",
   "execution_count": 7,
   "metadata": {},
   "outputs": [],
   "source": [
    "u = ufl.TrialFunction(space)\n",
    "v = ufl.TestFunction(space)"
   ]
  },
  {
   "cell_type": "code",
   "execution_count": 8,
   "metadata": {},
   "outputs": [],
   "source": [
    "f = fem.Constant(domain, np.float64(-6))"
   ]
  },
  {
   "cell_type": "code",
   "execution_count": 9,
   "metadata": {},
   "outputs": [],
   "source": [
    "# Dot = ufl.dot\n",
    "Dot=ufl.inner\n",
    "Grad = ufl.grad\n",
    "dx = ufl.dx\n"
   ]
  },
  {
   "cell_type": "code",
   "execution_count": 10,
   "metadata": {},
   "outputs": [],
   "source": [
    "a = Dot(Grad(u), Grad(v)) *dx\n",
    "L = f * v * dx"
   ]
  },
  {
   "cell_type": "code",
   "execution_count": 11,
   "metadata": {},
   "outputs": [],
   "source": [
    "problem= fem.petsc.LinearProblem(a,L,bcs=[bc],petsc_options={\"ksp_type\": \"preonly\", \"pc_type\": \"lu\"})"
   ]
  },
  {
   "cell_type": "code",
   "execution_count": 12,
   "metadata": {},
   "outputs": [],
   "source": [
    "uh = problem.solve()"
   ]
  },
  {
   "cell_type": "markdown",
   "metadata": {},
   "source": [
    "### Error"
   ]
  },
  {
   "cell_type": "code",
   "execution_count": 13,
   "metadata": {},
   "outputs": [],
   "source": [
    "space2=fem.FunctionSpace(domain,('CG',2))\n",
    "u_extrapol=fem.Function(space2)\n",
    "u_extrapol.interpolate(u0_express)"
   ]
  },
  {
   "cell_type": "code",
   "execution_count": 14,
   "metadata": {},
   "outputs": [
    {
     "name": "stdout",
     "output_type": "stream",
     "text": [
      "Error max: 2.66e-15\n",
      "Error: 5.27e-03\n"
     ]
    }
   ],
   "source": [
    "l2_error= fem.form(Dot(uh-u_extrapol,uh-u_extrapol)*dx)\n",
    "error_local=fem.assemble_scalar(l2_error)\n",
    "erorr_l2=np.sqrt(domain.comm.allreduce(error_local,op=mpi.SUM))\n",
    "\n",
    "error_max= np.max(\n",
    "    np.abs(u0.x.array-uh.x.array)\n",
    ")\n",
    "print(f'Error max: {error_max:.2e}')\n",
    "print(f'Error: {erorr_l2:.2e}')"
   ]
  },
  {
   "cell_type": "markdown",
   "metadata": {},
   "source": [
    "### Visualise pyvista"
   ]
  },
  {
   "cell_type": "code",
   "execution_count": 15,
   "metadata": {},
   "outputs": [],
   "source": [
    "topology,cell_types,geometry = dolplot.create_vtk_mesh(domain,spacedim)\n",
    "grid = pyvista.UnstructuredGrid(topology, cell_types, geometry)"
   ]
  },
  {
   "cell_type": "code",
   "execution_count": 16,
   "metadata": {},
   "outputs": [],
   "source": [
    "import matplotlib.pyplot as plt"
   ]
  },
  {
   "cell_type": "code",
   "execution_count": 17,
   "metadata": {},
   "outputs": [
    {
     "data": {
      "application/vnd.jupyter.widget-view+json": {
       "model_id": "decdd3771bb6464cbd2ab235ce5625c4",
       "version_major": 2,
       "version_minor": 0
      },
      "text/plain": [
       "Renderer(camera=PerspectiveCamera(aspect=1.3333333333333333, children=(DirectionalLight(intensity=0.25, positi…"
      ]
     },
     "metadata": {},
     "output_type": "display_data"
    }
   ],
   "source": [
    "pyvista.set_jupyter_backend(\"pythreejs\")\n",
    "plotter = pyvista.Plotter()\n",
    "plotter.add_mesh(grid, show_edges=True)\n",
    "plotter.view_xy()\n",
    "\n",
    "pyvista.OFF_SCREEN = False\n",
    "if not pyvista.OFF_SCREEN:\n",
    "    plotter.show()\n",
    "else:\n",
    "    pyvista.start_xvfb()\n",
    "    figure = plotter.screenshot(\"fundamentals_mesh.png\")"
   ]
  },
  {
   "cell_type": "code",
   "execution_count": 36,
   "metadata": {},
   "outputs": [],
   "source": [
    "u_topology, u_cell_types, u_geometry = dolplot.create_vtk_mesh(space)   \n",
    "u_grid = pyvista.UnstructuredGrid(u_topology, u_cell_types, u_geometry)\n",
    "u_grid.point_data[\"u\"] = uh.x.array.real\n",
    "u_grid.set_active_scalars(\"u\")\n",
    "u_plotter = pyvista.Plotter()\n",
    "u_plotter.add_mesh(u_grid, show_edges=False)\n",
    "u_plotter.view_xy()\n",
    "if not pyvista.OFF_SCREEN:\n",
    "    1\n",
    "    # u_plotter.show()"
   ]
  },
  {
   "cell_type": "code",
   "execution_count": 42,
   "metadata": {},
   "outputs": [
    {
     "name": "stdout",
     "output_type": "stream",
     "text": [
      "121 121\n"
     ]
    },
    {
     "data": {
      "text/plain": [
       "array([[ 2.77555756e-18,  5.55111512e-18],\n",
       "       [ 2.77555756e-18,  1.00000000e-01],\n",
       "       [ 1.00000000e-01,  5.55111512e-18],\n",
       "       [ 1.00000000e-01,  1.00000000e-01],\n",
       "       [ 2.77555756e-18,  2.00000000e-01],\n",
       "       [ 1.00000000e-01,  2.00000000e-01],\n",
       "       [ 2.00000000e-01,  5.55111512e-18],\n",
       "       [ 2.00000000e-01,  1.00000000e-01],\n",
       "       [ 2.77555756e-18,  3.00000000e-01],\n",
       "       [ 1.00000000e-01,  3.00000000e-01],\n",
       "       [ 2.00000000e-01,  2.00000000e-01],\n",
       "       [ 3.00000000e-01,  5.55111512e-18],\n",
       "       [ 3.00000000e-01,  1.00000000e-01],\n",
       "       [ 2.77555756e-18,  4.00000000e-01],\n",
       "       [ 1.00000000e-01,  4.00000000e-01],\n",
       "       [ 2.00000000e-01,  3.00000000e-01],\n",
       "       [ 3.00000000e-01,  2.00000000e-01],\n",
       "       [ 4.00000000e-01,  5.55111512e-18],\n",
       "       [ 4.00000000e-01,  1.00000000e-01],\n",
       "       [ 2.77555756e-18,  5.00000000e-01],\n",
       "       [ 1.00000000e-01,  5.00000000e-01],\n",
       "       [ 2.00000000e-01,  4.00000000e-01],\n",
       "       [ 3.00000000e-01,  3.00000000e-01],\n",
       "       [ 4.00000000e-01,  2.00000000e-01],\n",
       "       [ 5.00000000e-01,  5.55111512e-18],\n",
       "       [ 5.00000000e-01,  1.00000000e-01],\n",
       "       [ 2.77555756e-18,  6.00000000e-01],\n",
       "       [ 1.00000000e-01,  6.00000000e-01],\n",
       "       [ 2.00000000e-01,  5.00000000e-01],\n",
       "       [ 3.00000000e-01,  4.00000000e-01],\n",
       "       [ 4.00000000e-01,  3.00000000e-01],\n",
       "       [ 5.00000000e-01,  2.00000000e-01],\n",
       "       [ 6.00000000e-01,  5.55111512e-18],\n",
       "       [ 6.00000000e-01,  1.00000000e-01],\n",
       "       [ 2.77555756e-18,  7.00000000e-01],\n",
       "       [ 1.00000000e-01,  7.00000000e-01],\n",
       "       [ 2.00000000e-01,  6.00000000e-01],\n",
       "       [ 3.00000000e-01,  5.00000000e-01],\n",
       "       [ 4.00000000e-01,  4.00000000e-01],\n",
       "       [ 5.00000000e-01,  3.00000000e-01],\n",
       "       [ 6.00000000e-01,  2.00000000e-01],\n",
       "       [ 7.00000000e-01,  5.55111512e-18],\n",
       "       [ 7.00000000e-01,  1.00000000e-01],\n",
       "       [ 2.77555756e-18,  8.00000000e-01],\n",
       "       [ 1.00000000e-01,  8.00000000e-01],\n",
       "       [ 2.00000000e-01,  7.00000000e-01],\n",
       "       [ 3.00000000e-01,  6.00000000e-01],\n",
       "       [ 4.00000000e-01,  5.00000000e-01],\n",
       "       [ 5.00000000e-01,  4.00000000e-01],\n",
       "       [ 6.00000000e-01,  3.00000000e-01],\n",
       "       [ 7.00000000e-01,  2.00000000e-01],\n",
       "       [ 8.00000000e-01,  5.55111512e-18],\n",
       "       [ 8.00000000e-01,  1.00000000e-01],\n",
       "       [ 2.77555756e-18,  9.00000000e-01],\n",
       "       [ 1.00000000e-01,  9.00000000e-01],\n",
       "       [ 2.00000000e-01,  8.00000000e-01],\n",
       "       [ 3.00000000e-01,  7.00000000e-01],\n",
       "       [ 4.00000000e-01,  6.00000000e-01],\n",
       "       [ 5.00000000e-01,  5.00000000e-01],\n",
       "       [ 6.00000000e-01,  4.00000000e-01],\n",
       "       [ 7.00000000e-01,  3.00000000e-01],\n",
       "       [ 8.00000000e-01,  2.00000000e-01],\n",
       "       [ 9.00000000e-01,  5.55111512e-18],\n",
       "       [ 9.00000000e-01,  1.00000000e-01],\n",
       "       [-2.77555756e-18,  1.00000000e+00],\n",
       "       [ 1.00000000e-01,  1.00000000e+00],\n",
       "       [ 2.00000000e-01,  9.00000000e-01],\n",
       "       [ 3.00000000e-01,  8.00000000e-01],\n",
       "       [ 4.00000000e-01,  7.00000000e-01],\n",
       "       [ 5.00000000e-01,  6.00000000e-01],\n",
       "       [ 6.00000000e-01,  5.00000000e-01],\n",
       "       [ 7.00000000e-01,  4.00000000e-01],\n",
       "       [ 8.00000000e-01,  3.00000000e-01],\n",
       "       [ 9.00000000e-01,  2.00000000e-01],\n",
       "       [ 1.00000000e+00, -2.77555756e-18],\n",
       "       [ 1.00000000e+00,  1.00000000e-01],\n",
       "       [ 2.00000000e-01,  1.00000000e+00],\n",
       "       [ 3.00000000e-01,  9.00000000e-01],\n",
       "       [ 4.00000000e-01,  8.00000000e-01],\n",
       "       [ 5.00000000e-01,  7.00000000e-01],\n",
       "       [ 6.00000000e-01,  6.00000000e-01],\n",
       "       [ 7.00000000e-01,  5.00000000e-01],\n",
       "       [ 8.00000000e-01,  4.00000000e-01],\n",
       "       [ 9.00000000e-01,  3.00000000e-01],\n",
       "       [ 1.00000000e+00,  2.00000000e-01],\n",
       "       [ 3.00000000e-01,  1.00000000e+00],\n",
       "       [ 4.00000000e-01,  9.00000000e-01],\n",
       "       [ 5.00000000e-01,  8.00000000e-01],\n",
       "       [ 6.00000000e-01,  7.00000000e-01],\n",
       "       [ 7.00000000e-01,  6.00000000e-01],\n",
       "       [ 8.00000000e-01,  5.00000000e-01],\n",
       "       [ 9.00000000e-01,  4.00000000e-01],\n",
       "       [ 1.00000000e+00,  3.00000000e-01],\n",
       "       [ 4.00000000e-01,  1.00000000e+00],\n",
       "       [ 5.00000000e-01,  9.00000000e-01],\n",
       "       [ 6.00000000e-01,  8.00000000e-01],\n",
       "       [ 7.00000000e-01,  7.00000000e-01],\n",
       "       [ 8.00000000e-01,  6.00000000e-01],\n",
       "       [ 9.00000000e-01,  5.00000000e-01],\n",
       "       [ 1.00000000e+00,  4.00000000e-01],\n",
       "       [ 5.00000000e-01,  1.00000000e+00],\n",
       "       [ 6.00000000e-01,  9.00000000e-01],\n",
       "       [ 7.00000000e-01,  8.00000000e-01],\n",
       "       [ 8.00000000e-01,  7.00000000e-01],\n",
       "       [ 9.00000000e-01,  6.00000000e-01],\n",
       "       [ 1.00000000e+00,  5.00000000e-01],\n",
       "       [ 6.00000000e-01,  1.00000000e+00],\n",
       "       [ 7.00000000e-01,  9.00000000e-01],\n",
       "       [ 8.00000000e-01,  8.00000000e-01],\n",
       "       [ 9.00000000e-01,  7.00000000e-01],\n",
       "       [ 1.00000000e+00,  6.00000000e-01],\n",
       "       [ 7.00000000e-01,  1.00000000e+00],\n",
       "       [ 8.00000000e-01,  9.00000000e-01],\n",
       "       [ 9.00000000e-01,  8.00000000e-01],\n",
       "       [ 1.00000000e+00,  7.00000000e-01],\n",
       "       [ 8.00000000e-01,  1.00000000e+00],\n",
       "       [ 9.00000000e-01,  9.00000000e-01],\n",
       "       [ 1.00000000e+00,  8.00000000e-01],\n",
       "       [ 9.00000000e-01,  1.00000000e+00],\n",
       "       [ 1.00000000e+00,  9.00000000e-01],\n",
       "       [ 1.00000000e+00,  1.00000000e+00]])"
      ]
     },
     "execution_count": 42,
     "metadata": {},
     "output_type": "execute_result"
    }
   ],
   "source": [
    "u_topology, u_cell_types, u_geometry=dolplot.create_vtk_mesh(space) \n",
    "print(\n",
    "len(u_geometry),\n",
    "len(uh.x.array),\n",
    ")\n",
    "\n",
    "u_geometry[:,0:2]"
   ]
  },
  {
   "cell_type": "code",
   "execution_count": 34,
   "metadata": {},
   "outputs": [
    {
     "data": {
      "text/html": [
       "<table><tr><th>Header</th><th>Data Arrays</th></tr><tr><td>\n",
       "<table>\n",
       "<tr><th>UnstructuredGrid</th><th>Information</th></tr>\n",
       "<tr><td>N Cells</td><td>100</td></tr>\n",
       "<tr><td>N Points</td><td>121</td></tr>\n",
       "<tr><td>X Bounds</td><td>-2.776e-18, 1.000e+00</td></tr>\n",
       "<tr><td>Y Bounds</td><td>-2.776e-18, 1.000e+00</td></tr>\n",
       "<tr><td>Z Bounds</td><td>0.000e+00, 0.000e+00</td></tr>\n",
       "<tr><td>N Arrays</td><td>1</td></tr>\n",
       "</table>\n",
       "\n",
       "</td><td>\n",
       "<table>\n",
       "<tr><th>Name</th><th>Field</th><th>Type</th><th>N Comp</th><th>Min</th><th>Max</th></tr>\n",
       "<tr><td><b>u</b></td><td>Points</td><td>float64</td><td>1</td><td>1.000e+00</td><td>4.000e+00</td></tr>\n",
       "</table>\n",
       "\n",
       "</td></tr> </table>"
      ],
      "text/plain": [
       "UnstructuredGrid (0x7f54d69e6a60)\n",
       "  N Cells:\t100\n",
       "  N Points:\t121\n",
       "  X Bounds:\t-2.776e-18, 1.000e+00\n",
       "  Y Bounds:\t-2.776e-18, 1.000e+00\n",
       "  Z Bounds:\t0.000e+00, 0.000e+00\n",
       "  N Arrays:\t1"
      ]
     },
     "execution_count": 34,
     "metadata": {},
     "output_type": "execute_result"
    }
   ],
   "source": [
    "u_grid"
   ]
  },
  {
   "cell_type": "code",
   "execution_count": 19,
   "metadata": {},
   "outputs": [
    {
     "data": {
      "application/vnd.jupyter.widget-view+json": {
       "model_id": "034d57672c65429e9549496eef0b4dec",
       "version_major": 2,
       "version_minor": 0
      },
      "text/plain": [
       "AppLayout(children=(VBox(children=(HTML(value='<h3>u</h3>'), Dropdown(description='Colormap:', options={'BrBG'…"
      ]
     },
     "metadata": {},
     "output_type": "display_data"
    }
   ],
   "source": [
    "if not pyvista.OFF_SCREEN:\n",
    "    warped = u_grid.warp_by_scalar()\n",
    "    plotter2 = pyvista.Plotter()\n",
    "    plotter2.add_mesh(warped, show_edges=True, show_scalar_bar=True)\n",
    "    plotter2.show(jupyter_backend=\"ipygany\")"
   ]
  },
  {
   "cell_type": "code",
   "execution_count": 20,
   "metadata": {},
   "outputs": [],
   "source": [
    "from dolfinx import io\n",
    "with io.VTKFile(domain.comm, \"output.pvd\", \"w\") as vtk:\n",
    "    vtk.write([uh._cpp_object])\n",
    "with io.XDMFFile(domain.comm, \"output.xdmf\", \"w\") as xdmf:\n",
    "    xdmf.write_mesh(domain)\n",
    "    xdmf.write_function(uh)"
   ]
  },
  {
   "cell_type": "markdown",
   "metadata": {},
   "source": [
    "### Visualise Matplot"
   ]
  },
  {
   "cell_type": "code",
   "execution_count": null,
   "metadata": {},
   "outputs": [],
   "source": []
  }
 ],
 "metadata": {
  "interpreter": {
   "hash": "916dbcbb3f70747c44a77c7bcd40155683ae19c65e1c03b4aa3499c5328201f1"
  },
  "kernelspec": {
   "display_name": "Python 3.9.7 64-bit",
   "language": "python",
   "name": "python3"
  },
  "language_info": {
   "codemirror_mode": {
    "name": "ipython",
    "version": 3
   },
   "file_extension": ".py",
   "mimetype": "text/x-python",
   "name": "python",
   "nbconvert_exporter": "python",
   "pygments_lexer": "ipython3",
   "version": "3.9.7"
  },
  "orig_nbformat": 4
 },
 "nbformat": 4,
 "nbformat_minor": 2
}
