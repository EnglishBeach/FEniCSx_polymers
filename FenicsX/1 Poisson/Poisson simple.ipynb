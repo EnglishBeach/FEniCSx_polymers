{
 "cells": [
  {
   "cell_type": "code",
   "execution_count": 1,
   "metadata": {},
   "outputs": [],
   "source": [
    "import dolfinx.mesh as msh\n",
    "import dolfinx.fem as fem\n",
    "import mpi4py.MPI as mpi\n",
    "\n",
    "import dolfinx.plot as dolplot\n",
    "import ufl\n",
    "import pyvista\n",
    "\n",
    "import numpy as np\n",
    "import petsc4py.PETSc as pet"
   ]
  },
  {
   "cell_type": "code",
   "execution_count": 2,
   "metadata": {},
   "outputs": [],
   "source": [
    "import matplotlib.pyplot as plt"
   ]
  },
  {
   "cell_type": "markdown",
   "metadata": {},
   "source": [
    "### Solve"
   ]
  },
  {
   "cell_type": "code",
   "execution_count": 3,
   "metadata": {},
   "outputs": [],
   "source": [
    "domain= msh.create_unit_square ( mpi.COMM_WORLD,10,10, msh.CellType.quadrilateral )\n",
    "space= fem.FunctionSpace(domain, ('CG',1))"
   ]
  },
  {
   "cell_type": "code",
   "execution_count": 4,
   "metadata": {},
   "outputs": [],
   "source": [
    "u0_express=lambda x: 1 + x[0]**2 + 2 * x[1]**2\n",
    "u0 = fem.Function(space)\n",
    "u0.interpolate(u0_express);"
   ]
  },
  {
   "cell_type": "code",
   "execution_count": 5,
   "metadata": {},
   "outputs": [],
   "source": [
    "spacedim= domain.topology.dim\n",
    "domain.topology.create_connectivity(spacedim-1,spacedim)\n",
    "bound_facet=msh.compute_boundary_facets(domain.topology)\n",
    "bound_facet=np.flatnonzero(bound_facet)"
   ]
  },
  {
   "cell_type": "code",
   "execution_count": 6,
   "metadata": {},
   "outputs": [],
   "source": [
    "bound_dofs = fem.locate_dofs_topological(space, spacedim - 1, bound_facet)\n",
    "bc = fem.dirichletbc(u0, bound_dofs)"
   ]
  },
  {
   "cell_type": "code",
   "execution_count": 7,
   "metadata": {},
   "outputs": [],
   "source": [
    "u = ufl.TrialFunction(space)\n",
    "v = ufl.TestFunction(space)"
   ]
  },
  {
   "cell_type": "code",
   "execution_count": 8,
   "metadata": {},
   "outputs": [],
   "source": [
    "f = fem.Constant(domain, np.float64(-6))"
   ]
  },
  {
   "cell_type": "code",
   "execution_count": 9,
   "metadata": {},
   "outputs": [],
   "source": [
    "# Dot = ufl.dot\n",
    "Dot=ufl.inner\n",
    "Grad = ufl.grad\n",
    "dx = ufl.dx\n"
   ]
  },
  {
   "cell_type": "code",
   "execution_count": 10,
   "metadata": {},
   "outputs": [],
   "source": [
    "a = Dot(Grad(u), Grad(v)) *dx\n",
    "L = f * v * dx"
   ]
  },
  {
   "cell_type": "code",
   "execution_count": 11,
   "metadata": {},
   "outputs": [],
   "source": [
    "problem= fem.petsc.LinearProblem(a,L,bcs=[bc],petsc_options={\"ksp_type\": \"preonly\", \"pc_type\": \"lu\"})"
   ]
  },
  {
   "cell_type": "code",
   "execution_count": 12,
   "metadata": {},
   "outputs": [],
   "source": [
    "uh = problem.solve()"
   ]
  },
  {
   "cell_type": "markdown",
   "metadata": {},
   "source": [
    "### Error"
   ]
  },
  {
   "cell_type": "code",
   "execution_count": 13,
   "metadata": {},
   "outputs": [],
   "source": [
    "space2=fem.FunctionSpace(domain,('CG',2))\n",
    "u_extrapol=fem.Function(space2)\n",
    "u_extrapol.interpolate(u0_express)"
   ]
  },
  {
   "cell_type": "code",
   "execution_count": 14,
   "metadata": {},
   "outputs": [
    {
     "name": "stdout",
     "output_type": "stream",
     "text": [
      "Error max: 2.66e-15\n",
      "Error: 5.27e-03\n"
     ]
    }
   ],
   "source": [
    "l2_error= fem.form(Dot(uh-u_extrapol,uh-u_extrapol)*dx)\n",
    "error_local=fem.assemble_scalar(l2_error)\n",
    "erorr_l2=np.sqrt(domain.comm.allreduce(error_local,op=mpi.SUM))\n",
    "\n",
    "error_max= np.max(\n",
    "    np.abs(u0.x.array-uh.x.array)\n",
    ")\n",
    "print(f'Error max: {error_max:.2e}')\n",
    "print(f'Error: {erorr_l2:.2e}')"
   ]
  },
  {
   "cell_type": "markdown",
   "metadata": {},
   "source": [
    "### Visualise pyvista"
   ]
  },
  {
   "cell_type": "code",
   "execution_count": 15,
   "metadata": {},
   "outputs": [
    {
     "data": {
      "application/vnd.jupyter.widget-view+json": {
       "model_id": "6ab277143e5543daa1c64febbac51466",
       "version_major": 2,
       "version_minor": 0
      },
      "text/plain": [
       "Renderer(camera=PerspectiveCamera(aspect=1.3333333333333333, children=(DirectionalLight(intensity=0.25, positi…"
      ]
     },
     "metadata": {},
     "output_type": "display_data"
    }
   ],
   "source": [
    "u_topology, u_cell_types, u_geometry = dolplot.create_vtk_mesh(space)   \n",
    "u_grid = pyvista.UnstructuredGrid(u_topology, u_cell_types, u_geometry)\n",
    "\n",
    "pyvista.set_jupyter_backend(\"pythreejs\")\n",
    "u_grid.point_data[\"u\"] = uh.x.array.real\n",
    "u_grid.set_active_scalars(\"u\")\n",
    "u_plotter = pyvista.Plotter()\n",
    "u_plotter.add_mesh(u_grid, show_edges=True)\n",
    "u_plotter.view_xy()\n",
    "\n",
    "pyvista.OFF_SCREEN = False\n",
    "if not pyvista.OFF_SCREEN:\n",
    "    u_plotter.show()\n",
    "else:\n",
    "    pyvista.start_xvfb()\n",
    "    figure = u_plotter.screenshot(\"fundamentals_mesh.png\")    "
   ]
  },
  {
   "cell_type": "code",
   "execution_count": 16,
   "metadata": {},
   "outputs": [
    {
     "data": {
      "application/vnd.jupyter.widget-view+json": {
       "model_id": "ecf9e0b0a4dd4235982b9ee612a774b0",
       "version_major": 2,
       "version_minor": 0
      },
      "text/plain": [
       "AppLayout(children=(VBox(children=(HTML(value='<h3>u</h3>'), Dropdown(description='Colormap:', options={'BrBG'…"
      ]
     },
     "metadata": {},
     "output_type": "display_data"
    }
   ],
   "source": [
    "if not pyvista.OFF_SCREEN:\n",
    "    warped = u_grid.warp_by_scalar()\n",
    "    plotter2 = pyvista.Plotter()\n",
    "    plotter2.add_mesh(warped, show_edges=True, show_scalar_bar=True)\n",
    "    plotter2.show(jupyter_backend=\"ipygany\")"
   ]
  },
  {
   "cell_type": "code",
   "execution_count": 17,
   "metadata": {},
   "outputs": [],
   "source": [
    "from dolfinx import io\n",
    "with io.VTKFile(domain.comm, \"output.pvd\", \"w\") as vtk:\n",
    "    vtk.write([uh._cpp_object])\n",
    "with io.XDMFFile(domain.comm, \"output.xdmf\", \"w\") as xdmf:\n",
    "    xdmf.write_mesh(domain)\n",
    "    xdmf.write_function(uh)"
   ]
  },
  {
   "cell_type": "code",
   "execution_count": 18,
   "metadata": {},
   "outputs": [
    {
     "data": {
      "text/plain": [
       "array([1.  , 1.02, 1.01, 1.03, 1.08, 1.09, 1.04, 1.06, 1.18, 1.19, 1.12,\n",
       "       1.09, 1.11, 1.32, 1.33, 1.22, 1.17, 1.16, 1.18, 1.5 , 1.51, 1.36,\n",
       "       1.27, 1.24, 1.25, 1.27, 1.72, 1.73, 1.54, 1.41, 1.34, 1.33, 1.36,\n",
       "       1.38, 1.98, 1.99, 1.76, 1.59, 1.48, 1.43, 1.44, 1.49, 1.51, 2.28,\n",
       "       2.29, 2.02, 1.81, 1.66, 1.57, 1.54, 1.57, 1.64, 1.66, 2.62, 2.63,\n",
       "       2.32, 2.07, 1.88, 1.75, 1.68, 1.67, 1.72, 1.81, 1.83, 3.  , 3.01,\n",
       "       2.66, 2.37, 2.14, 1.97, 1.86, 1.81, 1.82, 1.89, 2.  , 2.02, 3.04,\n",
       "       2.71, 2.44, 2.23, 2.08, 1.99, 1.96, 1.99, 2.08, 3.09, 2.78, 2.53,\n",
       "       2.34, 2.21, 2.14, 2.13, 2.18, 3.16, 2.87, 2.64, 2.47, 2.36, 2.31,\n",
       "       2.32, 3.25, 2.98, 2.77, 2.62, 2.53, 2.5 , 3.36, 3.11, 2.92, 2.79,\n",
       "       2.72, 3.49, 3.26, 3.09, 2.98, 3.64, 3.43, 3.28, 3.81, 3.62, 4.  ])"
      ]
     },
     "execution_count": 18,
     "metadata": {},
     "output_type": "execute_result"
    }
   ],
   "source": [
    "uh.x.array"
   ]
  },
  {
   "cell_type": "markdown",
   "metadata": {},
   "source": [
    "### Visualise Matplot"
   ]
  },
  {
   "cell_type": "code",
   "execution_count": 22,
   "metadata": {},
   "outputs": [
    {
     "name": "stdout",
     "output_type": "stream",
     "text": [
      "121 121\n"
     ]
    }
   ],
   "source": [
    "u_topology, u_cell_types, u_geometry=dolplot.create_vtk_mesh(space) \n",
    "print(\n",
    "len(u_geometry),\n",
    "len(uh.x.array),\n",
    ")\n",
    "\n",
    "data=np.column_stack((u_geometry[:,0:2],uh.x.array))"
   ]
  },
  {
   "cell_type": "code",
   "execution_count": 26,
   "metadata": {},
   "outputs": [
    {
     "ename": "ValueError",
     "evalue": "not enough values to unpack (expected 2, got 1)",
     "output_type": "error",
     "traceback": [
      "\u001b[0;31m---------------------------------------------------------------------------\u001b[0m",
      "\u001b[0;31mValueError\u001b[0m                                Traceback (most recent call last)",
      "\u001b[1;32m/home/PolimerSolve/FenicsX/1 Poisson/Poisson simple.ipynb Cell 24'\u001b[0m in \u001b[0;36m<cell line: 3>\u001b[0;34m()\u001b[0m\n\u001b[1;32m      <a href='vscode-notebook-cell://attached-container%2B7b22636f6e7461696e65724e616d65223a222f4d7946456e69435378227d/home/PolimerSolve/FenicsX/1%20Poisson/Poisson%20simple.ipynb#ch0000036vscode-remote?line=0'>1</a>\u001b[0m fig, ax \u001b[39m=\u001b[39m plt\u001b[39m.\u001b[39msubplots(\u001b[39m1\u001b[39m, \u001b[39m1\u001b[39m, figsize\u001b[39m=\u001b[39m(\u001b[39m9\u001b[39m, \u001b[39m9\u001b[39m))\n\u001b[1;32m      <a href='vscode-notebook-cell://attached-container%2B7b22636f6e7461696e65724e616d65223a222f4d7946456e69435378227d/home/PolimerSolve/FenicsX/1%20Poisson/Poisson%20simple.ipynb#ch0000036vscode-remote?line=1'>2</a>\u001b[0m fig\u001b[39m.\u001b[39mset_facecolor(\u001b[39m'\u001b[39m\u001b[39m#BBB\u001b[39m\u001b[39m'\u001b[39m)\n\u001b[0;32m----> <a href='vscode-notebook-cell://attached-container%2B7b22636f6e7461696e65724e616d65223a222f4d7946456e69435378227d/home/PolimerSolve/FenicsX/1%20Poisson/Poisson%20simple.ipynb#ch0000036vscode-remote?line=2'>3</a>\u001b[0m ax\u001b[39m.\u001b[39;49mpcolormesh(data[:,\u001b[39m0\u001b[39;49m],data[:,\u001b[39m1\u001b[39;49m],data[:,\u001b[39m2\u001b[39;49m])\n",
      "File \u001b[0;32m/usr/local/lib/python3.9/dist-packages/matplotlib/__init__.py:1412\u001b[0m, in \u001b[0;36m_preprocess_data.<locals>.inner\u001b[0;34m(ax, data, *args, **kwargs)\u001b[0m\n\u001b[1;32m   <a href='file:///usr/local/lib/python3.9/dist-packages/matplotlib/__init__.py?line=1408'>1409</a>\u001b[0m \u001b[39m@functools\u001b[39m\u001b[39m.\u001b[39mwraps(func)\n\u001b[1;32m   <a href='file:///usr/local/lib/python3.9/dist-packages/matplotlib/__init__.py?line=1409'>1410</a>\u001b[0m \u001b[39mdef\u001b[39;00m \u001b[39minner\u001b[39m(ax, \u001b[39m*\u001b[39margs, data\u001b[39m=\u001b[39m\u001b[39mNone\u001b[39;00m, \u001b[39m*\u001b[39m\u001b[39m*\u001b[39mkwargs):\n\u001b[1;32m   <a href='file:///usr/local/lib/python3.9/dist-packages/matplotlib/__init__.py?line=1410'>1411</a>\u001b[0m     \u001b[39mif\u001b[39;00m data \u001b[39mis\u001b[39;00m \u001b[39mNone\u001b[39;00m:\n\u001b[0;32m-> <a href='file:///usr/local/lib/python3.9/dist-packages/matplotlib/__init__.py?line=1411'>1412</a>\u001b[0m         \u001b[39mreturn\u001b[39;00m func(ax, \u001b[39m*\u001b[39;49m\u001b[39mmap\u001b[39;49m(sanitize_sequence, args), \u001b[39m*\u001b[39;49m\u001b[39m*\u001b[39;49mkwargs)\n\u001b[1;32m   <a href='file:///usr/local/lib/python3.9/dist-packages/matplotlib/__init__.py?line=1413'>1414</a>\u001b[0m     bound \u001b[39m=\u001b[39m new_sig\u001b[39m.\u001b[39mbind(ax, \u001b[39m*\u001b[39margs, \u001b[39m*\u001b[39m\u001b[39m*\u001b[39mkwargs)\n\u001b[1;32m   <a href='file:///usr/local/lib/python3.9/dist-packages/matplotlib/__init__.py?line=1414'>1415</a>\u001b[0m     auto_label \u001b[39m=\u001b[39m (bound\u001b[39m.\u001b[39marguments\u001b[39m.\u001b[39mget(label_namer)\n\u001b[1;32m   <a href='file:///usr/local/lib/python3.9/dist-packages/matplotlib/__init__.py?line=1415'>1416</a>\u001b[0m                   \u001b[39mor\u001b[39;00m bound\u001b[39m.\u001b[39mkwargs\u001b[39m.\u001b[39mget(label_namer))\n",
      "File \u001b[0;32m/usr/local/lib/python3.9/dist-packages/matplotlib/axes/_axes.py:6062\u001b[0m, in \u001b[0;36mAxes.pcolormesh\u001b[0;34m(self, alpha, norm, cmap, vmin, vmax, shading, antialiased, *args, **kwargs)\u001b[0m\n\u001b[1;32m   <a href='file:///usr/local/lib/python3.9/dist-packages/matplotlib/axes/_axes.py?line=6058'>6059</a>\u001b[0m shading \u001b[39m=\u001b[39m shading\u001b[39m.\u001b[39mlower()\n\u001b[1;32m   <a href='file:///usr/local/lib/python3.9/dist-packages/matplotlib/axes/_axes.py?line=6059'>6060</a>\u001b[0m kwargs\u001b[39m.\u001b[39msetdefault(\u001b[39m'\u001b[39m\u001b[39medgecolors\u001b[39m\u001b[39m'\u001b[39m, \u001b[39m'\u001b[39m\u001b[39mnone\u001b[39m\u001b[39m'\u001b[39m)\n\u001b[0;32m-> <a href='file:///usr/local/lib/python3.9/dist-packages/matplotlib/axes/_axes.py?line=6061'>6062</a>\u001b[0m X, Y, C, shading \u001b[39m=\u001b[39m \u001b[39mself\u001b[39;49m\u001b[39m.\u001b[39;49m_pcolorargs(\u001b[39m'\u001b[39;49m\u001b[39mpcolormesh\u001b[39;49m\u001b[39m'\u001b[39;49m, \u001b[39m*\u001b[39;49margs,\n\u001b[1;32m   <a href='file:///usr/local/lib/python3.9/dist-packages/matplotlib/axes/_axes.py?line=6062'>6063</a>\u001b[0m                                     shading\u001b[39m=\u001b[39;49mshading, kwargs\u001b[39m=\u001b[39;49mkwargs)\n\u001b[1;32m   <a href='file:///usr/local/lib/python3.9/dist-packages/matplotlib/axes/_axes.py?line=6063'>6064</a>\u001b[0m coords \u001b[39m=\u001b[39m np\u001b[39m.\u001b[39mstack([X, Y], axis\u001b[39m=\u001b[39m\u001b[39m-\u001b[39m\u001b[39m1\u001b[39m)\n\u001b[1;32m   <a href='file:///usr/local/lib/python3.9/dist-packages/matplotlib/axes/_axes.py?line=6064'>6065</a>\u001b[0m \u001b[39m# convert to one dimensional array\u001b[39;00m\n",
      "File \u001b[0;32m/usr/local/lib/python3.9/dist-packages/matplotlib/axes/_axes.py:5550\u001b[0m, in \u001b[0;36mAxes._pcolorargs\u001b[0;34m(self, funcname, shading, *args, **kwargs)\u001b[0m\n\u001b[1;32m   <a href='file:///usr/local/lib/python3.9/dist-packages/matplotlib/axes/_axes.py?line=5547'>5548</a>\u001b[0m         \u001b[39mif\u001b[39;00m \u001b[39misinstance\u001b[39m(Y, np\u001b[39m.\u001b[39mma\u001b[39m.\u001b[39mcore\u001b[39m.\u001b[39mMaskedArray):\n\u001b[1;32m   <a href='file:///usr/local/lib/python3.9/dist-packages/matplotlib/axes/_axes.py?line=5548'>5549</a>\u001b[0m             Y \u001b[39m=\u001b[39m Y\u001b[39m.\u001b[39mdata\n\u001b[0;32m-> <a href='file:///usr/local/lib/python3.9/dist-packages/matplotlib/axes/_axes.py?line=5549'>5550</a>\u001b[0m     nrows, ncols \u001b[39m=\u001b[39m C\u001b[39m.\u001b[39mshape\n\u001b[1;32m   <a href='file:///usr/local/lib/python3.9/dist-packages/matplotlib/axes/_axes.py?line=5550'>5551</a>\u001b[0m \u001b[39melse\u001b[39;00m:\n\u001b[1;32m   <a href='file:///usr/local/lib/python3.9/dist-packages/matplotlib/axes/_axes.py?line=5551'>5552</a>\u001b[0m     \u001b[39mraise\u001b[39;00m \u001b[39mTypeError\u001b[39;00m(\u001b[39mf\u001b[39m\u001b[39m'\u001b[39m\u001b[39m{\u001b[39;00mfuncname\u001b[39m}\u001b[39;00m\u001b[39m() takes 1 or 3 positional arguments \u001b[39m\u001b[39m'\u001b[39m\n\u001b[1;32m   <a href='file:///usr/local/lib/python3.9/dist-packages/matplotlib/axes/_axes.py?line=5552'>5553</a>\u001b[0m                     \u001b[39mf\u001b[39m\u001b[39m'\u001b[39m\u001b[39mbut \u001b[39m\u001b[39m{\u001b[39;00m\u001b[39mlen\u001b[39m(args)\u001b[39m}\u001b[39;00m\u001b[39m were given\u001b[39m\u001b[39m'\u001b[39m)\n",
      "\u001b[0;31mValueError\u001b[0m: not enough values to unpack (expected 2, got 1)"
     ]
    },
    {
     "data": {
      "image/png": "[encoded data removed]",
      "text/plain": [
       "<Figure size 648x648 with 1 Axes>"
      ]
     },
     "metadata": {},
     "output_type": "display_data"
    }
   ],
   "source": [
    "fig, ax = plt.subplots(1, 1, figsize=(9, 9))\n",
    "fig.set_facecolor('#BBB')\n",
    "# ax.pcolormesh(data[:,0],data[:,1],data[:,2])\n",
    "ax.pcolormesh([1,2,3],)\n"
   ]
  },
  {
   "cell_type": "code",
   "execution_count": 27,
   "metadata": {},
   "outputs": [
    {
     "data": {
      "image/png": "[encoded data removed]",
      "text/plain": [
       "<Figure size 144x144 with 1 Axes>"
      ]
     },
     "metadata": {
      "needs_background": "light"
     },
     "output_type": "display_data"
    }
   ],
   "source": [
    "import matplotlib.pyplot as plt\n",
    "import numpy as np\n",
    "\n",
    "plt.style.use('_mpl-gallery-nogrid')\n",
    "\n",
    "# make data with uneven sampling in x\n",
    "x = [-3, -2, -1.6, -1.2, -.8, -.5, -.2, .1, .3, .5, .8, 1.1, 1.5, 1.9, 2.3, 3]\n",
    "X, Y = np.meshgrid(x, np.linspace(-3, 3, 128))\n",
    "Z = (1 - X/2 + X**5 + Y**3) * np.exp(-X**2 - Y**2)\n",
    "\n",
    "# plot\n",
    "fig, ax = plt.subplots()\n",
    "\n",
    "ax.pcolormesh(X, Y, Z, vmin=-0.5, vmax=1.0)\n",
    "\n",
    "plt.show()"
   ]
  },
  {
   "cell_type": "code",
   "execution_count": null,
   "metadata": {},
   "outputs": [],
   "source": []
  }
 ],
 "metadata": {
  "interpreter": {
   "hash": "916dbcbb3f70747c44a77c7bcd40155683ae19c65e1c03b4aa3499c5328201f1"
  },
  "kernelspec": {
   "display_name": "Python 3.9.7 64-bit",
   "language": "python",
   "name": "python3"
  },
  "language_info": {
   "codemirror_mode": {
    "name": "ipython",
    "version": 3
   },
   "file_extension": ".py",
   "mimetype": "text/x-python",
   "name": "python",
   "nbconvert_exporter": "python",
   "pygments_lexer": "ipython3",
   "version": "3.9.7"
  },
  "orig_nbformat": 4
 },
 "nbformat": 4,
 "nbformat_minor": 2
}
