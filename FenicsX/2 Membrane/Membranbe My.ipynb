{
    "cells": [
        {
            "cell_type": "code",
            "execution_count": 1,
            "metadata": {},
            "outputs": [],
            "source": [
                "import dolfinx.fem as fem\n",
                "import dolfinx.mesh as mesh\n",
                "import dolfinx.cpp as cpp\n",
                "import dolfinx as dlf\n",
                "from dolfinx.plot import create_vtk_mesh \n",
                "from dolfinx import io\n",
                "import mpi4py.MPI as mpi\n",
                "\n",
                "import pyvista as pv\n",
                "import matplotlib.pyplot as plt\n",
                "\n",
                "import ufl\n",
                "import gmsh\n",
                "from dolfinx import geometry\n",
                "\n",
                "import numpy as np\n",
                "\n",
                "import ipywidgets.widgets as wdg"
            ]
        },
        {
            "cell_type": "code",
            "execution_count": 2,
            "metadata": {},
            "outputs": [
                {
                    "name": "stdout",
                    "output_type": "stream",
                    "text": [
                        "Info    : Meshing 1D...\n",
                        "Info    : Meshing curve 1 (Ellipse)\n",
                        "Info    : Done meshing 1D (Wall 0.0030718s, CPU 0.004111s)\n",
                        "Info    : Meshing 2D...\n",
                        "Info    : Meshing surface 1 (Plane, Frontal-Delaunay)\n",
                        "Info    : Done meshing 2D (Wall 0.103559s, CPU 0.104358s)\n",
                        "Info    : 1550 nodes 3099 elements\n"
                    ]
                }
            ],
            "source": [
                "gmsh.initialize()\n",
                "membrane = gmsh.model.occ.add_disk(0, 0, 0, 1, 1)\n",
                "gmsh.model.occ.synchronize()\n",
                "gdim = 2\n",
                "status = gmsh.model.addPhysicalGroup(gdim, [membrane], 1)\n",
                "gmsh.option.setNumber(\"Mesh.CharacteristicLengthMin\", 0.05)\n",
                "gmsh.option.setNumber(\"Mesh.CharacteristicLengthMax\", 0.05)\n",
                "gmsh.model.mesh.generate(gdim)\n",
                "if mpi.COMM_WORLD.rank == 0:\n",
                "    geometry_data = io.extract_gmsh_geometry(gmsh.model)\n",
                "    topology_data = io.extract_gmsh_topology_and_markers(gmsh.model)\n",
                "\n",
                "if mpi.COMM_WORLD.rank == 0:\n",
                "    # Extract the cell type and number of nodes per cell and broadcast\n",
                "    # it to the other processors\n",
                "    gmsh_cell_type = list(topology_data.keys())[0]\n",
                "    properties = gmsh.model.mesh.getElementProperties(gmsh_cell_type)\n",
                "    name, dim, order, num_nodes, local_coords, _ = properties\n",
                "    cells = topology_data[gmsh_cell_type][\"topology\"]\n",
                "    cell_id, num_nodes = mpi.COMM_WORLD.bcast([gmsh_cell_type, num_nodes],root=0)\n",
                "else:\n",
                "    cell_id, num_nodes = mpi.COMM_WORLD.bcast([None, None], root=0)\n",
                "    cells, geometry_data = np.empty([0, num_nodes]), np.empty([0, gdim])\n",
                "\n",
                "ufl_domain = io.ufl_mesh_from_gmsh(cell_id, gdim)\n",
                "gmsh_cell_perm = io.cell_perm_gmsh(\n",
                "    cpp.mesh.to_type(str(ufl_domain.ufl_cell())), num_nodes)\n",
                "cells = cells[:, gmsh_cell_perm]\n",
                "domain = mesh.create_mesh(mpi.COMM_WORLD, cells, geometry_data[:, :gdim],\n",
                "                          ufl_domain)\n"
            ]
        },
        {
            "cell_type": "code",
            "execution_count": 3,
            "metadata": {},
            "outputs": [],
            "source": [
                "space_v = fem.FunctionSpace(domain, ('CG', 1))\n",
                "space_p=fem.FunctionSpace(domain, ('CG', 5))\n",
                "x = ufl.SpatialCoordinate(domain)"
            ]
        },
        {
            "cell_type": "code",
            "execution_count": 4,
            "metadata": {},
            "outputs": [
                {
                    "name": "stdout",
                    "output_type": "stream",
                    "text": [
                        "<function bound_cond at 0x7ff2f09fdd30>\n"
                    ]
                }
            ],
            "source": [
                "def bound_cond(x):\n",
                "    return np.isclose(np.sqrt(x[0]**2 + x[1]**2),1)\n",
                "\n",
                "bounadary_dofs = fem.locate_dofs_geometrical(space_v,bound_cond)\n",
                "print(bound_cond)\n",
                "bcs= fem.dirichletbc(np.float64(0.0),bounadary_dofs,space_v)"
            ]
        },
        {
            "cell_type": "code",
            "execution_count": 5,
            "metadata": {},
            "outputs": [],
            "source": [
                "Dot = ufl.dot\n",
                "Grad = ufl.grad\n",
                "dx = ufl.dx\n",
                "Exp=ufl.exp"
            ]
        },
        {
            "cell_type": "code",
            "execution_count": 6,
            "metadata": {},
            "outputs": [],
            "source": [
                "u = ufl.TrialFunction(space_v)\n",
                "v = ufl.TestFunction(space_v)\n",
                "\n",
                "beta = fem.Constant(domain, np.float64(12))\n",
                "r0 = fem.Constant(domain, np.float64(0.3))\n",
                "\n",
                "p = 4 * Exp(-beta**2 * (x[0]**2 + (x[1] - r0)**2))\n",
                "p_expr= fem.Expression(p,space_p.element.interpolation_points)\n",
                "p_func = fem.Function(space_p)\n",
                "p_func.interpolate(p_expr)\n",
                "\n",
                "a = Dot(Grad(u), Grad(v)) * dx\n",
                "L = p * v * dx\n",
                "\n",
                "problem = fem.petsc.LinearProblem(a,L,bcs=[bcs])"
            ]
        },
        {
            "cell_type": "code",
            "execution_count": 7,
            "metadata": {},
            "outputs": [],
            "source": [
                "u_func = problem.solve()"
            ]
        },
        {
            "cell_type": "code",
            "execution_count": 8,
            "metadata": {},
            "outputs": [
                {
                    "data": {
                        "application/vnd.jupyter.widget-view+json": {
                            "model_id": "5ba01309af444f9abe551928e9dcd9d2",
                            "version_major": 2,
                            "version_minor": 0
                        },
                        "text/plain": [
                            "GridspecLayout(children=(Renderer(camera=PerspectiveCamera(children=(DirectionalLight(intensity=0.25, position…"
                        ]
                    },
                    "metadata": {},
                    "output_type": "display_data"
                }
            ],
            "source": [
                "pv.set_jupyter_backend('pythreejs')\n",
                "# pv.set_jupyter_backend('ipygany')\n",
                "grid_1 = pv.UnstructuredGrid(*create_vtk_mesh(space_v))\n",
                "grid_1.point_data['f']=u_func.x.array\n",
                "warped= grid_1.warp_by_scalar('f',factor=10)\n",
                "plot_1 = pv.Plotter(window_size=(800,400),shape=(1,2))\n",
                "ax_11= plot_1.subplot(0,0)\n",
                "plot_1.add_mesh(grid_1)\n",
                "ax_12= plot_1.subplot(0,1)\n",
                "plot_1.add_mesh(warped,show_scalar_bar=False)\n",
                "plot_1.show()"
            ]
        },
        {
            "cell_type": "code",
            "execution_count": 9,
            "metadata": {},
            "outputs": [
                {
                    "data": {
                        "text/plain": [
                            "<vtkmodules.vtkRenderingOpenGL2.vtkOpenGLActor(0x4faa2b0) at 0x7ff2edb4bc40>"
                        ]
                    },
                    "execution_count": 9,
                    "metadata": {},
                    "output_type": "execute_result"
                }
            ],
            "source": [
                "pv.set_jupyter_backend('ipygany')\n",
                "plot_2 = pv.Plotter(window_size=(800,400))\n",
                "grid_2=pv.UnstructuredGrid(*create_vtk_mesh(space_p))\n",
                "grid_2.point_data['f']=p_func.x.array.real\n",
                "warped_2= grid_2.warp_by_scalar('f',factor=0.1)\n",
                "plot_2.add_mesh(warped_2,show_scalar_bar=True)\n",
                "# plot_2.show()"
            ]
        },
        {
            "cell_type": "markdown",
            "metadata": {},
            "source": [
                "### Simple Plot"
            ]
        },
        {
            "cell_type": "code",
            "execution_count": 10,
            "metadata": {},
            "outputs": [],
            "source": [
                "tol = 0.01\n",
                "y = np.linspace(-1 + tol, 1 - tol, 101)\n",
                "\n",
                "view_line = np.zeros((101,3))\n",
                "view_line[:,0] = 0\n",
                "view_line[:,1] = y"
            ]
        },
        {
            "cell_type": "code",
            "execution_count": 11,
            "metadata": {},
            "outputs": [],
            "source": [
                "# Collisions:\n",
                "geometry_tree = geometry.BoundingBoxTree(domain, domain.topology.dim)\n",
                "\n",
                "col_points1 = geometry.compute_collisions(geometry_tree, view_line)\n",
                "col_cells1 = geometry.compute_colliding_cells(domain, col_points1,view_line)\n",
                "\n",
                "cells = []\n",
                "current_points = []\n",
                "\n",
                "for i, point in enumerate(view_line):\n",
                "    if len(col_cells1.links(i)) > 0:\n",
                "        current_points.append(point)\n",
                "        cells.append(col_cells1.links(i)[0])"
            ]
        },
        {
            "cell_type": "code",
            "execution_count": 12,
            "metadata": {},
            "outputs": [],
            "source": [
                "current_points= np.array(current_points,dtype=np.float64)"
            ]
        },
        {
            "cell_type": "code",
            "execution_count": 13,
            "metadata": {},
            "outputs": [],
            "source": [
                "u_values= u_func.eval(current_points,cells)\n",
                "p_values=p_func.eval(current_points,cells)"
            ]
        },
        {
            "cell_type": "code",
            "execution_count": 14,
            "metadata": {},
            "outputs": [
                {
                    "data": {
                        "text/plain": [
                            "<matplotlib.legend.Legend at 0x7ff2ea1eadc0>"
                        ]
                    },
                    "execution_count": 14,
                    "metadata": {},
                    "output_type": "execute_result"
                },
                {
                    "data": {
                        "image/png": "[encoded data removed]",
                        "text/plain": [
                            "<Figure size 432x288 with 1 Axes>"
                        ]
                    },
                    "metadata": {
                        "needs_background": "light"
                    },
                    "output_type": "display_data"
                }
            ],
            "source": [
                "fig = plt.figure()\n",
                "plt.plot(current_points[:,1], 50*u_values, \"k\", linewidth=2, label=\"Deflection ($\\\\times 50$)\")\n",
                "plt.plot(current_points[:, 1], p_values, \"b--\", linewidth = 2, label=\"Load\")\n",
                "plt.grid(True)\n",
                "plt.xlabel(\"y\")\n",
                "plt.legend()\n",
                "# If run in parallel as a python file, we save a plot per processor\n",
                "# plt.savefig(f\"membrane_rank{mpi.COMM_WORLD.rank:d}.png\")"
            ]
        },
        {
            "cell_type": "code",
            "execution_count": 15,
            "metadata": {},
            "outputs": [],
            "source": [
                "tol = 0.01\n",
                "y = np.linspace(-1 + tol, 1 - tol, 101)\n",
                "\n",
                "view_line= np.zeros((101,3))\n",
                "view_line[:,0]=0.1\n",
                "view_line[:,1] = y"
            ]
        },
        {
            "cell_type": "code",
            "execution_count": 16,
            "metadata": {},
            "outputs": [],
            "source": [
                "# Collisions:\n",
                "geometry_tree = geometry.BoundingBoxTree(domain, domain.topology.dim)\n",
                "\n",
                "col_points1 = geometry.compute_collisions(geometry_tree, view_line)\n",
                "col_cells1 = geometry.compute_colliding_cells(domain, col_points1,view_line)\n",
                "\n",
                "cells = []\n",
                "current_points = []\n",
                "\n",
                "for i, point in enumerate(view_line):\n",
                "    if len(col_cells1.links(i)) > 0:\n",
                "        current_points.append(point)\n",
                "        cells.append(col_cells1.links(i)[0])"
            ]
        },
        {
            "cell_type": "code",
            "execution_count": 17,
            "metadata": {},
            "outputs": [],
            "source": [
                "current_points= np.array(current_points,dtype=np.float64)"
            ]
        },
        {
            "cell_type": "code",
            "execution_count": 18,
            "metadata": {},
            "outputs": [],
            "source": [
                "u_values= u_func.eval(current_points,cells)\n",
                "p_values=p_func.eval(current_points,cells)"
            ]
        },
        {
            "cell_type": "code",
            "execution_count": 19,
            "metadata": {},
            "outputs": [
                {
                    "data": {
                        "text/plain": [
                            "<matplotlib.legend.Legend at 0x7ff2ea0599d0>"
                        ]
                    },
                    "execution_count": 19,
                    "metadata": {},
                    "output_type": "execute_result"
                },
                {
                    "data": {
                        "image/png": "[encoded data removed]",
                        "text/plain": [
                            "<Figure size 432x288 with 1 Axes>"
                        ]
                    },
                    "metadata": {
                        "needs_background": "light"
                    },
                    "output_type": "display_data"
                }
            ],
            "source": [
                "fig = plt.figure()\n",
                "plt.plot(current_points[:,1], 50*u_values, \"k\", linewidth=2, label=\"Deflection ($\\\\times 50$)\")\n",
                "plt.plot(current_points[:, 1], p_values, \"b--\", linewidth = 2, label=\"Load\")\n",
                "plt.grid(True)\n",
                "plt.xlabel(\"y\")\n",
                "plt.legend()\n",
                "# If run in parallel as a python file, we save a plot per processor\n",
                "# plt.savefig(f\"membrane_rank{mpi.COMM_WORLD.rank:d}.png\")"
            ]
        },
        {
            "cell_type": "code",
            "execution_count": 20,
            "metadata": {},
            "outputs": [],
            "source": [
                "tol = 0.01\n",
                "y = np.linspace(-1 + tol, 1 - tol, 101)\n",
                "\n",
                "view_line = np.zeros((101,3))\n",
                "view_line[:,0] = 0.21\n",
                "view_line[:,1] = y"
            ]
        },
        {
            "cell_type": "code",
            "execution_count": 21,
            "metadata": {},
            "outputs": [],
            "source": [
                "# Collisions:\n",
                "geometry_tree = geometry.BoundingBoxTree(domain, domain.topology.dim)\n",
                "\n",
                "col_points = geometry.compute_collisions(geometry_tree, view_line)\n",
                "col_cells = geometry.compute_colliding_cells(domain, col_points1,view_line)\n",
                "\n",
                "cells = []\n",
                "current_points = []\n",
                "\n",
                "for i, point in enumerate(view_line):\n",
                "    if len(col_cells1.links(i)) > 0:\n",
                "        current_points.append(point)\n",
                "        cells.append(col_cells1.links(i)[0])"
            ]
        },
        {
            "cell_type": "code",
            "execution_count": 22,
            "metadata": {},
            "outputs": [],
            "source": [
                "current_points= np.array(current_points,dtype=np.float64)"
            ]
        },
        {
            "cell_type": "code",
            "execution_count": 23,
            "metadata": {},
            "outputs": [],
            "source": [
                "u_values= u_func.eval(current_points,cells)\n",
                "p_values=p_func.eval(current_points,cells)"
            ]
        },
        {
            "cell_type": "code",
            "execution_count": 24,
            "metadata": {},
            "outputs": [
                {
                    "data": {
                        "text/plain": [
                            "<matplotlib.legend.Legend at 0x7ff2e9f688b0>"
                        ]
                    },
                    "execution_count": 24,
                    "metadata": {},
                    "output_type": "execute_result"
                },
                {
                    "data": {
                        "image/png": "[encoded data removed]",
                        "text/plain": [
                            "<Figure size 432x288 with 1 Axes>"
                        ]
                    },
                    "metadata": {
                        "needs_background": "light"
                    },
                    "output_type": "display_data"
                }
            ],
            "source": [
                "fig1 = plt.figure()\n",
                "plt.plot(current_points[:,1], 50*u_values, \"k\", linewidth=2, label=\"Deflection ($\\\\times 50$)\")\n",
                "plt.plot(current_points[:, 1], p_values, \"b--\", linewidth = 2, label=\"Load\")\n",
                "plt.grid(True)\n",
                "plt.xlabel(\"y\")\n",
                "plt.legend()\n",
                "# If run in parallel as a python file, we save a plot per processor\n",
                "# plt.savefig(f\"membrane_rank{mpi.COMM_WORLD.rank:d}.png\")"
            ]
        }
    ],
    "metadata": {
        "interpreter": {
            "hash": "916dbcbb3f70747c44a77c7bcd40155683ae19c65e1c03b4aa3499c5328201f1"
        },
        "kernelspec": {
            "display_name": "Python 3.9.7 64-bit",
            "language": "python",
            "name": "python3"
        },
        "language_info": {
            "codemirror_mode": {
                "name": "ipython",
                "version": 3
            },
            "file_extension": ".py",
            "mimetype": "text/x-python",
            "name": "python",
            "nbconvert_exporter": "python",
            "pygments_lexer": "ipython3",
            "version": "3.9.7"
        },
        "orig_nbformat": 4
    },
    "nbformat": 4,
    "nbformat_minor": 2
}
