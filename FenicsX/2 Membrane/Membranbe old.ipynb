{
    "cells": [
        {
            "cell_type": "code",
            "execution_count": 2,
            "metadata": {},
            "outputs": [],
            "source": [
                "import dolfinx.fem as fem\n",
                "import dolfinx.mesh as mesh\n",
                "import dolfinx.cpp as cpp\n",
                "import dolfinx as dlf\n",
                "from dolfinx.plot import create_vtk_mesh \n",
                "from dolfinx import io\n",
                "import mpi4py.MPI as mpi\n",
                "\n",
                "import pyvista as pv\n",
                "import matplotlib.pyplot as plt\n",
                "\n",
                "import ufl\n",
                "import gmsh\n",
                "from dolfinx import geometry\n",
                "\n",
                "import numpy as np"
            ]
        },
        {
            "cell_type": "code",
            "execution_count": 3,
            "metadata": {},
            "outputs": [
                {
                    "name": "stdout",
                    "output_type": "stream",
                    "text": [
                        "Info    : Meshing 1D...\n",
                        "Info    : Meshing curve 1 (Ellipse)\n",
                        "Info    : Done meshing 1D (Wall 0.000357s, CPU 0.000332s)\n",
                        "Info    : Meshing 2D...\n",
                        "Info    : Meshing surface 1 (Plane, Frontal-Delaunay)\n",
                        "Info    : Done meshing 2D (Wall 0.128793s, CPU 0.130924s)\n",
                        "Info    : 1550 nodes 3099 elements\n"
                    ]
                }
            ],
            "source": [
                "gmsh.initialize()\n",
                "membrane = gmsh.model.occ.add_disk(0, 0, 0, 1, 1)\n",
                "gmsh.model.occ.synchronize()\n",
                "gdim = 2\n",
                "status = gmsh.model.addPhysicalGroup(gdim, [membrane], 1)\n",
                "gmsh.option.setNumber(\"Mesh.CharacteristicLengthMin\", 0.05)\n",
                "gmsh.option.setNumber(\"Mesh.CharacteristicLengthMax\", 0.05)\n",
                "gmsh.model.mesh.generate(gdim)\n",
                "if mpi.COMM_WORLD.rank == 0:\n",
                "    geometry_data = io.extract_gmsh_geometry(gmsh.model)\n",
                "    topology_data = io.extract_gmsh_topology_and_markers(gmsh.model)\n",
                "\n",
                "if mpi.COMM_WORLD.rank == 0:\n",
                "    # Extract the cell type and number of nodes per cell and broadcast\n",
                "    # it to the other processors\n",
                "    gmsh_cell_type = list(topology_data.keys())[0]\n",
                "    properties = gmsh.model.mesh.getElementProperties(gmsh_cell_type)\n",
                "    name, dim, order, num_nodes, local_coords, _ = properties\n",
                "    cells = topology_data[gmsh_cell_type][\"topology\"]\n",
                "    cell_id, num_nodes = mpi.COMM_WORLD.bcast([gmsh_cell_type, num_nodes],root=0)\n",
                "else:\n",
                "    cell_id, num_nodes = mpi.COMM_WORLD.bcast([None, None], root=0)\n",
                "    cells, geometry_data = np.empty([0, num_nodes]), np.empty([0, gdim])\n",
                "\n",
                "ufl_domain = io.ufl_mesh_from_gmsh(cell_id, gdim)\n",
                "gmsh_cell_perm = io.cell_perm_gmsh(\n",
                "    cpp.mesh.to_type(str(ufl_domain.ufl_cell())), num_nodes)\n",
                "cells = cells[:, gmsh_cell_perm]\n",
                "domain = mesh.create_mesh(mpi.COMM_WORLD, cells, geometry_data[:, :gdim],\n",
                "                          ufl_domain)\n"
            ]
        },
        {
            "cell_type": "code",
            "execution_count": 4,
            "metadata": {},
            "outputs": [],
            "source": [
                "space = fem.FunctionSpace(domain, ('CG', 1))\n",
                "x = ufl.SpatialCoordinate(domain)"
            ]
        },
        {
            "cell_type": "code",
            "execution_count": 5,
            "metadata": {},
            "outputs": [
                {
                    "name": "stdout",
                    "output_type": "stream",
                    "text": [
                        "<function bound_cond at 0x7f6c043bba60>\n"
                    ]
                }
            ],
            "source": [
                "def bound_cond(x):\n",
                "    return np.isclose(np.sqrt(x[0]**2 + x[1]**2),1)\n",
                "\n",
                "bounadary_dofs = fem.locate_dofs_geometrical(space,bound_cond)\n",
                "print(bound_cond)\n",
                "bcs= fem.dirichletbc(np.float64(0.0),bounadary_dofs,space)"
            ]
        },
        {
            "cell_type": "code",
            "execution_count": 6,
            "metadata": {},
            "outputs": [],
            "source": [
                "Dot = ufl.dot\n",
                "Grad = ufl.grad\n",
                "dx = ufl.dx"
            ]
        },
        {
            "cell_type": "code",
            "execution_count": 7,
            "metadata": {},
            "outputs": [],
            "source": [
                "u = ufl.TrialFunction(space)\n",
                "v = ufl.TestFunction(space)\n",
                "\n",
                "beta = fem.Constant(domain, np.float64(12))\n",
                "r0 = fem.Constant(domain, np.float64(0.3))\n",
                "p = 4 * ufl.exp(-beta**2 * (x[0]**2 + (x[1] - r0)**2))\n",
                "\n",
                "a = Dot(Grad(u), Grad(v)) * dx\n",
                "L = p * v * dx\n",
                "\n",
                "problem = fem.petsc.LinearProblem(a,L,bcs=[bcs])"
            ]
        },
        {
            "cell_type": "code",
            "execution_count": 8,
            "metadata": {},
            "outputs": [],
            "source": [
                "uh = problem.solve()"
            ]
        },
        {
            "cell_type": "code",
            "execution_count": 9,
            "metadata": {},
            "outputs": [],
            "source": [
                "Q= fem.FunctionSpace(domain,('CG',5))\n",
                "expression= fem.Expression(p,Q.element.interpolation_points)\n",
                "pressure = fem.Function(Q)\n",
                "pressure.interpolate(expression)"
            ]
        },
        {
            "cell_type": "code",
            "execution_count": 10,
            "metadata": {},
            "outputs": [
                {
                    "data": {
                        "application/vnd.jupyter.widget-view+json": {
                            "model_id": "bed45b46733d4e19ad47905e26ce10bc",
                            "version_major": 2,
                            "version_minor": 0
                        },
                        "text/plain": [
                            "GridspecLayout(children=(Renderer(camera=PerspectiveCamera(children=(DirectionalLight(intensity=0.25, position…"
                        ]
                    },
                    "metadata": {},
                    "output_type": "display_data"
                }
            ],
            "source": [
                "pv.set_jupyter_backend('pythreejs')\n",
                "# pv.set_jupyter_backend('ipygany')\n",
                "grid_1 = pv.UnstructuredGrid(*create_vtk_mesh(space))\n",
                "grid_1.point_data['f']=uh.x.array\n",
                "warped= grid_1.warp_by_scalar('f',factor=10)\n",
                "plot_1 = pv.Plotter(window_size=(800,400),shape=(1,2))\n",
                "ax_11= plot_1.subplot(0,0)\n",
                "plot_1.add_mesh(grid_1)\n",
                "ax_12= plot_1.subplot(0,1)\n",
                "plot_1.add_mesh(warped,show_scalar_bar=False)\n",
                "plot_1.show()"
            ]
        },
        {
            "cell_type": "code",
            "execution_count": 11,
            "metadata": {},
            "outputs": [
                {
                    "data": {
                        "text/plain": [
                            "<vtkmodules.vtkRenderingOpenGL2.vtkOpenGLActor(0x4b65d60) at 0x7f6c01449580>"
                        ]
                    },
                    "execution_count": 11,
                    "metadata": {},
                    "output_type": "execute_result"
                }
            ],
            "source": [
                "pv.set_jupyter_backend('ipygany')\n",
                "plot_2 = pv.Plotter(window_size=(800,400))\n",
                "grid_2=pv.UnstructuredGrid(*create_vtk_mesh(Q))\n",
                "grid_2.point_data['f']=pressure.x.array.real\n",
                "warped_2= grid_2.warp_by_scalar('f',factor=0.1)\n",
                "plot_2.add_mesh(warped_2,show_scalar_bar=True)\n",
                "# plot_2.show()"
            ]
        },
        {
            "cell_type": "code",
            "execution_count": 25,
            "metadata": {},
            "outputs": [],
            "source": [
                "tol = 0.01\n",
                "y = np.linspace(-1 + tol, 1 - tol, 101)\n",
                "x=np.ones_like(y)*0.1\n",
                "\n",
                "view_line1 = np.zeros((101,3))\n",
                "view_line1[:,0] = 0\n",
                "view_line1[:,1] = y\n",
                "\n",
                "view_line2= np.zeros((101,3))\n",
                "view_line2[:,0]=0.1\n",
                "view_line2[:,1] = y"
            ]
        },
        {
            "cell_type": "code",
            "execution_count": 23,
            "metadata": {},
            "outputs": [],
            "source": [
                "def make_plot(points):\n",
                "    # Collisions:\n",
                "    geometry_box = geometry.BoundingBoxTree(domain, domain.topology.dim)\n",
                "\n",
                "    cell_coodrinates = geometry.compute_collisions(geometry_box, points)\n",
                "    colling_cells = geometry.compute_colliding_cells(domain, cell_coodrinates,points)\n",
                "    \n",
                "    u_values = []\n",
                "    v_values = []\n",
                "    cells = []\n",
                "    points_onprocessor = []\n",
                "    \n",
                "    for i, point in enumerate(points):\n",
                "        if len(colling_cells.links(i)) > 0:\n",
                "            points_onprocessor.append(point)\n",
                "            cells.append(colling_cells.links(i)[0])\n"
            ]
        },
        {
            "cell_type": "code",
            "execution_count": 34,
            "metadata": {},
            "outputs": [
                {
                    "data": {
                        "text/plain": [
                            "array([552], dtype=int32)"
                        ]
                    },
                    "execution_count": 34,
                    "metadata": {},
                    "output_type": "execute_result"
                }
            ],
            "source": [
                "colling_cells.links(2)"
            ]
        },
        {
            "cell_type": "code",
            "execution_count": null,
            "metadata": {},
            "outputs": [
                {
                    "ename": "NameError",
                    "evalue": "name 'points_on_proc' is not defined",
                    "output_type": "error",
                    "traceback": [
                        "\u001b[0;31m---------------------------------------------------------------------------\u001b[0m",
                        "\u001b[0;31mNameError\u001b[0m                                 Traceback (most recent call last)",
                        "\u001b[1;32m/home/PolimerSolve/FenicsX/2 Membrane/Membranbe old.ipynb Cell 13'\u001b[0m in \u001b[0;36m<cell line: 2>\u001b[0;34m()\u001b[0m\n\u001b[1;32m      <a href='vscode-notebook-cell://attached-container%2B7b22636f6e7461696e65724e616d65223a222f4d7946456e69435378227d/home/PolimerSolve/FenicsX/2%20Membrane/Membranbe%20old.ipynb#ch0000017vscode-remote?line=0'>1</a>\u001b[0m fig \u001b[39m=\u001b[39m plt\u001b[39m.\u001b[39mfigure()\n\u001b[0;32m----> <a href='vscode-notebook-cell://attached-container%2B7b22636f6e7461696e65724e616d65223a222f4d7946456e69435378227d/home/PolimerSolve/FenicsX/2%20Membrane/Membranbe%20old.ipynb#ch0000017vscode-remote?line=1'>2</a>\u001b[0m plt\u001b[39m.\u001b[39mplot(points_on_proc[:,\u001b[39m1\u001b[39m], \u001b[39m50\u001b[39m\u001b[39m*\u001b[39mu_values, \u001b[39m\"\u001b[39m\u001b[39mk\u001b[39m\u001b[39m\"\u001b[39m, linewidth\u001b[39m=\u001b[39m\u001b[39m2\u001b[39m, label\u001b[39m=\u001b[39m\u001b[39m\"\u001b[39m\u001b[39mDeflection ($\u001b[39m\u001b[39m\\\\\u001b[39;00m\u001b[39mtimes 50$)\u001b[39m\u001b[39m\"\u001b[39m)\n\u001b[1;32m      <a href='vscode-notebook-cell://attached-container%2B7b22636f6e7461696e65724e616d65223a222f4d7946456e69435378227d/home/PolimerSolve/FenicsX/2%20Membrane/Membranbe%20old.ipynb#ch0000017vscode-remote?line=2'>3</a>\u001b[0m plt\u001b[39m.\u001b[39mplot(points_on_proc[:, \u001b[39m1\u001b[39m], p_values, \u001b[39m\"\u001b[39m\u001b[39mb--\u001b[39m\u001b[39m\"\u001b[39m, linewidth \u001b[39m=\u001b[39m \u001b[39m2\u001b[39m, label\u001b[39m=\u001b[39m\u001b[39m\"\u001b[39m\u001b[39mLoad\u001b[39m\u001b[39m\"\u001b[39m)\n\u001b[1;32m      <a href='vscode-notebook-cell://attached-container%2B7b22636f6e7461696e65724e616d65223a222f4d7946456e69435378227d/home/PolimerSolve/FenicsX/2%20Membrane/Membranbe%20old.ipynb#ch0000017vscode-remote?line=3'>4</a>\u001b[0m plt\u001b[39m.\u001b[39mgrid(\u001b[39mTrue\u001b[39;00m)\n",
                        "\u001b[0;31mNameError\u001b[0m: name 'points_on_proc' is not defined"
                    ]
                },
                {
                    "data": {
                        "text/plain": [
                            "<Figure size 432x288 with 0 Axes>"
                        ]
                    },
                    "metadata": {},
                    "output_type": "display_data"
                }
            ],
            "source": [
                "fig = plt.figure()\n",
                "plt.plot(point[:,1], 50*u_values, \"k\", linewidth=2, label=\"Deflection ($\\\\times 50$)\")\n",
                "plt.plot(point[:, 1], p_values, \"b--\", linewidth = 2, label=\"Load\")\n",
                "plt.grid(True)\n",
                "plt.xlabel(\"y\")\n",
                "plt.legend()\n",
                "# If run in parallel as a python file, we save a plot per processor\n",
                "plt.savefig(f\"membrane_rank{MPI.COMM_WORLD.rank:d}.png\")"
            ]
        }
    ],
    "metadata": {
        "interpreter": {
            "hash": "916dbcbb3f70747c44a77c7bcd40155683ae19c65e1c03b4aa3499c5328201f1"
        },
        "kernelspec": {
            "display_name": "Python 3.9.7 64-bit",
            "language": "python",
            "name": "python3"
        },
        "language_info": {
            "codemirror_mode": {
                "name": "ipython",
                "version": 3
            },
            "file_extension": ".py",
            "mimetype": "text/x-python",
            "name": "python",
            "nbconvert_exporter": "python",
            "pygments_lexer": "ipython3",
            "version": "3.9.7"
        },
        "orig_nbformat": 4
    },
    "nbformat": 4,
    "nbformat_minor": 2
}
