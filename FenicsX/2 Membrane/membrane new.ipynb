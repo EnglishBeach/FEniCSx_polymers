{
    "cells": [
        {
            "cell_type": "code",
            "execution_count": 1,
            "metadata": {},
            "outputs": [],
            "source": [
                "import gmsh\n",
                "gmsh.initialize()"
            ]
        },
        {
            "cell_type": "code",
            "execution_count": 2,
            "metadata": {},
            "outputs": [],
            "source": [
                "membrane = gmsh.model.occ.addDisk(0, 0, 0, 1, 1)\n",
                "gmsh.model.occ.synchronize()"
            ]
        },
        {
            "cell_type": "code",
            "execution_count": 3,
            "metadata": {},
            "outputs": [],
            "source": [
                "gdim = 2\n",
                "status = gmsh.model.addPhysicalGroup(gdim, [membrane], 1)"
            ]
        },
        {
            "cell_type": "code",
            "execution_count": 4,
            "metadata": {},
            "outputs": [
                {
                    "name": "stdout",
                    "output_type": "stream",
                    "text": [
                        "Info    : Meshing 1D...\n",
                        "Info    : Meshing curve 1 (Ellipse)\n",
                        "Info    : Done meshing 1D (Wall 0.0004582s, CPU 0.001222s)\n",
                        "Info    : Meshing 2D...\n",
                        "Info    : Meshing surface 1 (Plane, Frontal-Delaunay)\n",
                        "Info    : Done meshing 2D (Wall 0.170165s, CPU 0.173089s)\n",
                        "Info    : 1550 nodes 3099 elements\n"
                    ]
                }
            ],
            "source": [
                "gmsh.option.setNumber(\"Mesh.CharacteristicLengthMin\",0.05)\n",
                "gmsh.option.setNumber(\"Mesh.CharacteristicLengthMax\",0.05)\n",
                "gmsh.model.mesh.generate(gdim)"
            ]
        },
        {
            "cell_type": "code",
            "execution_count": 5,
            "metadata": {},
            "outputs": [],
            "source": [
                "from dolfinx import io\n",
                "from mpi4py import MPI\n",
                "if MPI.COMM_WORLD.rank == 0:\n",
                "    # Get mesh geometry\n",
                "    geometry_data = io.extract_gmsh_geometry(gmsh.model)\n",
                "    # Get mesh topology for each element\n",
                "    topology_data = io.extract_gmsh_topology_and_markers(gmsh.model)"
            ]
        },
        {
            "cell_type": "code",
            "execution_count": 6,
            "metadata": {},
            "outputs": [],
            "source": [
                "import numpy as np\n",
                "if MPI.COMM_WORLD.rank == 0:\n",
                "    # Extract the cell type and number of nodes per cell and broadcast\n",
                "    # it to the other processors \n",
                "    gmsh_cell_type = list(topology_data.keys())[0]    \n",
                "    properties = gmsh.model.mesh.getElementProperties(gmsh_cell_type)\n",
                "    name, dim, order, num_nodes, local_coords, _ = properties\n",
                "    cells = topology_data[gmsh_cell_type][\"topology\"]\n",
                "    cell_id, num_nodes = MPI.COMM_WORLD.bcast([gmsh_cell_type, num_nodes], root=0)\n",
                "else:        \n",
                "    cell_id, num_nodes = MPI.COMM_WORLD.bcast([None, None], root=0)\n",
                "    cells, geometry_data = np.empty([0, num_nodes]), np.empty([0, gdim])"
            ]
        },
        {
            "cell_type": "code",
            "execution_count": 7,
            "metadata": {},
            "outputs": [],
            "source": [
                "from dolfinx import mesh, cpp\n",
                "# Permute topology data from MSH-ordering to dolfinx-ordering\n",
                "ufl_domain = io.ufl_mesh_from_gmsh(cell_id, gdim)\n",
                "gmsh_cell_perm = io.cell_perm_gmsh(\n",
                "    cpp.mesh.to_type(str(ufl_domain.ufl_cell())), num_nodes)\n",
                "cells = cells[:, gmsh_cell_perm]\n",
                "\n",
                "# Create distributed mesh\n",
                "domain = mesh.create_mesh(MPI.COMM_WORLD, cells, geometry_data[:, :gdim],\n",
                "                          ufl_domain)\n"
            ]
        },
        {
            "cell_type": "code",
            "execution_count": 8,
            "metadata": {},
            "outputs": [],
            "source": [
                "from dolfinx import fem\n",
                "V = fem.FunctionSpace(domain, (\"CG\", 1))"
            ]
        },
        {
            "cell_type": "code",
            "execution_count": 9,
            "metadata": {},
            "outputs": [],
            "source": [
                "import ufl\n",
                "from petsc4py.PETSc import ScalarType\n",
                "x = ufl.SpatialCoordinate(domain)\n",
                "beta = fem.Constant(domain, ScalarType(12))\n",
                "R0 = fem.Constant(domain, ScalarType(0.3))\n",
                "p = 4 * ufl.exp(-beta**2 * (x[0]**2 + (x[1] - R0)**2))"
            ]
        },
        {
            "cell_type": "code",
            "execution_count": 10,
            "metadata": {},
            "outputs": [],
            "source": [
                "def on_boundary(x):\n",
                "    return np.isclose(np.sqrt(x[0]**2 + x[1]**2), 1)\n",
                "boundary_dofs = fem.locate_dofs_geometrical(V, on_boundary)"
            ]
        },
        {
            "cell_type": "code",
            "execution_count": 11,
            "metadata": {},
            "outputs": [],
            "source": [
                "bc = fem.dirichletbc(ScalarType(0), boundary_dofs, V)"
            ]
        },
        {
            "cell_type": "code",
            "execution_count": 12,
            "metadata": {},
            "outputs": [],
            "source": [
                "u = ufl.TrialFunction(V)\n",
                "v = ufl.TestFunction(V)\n",
                "a = ufl.dot(ufl.grad(u), ufl.grad(v)) * ufl.dx\n",
                "L = p * v * ufl.dx\n",
                "problem = fem.petsc.LinearProblem(a, L, bcs=[bc], petsc_options={\"ksp_type\": \"preonly\", \"pc_type\": \"lu\"})\n",
                "u_func = problem.solve()"
            ]
        },
        {
            "cell_type": "code",
            "execution_count": 13,
            "metadata": {},
            "outputs": [],
            "source": [
                "Q = fem.FunctionSpace(domain, (\"CG\", 5))\n",
                "expr = fem.Expression(p, Q.element.interpolation_points)\n",
                "pressure = fem.Function(Q)\n",
                "pressure.interpolate(expr)"
            ]
        },
        {
            "cell_type": "code",
            "execution_count": 14,
            "metadata": {},
            "outputs": [],
            "source": [
                "from dolfinx.plot import create_vtk_mesh\n",
                "import pyvista\n",
                "pyvista.set_jupyter_backend(\"pythreejs\")\n",
                "\n",
                "# Extract topology from mesh and create pyvista mesh\n",
                "topology, cell_types, x = create_vtk_mesh(V)\n"
            ]
        },
        {
            "cell_type": "code",
            "execution_count": 18,
            "metadata": {},
            "outputs": [],
            "source": [
                "grid = pyvista.UnstructuredGrid(topology, cell_types, x)\n",
                "\n"
            ]
        },
        {
            "cell_type": "code",
            "execution_count": 19,
            "metadata": {},
            "outputs": [
                {
                    "data": {
                        "application/vnd.jupyter.widget-view+json": {
                            "model_id": "c39769c30edd4662ad92b0927b5a43ad",
                            "version_major": 2,
                            "version_minor": 0
                        },
                        "text/plain": [
                            "Renderer(camera=PerspectiveCamera(aspect=1.3333333333333333, children=(DirectionalLight(intensity=0.25, positi…"
                        ]
                    },
                    "metadata": {},
                    "output_type": "display_data"
                }
            ],
            "source": [
                "# Set deflection values and add it to plotter\n",
                "grid.point_data[\"u\"] = u_func.x.array\n",
                "warped = grid.warp_by_scalar(\"u\", factor=25)\n",
                "\n",
                "plotter = pyvista.Plotter()\n",
                "plotter.add_mesh(warped, show_edges=True, show_scalar_bar=True, scalars=\"u\")\n",
                "if not pyvista.OFF_SCREEN:\n",
                "    plotter.show()\n",
                "else:\n",
                "    pyvista.start_xvfb()\n",
                "    plotter.screenshot(\"deflection.png\")"
            ]
        },
        {
            "cell_type": "code",
            "execution_count": 20,
            "metadata": {},
            "outputs": [
                {
                    "data": {
                        "application/vnd.jupyter.widget-view+json": {
                            "model_id": "59c9fff38c5d42718bf180db8effc91e",
                            "version_major": 2,
                            "version_minor": 0
                        },
                        "text/plain": [
                            "AppLayout(children=(VBox(children=(HTML(value='<h3>p</h3>'), Dropdown(description='Colormap:', options={'BrBG'…"
                        ]
                    },
                    "metadata": {},
                    "output_type": "display_data"
                }
            ],
            "source": [
                "pyvista.set_jupyter_backend(\"ipygany\")\n",
                "load_plotter = pyvista.Plotter()\n",
                "p_grid = pyvista.UnstructuredGrid(*create_vtk_mesh(Q))\n",
                "p_grid.point_data[\"p\"] = pressure.x.array.real\n",
                "warped_p = p_grid.warp_by_scalar(\"p\", factor=0.5)\n",
                "warped_p.set_active_scalars(\"p\")\n",
                "load_plotter.add_mesh(warped_p, show_scalar_bar=True)\n",
                "load_plotter.view_xy()\n",
                "if not pyvista.OFF_SCREEN:\n",
                "    load_plotter.show()\n",
                "else:\n",
                "    pyvista.start_xvfb()\n",
                "    load_plotter.screenshot(\"load.png\")"
            ]
        },
        {
            "cell_type": "code",
            "execution_count": 21,
            "metadata": {},
            "outputs": [],
            "source": [
                "tol = 0.001 # Avoid hitting the outside of the domain\n",
                "y = np.linspace(-1 + tol, 1 - tol, 101)\n",
                "points = np.zeros((3, 101))\n",
                "points[1] = y\n",
                "u_values = []\n",
                "p_values = []"
            ]
        },
        {
            "cell_type": "code",
            "execution_count": 22,
            "metadata": {},
            "outputs": [],
            "source": [
                "from dolfinx import geometry\n",
                "bb_tree = geometry.BoundingBoxTree(domain, domain.topology.dim)"
            ]
        },
        {
            "cell_type": "code",
            "execution_count": 23,
            "metadata": {},
            "outputs": [],
            "source": [
                "cells = []\n",
                "points_on_proc = []\n",
                "# Find cells whose bounding-box collide with the the points\n",
                "cell_candidates = geometry.compute_collisions(bb_tree, points.T)\n",
                "# Choose one of the cells that contains the point\n",
                "colliding_cells = geometry.compute_colliding_cells(domain, cell_candidates, points.T)\n",
                "for i, point in enumerate(points.T):\n",
                "    if len(colliding_cells.links(i))>0:\n",
                "        points_on_proc.append(point)\n",
                "        cells.append(colliding_cells.links(i)[0])"
            ]
        },
        {
            "cell_type": "code",
            "execution_count": 24,
            "metadata": {},
            "outputs": [],
            "source": [
                "points_on_proc = np.array(points_on_proc, dtype=np.float64)\n",
                "u_values = u_func.eval(points_on_proc, cells)\n",
                "p_values = pressure.eval(points_on_proc, cells)"
            ]
        },
        {
            "cell_type": "code",
            "execution_count": 25,
            "metadata": {},
            "outputs": [
                {
                    "data": {
                        "image/png": "[encoded data removed]",
                        "text/plain": [
                            "<Figure size 432x288 with 1 Axes>"
                        ]
                    },
                    "metadata": {
                        "needs_background": "light"
                    },
                    "output_type": "display_data"
                }
            ],
            "source": [
                "import matplotlib.pyplot as plt\n",
                "fig = plt.figure()\n",
                "plt.plot(points_on_proc[:,1], 50*u_values, \"k\", linewidth=2, label=\"Deflection ($\\\\times 50$)\")\n",
                "plt.plot(points_on_proc[:, 1], p_values, \"b--\", linewidth = 2, label=\"Load\")\n",
                "plt.grid(True)\n",
                "plt.xlabel(\"y\")\n",
                "plt.legend()\n",
                "# If run in parallel as a python file, we save a plot per processor\n",
                "plt.savefig(f\"membrane_rank{MPI.COMM_WORLD.rank:d}.png\")"
            ]
        },
        {
            "cell_type": "code",
            "execution_count": null,
            "metadata": {},
            "outputs": [],
            "source": []
        }
    ],
    "metadata": {
        "interpreter": {
            "hash": "916dbcbb3f70747c44a77c7bcd40155683ae19c65e1c03b4aa3499c5328201f1"
        },
        "kernelspec": {
            "display_name": "Python 3.9.7 64-bit",
            "language": "python",
            "name": "python3"
        },
        "language_info": {
            "codemirror_mode": {
                "name": "ipython",
                "version": 3
            },
            "file_extension": ".py",
            "mimetype": "text/x-python",
            "name": "python",
            "nbconvert_exporter": "python",
            "pygments_lexer": "ipython3",
            "version": "3.9.7"
        },
        "orig_nbformat": 4
    },
    "nbformat": 4,
    "nbformat_minor": 2
}
