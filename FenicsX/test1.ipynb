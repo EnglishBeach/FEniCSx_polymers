{
 "cells": [
  {
   "cell_type": "code",
   "execution_count": 1,
   "metadata": {},
   "outputs": [
    {
     "name": "stdout",
     "output_type": "stream",
     "text": [
      "DOLFINx version: 0.3.1.0 based on GIT commit: 9e4eaf1cfb6f5fc297f0fbce3ead5f0c4f3efea4 of https://github.com/FEniCS/dolfinx/\n"
     ]
    }
   ],
   "source": [
    "import dolfinx\n",
    "print(f\"DOLFINx version: {dolfinx.__version__} based on GIT commit: {dolfinx.git_commit_hash} of https://github.com/FEniCS/dolfinx/\")"
   ]
  },
  {
   "cell_type": "code",
   "execution_count": 2,
   "metadata": {},
   "outputs": [
    {
     "name": "stderr",
     "output_type": "stream",
     "text": [
      "WARNING:py.warnings:/usr/local/lib/python3.9/dist-packages/pyvista/plotting/plotting.py:115: UserWarning: \n",
      "This system does not appear to be running an xserver.\n",
      "PyVista will likely segfault when rendering.\n",
      "\n",
      "Try starting a virtual frame buffer with xvfb, or using\n",
      "  ``pyvista.start_xvfb()``\n",
      "\n",
      "  warnings.warn(\n",
      "\n",
      "ERROR:root:bad X server connection. DISPLAY=\n",
      "\u001b[0m\u001b[31m2022-04-09 08:07:53.402 (   1.074s) [        BB947FC0]vtkXOpenGLRenderWindow.:464    ERR| vtkXOpenGLRenderWindow (0x2b6d960): bad X server connection. DISPLAY=\u001b[0m\n"
     ]
    },
    {
     "ename": "Error",
     "evalue": "Canceled future for execute_request message before replies were done",
     "output_type": "error",
     "traceback": [
      "Error: Canceled future for execute_request message before replies were done",
      "at t.KernelShellFutureHandler.dispose (/root/.vscode-server/extensions/ms-toolsai.jupyter-2022.3.1000901801/out/extension.js:2:1204175)",
      "at /root/.vscode-server/extensions/ms-toolsai.jupyter-2022.3.1000901801/out/extension.js:2:1223227",
      "at Map.forEach (<anonymous>)",
      "at v._clearKernelState (/root/.vscode-server/extensions/ms-toolsai.jupyter-2022.3.1000901801/out/extension.js:2:1223212)",
      "at v.dispose (/root/.vscode-server/extensions/ms-toolsai.jupyter-2022.3.1000901801/out/extension.js:2:1216694)",
      "at /root/.vscode-server/extensions/ms-toolsai.jupyter-2022.3.1000901801/out/extension.js:2:533674",
      "at t.swallowExceptions (/root/.vscode-server/extensions/ms-toolsai.jupyter-2022.3.1000901801/out/extension.js:2:913059)",
      "at dispose (/root/.vscode-server/extensions/ms-toolsai.jupyter-2022.3.1000901801/out/extension.js:2:533652)",
      "at t.RawSession.dispose (/root/.vscode-server/extensions/ms-toolsai.jupyter-2022.3.1000901801/out/extension.js:2:537330)",
      "at processTicksAndRejections (node:internal/process/task_queues:96:5)"
     ]
    }
   ],
   "source": [
    "import pyvista as pv\n",
    "sphere= pv.Sphere()\n",
    "\n",
    "sphere.plot()"
   ]
  },
  {
   "cell_type": "code",
   "execution_count": null,
   "metadata": {},
   "outputs": [
    {
     "name": "stdout",
     "output_type": "stream",
     "text": [
      "\n",
      "--------------------------------------------------------------------------------\n",
      "  Date: Fri Apr 08 20:53:57 2022 UTC\n",
      "\n",
      "                OS : Linux\n",
      "            CPU(s) : 8\n",
      "           Machine : x86_64\n",
      "      Architecture : 64bit\n",
      "               RAM : 6.1 GiB\n",
      "       Environment : Jupyter\n",
      "       GPU Details : error\n",
      "\n",
      "  Python 3.9.7 (default, Sep 10 2021, 14:59:43)  [GCC 11.2.0]\n",
      "\n",
      "           pyvista : 0.34.0\n",
      "               vtk : 9.1.0\n",
      "             numpy : 1.21.5\n",
      "           imageio : 2.16.1\n",
      "           appdirs : 1.4.4\n",
      "            scooby : 0.5.12\n",
      "        matplotlib : 3.5.1\n",
      "             PyQt5 : 5.15.6\n",
      "           IPython : 8.2.0\n",
      "             scipy : 1.6.0\n",
      "              tqdm : 4.64.0\n",
      "--------------------------------------------------------------------------------\n"
     ]
    }
   ],
   "source": [
    "import pyvista as pv\n",
    "print(pv.Report())"
   ]
  },
  {
   "cell_type": "code",
   "execution_count": 2,
   "metadata": {},
   "outputs": [
    {
     "ename": "Error",
     "evalue": "Canceled future for execute_request message before replies were done",
     "output_type": "error",
     "traceback": [
      "Error: Canceled future for execute_request message before replies were done",
      "at t.KernelShellFutureHandler.dispose (/root/.vscode-server/extensions/ms-toolsai.jupyter-2022.3.1000901801/out/extension.js:2:1204175)",
      "at /root/.vscode-server/extensions/ms-toolsai.jupyter-2022.3.1000901801/out/extension.js:2:1223227",
      "at Map.forEach (<anonymous>)",
      "at v._clearKernelState (/root/.vscode-server/extensions/ms-toolsai.jupyter-2022.3.1000901801/out/extension.js:2:1223212)",
      "at v.dispose (/root/.vscode-server/extensions/ms-toolsai.jupyter-2022.3.1000901801/out/extension.js:2:1216694)",
      "at /root/.vscode-server/extensions/ms-toolsai.jupyter-2022.3.1000901801/out/extension.js:2:533674",
      "at t.swallowExceptions (/root/.vscode-server/extensions/ms-toolsai.jupyter-2022.3.1000901801/out/extension.js:2:913059)",
      "at dispose (/root/.vscode-server/extensions/ms-toolsai.jupyter-2022.3.1000901801/out/extension.js:2:533652)",
      "at t.RawSession.dispose (/root/.vscode-server/extensions/ms-toolsai.jupyter-2022.3.1000901801/out/extension.js:2:537330)",
      "at processTicksAndRejections (node:internal/process/task_queues:96:5)"
     ]
    }
   ],
   "source": [
    "import pyvista as pv\n",
    "sphere = pv.Sphere()\n",
    "\n",
    "pv.OFF_SCREEN = False\n",
    "p = pv.Plotter()\n",
    "p.add_mesh(sphere)\n",
    "p.show()"
   ]
  },
  {
   "cell_type": "code",
   "execution_count": null,
   "metadata": {},
   "outputs": [
    {
     "ename": "ModuleNotFoundError",
     "evalue": "No module named 'itkwidgets'",
     "output_type": "error",
     "traceback": [
      "\u001b[0;31m---------------------------------------------------------------------------\u001b[0m",
      "\u001b[0;31mModuleNotFoundError\u001b[0m                       Traceback (most recent call last)",
      "\u001b[1;32m/home/FenicsX/test1.ipynb Cell 5'\u001b[0m in \u001b[0;36m<cell line: 3>\u001b[0;34m()\u001b[0m\n\u001b[1;32m      <a href='vscode-notebook-cell://attached-container%2B7b22636f6e7461696e65724e616d65223a222f696e66616c6c69626c655f697368697a616b61227d/home/FenicsX/test1.ipynb#ch0000010vscode-remote?line=0'>1</a>\u001b[0m \u001b[39mimport\u001b[39;00m \u001b[39mpyvista\u001b[39;00m \u001b[39mas\u001b[39;00m \u001b[39mpv\u001b[39;00m\n\u001b[1;32m      <a href='vscode-notebook-cell://attached-container%2B7b22636f6e7461696e65724e616d65223a222f696e66616c6c69626c655f697368697a616b61227d/home/FenicsX/test1.ipynb#ch0000010vscode-remote?line=1'>2</a>\u001b[0m \u001b[39mfrom\u001b[39;00m \u001b[39mpyvista\u001b[39;00m \u001b[39mimport\u001b[39;00m examples\n\u001b[0;32m----> <a href='vscode-notebook-cell://attached-container%2B7b22636f6e7461696e65724e616d65223a222f696e66616c6c69626c655f697368697a616b61227d/home/FenicsX/test1.ipynb#ch0000010vscode-remote?line=2'>3</a>\u001b[0m \u001b[39mfrom\u001b[39;00m \u001b[39mitkwidgets\u001b[39;00m \u001b[39mimport\u001b[39;00m view\n\u001b[1;32m      <a href='vscode-notebook-cell://attached-container%2B7b22636f6e7461696e65724e616d65223a222f696e66616c6c69626c655f697368697a616b61227d/home/FenicsX/test1.ipynb#ch0000010vscode-remote?line=4'>5</a>\u001b[0m mesh \u001b[39m=\u001b[39m examples\u001b[39m.\u001b[39mdownload_nefertiti()\n\u001b[1;32m      <a href='vscode-notebook-cell://attached-container%2B7b22636f6e7461696e65724e616d65223a222f696e66616c6c69626c655f697368697a616b61227d/home/FenicsX/test1.ipynb#ch0000010vscode-remote?line=6'>7</a>\u001b[0m view(geometries\u001b[39m=\u001b[39mmesh, geometry_colors\u001b[39m=\u001b[39m\u001b[39m'\u001b[39m\u001b[39mw\u001b[39m\u001b[39m'\u001b[39m)\n",
      "\u001b[0;31mModuleNotFoundError\u001b[0m: No module named 'itkwidgets'"
     ]
    }
   ],
   "source": [
    "import pyvista as pv\n",
    "from pyvista import examples\n",
    "from itkwidgets import view\n",
    "\n",
    "mesh = examples.download_nefertiti()\n",
    "\n",
    "view(geometries=mesh, geometry_colors='w')"
   ]
  },
  {
   "cell_type": "code",
   "execution_count": null,
   "metadata": {},
   "outputs": [],
   "source": []
  }
 ],
 "metadata": {
  "interpreter": {
   "hash": "31f2aee4e71d21fbe5cf8b01ff0e069b9275f58929596ceb00d14d90e3e16cd6"
  },
  "kernelspec": {
   "display_name": "Python 3.8.10 64-bit",
   "language": "python",
   "name": "python3"
  },
  "language_info": {
   "codemirror_mode": {
    "name": "ipython",
    "version": 3
   },
   "file_extension": ".py",
   "mimetype": "text/x-python",
   "name": "python",
   "nbconvert_exporter": "python",
   "pygments_lexer": "ipython3",
   "version": "3.9.7"
  },
  "orig_nbformat": 4
 },
 "nbformat": 4,
 "nbformat_minor": 2
}
