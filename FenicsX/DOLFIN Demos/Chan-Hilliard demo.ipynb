{
 "cells": [
  {
   "cell_type": "code",
   "execution_count": 1,
   "metadata": {},
   "outputs": [],
   "source": [
    "import numpy as np\n",
    "\n",
    "import ufl\n",
    "from dolfinx.fem import Function, FunctionSpace\n",
    "from dolfinx.fem.petsc import NonlinearProblem\n",
    "from dolfinx.io import XDMFFile\n",
    "from dolfinx.mesh import CellType, create_unit_square\n",
    "from dolfinx.nls.petsc import NewtonSolver\n",
    "from ufl import dx, grad, inner\n",
    "\n",
    "from mpi4py import MPI\n",
    "from petsc4py import PETSc"
   ]
  },
  {
   "cell_type": "code",
   "execution_count": 2,
   "metadata": {},
   "outputs": [],
   "source": [
    "lmbda = 1.0e-02     # surface parameter\n",
    "dt = 5.0e-06     # time step\n",
    "theta = 0.5     # time stepping family, e.g. theta=1 -> backward Euler, theta=0.5 -> Crank-Nicolson\n",
    "\n",
    "msh = create_unit_square(MPI.COMM_WORLD, 96, 96, CellType.triangle)\n",
    "P1 = ufl.FiniteElement(\"Lagrange\", msh.ufl_cell(), 1)\n",
    "ME = FunctionSpace(msh, P1 * P1)\n"
   ]
  },
  {
   "cell_type": "code",
   "execution_count": 3,
   "metadata": {},
   "outputs": [],
   "source": [
    "# Trial and test functions of the space `ME` are now defined:\n",
    "\n",
    "q, v = ufl.TestFunctions(ME)\n",
    "\n",
    "u = Function(ME)     # current solution\n",
    "u0 = Function(ME)     # solution from previous converged step\n",
    "\n",
    "# Split mixed functions\n",
    "c, mu = ufl.split(u)\n",
    "c0, mu0 = ufl.split(u0)\n"
   ]
  },
  {
   "cell_type": "code",
   "execution_count": 4,
   "metadata": {},
   "outputs": [],
   "source": [
    "# Zero u\n",
    "u.x.array[:] = 0.0\n",
    "\n",
    "# Interpolate initial condition\n",
    "u.sub(0).interpolate(lambda x: 0.63 + 0.02 * (0.5 - np.random.rand(x.shape[1])))\n",
    "u.x.scatter_forward()"
   ]
  },
  {
   "cell_type": "code",
   "execution_count": 5,
   "metadata": {},
   "outputs": [],
   "source": [
    "# Compute the chemical potential df/dc\n",
    "c = ufl.variable(c)\n",
    "f = 100 * c**2 * (1 - c)**2\n",
    "dfdc = ufl.diff(f, c)\n"
   ]
  },
  {
   "cell_type": "code",
   "execution_count": 6,
   "metadata": {},
   "outputs": [],
   "source": [
    "# mu_(n+theta)\n",
    "mu_mid = (1.0-theta) * mu0 + theta*mu\n",
    "\n",
    "# which is then used in the definition of the variational forms:\n",
    "\n",
    "# Weak statement of the equations\n",
    "F0 = inner(c, q) * dx - inner(c0, q) * dx + dt * inner(grad(mu_mid), grad(q)) * dx\n",
    "F1 = inner(mu, v) * dx - inner(dfdc, v) * dx - lmbda * inner(grad(c), grad(v)) * dx\n",
    "F = F0 + F1"
   ]
  },
  {
   "cell_type": "code",
   "execution_count": 7,
   "metadata": {},
   "outputs": [],
   "source": [
    "# Create nonlinear problem and Newton solver\n",
    "problem = NonlinearProblem(F, u)\n",
    "solver = NewtonSolver(MPI.COMM_WORLD, problem)\n",
    "solver.convergence_criterion = \"incremental\"\n",
    "solver.rtol = 1e-6\n",
    "\n",
    "# We can customize the linear solver used inside the NewtonSolver by\n",
    "# modifying the PETSc options\n",
    "ksp = solver.krylov_solver\n",
    "opts = PETSc.Options()\n",
    "option_prefix = ksp.getOptionsPrefix()\n",
    "opts[f\"{option_prefix}ksp_type\"] = \"preonly\"\n",
    "opts[f\"{option_prefix}pc_type\"] = \"lu\"\n",
    "opts[f\"{option_prefix}pc_factor_mat_solver_type\"] = \"mumps\"\n",
    "ksp.setFromOptions()"
   ]
  },
  {
   "cell_type": "code",
   "execution_count": 8,
   "metadata": {},
   "outputs": [
    {
     "name": "stdout",
     "output_type": "stream",
     "text": [
      "Step 1: num iterations: 3\n",
      "Step 2: num iterations: 3\n",
      "Step 3: num iterations: 4\n",
      "Step 4: num iterations: 4\n",
      "Step 5: num iterations: 4\n",
      "Step 6: num iterations: 5\n",
      "Step 7: num iterations: 6\n",
      "Step 8: num iterations: 5\n",
      "Step 9: num iterations: 5\n",
      "Step 10: num iterations: 5\n"
     ]
    }
   ],
   "source": [
    "# Output file\n",
    "file = XDMFFile(MPI.COMM_WORLD, \"demo_ch/output.xdmf\", \"w\")\n",
    "file.write_mesh(msh)\n",
    "\n",
    "# Step in time\n",
    "t = 0.0\n",
    "\n",
    "#  Reduce run time if on test (CI) server\n",
    "T = 10 * dt\n",
    "V0, dofs = ME.sub(0).collapse()\n",
    "\n",
    "# Prepare viewer for plotting the solution during the computation\n",
    "c = u.sub(0)\n",
    "u0.x.array[:] = u.x.array\n",
    "while (t < T):\n",
    "    t += dt\n",
    "    r = solver.solve(u)\n",
    "    print(f\"Step {int(t/dt)}: num iterations: {r[0]}\")\n",
    "    u0.x.array[:] = u.x.array\n",
    "    file.write_function(c, t)\n",
    "\n",
    "file.close()"
   ]
  }
 ],
 "metadata": {
  "interpreter": {
   "hash": "916dbcbb3f70747c44a77c7bcd40155683ae19c65e1c03b4aa3499c5328201f1"
  },
  "kernelspec": {
   "display_name": "Python 3.9.7 64-bit",
   "language": "python",
   "name": "python3"
  },
  "language_info": {
   "codemirror_mode": {
    "name": "ipython",
    "version": 3
   },
   "file_extension": ".py",
   "mimetype": "text/x-python",
   "name": "python",
   "nbconvert_exporter": "python",
   "pygments_lexer": "ipython3",
   "version": "3.9.7"
  },
  "orig_nbformat": 4
 },
 "nbformat": 4,
 "nbformat_minor": 2
}
