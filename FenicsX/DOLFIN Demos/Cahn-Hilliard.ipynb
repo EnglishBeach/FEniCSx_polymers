{
 "cells": [
  {
   "cell_type": "code",
   "execution_count": 12,
   "metadata": {},
   "outputs": [],
   "source": [
    "from dolfinx import fem, mesh, plot, io, nls\n",
    "from ufl import dx, ds, grad, inner, exp, sin, diff\n",
    "import ufl\n",
    "from mpi4py import MPI\n",
    "import petsc4py\n",
    "\n",
    "import numpy as np\n",
    "\n",
    "from ipywidgets import IntProgress\n",
    "from IPython.display import display\n",
    "import matplotlib.pyplot as plt\n",
    "import pyvista as pv\n",
    "# import pyvistaqt as pvqt\n",
    "\n",
    "import os\n",
    "import shutil\n",
    "import sys\n",
    "import time"
   ]
  },
  {
   "cell_type": "code",
   "execution_count": 2,
   "metadata": {},
   "outputs": [],
   "source": [
    "class Infix:\n",
    "\n",
    "    def __init__(self, function):\n",
    "        self.function = function\n",
    "\n",
    "    def __ror__(self, other):\n",
    "        return Infix(lambda x, self=self, other=other: self.function(other, x))\n",
    "\n",
    "    def __or__(self, other):\n",
    "        return self.function(other)\n",
    "\n",
    "    def __call__(self, value1, value2):\n",
    "        return self.function(value1, value2)\n",
    "\n",
    "\n",
    "def logProg(sequence, every=1):\n",
    "\n",
    "    progress = IntProgress(min=0, max=len(sequence), value=0)\n",
    "    display(progress)\n",
    "\n",
    "    for index, record in enumerate(sequence):\n",
    "\n",
    "        if index % every == 0:\n",
    "            progress.value = index\n",
    "        yield record\n",
    "    progress.value = len(sequence)"
   ]
  },
  {
   "cell_type": "code",
   "execution_count": 3,
   "metadata": {},
   "outputs": [],
   "source": [
    "dot = Infix(inner)\n"
   ]
  },
  {
   "cell_type": "code",
   "execution_count": 4,
   "metadata": {},
   "outputs": [],
   "source": [
    "teta = 0.5\n",
    "dt = 1E-2\n",
    "lam = 1E-2\n",
    "m = 1\n"
   ]
  },
  {
   "cell_type": "markdown",
   "metadata": {},
   "source": [
    "Domain"
   ]
  },
  {
   "cell_type": "code",
   "execution_count": 5,
   "metadata": {},
   "outputs": [],
   "source": [
    "domain_mesh = mesh.create_rectangle(\n",
    "    comm=MPI.COMM_WORLD, points=((0, 0), (2, 3)), n=(10, 10), cell_type=mesh.CellType.triangle\n",
    "    )\n",
    "\n",
    "base_element = ufl.FiniteElement(\"Lagrange\", domain_mesh.ufl_cell(), 1)\n",
    "space = fem.FunctionSpace(domain_mesh, base_element * base_element)"
   ]
  },
  {
   "cell_type": "markdown",
   "metadata": {},
   "source": [
    "Functions"
   ]
  },
  {
   "cell_type": "code",
   "execution_count": 10,
   "metadata": {},
   "outputs": [],
   "source": [
    "q, v = ufl.TestFunctions(space)\n",
    "\n",
    "next_func = fem.Function(space)\n",
    "prew_func = fem.Function(space)\n",
    "\n",
    "c, mu = ufl.split(next_func)\n",
    "c0, mu0 = ufl.split(prew_func)\n",
    "\n",
    "# Initial\n",
    "# next_func.x.array[:] = 0.0\n",
    "# next_func.sub(0).interpolate(\n",
    "#     lambda x: 0.63 + 0.02 *(0.5 - np.random.rand(x.shape[1]))\n",
    "#     )\n",
    "next_func.sub(0).interpolate(lambda x: 0.63 + 0 * x[1] + x[0])\n",
    "next_func.x.scatter_forward()     # Don't know it\n",
    "\n",
    "c = ufl.variable(c)\n",
    "# f = 100 * c**2 * (1 - c)**2\n",
    "f = c\n",
    "dfdc = diff(f, c)\n",
    "\n",
    "mu_mid = (1.0-teta) * mu0 + teta*mu\n",
    "F0 = (c|dot|q) * dx - (c0|dot|q) * dx\n",
    "+m * dt * (grad(mu_mid)|dot|grad(q)) * dx\n",
    "F1 = (mu|dot|v) * dx - (dfdc|dot|v) * dx\n",
    "-lam * (grad(c)|dot|grad(v)) * dx\n",
    "F = F0 + F1\n"
   ]
  },
  {
   "cell_type": "code",
   "execution_count": 7,
   "metadata": {},
   "outputs": [],
   "source": [
    "# You can't set petsc options right now for nonlinaer problem\n",
    "problem = fem.petsc.NonlinearProblem(F, next_func)\n",
    "\n",
    "solver = nls.petsc.NewtonSolver(MPI.COMM_WORLD, problem)\n",
    "solver.convergence_criterion = \"incremental\"\n",
    "solver.rtol = 1e-6\n",
    "\n",
    "ksp = solver.krylov_solver\n",
    "opts = petsc4py.PETSc.Options()\n",
    "option_prefix = ksp.getOptionsPrefix()\n",
    "opts[f\"{option_prefix}ksp_type\"] = \"preonly\"\n",
    "opts[f\"{option_prefix}pc_type\"] = \"lu\"\n",
    "opts[f\"{option_prefix}pc_factor_mat_solver_type\"] = \"mumps\"\n",
    "ksp.setFromOptions()"
   ]
  },
  {
   "cell_type": "code",
   "execution_count": 19,
   "metadata": {},
   "outputs": [
    {
     "name": "stdout",
     "output_type": "stream",
     "text": [
      "Directory are empty\n"
     ]
    }
   ],
   "source": [
    "try:\n",
    "    shutil.rmtree('Chan-Hilliard file')\n",
    "except FileNotFoundError:\n",
    "    print(\"Directory aren't \")  \n"
   ]
  },
  {
   "cell_type": "code",
   "execution_count": 38,
   "metadata": {},
   "outputs": [
    {
     "data": {
      "application/vnd.jupyter.widget-view+json": {
       "model_id": "d342750648a649f8b17bf45da7368aae",
       "version_major": 2,
       "version_minor": 0
      },
      "text/plain": [
       "IntProgress(value=0, max=99)"
      ]
     },
     "metadata": {},
     "output_type": "display_data"
    }
   ],
   "source": [
    "file = io.VTKFile(MPI.COMM_WORLD, 'Chan-Hilliard file/Chan-Hilliard.xdmf', 'w')\n",
    "file.write_mesh(domain_mesh)\n",
    "\n",
    "t = 0.0\n",
    "T = 50 * dt\n",
    "\n",
    "c_func = next_func.sub(0)\n",
    "c_space, c_points = space.sub(0).collapse()\n",
    "\n",
    "prew_func.x.array[:] = next_func.x.array\n",
    "\n",
    "for t in logProg(np.arange(0 + dt, 1, dt)):\n",
    "    # result = solver.solve(next_func)\n",
    "    prew_func.x.array[:] = next_func.x.array\n",
    "    file.write_function(c_func, t)\n",
    "    time.sleep(0.5)\n",
    "\n",
    "file.close()"
   ]
  }
 ],
 "metadata": {
  "interpreter": {
   "hash": "916dbcbb3f70747c44a77c7bcd40155683ae19c65e1c03b4aa3499c5328201f1"
  },
  "kernelspec": {
   "display_name": "Python 3.9.7 64-bit",
   "language": "python",
   "name": "python3"
  },
  "language_info": {
   "codemirror_mode": {
    "name": "ipython",
    "version": 3
   },
   "file_extension": ".py",
   "mimetype": "text/x-python",
   "name": "python",
   "nbconvert_exporter": "python",
   "pygments_lexer": "ipython3",
   "version": "3.9.7"
  },
  "orig_nbformat": 4
 },
 "nbformat": 4,
 "nbformat_minor": 2
}
