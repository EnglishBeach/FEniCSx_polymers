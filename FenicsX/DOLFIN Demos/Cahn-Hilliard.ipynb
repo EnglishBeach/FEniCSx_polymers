{
 "cells": [
  {
   "cell_type": "code",
   "execution_count": 1,
   "metadata": {},
   "outputs": [],
   "source": [
    "from dolfinx import fem, mesh, plot\n",
    "from ufl import dx, ds, grad, inner, exp, sin\n",
    "from ufl import diff as D\n",
    "import ufl\n",
    "\n",
    "import numpy as np\n",
    "import math\n",
    "import matplotlib.pyplot as plt\n",
    "import pyvista as pv\n",
    "# import pyvistaqt as pvqt\n",
    "\n",
    "from mpi4py import MPI\n",
    "from dolfinx import io\n",
    "import dolfinx.nls.petsc as nlspetsc\n",
    "from petsc4py import PETSc\n",
    "\n",
    "from ipywidgets import IntProgress\n",
    "from IPython.display import display"
   ]
  },
  {
   "cell_type": "code",
   "execution_count": 2,
   "metadata": {},
   "outputs": [],
   "source": [
    "class Infix:\n",
    "    def __init__(self, function):\n",
    "        self.function = function\n",
    "    def __ror__(self, other):\n",
    "        return Infix(lambda x, self=self, other=other: self.function(other, x))\n",
    "    def __or__(self, other):\n",
    "        return self.function(other)\n",
    "    def __call__(self, value1, value2):\n",
    "        return self.function(value1, value2)\n",
    "    \n",
    "def logProg(sequence, every=1):\n",
    "    \n",
    "    progress = IntProgress(min=0, max=len(sequence), value=0)\n",
    "    display(progress)\n",
    "\n",
    "    for index, record in enumerate(sequence):\n",
    "        \n",
    "        if index % every == 0:\n",
    "            progress.value = index\n",
    "        yield record\n",
    "    progress.value = len(sequence)"
   ]
  },
  {
   "cell_type": "code",
   "execution_count": 3,
   "metadata": {},
   "outputs": [],
   "source": [
    "dot= Infix(inner)"
   ]
  },
  {
   "cell_type": "code",
   "execution_count": 4,
   "metadata": {},
   "outputs": [],
   "source": [
    "domain_mesh = mesh.create_rectangle(comm=MPI.COMM_WORLD,\n",
    "                                    points=((0, 0), (2, 3)),\n",
    "                                    n=(10, 10),\n",
    "                                    \n",
    "                                    cell_type=mesh.CellType.triangle)\n",
    "\n",
    "base_element = ufl.FiniteElement('Lagrange', domain_mesh.ufl_cell(), 1)\n",
    "space = fem.FunctionSpace(domain_mesh, base_element * base_element)"
   ]
  },
  {
   "cell_type": "code",
   "execution_count": 5,
   "metadata": {},
   "outputs": [],
   "source": [
    "teta = 0.5\n",
    "dt = 1E-2\n",
    "lam = 1E-2\n",
    "m=1"
   ]
  },
  {
   "cell_type": "code",
   "execution_count": 6,
   "metadata": {},
   "outputs": [],
   "source": [
    "q, v = ufl.TestFunctions(space)\n",
    "\n",
    "next_func = fem.Function(space)\n",
    "prew_func = fem.Function(space)\n",
    "\n",
    "c, mu = ufl.split(next_func)\n",
    "c0, mu0 = ufl.split(prew_func)\n",
    "c = ufl.variable(c)\n",
    "\n",
    "# Initial\n",
    "next_func.x.array[:] = 0.0\n",
    "next_func.sub(0).interpolate(\n",
    "    lambda x: 0.63 + 0.02 *(0.5 - np.random.rand(x.shape[1]))\n",
    "    )\n",
    "next_func.x.scatter_forward() # Don't know it\n",
    "\n",
    "f = 100 * c**2 * (1 - c)**2\n",
    "dfdc = D(f, c)\n",
    "\n",
    "mu_mid = (1 - teta) * mu0 + teta * mu\n",
    "F0 = (c |dot| q) * dx - (c0 |dot| q) * dx + m * dt * (grad(mu_mid) |dot| grad(q)) * dx\n",
    "F1 = (mu |dot| v) * dx -(dfdc |dot| v) * dx - lam * (grad(c) |dot| grad(v)) * dx\n",
    "F = F0 + F1"
   ]
  },
  {
   "cell_type": "code",
   "execution_count": 7,
   "metadata": {},
   "outputs": [],
   "source": [
    "# You can't set petsc options right now for nonlinaer problem\n",
    "problem = fem.petsc.NonlinearProblem(F, next_func)\n",
    "\n",
    "solver = nlspetsc.NewtonSolver(MPI.COMM_WORLD, problem=problem)\n",
    "solver.convergence_criterion = \"incremental\"\n",
    "solver.rtol = 1e-6\n",
    "\n",
    "ksp = solver.krylov_solver\n",
    "opts = PETSc.Options()\n",
    "option_prefix = ksp.getOptionsPrefix()\n",
    "opts[f\"{option_prefix}ksp_type\"] = \"preonly\"\n",
    "opts[f\"{option_prefix}pc_type\"] = \"lu\"\n",
    "opts[f\"{option_prefix}pc_factor_mat_solver_type\"] = \"mumps\"\n",
    "ksp.setFromOptions()"
   ]
  },
  {
   "cell_type": "code",
   "execution_count": 10,
   "metadata": {},
   "outputs": [],
   "source": [
    "file = io.XDMFFile(MPI.COMM_WORLD,'Chan-Hilliard file/Chan-Hilliard.xdmf','w')\n",
    "file.write_mesh(domain_mesh)\n",
    "file.close()"
   ]
  },
  {
   "cell_type": "code",
   "execution_count": 8,
   "metadata": {},
   "outputs": [],
   "source": [
    "# pv.set_jupyter_backend(\"ipygany1\")\n",
    "# pvqt.plotting.QVTKRenderWindowInteractor\n",
    "# pv.start_xvfb(wait=0.5) #start backend xserver"
   ]
  },
  {
   "cell_type": "code",
   "execution_count": 9,
   "metadata": {},
   "outputs": [],
   "source": [
    "# space_c, points_c = space.sub(0).collapse()\n",
    "# topology, cell_types, geometry= plot.create_vtk_mesh(space_c)\n",
    "# draw_grid_c = pv.UnstructuredGrid(topology,cell_types,geometry)\n",
    "\n",
    "# draw_grid_c.point_data['c values'] = next_func.x.array[points_c]\n",
    "# draw_grid_c.set_active_scalars('c values')\n",
    "# PVplot = pvqt.BackgroundPlotter(title=\"concentration\", auto_update=True)\n",
    "# PVplot.add_mesh(draw_grid_c)\n",
    "# PVplot.show()\n",
    "\n",
    "# need to continue!!!!"
   ]
  },
  {
   "cell_type": "code",
   "execution_count": null,
   "metadata": {},
   "outputs": [],
   "source": []
  }
 ],
 "metadata": {
  "interpreter": {
   "hash": "916dbcbb3f70747c44a77c7bcd40155683ae19c65e1c03b4aa3499c5328201f1"
  },
  "kernelspec": {
   "display_name": "Python 3.9.7 64-bit",
   "language": "python",
   "name": "python3"
  },
  "language_info": {
   "codemirror_mode": {
    "name": "ipython",
    "version": 3
   },
   "file_extension": ".py",
   "mimetype": "text/x-python",
   "name": "python",
   "nbconvert_exporter": "python",
   "pygments_lexer": "ipython3",
   "version": "3.9.7"
  },
  "orig_nbformat": 4
 },
 "nbformat": 4,
 "nbformat_minor": 2
}
