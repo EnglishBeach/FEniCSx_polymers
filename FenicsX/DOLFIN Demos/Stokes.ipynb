{
 "cells": [
  {
   "cell_type": "code",
   "execution_count": 1,
   "metadata": {},
   "outputs": [],
   "source": [
    "import os\n",
    "import shutil\n",
    "import sys\n",
    "import time\n",
    "\n",
    "import numpy as np\n",
    "import copy\n",
    "\n",
    "from dolfinx import fem, mesh, io, nls\n",
    "from dolfinx import plot as dofplot\n",
    "from ufl import dx, ds, grad, inner, exp, sin, diff, div\n",
    "import ufl\n",
    "from mpi4py import MPI\n",
    "from petsc4py import PETSc\n",
    "\n",
    "from ipywidgets import IntProgress\n",
    "from IPython.display import display\n",
    "import matplotlib.pyplot as plt\n",
    "import pyvista as pv"
   ]
  },
  {
   "cell_type": "code",
   "execution_count": 2,
   "metadata": {},
   "outputs": [],
   "source": [
    "class Infix:\n",
    "\n",
    "    def __init__(self, function):\n",
    "        self.function = function\n",
    "\n",
    "    def __ror__(self, other):\n",
    "        return Infix(lambda x, self=self, other=other: self.function(other, x))\n",
    "\n",
    "    def __or__(self, other):\n",
    "        return self.function(other)\n",
    "\n",
    "    def __call__(self, value1, value2):\n",
    "        return self.function(value1, value2)"
   ]
  },
  {
   "cell_type": "code",
   "execution_count": 3,
   "metadata": {},
   "outputs": [],
   "source": [
    "dot =Infix(inner)"
   ]
  },
  {
   "cell_type": "code",
   "execution_count": 4,
   "metadata": {},
   "outputs": [],
   "source": [
    "def draw_plot(space, points, func):\n",
    "    c_topology, c_cell_types, c_geometry = dofplot.create_vtk_mesh(space)\n",
    "    check = np.vstack((np.arange(len(func)), func)).T[points][:, 1]\n",
    "    c_data = np.column_stack((c_geometry[:, 0:2], check))\n",
    "    x_data = c_data[:, 0]\n",
    "    y_data = c_data[:, 1]\n",
    "    z_data = c_data[:, 2]\n",
    "    plt.tripcolor(x_data, y_data, z_data, shading='gouraud')"
   ]
  },
  {
   "cell_type": "code",
   "execution_count": 5,
   "metadata": {},
   "outputs": [],
   "source": [
    "doamain_mesh = mesh.create_rectangle(\n",
    "    points=((0, 0), (2, 3)),\n",
    "    n=(2, 3),\n",
    "    cell_type=mesh.CellType.triangle,\n",
    "    ghost_mode=mesh.GhostMode.none,\n",
    "    comm=MPI.COMM_WORLD,\n",
    "    )\n",
    "u_elem = ufl.VectorElement(\"Lagrange\", doamain_mesh.ufl_cell(), 2)\n",
    "p_elem = ufl.FiniteElement(\"Lagrange\", doamain_mesh.ufl_cell(), 1)\n",
    "u_space, p_space = fem.FunctionSpace(doamain_mesh,u_elem),fem.FunctionSpace(doamain_mesh,p_elem)"
   ]
  },
  {
   "cell_type": "code",
   "execution_count": 6,
   "metadata": {},
   "outputs": [],
   "source": [
    "bc_static_X = np.zeros(doamain_mesh.geometry.dim, dtype=PETSc.ScalarType)\n",
    "bc_static_marker = mesh.locate_entities_boundary(\n",
    "    doamain_mesh,\n",
    "    dim=1,\n",
    "    marker=lambda x: np.isclose(x[0], 0)|np.isclose(x[0], 1)\n",
    "    |np.isclose(x[1], 0)\n",
    "    )\n",
    "bc_static = fem.dirichletbc(\n",
    "    V=u_space,\n",
    "    value=bc_static_X,\n",
    "    dofs=fem.locate_dofs_topological(\n",
    "        V=u_space, entity_dim=1, entities=bc_static_marker\n",
    "        ),\n",
    "    )\n",
    "\n",
    "\n",
    "def bc_dynamic_X_expression(x):\n",
    "    return np.stack((np.ones(x.shape[1]), np.zeros(x.shape[1])))\n",
    "\n",
    "\n",
    "bc_dynamic_X = fem.Function(u_space)\n",
    "bc_dynamic_X.interpolate(bc_dynamic_X_expression)\n",
    "bc_dynamic_marker = mesh.locate_entities_boundary(\n",
    "    doamain_mesh,\n",
    "    dim=1,\n",
    "    marker=lambda x: np.isclose(x[1], 1),\n",
    "    )\n",
    "bc_dynamic = fem.dirichletbc(\n",
    "    bc_dynamic_X, fem.locate_dofs_topological(u_space, 1, bc_dynamic_marker)\n",
    "    )\n",
    "\n",
    "bcs = [bc_static, bc_dynamic]"
   ]
  },
  {
   "cell_type": "code",
   "execution_count": 7,
   "metadata": {},
   "outputs": [],
   "source": [
    "u, p = ufl.TrialFunction(u_space), ufl.TrialFunction(p_space)\n",
    "v, q = ufl.TestFunction(u_space), ufl.TestFunction(p_space)\n",
    "\n",
    "f_ufl = ufl.Constant(doamain_mesh, (PETSc.ScalarType(0), PETSc.ScalarType(0)))\n",
    "f_fem = fem.Constant(doamain_mesh, (PETSc.ScalarType(0), PETSc.ScalarType(0)))\n",
    "\n",
    "g_ufl = ufl.Constant(doamain_mesh, PETSc.ScalarType(0))\n",
    "g_fem = fem.Constant(doamain_mesh, PETSc.ScalarType(0))\n",
    "\n",
    "a_block = fem.form(\n",
    "    [\n",
    "        [(grad(u)|dot|grad(v)) * dx, (p|dot|div(v)) * dx],\n",
    "        [(div(u)|dot|q) * dx, None]\n",
    "        ]\n",
    "    )\n",
    "a_p11 = fem.form((p|dot|q) * dx)\n",
    "a_p = [[a_block[0][0], None], [None, a_p11]]\n",
    "L_block = fem.form([(f_fem|dot|v) * dx, (g_fem|dot|q) * dx])"
   ]
  },
  {
   "cell_type": "code",
   "execution_count": 10,
   "metadata": {},
   "outputs": [
    {
     "data": {
      "text/plain": [
       "<dolfinx.fem.forms.Form at 0x7f565cdf19f0>"
      ]
     },
     "execution_count": 10,
     "metadata": {},
     "output_type": "execute_result"
    }
   ],
   "source": [
    "a_p11"
   ]
  },
  {
   "cell_type": "markdown",
   "metadata": {},
   "source": [
    "### Nested matrix solver"
   ]
  },
  {
   "cell_type": "code",
   "execution_count": 9,
   "metadata": {},
   "outputs": [],
   "source": [
    "assebled = fem.petsc.assemble_matrix_nest(a_block,bcs=bcs)\n",
    "assebled.assemble()"
   ]
  }
 ],
 "metadata": {
  "interpreter": {
   "hash": "916dbcbb3f70747c44a77c7bcd40155683ae19c65e1c03b4aa3499c5328201f1"
  },
  "kernelspec": {
   "display_name": "Python 3.9.7 64-bit",
   "language": "python",
   "name": "python3"
  },
  "language_info": {
   "codemirror_mode": {
    "name": "ipython",
    "version": 3
   },
   "file_extension": ".py",
   "mimetype": "text/x-python",
   "name": "python",
   "nbconvert_exporter": "python",
   "pygments_lexer": "ipython3",
   "version": "3.9.7"
  },
  "orig_nbformat": 4
 },
 "nbformat": 4,
 "nbformat_minor": 2
}
