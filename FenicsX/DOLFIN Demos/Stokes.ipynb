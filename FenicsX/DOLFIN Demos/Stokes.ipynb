{
 "cells": [
  {
   "cell_type": "code",
   "execution_count": 1,
   "metadata": {},
   "outputs": [],
   "source": [
    "# f_ufl = ufl.Constant(domain_mesh, (PETSc.ScalarType(0), PETSc.ScalarType(0)))\n",
    "# f_fem = fem.Constant(domain_mesh, (PETSc.ScalarType(0), PETSc.ScalarType(0)))\n",
    "\n",
    "# g_ufl = ufl.Constant(domain_mesh, PETSc.ScalarType(0))\n",
    "# g_fem = fem.Constant(domain_mesh, PETSc.ScalarType(0))\n",
    "\n",
    "# a_block = fem.form(\n",
    "#     [\n",
    "#         [(grad(u)|dot|grad(v)) * dx, (p|dot|div(v)) * dx],\n",
    "#         [(div(u)|dot|q) * dx, None]\n",
    "#         ]\n",
    "#     )\n",
    "# a_p11 = fem.form((p|dot|q) * dx)\n",
    "# a_p = [[a_block[0][0], None], [None, a_p11]]\n",
    "# L_block = fem.form([(f_fem|dot|v) * dx, (g_fem|dot|q) * dx])"
   ]
  },
  {
   "cell_type": "code",
   "execution_count": 2,
   "metadata": {},
   "outputs": [],
   "source": [
    "import os\n",
    "import shutil\n",
    "import sys\n",
    "import time\n",
    "\n",
    "import numpy as np\n",
    "import copy\n",
    "\n",
    "from dolfinx import fem, mesh, io, nls\n",
    "from dolfinx import plot as dofplot\n",
    "from ufl import dx, ds, grad, inner, exp, sin, diff, div\n",
    "import ufl\n",
    "from mpi4py import MPI\n",
    "from petsc4py import PETSc\n",
    "\n",
    "from ipywidgets import IntProgress\n",
    "from IPython.display import display\n",
    "import matplotlib.pyplot as plt\n",
    "import pyvista as pv"
   ]
  },
  {
   "cell_type": "code",
   "execution_count": 3,
   "metadata": {},
   "outputs": [],
   "source": [
    "class Infix:\n",
    "\n",
    "    def __init__(self, function):\n",
    "        self.function = function\n",
    "\n",
    "    def __ror__(self, other):\n",
    "        return Infix(lambda x, self=self, other=other: self.function(other, x))\n",
    "\n",
    "    def __or__(self, other):\n",
    "        return self.function(other)\n",
    "\n",
    "    def __call__(self, value1, value2):\n",
    "        return self.function(value1, value2)"
   ]
  },
  {
   "cell_type": "code",
   "execution_count": 4,
   "metadata": {},
   "outputs": [],
   "source": [
    "dot = Infix(inner)"
   ]
  },
  {
   "cell_type": "code",
   "execution_count": 5,
   "metadata": {},
   "outputs": [],
   "source": [
    "def draw_plot(space, points, func):\n",
    "    c_topology, c_cell_types, c_geometry = dofplot.create_vtk_mesh(space)\n",
    "    check = np.vstack((np.arange(len(func)), func)).T[points][:, 1]\n",
    "    c_data = np.column_stack((c_geometry[:, 0:2], check))\n",
    "    x_data = c_data[:, 0]\n",
    "    y_data = c_data[:, 1]\n",
    "    z_data = c_data[:, 2]\n",
    "    plt.tripcolor(x_data, y_data, z_data, shading='gouraud')"
   ]
  },
  {
   "cell_type": "code",
   "execution_count": 6,
   "metadata": {},
   "outputs": [],
   "source": [
    "domain_mesh = mesh.create_rectangle(\n",
    "    points=((0, 0), (1, 1)),\n",
    "    n=(32, 32),\n",
    "    cell_type=mesh.CellType.triangle,\n",
    "    ghost_mode=mesh.GhostMode.none,\n",
    "    comm=MPI.COMM_WORLD,\n",
    "    )\n",
    "u_elem = ufl.VectorElement(\"Lagrange\", domain_mesh.ufl_cell(), 2)\n",
    "p_elem = ufl.FiniteElement(\"Lagrange\", domain_mesh.ufl_cell(), 1)\n",
    "V, P = fem.FunctionSpace(domain_mesh,u_elem),fem.FunctionSpace(domain_mesh,p_elem)\n",
    "GEN = fem.FunctionSpace(domain_mesh, u_elem * p_elem)\n",
    "R_V, _ = GEN.sub(0).collapse()"
   ]
  },
  {
   "cell_type": "markdown",
   "metadata": {},
   "source": [
    "### Standart Solver"
   ]
  },
  {
   "cell_type": "code",
   "execution_count": 7,
   "metadata": {},
   "outputs": [],
   "source": [
    "bc_static_x = fem.Function(V)\n",
    "bc_static_marker = mesh.locate_entities_boundary(\n",
    "    domain_mesh,\n",
    "    dim=1,\n",
    "    marker=lambda x: np.isclose(x[0], 0)|np.isclose(x[0], 1)\n",
    "    |np.isclose(x[1], 0)\n",
    "    )\n",
    "bc_static_dofs = fem.locate_dofs_topological(\n",
    "    V=(GEN.sub(0), V),\n",
    "    entity_dim=1,\n",
    "    entities=bc_static_marker,\n",
    "    )\n",
    "bc_static = fem.dirichletbc(\n",
    "    bc_static_x,\n",
    "    bc_static_dofs,\n",
    "    GEN.sub(0),     # V=GEN.sub(0),\n",
    "     # value=bc_static_x,\n",
    "     # dofs=bc_static_dofs,\n",
    "    )\n",
    "\n",
    "\n",
    "def bc_dynamic_x_expression(x):\n",
    "    return np.stack((np.ones(x.shape[1]), np.zeros(x.shape[1])))\n",
    "\n",
    "\n",
    "bc_dynamic_x = fem.Function(R_V)\n",
    "bc_dynamic_x.interpolate(bc_dynamic_x_expression)\n",
    "bc_dynamic_marker = mesh.locate_entities_boundary(\n",
    "    domain_mesh,\n",
    "    dim=1,\n",
    "    marker=lambda x: np.isclose(x[1], 1),\n",
    "    )\n",
    "bc_dynamic_dofs = fem.locate_dofs_topological(\n",
    "    (GEN.sub(0), V),\n",
    "    1,\n",
    "    bc_dynamic_marker,\n",
    "    )\n",
    "bc_dynamic = fem.dirichletbc(\n",
    "    bc_dynamic_x,\n",
    "    bc_dynamic_dofs,\n",
    "    GEN.sub(0),\n",
    "    )\n",
    "\n",
    "bc_init_x = fem.Function(P)\n",
    "bc_init_x.x.set(0.0)\n",
    "bc_init_dofs = fem.locate_dofs_geometrical(\n",
    "    V=(GEN.sub(1), P),\n",
    "    marker=lambda x: np.isclose(x.T, [0, 0, 0]).all(axis=1),\n",
    "    )\n",
    "bc_init = fem.dirichletbc(\n",
    "    V=GEN.sub(1),\n",
    "    dofs=bc_init_dofs,\n",
    "    value=bc_init_x,\n",
    "    )\n",
    "bcs = [bc_static, bc_dynamic, bc_init]"
   ]
  },
  {
   "cell_type": "code",
   "execution_count": 8,
   "metadata": {},
   "outputs": [],
   "source": [
    "u, p = ufl.TrialFunctions(GEN)\n",
    "v, q = ufl.TestFunctions(GEN)\n",
    "f = fem.Function(R_V)\n",
    "\n",
    "a = (grad(u)|dot|grad(v)) * dx + (p|dot|div(v)) * dx + (div(u)|dot|q) * dx\n",
    "a = fem.form(a)\n",
    "left = (f|dot|v) * dx\n",
    "left = fem.form(left)\n"
   ]
  },
  {
   "cell_type": "code",
   "execution_count": 9,
   "metadata": {},
   "outputs": [],
   "source": [
    "a_matrix = fem.petsc.assemble_matrix(a, bcs=bcs)\n",
    "a_matrix.assemble()\n",
    "b = fem.petsc.assemble_vector(left)\n",
    "fem.petsc.apply_lifting(b, [a], bcs=[bcs])\n",
    "b.ghostUpdate(addv=PETSc.InsertMode.ADD, mode=PETSc.ScatterMode.REVERSE)\n",
    "\n",
    "# Set Dirichlet boundary condition values in the RHS\n",
    "fem.petsc.set_bc(b, bcs)\n",
    "\n",
    "# Create and configure solver\n",
    "ksp = PETSc.KSP().create(domain_mesh.comm)\n",
    "ksp.setOperators(a_matrix)\n",
    "ksp.setType(\"preonly\")\n",
    "ksp.getPC().setType(\"lu\")\n",
    "ksp.getPC().setFactorSolverType(\"superlu_dist\")"
   ]
  },
  {
   "cell_type": "code",
   "execution_count": 10,
   "metadata": {},
   "outputs": [],
   "source": [
    "func = fem.Function(GEN)\n",
    "ksp.solve(b, func.vector)"
   ]
  },
  {
   "cell_type": "code",
   "execution_count": 11,
   "metadata": {},
   "outputs": [
    {
     "name": "stdout",
     "output_type": "stream",
     "text": [
      "Norm of velocity: 17.47837015708121  Norm of pressure:311.5914181997778\n"
     ]
    }
   ],
   "source": [
    "result_u = func.sub(0).collapse()\n",
    "result_p = func.sub(1).collapse()\n",
    "\n",
    "print(\n",
    "    f'Norm of velocity: {result_u.x.norm()}  Norm of pressure:{result_p.x.norm()}'\n",
    "    )\n",
    "with io.XDMFFile(MPI.COMM_WORLD, 'Stokes_file/velocity.xdmf', 'w') as file:\n",
    "    result_u.x.scatter_forward()\n",
    "    file.write_mesh(domain_mesh)\n",
    "    file.write_function(result_u)\n",
    "with io.XDMFFile(MPI.COMM_WORLD, 'Stokes_file/pressure.xdmf', 'w') as file:\n",
    "    result_p.x.scatter_forward()\n",
    "    file.write_mesh(domain_mesh)\n",
    "    file.write_function(result_p)\n"
   ]
  }
 ],
 "metadata": {
  "interpreter": {
   "hash": "916dbcbb3f70747c44a77c7bcd40155683ae19c65e1c03b4aa3499c5328201f1"
  },
  "kernelspec": {
   "display_name": "Python 3.9.7 64-bit",
   "language": "python",
   "name": "python3"
  },
  "language_info": {
   "codemirror_mode": {
    "name": "ipython",
    "version": 3
   },
   "file_extension": ".py",
   "mimetype": "text/x-python",
   "name": "python",
   "nbconvert_exporter": "python",
   "pygments_lexer": "ipython3",
   "version": "3.9.7"
  },
  "orig_nbformat": 4
 },
 "nbformat": 4,
 "nbformat_minor": 2
}
