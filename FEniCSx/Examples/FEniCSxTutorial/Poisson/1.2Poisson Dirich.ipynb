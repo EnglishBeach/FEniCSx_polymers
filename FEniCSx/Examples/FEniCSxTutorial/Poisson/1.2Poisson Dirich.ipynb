{
 "cells": [
  {
   "cell_type": "code",
   "execution_count": 12,
   "metadata": {},
   "outputs": [],
   "source": [
    "# MESH is toolkit for facets and meshes\n",
    "# FEM is function toolkit\n",
    "# IO is file manager\n",
    "# PLOT is plot manager\n",
    "# MPI for multyprocessors operation\n",
    "# UFL is folrmula translator\n",
    "# PETS is linear algebra solver\n",
    "\n",
    "from dolfinx import mesh, fem, io, plot\n",
    "import ufl\n",
    "from mpi4py import MPI\n",
    "from petsc4py.PETSc import ScalarType\n",
    "import numpy as np\n",
    "import matplotlib.pyplot as plt\n",
    "\n",
    "\n",
    "class Infix:\n",
    "\n",
    "    def __init__(self, function):\n",
    "        self.function = function\n",
    "\n",
    "    def __ror__(self, other):\n",
    "        return Infix(lambda x, self=self, other=other: self.function(other, x))\n",
    "\n",
    "    def __or__(self, other):\n",
    "        return self.function(other)\n",
    "\n",
    "    def __call__(self, value1, value2):\n",
    "        return self.function(value1, value2)"
   ]
  },
  {
   "cell_type": "code",
   "execution_count": 13,
   "metadata": {},
   "outputs": [],
   "source": [
    "# def_uD = lambda x: 3 * x[0]**2 - 3 * x[0]\n",
    "# def_uD = lambda x:- x[0]\n",
    "def_uD = lambda x: np.where(x[0] >= 0.5, x[0]**2, 0)\n",
    "def_f = 6\n",
    "N = 100"
   ]
  },
  {
   "cell_type": "markdown",
   "metadata": {},
   "source": [
    "# Solver"
   ]
  },
  {
   "cell_type": "code",
   "execution_count": 14,
   "metadata": {},
   "outputs": [],
   "source": [
    "domain = mesh.create_interval(MPI.COMM_WORLD, N - 1, [0, 1])\n",
    "V = fem.FunctionSpace(domain, ('Lagrange', 1))"
   ]
  },
  {
   "cell_type": "code",
   "execution_count": 15,
   "metadata": {},
   "outputs": [],
   "source": [
    "uD = fem.Function(V)\n",
    "uD.interpolate(def_uD)\n",
    "domain.topology.create_connectivity(\n",
    "    domain.topology.dim - 1,\n",
    "    domain.topology.dim,\n",
    "    )\n",
    "boundary_facets = mesh.exterior_facet_indices(domain.topology)\n",
    "boundary_dofs = fem.locate_dofs_topological(\n",
    "    V,\n",
    "    domain.topology.dim - 1,\n",
    "    boundary_facets,\n",
    "    )\n",
    "bcs = fem.dirichletbc(uD, boundary_dofs)"
   ]
  },
  {
   "cell_type": "code",
   "execution_count": 16,
   "metadata": {},
   "outputs": [],
   "source": [
    "u, v = ufl.TrialFunction(V), ufl.TestFunction(V)\n",
    "f = fem.Constant(V, ScalarType(def_f))\n",
    "dot = Infix(ufl.dot)\n",
    "grad = ufl.grad\n",
    "dx = ufl.dx\n",
    "\n",
    "F= (grad(u)|dot|grad(v)) * dx +\\\n",
    "    f*v*dx"
   ]
  },
  {
   "cell_type": "code",
   "execution_count": 17,
   "metadata": {},
   "outputs": [],
   "source": [
    "problem = fem.petsc.LinearProblem(\n",
    "    ufl.lhs(F),\n",
    "    ufl.rhs(F),\n",
    "    bcs=[bcs],\n",
    "    petsc_options={\n",
    "        \"ksp_type\": \"preonly\", \"pc_type\": \"lu\"\n",
    "        }\n",
    "    )\n",
    "uS = problem.solve()"
   ]
  },
  {
   "cell_type": "code",
   "execution_count": 18,
   "metadata": {},
   "outputs": [],
   "source": [
    "# L2 error\n",
    "V_err = fem.FunctionSpace(domain, ('CG', 2))\n",
    "u_err = fem.Function(V_err)\n",
    "u_err.interpolate(def_uD)\n",
    "L2 = fem.form(((uS - u_err)|dot|(uS - u_err)) * dx)\n",
    "L1 = fem.form((uS - u_err) * dx)\n",
    "\n",
    "err_local = fem.assemble_scalar(L2)\n",
    "err_L2 = np.sqrt(domain.comm.allreduce(err_local, op=MPI.SUM))\n",
    "err_local1 = fem.assemble_scalar(L1)\n",
    "err_L12 = np.abs(domain.comm.allreduce(err_local1, op=MPI.SUM))\n",
    "\n",
    "err_L1 = np.max(np.abs(uS.x.array - uD.x.array))"
   ]
  },
  {
   "cell_type": "markdown",
   "metadata": {},
   "source": [
    "# Graph"
   ]
  },
  {
   "cell_type": "code",
   "execution_count": 19,
   "metadata": {},
   "outputs": [
    {
     "name": "stdout",
     "output_type": "stream",
     "text": [
      " L1= 2.92e-01 \n",
      " L2 norm = 3.20e-01 \n",
      " L1 norm = 5.00e-01\n"
     ]
    }
   ],
   "source": [
    "print(\n",
    "    f' L1= {err_L12:.2e} \\n L2 norm = {err_L2:.2e} \\n L1 norm = {err_L1:.2e}'\n",
    "    )"
   ]
  },
  {
   "cell_type": "code",
   "execution_count": 24,
   "metadata": {},
   "outputs": [
    {
     "data": {
      "text/plain": [
       "True"
      ]
     },
     "execution_count": 24,
     "metadata": {},
     "output_type": "execute_result"
    }
   ],
   "source": [
    "uS.function_space.mesh ==domain"
   ]
  },
  {
   "cell_type": "code",
   "execution_count": 25,
   "metadata": {},
   "outputs": [],
   "source": [
    "class Graph:\n",
    "\n",
    "    @staticmethod\n",
    "    def data_construct(dofs, x_array):\n",
    "        data = np.column_stack((dofs[:, 0:2], x_array))\n",
    "        x_data = data[:, 0]\n",
    "        y_data = data[:, 1]\n",
    "        z_data = data[:, 2]\n",
    "        return [x_data, y_data, z_data]\n",
    "\n",
    "    @staticmethod\n",
    "    def line_collision(domain, line_cord):\n",
    "        \"\"\"Generate points and cells of colliding domain and line\n",
    "\n",
    "        Args:\n",
    "            domain (mesh): Domain\n",
    "            line_cord (array): 3D line contervertor of coordinates \n",
    "\n",
    "        Returns:\n",
    "            Tuple: Collision points and collision cells\n",
    "        \"\"\"\n",
    "        bb_tree = dolfinx.geometry.BoundingBoxTree(domain, domain.topology.dim)\n",
    "        cells_on_line = []\n",
    "        points_on_line = []\n",
    "        cell_candidates = dolfinx.geometry.compute_collisions(\n",
    "            bb_tree, line_cord.T\n",
    "            )\n",
    "        colliding_cells = dolfinx.geometry.compute_colliding_cells(\n",
    "            domain, cell_candidates, line_cord.T\n",
    "            )\n",
    "        for i, point in enumerate(line_cord.T):\n",
    "            if len(colliding_cells.links(i)) > 0:\n",
    "                points_on_line.append(point)\n",
    "                cells_on_line.append(colliding_cells.links(i)[0])\n",
    "\n",
    "        points_on_line = np.array(points_on_line, dtype=np.float64)\n",
    "\n",
    "        return (points_on_line, cells_on_line)\n",
    "\n",
    "    @staticmethod\n",
    "    def graph1D(fig, ax, lists, points_on=False):\n",
    "        \"\"\"Create graph from fem.Function\n",
    "\n",
    "        Args:\n",
    "            fig (plt.Figure): Figure\n",
    "            lists (fem.Function, str): List of (u, title)\n",
    "            points_on (bool): If true create scatter\n",
    "        \"\"\"\n",
    "        for list in lists:\n",
    "            u, title = list\n",
    "            x_cord = u.function_space.mesh.geometry.x[:, 0]\n",
    "            y_cord = u.x.array\n",
    "            ax.set_title(title)\n",
    "            if points_on: ax.scatter(x_cord, y_cord)\n",
    "            ax.plot(x_cord, y_cord, label=title)\n",
    "\n",
    "        ax.legend(loc='upper left', facecolor='yellow')\n",
    "        return\n",
    "\n",
    "    @staticmethod\n",
    "    def graph2D(fig, lists, natural_show=False, points_on=False):\n",
    "        \"\"\"Create graph from fem.Function\n",
    "\n",
    "        Args:\n",
    "            fig (plt.Figure): Figure\n",
    "            lists (fem.Function , plt.Axes, str): List of (u, curent axes, title)\n",
    "            natural_show (bool): True = tripcolor, False = tricontourf\n",
    "            points_on (bool): True = set points\n",
    "        \"\"\"\n",
    "\n",
    "        for list in lists:\n",
    "            u, ax, title = list\n",
    "            dofs = u.function_space.tabulate_dof_coordinates()\n",
    "            ax.set_title(title)\n",
    "            data = Graph.data_construct(dofs, u.x.array)\n",
    "\n",
    "            if points_on:\n",
    "                ax.plot(data[0], data[1], 'o', markersize=2, color='grey')\n",
    "\n",
    "            if natural_show:\n",
    "                plot = ax.tripcolor(*data)\n",
    "            else:\n",
    "                try:\n",
    "                    levels = np.linspace(u.x.array.min(), u.x.array.max(), 10)\n",
    "                    plot = ax.tricontourf(*data, levels=levels)\n",
    "                except:\n",
    "                    print(f'{title} - error')\n",
    "\n",
    "            ax.set_aspect(1)\n",
    "            fig.colorbar(plot, ax=ax)\n",
    "        return\n"
   ]
  },
  {
   "cell_type": "code",
   "execution_count": 41,
   "metadata": {},
   "outputs": [
    {
     "data": {
      "image/png": "[encoded data removed]",
      "text/plain": [
       "<Figure size 720x720 with 1 Axes>"
      ]
     },
     "metadata": {
      "needs_background": "light"
     },
     "output_type": "display_data"
    }
   ],
   "source": [
    "fig, ax = plt.subplots(figsize=(10, 10))\n",
    "Graph.graph1D(\n",
    "    fig=fig,\n",
    "    ax=ax,\n",
    "    points_on=True,\n",
    "    lists=[[uS,'Solution'],\n",
    "           [uD,'Boundary']],\n",
    "    )\n"
   ]
  }
 ],
 "metadata": {
  "kernelspec": {
   "display_name": "Python 3.10.4 64-bit",
   "language": "python",
   "name": "python3"
  },
  "language_info": {
   "codemirror_mode": {
    "name": "ipython",
    "version": 3
   },
   "file_extension": ".py",
   "mimetype": "text/x-python",
   "name": "python",
   "nbconvert_exporter": "python",
   "pygments_lexer": "ipython3",
   "version": "3.10.4"
  },
  "orig_nbformat": 4,
  "vscode": {
   "interpreter": {
    "hash": "916dbcbb3f70747c44a77c7bcd40155683ae19c65e1c03b4aa3499c5328201f1"
   }
  }
 },
 "nbformat": 4,
 "nbformat_minor": 2
}
