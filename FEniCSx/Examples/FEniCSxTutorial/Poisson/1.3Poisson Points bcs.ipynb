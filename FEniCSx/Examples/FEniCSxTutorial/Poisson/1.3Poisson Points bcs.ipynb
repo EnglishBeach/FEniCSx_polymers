{
 "cells": [
  {
   "cell_type": "code",
   "execution_count": 1,
   "metadata": {},
   "outputs": [],
   "source": [
    "# MESH is toolkit for facets and meshes\n",
    "# FEM is function toolkit\n",
    "# IO is file manager\n",
    "# PLOT is plot manager\n",
    "# MPI for multyprocessors operation\n",
    "# UFL is folrmula translator\n",
    "# PETS is linear algebra solver\n",
    "\n",
    "from dolfinx import mesh, fem, io, plot\n",
    "import ufl\n",
    "from mpi4py import MPI\n",
    "from petsc4py.PETSc import ScalarType\n",
    "import numpy as np\n",
    "import matplotlib.pyplot as plt\n",
    "\n",
    "\n",
    "class Infix:\n",
    "\n",
    "    def __init__(self, function):\n",
    "        self.function = function\n",
    "\n",
    "    def __ror__(self, other):\n",
    "        return Infix(lambda x, self=self, other=other: self.function(other, x))\n",
    "\n",
    "    def __or__(self, other):\n",
    "        return self.function(other)\n",
    "\n",
    "    def __call__(self, value1, value2):\n",
    "        return self.function(value1, value2)"
   ]
  },
  {
   "cell_type": "code",
   "execution_count": 2,
   "metadata": {},
   "outputs": [],
   "source": [
    "def_ud1 = lambda x: 1 + 0 * x[0]\n",
    "def_ud2 = lambda x: 2 + 0 * x[0]\n",
    "\n",
    "def_f = 6\n",
    "N = 100"
   ]
  },
  {
   "cell_type": "markdown",
   "metadata": {},
   "source": [
    "# Solver"
   ]
  },
  {
   "cell_type": "code",
   "execution_count": 3,
   "metadata": {},
   "outputs": [],
   "source": [
    "domain = mesh.create_interval(MPI.COMM_WORLD, N - 1, [0, 1])\n",
    "V = fem.FunctionSpace(domain, ('Lagrange', 1))"
   ]
  },
  {
   "cell_type": "code",
   "execution_count": 4,
   "metadata": {},
   "outputs": [],
   "source": [
    "def bound1(x):\n",
    "    return np.isclose(x[0], 0)\n",
    "\n",
    "\n",
    "uD1 = fem.Function(V)\n",
    "uD1.interpolate(def_ud1)\n",
    "bound1_dofs = fem.locate_dofs_geometrical(V=V, marker=bound1)\n",
    "bcs1 = fem.dirichletbc(\n",
    "    uD1,\n",
    "    bound1_dofs,\n",
    "    )\n",
    "\n",
    "\n",
    "def bound2(x):\n",
    "    return np.isclose(x[0], 1)\n",
    "\n",
    "\n",
    "uD2 = fem.Function(V)\n",
    "uD2.interpolate(def_ud2)\n",
    "bound2_dofs = fem.locate_dofs_geometrical(V, bound2)\n",
    "bcs2 = fem.dirichletbc(\n",
    "    uD2,\n",
    "    bound2_dofs,\n",
    "    )\n",
    "bcs = [bcs1, bcs2]"
   ]
  },
  {
   "cell_type": "code",
   "execution_count": 5,
   "metadata": {},
   "outputs": [],
   "source": [
    "u, v = ufl.TrialFunction(V), ufl.TestFunction(V)\n",
    "f = fem.Constant(V, ScalarType(def_f))\n",
    "dot = Infix(ufl.dot)\n",
    "grad = ufl.grad\n",
    "dx = ufl.dx\n",
    "\n",
    "F= (grad(u)|dot|grad(v)) * dx +\\\n",
    "    f*v*dx"
   ]
  },
  {
   "cell_type": "code",
   "execution_count": 6,
   "metadata": {},
   "outputs": [],
   "source": [
    "problem = fem.petsc.LinearProblem(\n",
    "    ufl.lhs(F),\n",
    "    ufl.rhs(F),\n",
    "    bcs=bcs,\n",
    "    petsc_options={\n",
    "        \"ksp_type\": \"preonly\", \"pc_type\": \"lu\"\n",
    "        }\n",
    "    )\n",
    "uS = problem.solve()"
   ]
  },
  {
   "cell_type": "markdown",
   "metadata": {},
   "source": [
    "# Graph"
   ]
  },
  {
   "cell_type": "code",
   "execution_count": 7,
   "metadata": {},
   "outputs": [
    {
     "data": {
      "text/plain": [
       "<matplotlib.legend.Legend at 0x7f9e539c68f0>"
      ]
     },
     "execution_count": 7,
     "metadata": {},
     "output_type": "execute_result"
    },
    {
     "data": {
      "image/png": "[encoded data removed]",
      "text/plain": [
       "<Figure size 720x720 with 1 Axes>"
      ]
     },
     "metadata": {
      "needs_background": "light"
     },
     "output_type": "display_data"
    }
   ],
   "source": [
    "fig, ax = plt.subplots(figsize=(10, 10))\n",
    "\n",
    "ax.plot(domain.geometry.x[:, 0], uS.x.array, label='Numeric')\n",
    "# ax.plot(domain.geometry.x[:, 0], uD.x.array, label='Boundary')\n",
    "ax.legend(loc='upper left', facecolor='yellow')"
   ]
  }
 ],
 "metadata": {
  "kernelspec": {
   "display_name": "Python 3.10.4 64-bit",
   "language": "python",
   "name": "python3"
  },
  "language_info": {
   "codemirror_mode": {
    "name": "ipython",
    "version": 3
   },
   "file_extension": ".py",
   "mimetype": "text/x-python",
   "name": "python",
   "nbconvert_exporter": "python",
   "pygments_lexer": "ipython3",
   "version": "3.10.4"
  },
  "orig_nbformat": 4,
  "vscode": {
   "interpreter": {
    "hash": "916dbcbb3f70747c44a77c7bcd40155683ae19c65e1c03b4aa3499c5328201f1"
   }
  }
 },
 "nbformat": 4,
 "nbformat_minor": 2
}
