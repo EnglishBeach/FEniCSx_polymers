{
 "cells": [
  {
   "cell_type": "code",
   "execution_count": 1,
   "metadata": {},
   "outputs": [],
   "source": [
    "from ufl import * \n",
    "import dolfinx\n",
    "import numpy as np\n",
    "\n",
    "from dolfinx import mesh,fem\n",
    "from mpi4py import MPI\n",
    "\n",
    "def printer(x):\n",
    "    print(f'{x}    *** {type(x)}')"
   ]
  },
  {
   "cell_type": "code",
   "execution_count": 2,
   "metadata": {},
   "outputs": [
    {
     "name": "stdout",
     "output_type": "stream",
     "text": [
      "FunctionSpace(<dolfinx.mesh.Mesh object at 0x7f1e485a0400>, MixedElement(FiniteElement('Lagrange', triangle, 1), FiniteElement('Lagrange', triangle, 2)))    *** <class 'ufl.functionspace.FunctionSpace'>\n",
      "FunctionSpace(Mesh(VectorElement(FiniteElement('Lagrange', triangle, 1), dim=2), 0), MixedElement(FiniteElement('Lagrange', triangle, 1), FiniteElement('Lagrange', triangle, 2)))    *** <class 'dolfinx.fem.function.FunctionSpace'>\n",
      "FunctionSpace(Mesh(VectorElement(FiniteElement('Lagrange', triangle, 1), dim=2), 0), FiniteElement('Lagrange', triangle, 1))    *** <class 'dolfinx.fem.function.FunctionSpace'>\n"
     ]
    }
   ],
   "source": [
    "cell = Cell(cellname='triangle')\n",
    "\n",
    "domaint = mesh.create_unit_square(\n",
    "    nx=3,\n",
    "    ny=3,\n",
    "    cell_type=mesh.CellType.triangle,\n",
    "    comm=MPI.COMM_WORLD,\n",
    "    )\n",
    "element = FiniteElement(\n",
    "    family='CG',\n",
    "    cell=cell,\n",
    "    degree=1,\n",
    "    )\n",
    "element2 = FiniteElement(\n",
    "    family='CG',\n",
    "    cell=cell,\n",
    "    degree=2,\n",
    "    )\n",
    "uspace = FunctionSpace(domain=domaint,element=element*element2 )\n",
    "dspace = fem.FunctionSpace(mesh=domaint,element=element*element2)\n",
    "space = fem.FunctionSpace(mesh=domaint,element=('CG',1))\n",
    "printer(uspace)\n",
    "printer(dspace)\n",
    "printer(space)"
   ]
  },
  {
   "cell_type": "code",
   "execution_count": 3,
   "metadata": {},
   "outputs": [],
   "source": [
    "# dspace\n",
    "# FunctionSpace(\n",
    "#     Mesh(VectorElement(FiniteElement('Lagrange', triangle, 1), dim=2), 0),\n",
    "#     MixedElement(\n",
    "#         FiniteElement('Lagrange', triangle, 1),\n",
    "#         FiniteElement('Lagrange', triangle, 2)\n",
    "#         )\n",
    "#     )\n"
   ]
  },
  {
   "cell_type": "code",
   "execution_count": 4,
   "metadata": {},
   "outputs": [],
   "source": [
    "# space\n",
    "# fem.FunctionSpace(\n",
    "#     fem.Mesh(VectorElement(FiniteElement('Lagrange', triangle, 1), dim=2), 2),\n",
    "#     FiniteElement('Lagrange', triangle, 1)\n",
    "#     )"
   ]
  },
  {
   "cell_type": "code",
   "execution_count": 17,
   "metadata": {},
   "outputs": [
    {
     "data": {
      "text/plain": [
       "<AdjacencyList> with 18 nodes\n",
       "  0: [0 1 2 ]\n",
       "  1: [0 3 2 ]\n",
       "  2: [4 0 3 ]\n",
       "  3: [3 2 5 ]\n",
       "  4: [4 6 3 ]\n",
       "  5: [3 7 5 ]\n",
       "  6: [8 4 6 ]\n",
       "  7: [6 3 7 ]\n",
       "  8: [7 5 9 ]\n",
       "  9: [8 10 6 ]\n",
       "  10: [6 11 7 ]\n",
       "  11: [7 12 9 ]\n",
       "  12: [10 6 11 ]\n",
       "  13: [11 7 12 ]\n",
       "  14: [10 13 11 ]\n",
       "  15: [11 14 12 ]\n",
       "  16: [13 11 14 ]\n",
       "  17: [13 15 14 ]"
      ]
     },
     "execution_count": 17,
     "metadata": {},
     "output_type": "execute_result"
    }
   ],
   "source": [
    "space.dofmap.list"
   ]
  },
  {
   "cell_type": "code",
   "execution_count": 16,
   "metadata": {},
   "outputs": [
    {
     "name": "stdout",
     "output_type": "stream",
     "text": [
      "2 *** 18\n",
      "0 *** 18\n",
      "*******SUBS*******\n",
      "FunctionSpace(Mesh(VectorElement(FiniteElement('Lagrange', triangle, 1), dim=2), 0), FiniteElement('Lagrange', triangle, 1))    *** <class 'dolfinx.fem.function.FunctionSpace'>\n",
      "FunctionSpace(Mesh(VectorElement(FiniteElement('Lagrange', triangle, 1), dim=2), 0), FiniteElement('Lagrange', triangle, 2))    *** <class 'dolfinx.fem.function.FunctionSpace'>\n",
      "*******ENDS*******\n",
      "(FunctionSpace(Mesh(VectorElement(FiniteElement('Lagrange', triangle, 1), dim=2), 0), FiniteElement('Lagrange', triangle, 2)), [3, 4, 5, 6, 7, 8, 10, 11, 12, 14, 15, 16, 18, 19, 20, 22, 23, 24, 26, 27, 28, 30, 31, 32, 33, 35, 36, 37, 39, 40, 41, 43, 44, 45, 47, 48, 49, 50, 51, 53, 54, 55, 57, 58, 59, 60, 62, 63, 64])    *** <class 'tuple'>\n"
     ]
    }
   ],
   "source": [
    "print(dspace.num_sub_spaces,'***',len(dspace.dofmap.list))\n",
    "print(space.num_sub_spaces,'***',len(space.dofmap.list))\n",
    "sub0 = dspace.sub(0)\n",
    "sub1 = dspace.sub(1)\n",
    "print('*******SUBS*******')\n",
    "printer(sub0)\n",
    "printer(sub1)\n",
    "print('*******ENDS*******')\n",
    "a = sub1.collapse()\n",
    "printer(a)"
   ]
  },
  {
   "cell_type": "code",
   "execution_count": 7,
   "metadata": {},
   "outputs": [
    {
     "data": {
      "text/plain": [
       "<AdjacencyList> with 18 nodes\n",
       "  0: [0 1 2 3 4 5 6 7 8 ]\n",
       "  1: [0 9 2 3 10 5 11 7 12 ]\n",
       "  2: [13 0 9 14 3 10 12 15 16 ]\n",
       "  3: [9 2 17 10 5 18 19 20 11 ]\n",
       "  4: [13 21 9 14 22 10 23 15 24 ]\n",
       "  5: [9 25 17 10 26 18 27 20 28 ]\n",
       "  6: [29 13 21 30 14 22 24 31 32 ]\n",
       "  7: [21 9 25 22 10 26 28 33 23 ]\n",
       "  8: [25 17 34 26 18 35 36 37 27 ]\n",
       "  9: [29 38 21 30 39 22 40 31 41 ]\n",
       "  10: [21 42 25 22 43 26 44 33 45 ]\n",
       "  11: [25 46 34 26 47 35 48 37 49 ]\n",
       "  12: [38 21 42 39 22 43 45 50 40 ]\n",
       "  13: [42 25 46 43 26 47 49 51 44 ]\n",
       "  14: [38 52 42 39 53 43 54 50 55 ]\n",
       "  15: [42 56 46 43 57 47 58 51 59 ]\n",
       "  16: [52 42 56 53 43 57 59 60 54 ]\n",
       "  17: [52 61 56 53 62 57 63 60 64 ]"
      ]
     },
     "execution_count": 7,
     "metadata": {},
     "output_type": "execute_result"
    }
   ],
   "source": [
    "dspace.dofmap.list"
   ]
  },
  {
   "cell_type": "code",
   "execution_count": 18,
   "metadata": {},
   "outputs": [
    {
     "name": "stdout",
     "output_type": "stream",
     "text": [
      "FunctionSpace(Mesh(VectorElement(FiniteElement('Q', quadrilateral, 1), dim=2), 2), FiniteElement('Q', quadrilateral, 1))    *** <class 'dolfinx.fem.function.FunctionSpace'>\n",
      "<AdjacencyList> with 9 nodes\n",
      "  0: [0 1 2 3 ]\n",
      "  1: [1 4 3 5 ]\n",
      "  2: [2 3 6 7 ]\n",
      "  3: [4 8 5 9 ]\n",
      "  4: [3 5 7 10 ]\n",
      "  5: [6 7 11 12 ]\n",
      "  6: [5 9 10 13 ]\n",
      "  7: [7 10 12 14 ]\n",
      "  8: [10 13 14 15 ]\n",
      "\n",
      "*******VECTOR*******\n",
      "FunctionSpace(Mesh(VectorElement(FiniteElement('Q', quadrilateral, 1), dim=2), 2), VectorElement(FiniteElement('Q', quadrilateral, 1), dim=2))    *** <class 'dolfinx.fem.function.FunctionSpace'>\n",
      "<AdjacencyList> with 9 nodes\n",
      "  0: [0 1 2 3 ]\n",
      "  1: [1 4 3 5 ]\n",
      "  2: [2 3 6 7 ]\n",
      "  3: [4 8 5 9 ]\n",
      "  4: [3 5 7 10 ]\n",
      "  5: [6 7 11 12 ]\n",
      "  6: [5 9 10 13 ]\n",
      "  7: [7 10 12 14 ]\n",
      "  8: [10 13 14 15 ]\n",
      "\n"
     ]
    }
   ],
   "source": [
    "domainq = mesh.create_unit_square(\n",
    "    nx=3,\n",
    "    ny=3,\n",
    "    cell_type=mesh.CellType.quadrilateral,\n",
    "    comm=MPI.COMM_WORLD,\n",
    "    )\n",
    "space2 = fem.FunctionSpace(mesh=domainq,element=('CG',1))\n",
    "printer(space2)\n",
    "print(space2.dofmap.list)\n",
    "print('*******VECTOR*******')\n",
    "space3 = fem.VectorFunctionSpace(domainq,('CG',1))\n",
    "printer(space3)\n",
    "print(space2.dofmap.list)"
   ]
  },
  {
   "cell_type": "code",
   "execution_count": 20,
   "metadata": {},
   "outputs": [
    {
     "data": {
      "text/plain": [
       "array([[ 6.66666667e-01, -7.18076024e-18,  0.00000000e+00],\n",
       "       [ 1.00000000e+00, -7.18076024e-18,  0.00000000e+00],\n",
       "       [ 1.00000000e+00,  3.33333333e-01,  0.00000000e+00],\n",
       "       [ 6.66666667e-01,  3.33333333e-01,  0.00000000e+00],\n",
       "       [ 3.33333333e-01, -7.18076024e-18,  0.00000000e+00],\n",
       "       [ 1.00000000e+00,  6.66666667e-01,  0.00000000e+00],\n",
       "       [ 3.33333333e-01,  3.33333333e-01,  0.00000000e+00],\n",
       "       [ 6.66666667e-01,  6.66666667e-01,  0.00000000e+00],\n",
       "       [ 7.18076024e-18,  7.18076024e-18,  0.00000000e+00],\n",
       "       [ 1.00000000e+00,  1.00000000e+00,  0.00000000e+00],\n",
       "       [ 7.18076024e-18,  3.33333333e-01,  0.00000000e+00],\n",
       "       [ 3.33333333e-01,  6.66666667e-01,  0.00000000e+00],\n",
       "       [ 6.66666667e-01,  1.00000000e+00,  0.00000000e+00],\n",
       "       [ 7.18076024e-18,  6.66666667e-01,  0.00000000e+00],\n",
       "       [ 3.33333333e-01,  1.00000000e+00,  0.00000000e+00],\n",
       "       [-7.18076024e-18,  1.00000000e+00,  0.00000000e+00]])"
      ]
     },
     "execution_count": 20,
     "metadata": {},
     "output_type": "execute_result"
    }
   ],
   "source": [
    "space.tabulate_dof_coordinates()"
   ]
  }
 ],
 "metadata": {
  "kernelspec": {
   "display_name": "Python 3.10.4 64-bit",
   "language": "python",
   "name": "python3"
  },
  "language_info": {
   "codemirror_mode": {
    "name": "ipython",
    "version": 3
   },
   "file_extension": ".py",
   "mimetype": "text/x-python",
   "name": "python",
   "nbconvert_exporter": "python",
   "pygments_lexer": "ipython3",
   "version": "3.10.4"
  },
  "orig_nbformat": 4,
  "vscode": {
   "interpreter": {
    "hash": "916dbcbb3f70747c44a77c7bcd40155683ae19c65e1c03b4aa3499c5328201f1"
   }
  }
 },
 "nbformat": 4,
 "nbformat_minor": 2
}
