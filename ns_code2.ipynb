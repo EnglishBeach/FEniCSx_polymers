{
 "cells": [
  {
   "cell_type": "code",
   "execution_count": 1,
   "metadata": {},
   "outputs": [],
   "source": [
    "import gmsh\n",
    "import numpy as np\n",
    "import matplotlib.pyplot as plt\n",
    "# import tqdm.notebook\n",
    "\n",
    "from mpi4py import MPI\n",
    "from petsc4py import PETSc\n",
    "import dolfinx.cpp\n",
    "\n",
    "from dolfinx.cpp.mesh import to_type, cell_entity_type\n",
    "from dolfinx.fem import Constant, Function, FunctionSpace, assemble_scalar, dirichletbc, form, locate_dofs_topological, set_bc\n",
    "from dolfinx.fem.petsc import apply_lifting, assemble_matrix, assemble_vector, create_vector, set_bc\n",
    "from dolfinx.graph import create_adjacencylist\n",
    "from dolfinx.geometry import BoundingBoxTree, compute_collisions, compute_colliding_cells\n",
    "from dolfinx.io import (XDMFFile, distribute_entity_data, gmshio)\n",
    "from dolfinx.mesh import create_mesh, meshtags_from_entities\n",
    "\n",
    "from ufl import (FacetNormal, FiniteElement, Identity, Measure, TestFunction, TrialFunction, VectorElement,\n",
    "                 as_vector, div, dot, ds, dx, inner, lhs, grad, nabla_grad, rhs, sym)\n",
    "gmsh.initialize()\n",
    "\n",
    "L = 2.2\n",
    "H = 0.41\n",
    "c_x = c_y =0.2\n",
    "r = 0.05\n",
    "gdim = 2\n",
    "mesh_comm = MPI.COMM_WORLD\n",
    "model_rank = 0\n",
    "if mesh_comm.rank == model_rank:\n",
    "    rectangle = gmsh.model.occ.addRectangle(0,0,0, L, H, tag=1)\n",
    "    obstacle = gmsh.model.occ.addDisk(c_x, c_y, 0, r, r)"
   ]
  },
  {
   "cell_type": "markdown",
   "metadata": {},
   "source": [
    "# Mesh\n"
   ]
  },
  {
   "cell_type": "code",
   "execution_count": 2,
   "metadata": {},
   "outputs": [],
   "source": [
    "if mesh_comm.rank == model_rank:\n",
    "    fluid = gmsh.model.occ.cut([(gdim, rectangle)], [(gdim, obstacle)])\n",
    "    gmsh.model.occ.synchronize()"
   ]
  },
  {
   "cell_type": "code",
   "execution_count": 3,
   "metadata": {},
   "outputs": [],
   "source": [
    "fluid_marker = 1\n",
    "if mesh_comm.rank == model_rank:\n",
    "    volumes = gmsh.model.getEntities(dim=gdim)\n",
    "    assert(len(volumes) == 1)\n",
    "    gmsh.model.addPhysicalGroup(volumes[0][0], [volumes[0][1]], fluid_marker)\n",
    "    gmsh.model.setPhysicalName(volumes[0][0], fluid_marker, \"Fluid\")"
   ]
  },
  {
   "cell_type": "code",
   "execution_count": 4,
   "metadata": {},
   "outputs": [],
   "source": [
    "inlet_marker, outlet_marker, wall_marker, obstacle_marker = 2, 3, 4, 5\n",
    "inflow, outflow, walls, obstacle = [], [], [], []\n",
    "if mesh_comm.rank == model_rank:\n",
    "    boundaries = gmsh.model.getBoundary(volumes, oriented=False)\n",
    "    for boundary in boundaries:\n",
    "        center_of_mass = gmsh.model.occ.getCenterOfMass(boundary[0], boundary[1])\n",
    "        if np.allclose(center_of_mass, [0, H/2, 0]):\n",
    "            inflow.append(boundary[1])\n",
    "        elif np.allclose(center_of_mass, [L, H/2, 0]):\n",
    "            outflow.append(boundary[1])\n",
    "        elif np.allclose(center_of_mass, [L/2, H, 0]) or np.allclose(center_of_mass, [L/2, 0, 0]):\n",
    "            walls.append(boundary[1])\n",
    "        else:\n",
    "            obstacle.append(boundary[1])\n",
    "    gmsh.model.addPhysicalGroup(1, walls, wall_marker)\n",
    "    gmsh.model.setPhysicalName(1, wall_marker, \"Walls\")\n",
    "    gmsh.model.addPhysicalGroup(1, inflow, inlet_marker)\n",
    "    gmsh.model.setPhysicalName(1, inlet_marker, \"Inlet\")\n",
    "    gmsh.model.addPhysicalGroup(1, outflow, outlet_marker)\n",
    "    gmsh.model.setPhysicalName(1, outlet_marker, \"Outlet\")\n",
    "    gmsh.model.addPhysicalGroup(1, obstacle, obstacle_marker)\n",
    "    gmsh.model.setPhysicalName(1, obstacle_marker, \"Obstacle\")"
   ]
  },
  {
   "cell_type": "code",
   "execution_count": 5,
   "metadata": {},
   "outputs": [],
   "source": [
    "# Create distance field from obstacle.\n",
    "# Add threshold of mesh sizes based on the distance field\n",
    "# LcMax -                  /--------\n",
    "#                      /\n",
    "# LcMin -o---------/\n",
    "#        |         |       |\n",
    "#       Point    DistMin DistMax\n",
    "res_min = r / 3.7\n",
    "res_max = 1.5 * r\n",
    "if mesh_comm.rank == model_rank:\n",
    "    gmsh.model.mesh.field.add(\"Distance\", 1)\n",
    "    gmsh.model.mesh.field.setNumbers(1, \"EdgesList\", obstacle)\n",
    "    gmsh.model.mesh.field.add(\"Threshold\", 2)\n",
    "    gmsh.model.mesh.field.setNumber(2, \"IField\", 1)\n",
    "    gmsh.model.mesh.field.setNumber(2, \"LcMin\", res_min)\n",
    "    gmsh.model.mesh.field.setNumber(2, \"LcMax\", res_max)\n",
    "    gmsh.model.mesh.field.setNumber(2, \"DistMin\", 4*r)\n",
    "    gmsh.model.mesh.field.setNumber(2, \"DistMax\", 8*r)\n",
    "\n",
    "    # We take the minimum of the two fields as the mesh size\n",
    "    gmsh.model.mesh.field.add(\"Min\", 5)\n",
    "    gmsh.model.mesh.field.setNumbers(5, \"FieldsList\", [2])\n",
    "    gmsh.model.mesh.field.setAsBackgroundMesh(5)"
   ]
  },
  {
   "cell_type": "code",
   "execution_count": 6,
   "metadata": {},
   "outputs": [
    {
     "name": "stdout",
     "output_type": "stream",
     "text": [
      "Info    : Meshing 1D...\n",
      "Info    : [  0%] Meshing curve 1 (Line)\n",
      "Info    : [ 20%] Meshing curve 2 (Line)\n",
      "Info    : [ 40%] Meshing curve 3 (Line)\n",
      "Info    : [ 60%] Meshing curve 4 (Line)\n",
      "Info    : [ 80%] Meshing curve 5 (Ellipse)\n",
      "Info    : Done meshing 1D (Wall 0.0107147s, CPU 0.013077s)\n",
      "Info    : Meshing 2D...\n",
      "Info    : Meshing surface 1 (Plane, Frontal-Delaunay)\n",
      "Info    : Simple recombination completed (Wall 0.0248311s, CPU 0.015456s): 1180 quads, 354 triangles, 0 invalid quads, 0 quads with Q < 0.1, avg Q = 0.773076, min Q = 0.435836\n",
      "Info    : Done meshing 2D (Wall 0.073296s, CPU 0.063871s)\n",
      "Info    : Refining mesh...\n",
      "Info    : Meshing order 2 (curvilinear on)...\n",
      "Info    : [  0%] Meshing curve 1 order 2\n",
      "Info    : [ 20%] Meshing curve 2 order 2\n",
      "Info    : [ 40%] Meshing curve 3 order 2\n",
      "Info    : [ 50%] Meshing curve 4 order 2\n",
      "Info    : [ 70%] Meshing curve 5 order 2\n",
      "Info    : [ 90%] Meshing surface 1 order 2\n",
      "Info    : Surface mesh: worst distortion = 0.845684 (0 elements in ]0, 0.2]); worst gamma = 0.667609\n",
      "Info    : Done meshing order 2 (Wall 0.0100968s, CPU 0.01055s)\n",
      "Info    : Done refining mesh (Wall 0.0116304s, CPU 0.012015s)\n",
      "Info    : 5948 nodes 6119 elements\n",
      "Info    : Optimizing mesh (Netgen)...\n",
      "Info    : Done optimizing mesh (Wall 1.5e-06s, CPU 3e-06s)\n"
     ]
    }
   ],
   "source": [
    "if mesh_comm.rank == model_rank:\n",
    "    gmsh.option.setNumber(\"Mesh.RecombinationAlgorithm\", 8)\n",
    "    gmsh.option.setNumber(\"Mesh.RecombineAll\", 2)\n",
    "    gmsh.option.setNumber(\"Mesh.SubdivisionAlgorithm\", 1)\n",
    "    gmsh.model.mesh.generate(gdim)\n",
    "    gmsh.model.mesh.optimize(\"Netgen\")"
   ]
  },
  {
   "cell_type": "markdown",
   "metadata": {},
   "source": [
    "# End mesh"
   ]
  },
  {
   "cell_type": "code",
   "execution_count": 7,
   "metadata": {},
   "outputs": [],
   "source": [
    "mesh, _, ft = gmshio.model_to_mesh(gmsh.model, mesh_comm, model_rank, gdim=gdim)\n",
    "ft.name = \"Facet markers\""
   ]
  },
  {
   "cell_type": "code",
   "execution_count": 8,
   "metadata": {},
   "outputs": [],
   "source": [
    "t = 0\n",
    "T = 1 #8                    # Final time\n",
    "dt = 1/100               # Time step size\n",
    "num_steps = int(T/dt)\n",
    "k = Constant(mesh, PETSc.ScalarType(dt))        \n",
    "mu = Constant(mesh, PETSc.ScalarType(0.001))  # Dynamic viscosity\n",
    "rho = Constant(mesh, PETSc.ScalarType(1))     # Density"
   ]
  },
  {
   "cell_type": "code",
   "execution_count": 9,
   "metadata": {},
   "outputs": [],
   "source": [
    "v_cg2 = VectorElement(\"CG\", mesh.ufl_cell(), 2)\n",
    "s_cg1 = FiniteElement(\"CG\", mesh.ufl_cell(), 1)\n",
    "V = FunctionSpace(mesh, v_cg2)\n",
    "Q = FunctionSpace(mesh, s_cg1)\n",
    "\n",
    "fdim = mesh.topology.dim - 1\n",
    "\n",
    "\n",
    "# Define boundary conditions\n",
    "class InletVelocity():\n",
    "\n",
    "    def __init__(self, t):\n",
    "        self.t = t\n",
    "\n",
    "    def __call__(self, x):\n",
    "        values = np.zeros((gdim, x.shape[1]), dtype=PETSc.ScalarType)\n",
    "        values[0] = (-np.abs(self.t-0.5)+0.5)*0.01\n",
    "        return values\n",
    "\n",
    "\n",
    "# Inlet\n",
    "u_inlet = Function(V)\n",
    "inlet_velocity = InletVelocity(t)\n",
    "u_inlet.interpolate(inlet_velocity)\n",
    "bcu_inflow = dirichletbc(\n",
    "    u_inlet, locate_dofs_topological(V, fdim, ft.find(inlet_marker))\n",
    "    )\n",
    "# Walls\n",
    "u_nonslip = np.array((0, ) * mesh.geometry.dim, dtype=PETSc.ScalarType)\n",
    "bcu_walls = dirichletbc(\n",
    "    u_nonslip, locate_dofs_topological(V, fdim, ft.find(wall_marker)), V\n",
    "    )\n",
    "# Obstacle\n",
    "bcu_obstacle = dirichletbc(\n",
    "    u_nonslip, locate_dofs_topological(V, fdim, ft.find(obstacle_marker)), V\n",
    "    )\n",
    "bcu = [bcu_inflow, bcu_obstacle, bcu_walls]\n",
    "# Outlet\n",
    "bcp_outlet = dirichletbc(\n",
    "    PETSc.ScalarType(0),\n",
    "    locate_dofs_topological(Q, fdim, ft.find(outlet_marker)),\n",
    "    Q\n",
    "    )\n",
    "bcp = [bcp_outlet]"
   ]
  },
  {
   "cell_type": "code",
   "execution_count": 10,
   "metadata": {},
   "outputs": [],
   "source": [
    "u = TrialFunction(V)\n",
    "v = TestFunction(V)\n",
    "u_ = Function(V)\n",
    "u_.name = \"u\"\n",
    "u_s = Function(V)\n",
    "u_n = Function(V)\n",
    "u_n1 = Function(V)\n",
    "p = TrialFunction(Q)\n",
    "q = TestFunction(Q)\n",
    "p_ = Function(Q)\n",
    "p_.name = \"p\"\n",
    "phi = Function(Q)"
   ]
  },
  {
   "cell_type": "markdown",
   "metadata": {},
   "source": [
    "Next, we define the variational formulation for the first step, where we have integrated the diffusion term, as well as the pressure term by parts. As we have used an explicit approximation of the non-linear term we only have to assemble the matrix once, but we have to save the two previous solutions."
   ]
  },
  {
   "cell_type": "code",
   "execution_count": 11,
   "metadata": {},
   "outputs": [],
   "source": [
    "f = Constant(mesh, PETSc.ScalarType((0,0)))\n",
    "F1 = rho / k * dot(u - u_n, v) * dx \n",
    "F1 += inner(1.5 * dot(u_n, nabla_grad(u_n)) - 0.5 * dot(u_n1, nabla_grad(u_n1)), v) * dx\n",
    "F1 += 0.5 * mu * inner(grad(u+u_n), grad(v))*dx - dot(p_, div(v))*dx\n",
    "F1 += dot(f, v) * dx\n",
    "a1 = form(lhs(F1))\n",
    "L1 = form(rhs(F1))\n",
    "A1 = assemble_matrix(a1, bcs=bcu)\n",
    "A1.assemble()\n",
    "b1 = create_vector(L1)"
   ]
  },
  {
   "cell_type": "markdown",
   "metadata": {},
   "source": [
    "Next we define the second step"
   ]
  },
  {
   "cell_type": "code",
   "execution_count": 12,
   "metadata": {},
   "outputs": [],
   "source": [
    "a2 = form(dot(grad(p), grad(q))*dx)\n",
    "L2 = form(-1/k * dot(div(u_s), q) * dx)\n",
    "A2 = assemble_matrix(a2, bcs=bcp)\n",
    "A2.assemble()\n",
    "b2 = create_vector(L2)"
   ]
  },
  {
   "cell_type": "markdown",
   "metadata": {},
   "source": [
    "We finally create the last step"
   ]
  },
  {
   "cell_type": "code",
   "execution_count": 13,
   "metadata": {},
   "outputs": [],
   "source": [
    "a3 = form(dot(u, v)*dx)\n",
    "L3 = form(dot(u_s, v)*dx - k * dot(nabla_grad(phi), v)*dx)\n",
    "A3 = assemble_matrix(a3)\n",
    "A3.assemble()\n",
    "b3 = create_vector(L3)"
   ]
  },
  {
   "cell_type": "markdown",
   "metadata": {},
   "source": [
    "As in the previous tutorials, we use PETSc as a linear algebra backend."
   ]
  },
  {
   "cell_type": "code",
   "execution_count": 14,
   "metadata": {},
   "outputs": [],
   "source": [
    "# Solver for step 1\n",
    "solver1 = PETSc.KSP().create(mesh.comm)\n",
    "solver1.setOperators(A1)\n",
    "solver1.setType(PETSc.KSP.Type.BCGS)\n",
    "pc1 = solver1.getPC()\n",
    "pc1.setType(PETSc.PC.Type.JACOBI)\n",
    "\n",
    "# Solver for step 2\n",
    "solver2 = PETSc.KSP().create(mesh.comm)\n",
    "solver2.setOperators(A2)\n",
    "solver2.setType(PETSc.KSP.Type.MINRES)\n",
    "pc2 = solver2.getPC()\n",
    "pc2.setType(PETSc.PC.Type.HYPRE)\n",
    "pc2.setHYPREType(\"boomeramg\")\n",
    "\n",
    "# Solver for step 3\n",
    "solver3 = PETSc.KSP().create(mesh.comm)\n",
    "solver3.setOperators(A3)\n",
    "solver3.setType(PETSc.KSP.Type.CG)\n",
    "pc3 = solver3.getPC()\n",
    "pc3.setType(PETSc.PC.Type.SOR)"
   ]
  },
  {
   "cell_type": "markdown",
   "metadata": {},
   "source": [
    "## Solving the time-dependent problem"
   ]
  },
  {
   "cell_type": "code",
   "execution_count": 15,
   "metadata": {},
   "outputs": [],
   "source": [
    "from tqdm import tqdm\n",
    "import shutil\n",
    "from dolfinx.io import VTKFile"
   ]
  },
  {
   "cell_type": "code",
   "execution_count": 16,
   "metadata": {
    "tags": []
   },
   "outputs": [
    {
     "name": "stdout",
     "output_type": "stream",
     "text": [
      "Directory empty yet\n"
     ]
    },
    {
     "name": "stderr",
     "output_type": "stream",
     "text": [
      "100%|██████████| 100/100 [00:16<00:00,  6.02it/s]\n"
     ]
    }
   ],
   "source": [
    "try:\n",
    "    shutil.rmtree('/home/VTK/Stokes_Test_Files/XDMF')\n",
    "except:\n",
    "    print('Directory empty yet')\n",
    "\n",
    "with XDMFFile(MPI.COMM_WORLD, \"/home/VTK/Stokes_Test_Files/XDMF/stokes.xdmf\", \"w\") as xdmf:\n",
    "    xdmf.write_mesh(mesh)\n",
    "    xdmf.write_function(u_, t)\n",
    "    xdmf.write_function(p_, t)\n",
    "\n",
    "    # progress = tqdm.notebook.tqdm(desc=\"Solving PDE\", total=num_steps)\n",
    "    # If running this as a python script, you should use the Progressbar command below\n",
    "    # progress = tqdm.tqdm(desc=\"Solving PDE\", total=num_steps)\n",
    "    for i in tqdm(range(num_steps)):\n",
    "        # progress.update(1)\n",
    "        # Update current time step\n",
    "        t += dt\n",
    "        # Update inlet velocity\n",
    "        inlet_velocity.t = t\n",
    "        u_inlet.interpolate(inlet_velocity)\n",
    "\n",
    "        # Step 1: Tentative veolcity step\n",
    "        with b1.localForm() as loc:\n",
    "            loc.set(0)\n",
    "        assemble_vector(b1, L1)\n",
    "        apply_lifting(b1, [a1], [bcu])\n",
    "        b1.ghostUpdate(addv=PETSc.InsertMode.ADD_VALUES, mode=PETSc.ScatterMode.REVERSE)\n",
    "        set_bc(b1, bcu)\n",
    "        solver1.solve(b1, u_s.vector)\n",
    "        u_s.x.scatter_forward()\n",
    "\n",
    "        # Step 2: Pressure corrrection step\n",
    "        with b2.localForm() as loc:\n",
    "            loc.set(0)\n",
    "        assemble_vector(b2, L2)\n",
    "        apply_lifting(b2, [a2], [bcp])\n",
    "        b2.ghostUpdate(addv=PETSc.InsertMode.ADD_VALUES, mode=PETSc.ScatterMode.REVERSE)\n",
    "        set_bc(b2, bcp)\n",
    "        solver2.solve(b2, phi.vector)\n",
    "        phi.x.scatter_forward()\n",
    "\n",
    "        p_.vector.axpy(1, phi.vector)\n",
    "        p_.x.scatter_forward()\n",
    "\n",
    "        # Step 3: Velocity correction step\n",
    "        with b3.localForm() as loc:\n",
    "            loc.set(0)\n",
    "        assemble_vector(b3, L3)\n",
    "        b3.ghostUpdate(addv=PETSc.InsertMode.ADD_VALUES, mode=PETSc.ScatterMode.REVERSE)\n",
    "        solver3.solve(b3, u_.vector)\n",
    "        u_.x.scatter_forward()\n",
    "\n",
    "        # Write solutions to file\n",
    "        xdmf.write_function(u_, t)\n",
    "        xdmf.write_function(p_, t)\n",
    "\n",
    "        # Update variable with solution form this time step\n",
    "        with u_.vector.localForm() as loc_, u_n.vector.localForm() as loc_n, u_n1.vector.localForm() as loc_n1:\n",
    "            loc_n.copy(loc_n1)\n",
    "            loc_.copy(loc_n)"
   ]
  },
  {
   "cell_type": "code",
   "execution_count": 17,
   "metadata": {},
   "outputs": [],
   "source": [
    "# try:\n",
    "#     shutil.rmtree('/home/VTK/Stokes_Test_Files/PVD')\n",
    "# except:\n",
    "#     print('Directory empty yet')\n",
    "# with VTKFile(MPI.COMM_WORLD, \"/home/VTK/Stokes_Test_Files/PVD/stokes.pvd\", \"w\") as pvd:\n",
    "#     pvd.write_function(u_, t)\n",
    "#     pvd.write_function(p_, t)\n",
    "\n",
    "#     # progress = tqdm.notebook.tqdm(desc=\"Solving PDE\", total=num_steps)\n",
    "#     # If running this as a python script, you should use the Progressbar command below\n",
    "#     # progress = tqdm.tqdm(desc=\"Solving PDE\", total=num_steps)\n",
    "#     for i in tqdm(range(num_steps)):\n",
    "#         # progress.update(1)\n",
    "#         # Update current time step\n",
    "#         t += dt\n",
    "#         # Update inlet velocity\n",
    "#         inlet_velocity.t = t\n",
    "#         u_inlet.interpolate(inlet_velocity)\n",
    "\n",
    "#         # Step 1: Tentative veolcity step\n",
    "#         with b1.localForm() as loc:\n",
    "#             loc.set(0)\n",
    "#         assemble_vector(b1, L1)\n",
    "#         apply_lifting(b1, [a1], [bcu])\n",
    "#         b1.ghostUpdate(addv=PETSc.InsertMode.ADD_VALUES, mode=PETSc.ScatterMode.REVERSE)\n",
    "#         set_bc(b1, bcu)\n",
    "#         solver1.solve(b1, u_s.vector)\n",
    "#         u_s.x.scatter_forward()\n",
    "\n",
    "#         # Step 2: Pressure corrrection step\n",
    "#         with b2.localForm() as loc:\n",
    "#             loc.set(0)\n",
    "#         assemble_vector(b2, L2)\n",
    "#         apply_lifting(b2, [a2], [bcp])\n",
    "#         b2.ghostUpdate(addv=PETSc.InsertMode.ADD_VALUES, mode=PETSc.ScatterMode.REVERSE)\n",
    "#         set_bc(b2, bcp)\n",
    "#         solver2.solve(b2, phi.vector)\n",
    "#         phi.x.scatter_forward()\n",
    "\n",
    "#         p_.vector.axpy(1, phi.vector)\n",
    "#         p_.x.scatter_forward()\n",
    "\n",
    "#         # Step 3: Velocity correction step\n",
    "#         with b3.localForm() as loc:\n",
    "#             loc.set(0)\n",
    "#         assemble_vector(b3, L3)\n",
    "#         b3.ghostUpdate(addv=PETSc.InsertMode.ADD_VALUES, mode=PETSc.ScatterMode.REVERSE)\n",
    "#         solver3.solve(b3, u_.vector)\n",
    "#         u_.x.scatter_forward()\n",
    "\n",
    "#         # Write solutions to file\n",
    "#         pvd.write_function(u_, t)\n",
    "#         pvd.write_function(p_, t)\n",
    "\n",
    "#         # Update variable with solution form this time step\n",
    "#         with u_.vector.localForm() as loc_, u_n.vector.localForm() as loc_n, u_n1.vector.localForm() as loc_n1:\n",
    "#             loc_n.copy(loc_n1)\n",
    "#             loc_.copy(loc_n)"
   ]
  }
 ],
 "metadata": {
  "jupytext": {
   "formats": "ipynb,py:light"
  },
  "kernelspec": {
   "display_name": "Python 3.10.4 64-bit",
   "language": "python",
   "name": "python3"
  },
  "language_info": {
   "codemirror_mode": {
    "name": "ipython",
    "version": 3
   },
   "file_extension": ".py",
   "mimetype": "text/x-python",
   "name": "python",
   "nbconvert_exporter": "python",
   "pygments_lexer": "ipython3",
   "version": "3.10.4"
  },
  "vscode": {
   "interpreter": {
    "hash": "916dbcbb3f70747c44a77c7bcd40155683ae19c65e1c03b4aa3499c5328201f1"
   }
  }
 },
 "nbformat": 4,
 "nbformat_minor": 4
}
