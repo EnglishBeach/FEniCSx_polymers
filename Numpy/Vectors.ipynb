{
 "cells": [
  {
   "cell_type": "code",
   "execution_count": 1,
   "metadata": {},
   "outputs": [],
   "source": [
    "import numpy as np"
   ]
  },
  {
   "cell_type": "code",
   "execution_count": 38,
   "metadata": {},
   "outputs": [],
   "source": [
    "def err(f):\n",
    "    def dec(*args):\n",
    "        try:\n",
    "            a = f(args)\n",
    "        except: print('error')\n",
    "        else: \n",
    "            print('OK')\n",
    "            return a\n",
    "        finally: print('Finale')\n",
    "        \n",
    "    return dec\n",
    "    "
   ]
  },
  {
   "cell_type": "code",
   "execution_count": 3,
   "metadata": {},
   "outputs": [
    {
     "name": "stdout",
     "output_type": "stream",
     "text": [
      "[1. 2. 3.]\n",
      "[[1. 2. 3.]]\n",
      "[[1.]\n",
      " [2.]\n",
      " [3.]]\n"
     ]
    }
   ],
   "source": [
    "a_m = np.array(\n",
    "    [[ 0.0,  1.0,  2.0],\n",
    "    [10.0, 11.0, 12.0],\n",
    "    [20.0, 21.0, 22.0],\n",
    "    [30.0, 31.0, 32.0]]\n",
    "    )\n",
    "b_v = np.array([1.0, 2.0, 3.0])\n",
    "print(b_v)\n",
    "c_m = b_v.copy()\n",
    "c_m=c_m[None,:]\n",
    "print(c_m)\n",
    "d_m = b_v.copy()\n",
    "d_m = d_m[:,None]\n",
    "print(d_m)"
   ]
  },
  {
   "cell_type": "code",
   "execution_count": 4,
   "metadata": {},
   "outputs": [
    {
     "data": {
      "text/plain": [
       "array([[ 1.,  3.,  5.],\n",
       "       [11., 13., 15.],\n",
       "       [21., 23., 25.],\n",
       "       [31., 33., 35.]])"
      ]
     },
     "execution_count": 4,
     "metadata": {},
     "output_type": "execute_result"
    }
   ],
   "source": [
    "a_m+b_v"
   ]
  },
  {
   "cell_type": "code",
   "execution_count": 5,
   "metadata": {},
   "outputs": [
    {
     "data": {
      "text/plain": [
       "array([[ 1.,  3.,  5.],\n",
       "       [11., 13., 15.],\n",
       "       [21., 23., 25.],\n",
       "       [31., 33., 35.]])"
      ]
     },
     "execution_count": 5,
     "metadata": {},
     "output_type": "execute_result"
    }
   ],
   "source": [
    "a_m+c_m"
   ]
  },
  {
   "cell_type": "code",
   "execution_count": 6,
   "metadata": {},
   "outputs": [
    {
     "name": "stdout",
     "output_type": "stream",
     "text": [
      "error\n",
      "Finale\n"
     ]
    }
   ],
   "source": [
    "\n",
    "try:\n",
    "    print(a_m+ d_m)\n",
    "except: print('error')\n",
    "else: print('OK')\n",
    "finally: print('Finale')"
   ]
  },
  {
   "cell_type": "code",
   "execution_count": 8,
   "metadata": {},
   "outputs": [],
   "source": [
    "pr=err(print)"
   ]
  },
  {
   "cell_type": "code",
   "execution_count": 12,
   "metadata": {},
   "outputs": [
    {
     "name": "stdout",
     "output_type": "stream",
     "text": [
      "(102,) {}\n",
      "OK\n",
      "Finale\n"
     ]
    }
   ],
   "source": [
    "pr(102)"
   ]
  },
  {
   "cell_type": "code",
   "execution_count": 43,
   "metadata": {},
   "outputs": [
    {
     "name": "stdout",
     "output_type": "stream",
     "text": [
      "error\n",
      "Try another path\n"
     ]
    }
   ],
   "source": [
    "try:\n",
    "    print(c_m@c_m)\n",
    "except: print('error')\n",
    "else: print('OK')\n",
    "finally: print('Try another path')\n"
   ]
  },
  {
   "cell_type": "code",
   "execution_count": null,
   "metadata": {},
   "outputs": [],
   "source": []
  }
 ],
 "metadata": {
  "interpreter": {
   "hash": "916dbcbb3f70747c44a77c7bcd40155683ae19c65e1c03b4aa3499c5328201f1"
  },
  "kernelspec": {
   "display_name": "Python 3.9.7 64-bit",
   "language": "python",
   "name": "python3"
  },
  "language_info": {
   "codemirror_mode": {
    "name": "ipython",
    "version": 3
   },
   "file_extension": ".py",
   "mimetype": "text/x-python",
   "name": "python",
   "nbconvert_exporter": "python",
   "pygments_lexer": "ipython3",
   "version": "3.9.7"
  },
  "orig_nbformat": 4
 },
 "nbformat": 4,
 "nbformat_minor": 2
}
