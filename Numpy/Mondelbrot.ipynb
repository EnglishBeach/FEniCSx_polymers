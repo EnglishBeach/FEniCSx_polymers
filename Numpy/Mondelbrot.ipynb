{
 "cells": [
  {
   "cell_type": "code",
   "execution_count": 1,
   "metadata": {},
   "outputs": [],
   "source": [
    "import numpy as np\n",
    "import matplotlib.pyplot as plt"
   ]
  },
  {
   "cell_type": "code",
   "execution_count": 5,
   "metadata": {},
   "outputs": [
    {
     "data": {
      "text/plain": [
       "<matplotlib.image.AxesImage at 0x7f79359f6b80>"
      ]
     },
     "execution_count": 5,
     "metadata": {},
     "output_type": "execute_result"
    },
    {
     "data": {
      "image/png": "[encoded data removed]",
      "text/plain": [
       "<Figure size 432x288 with 1 Axes>"
      ]
     },
     "metadata": {
      "needs_background": "light"
     },
     "output_type": "display_data"
    }
   ],
   "source": [
    "x = np.linspace(-2,1,11)\n",
    "y = np.linspace(-1,1,11)\n",
    "A,B = np.meshgrid(x,y)\n",
    "C = A + B*1j\n",
    "f = np.zeros_like(C)\n",
    "maxit=10\n",
    "r=2\n",
    "\n",
    "divtime = maxit + np.zeros(f.shape, dtype=int)\n",
    "for i in range(maxit):\n",
    "    f = f**2 + C\n",
    "    diverge = abs(f) > r                    \n",
    "    div_now = diverge & (divtime == maxit)  \n",
    "    divtime[div_now] = i                    \n",
    "    f[diverge] = r\n",
    "plt.imshow(divtime)"
   ]
  },
  {
   "cell_type": "code",
   "execution_count": 6,
   "metadata": {},
   "outputs": [
    {
     "data": {
      "text/plain": [
       "array([[ 0,  1,  2,  2,  2,  3,  6,  3,  2,  1,  1],\n",
       "       [ 0,  2,  2,  2,  3,  4, 10,  5,  3,  2,  1],\n",
       "       [ 0,  2,  2,  3,  4, 10, 10, 10, 10,  2,  1],\n",
       "       [ 0,  2,  4,  6,  6, 10, 10, 10,  8,  2,  1],\n",
       "       [ 0,  3,  5, 10, 10, 10, 10, 10, 10,  2,  1],\n",
       "       [10, 10, 10, 10, 10, 10, 10, 10,  6,  2,  2],\n",
       "       [ 0,  3,  5, 10, 10, 10, 10, 10, 10,  2,  1],\n",
       "       [ 0,  2,  4,  6,  6, 10, 10, 10,  8,  2,  1],\n",
       "       [ 0,  2,  2,  3,  4, 10, 10, 10, 10,  2,  1],\n",
       "       [ 0,  2,  2,  2,  3,  4, 10,  5,  3,  2,  1],\n",
       "       [ 0,  1,  2,  2,  2,  3,  6,  3,  2,  1,  1]])"
      ]
     },
     "execution_count": 6,
     "metadata": {},
     "output_type": "execute_result"
    }
   ],
   "source": [
    "divtime"
   ]
  }
 ],
 "metadata": {
  "interpreter": {
   "hash": "916dbcbb3f70747c44a77c7bcd40155683ae19c65e1c03b4aa3499c5328201f1"
  },
  "kernelspec": {
   "display_name": "Python 3.9.7 64-bit",
   "language": "python",
   "name": "python3"
  },
  "language_info": {
   "codemirror_mode": {
    "name": "ipython",
    "version": 3
   },
   "file_extension": ".py",
   "mimetype": "text/x-python",
   "name": "python",
   "nbconvert_exporter": "python",
   "pygments_lexer": "ipython3",
   "version": "3.9.7"
  },
  "orig_nbformat": 4
 },
 "nbformat": 4,
 "nbformat_minor": 2
}
