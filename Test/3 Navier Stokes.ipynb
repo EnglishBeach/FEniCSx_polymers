{
 "cells": [
  {
   "cell_type": "code",
   "execution_count": 2,
   "metadata": {},
   "outputs": [],
   "source": [
    "import fenics as fe\n",
    "import matplotlib.pyplot as plt\n",
    "import numpy as np "
   ]
  },
  {
   "cell_type": "code",
   "execution_count": 1,
   "metadata": {},
   "outputs": [],
   "source": [
    "from ipywidgets import IntProgress\n",
    "from IPython.display import display\n",
    "\n",
    "def log_progress(sequence, every=10):\n",
    "    progress = IntProgress(min=0, max=len(sequence), value=0)\n",
    "    display(progress)\n",
    "\n",
    "    for index, record in enumerate(sequence):\n",
    "        \n",
    "        if index % every == 0:\n",
    "            progress.value = index\n",
    "        yield record\n",
    "    progress.value = len(sequence)"
   ]
  },
  {
   "cell_type": "markdown",
   "metadata": {},
   "source": [
    "### Space"
   ]
  },
  {
   "cell_type": "code",
   "execution_count": 4,
   "metadata": {},
   "outputs": [],
   "source": [
    "mesh_dx = 20\n",
    "mesh = fe.RectangleMesh(fe.Point(-2, -2), fe.Point(2, 2), mesh_dx, mesh_dx)\n",
    "space_v = fe.FunctionSpace(mesh, 'P', 2)\n",
    "space_p = fe.FunctionSpace(mesh, 'P', 1)\n",
    "\n",
    "v = fe.TrialFunction(space_v)\n",
    "u = fe.TestFunction(space_v)\n",
    "\n",
    "p = fe.TrialFunction(space_p)\n",
    "q = fe.TestFunction(space_p)\n",
    "\n"
   ]
  },
  {
   "cell_type": "markdown",
   "metadata": {},
   "source": [
    "### Boundary"
   ]
  },
  {
   "cell_type": "code",
   "execution_count": null,
   "metadata": {},
   "outputs": [],
   "source": [
    "# Flows in the box\n",
    "walls = 'near(x[1],0) || near(x[1],1)'\n",
    "# def walls(x, on_bound):\n",
    "#     return fe.near(x[1],0) or fe.near(x[1],1)\n",
    "left = 'near(x[0],0)'\n",
    "right = 'near(x[0],1)'\n",
    "\n",
    "bcu_wall = fe.DirichletBC(space_v, fe.Constant(0), walls)\n",
    "bcp_left=fe.DirichletBC(space_p,fe.Constant(0),left)\n",
    "bcp_right=fe.DirichletBC(space_p,fe.Constant(0),right)\n",
    "\n",
    "bcu=[bcu_wall]\n",
    "bcp=[bcp_left,bcp_right]"
   ]
  },
  {
   "cell_type": "markdown",
   "metadata": {},
   "source": [
    "### Operators"
   ]
  },
  {
   "cell_type": "code",
   "execution_count": 4,
   "metadata": {},
   "outputs": [],
   "source": [
    "Grad= fe.nabla_grad\n",
    "Dot=fe.dot"
   ]
  },
  {
   "cell_type": "markdown",
   "metadata": {},
   "source": [
    "### Equations"
   ]
  },
  {
   "cell_type": "code",
   "execution_count": 5,
   "metadata": {},
   "outputs": [
    {
     "ename": "NameError",
     "evalue": "name 'mu' is not defined",
     "output_type": "error",
     "traceback": [
      "\u001b[0;31m---------------------------------------------------------------------------\u001b[0m",
      "\u001b[0;31mNameError\u001b[0m                                 Traceback (most recent call last)",
      "\u001b[1;32m/home/homeubuntu/Git Fenics/Test/Navier Stokes.ipynb Cell 10'\u001b[0m in \u001b[0;36m<cell line: 2>\u001b[0;34m()\u001b[0m\n\u001b[1;32m      <a href='vscode-notebook-cell://wsl%2Bubuntu/home/homeubuntu/Git%20Fenics/Test/Navier%20Stokes.ipynb#ch0000008vscode-remote?line=0'>1</a>\u001b[0m fe\u001b[39m.\u001b[39msym\n\u001b[0;32m----> <a href='vscode-notebook-cell://wsl%2Bubuntu/home/homeubuntu/Git%20Fenics/Test/Navier%20Stokes.ipynb#ch0000008vscode-remote?line=1'>2</a>\u001b[0m mu\u001b[39m=\u001b[39mfe\u001b[39m.\u001b[39mConstant(mu)\n\u001b[1;32m      <a href='vscode-notebook-cell://wsl%2Bubuntu/home/homeubuntu/Git%20Fenics/Test/Navier%20Stokes.ipynb#ch0000008vscode-remote?line=2'>3</a>\u001b[0m sympy\u001b[39m.\u001b[39msym(fe\u001b[39m.\u001b[39mnabla_grad(v))\n",
      "\u001b[0;31mNameError\u001b[0m: name 'mu' is not defined"
     ]
    }
   ],
   "source": [
    "L=1\n",
    "W=0.2\n",
    "mu=1\n",
    "rho=1\n",
    "delta = W/L\n",
    "gamma=0.4*delta**2\n",
    "beta=2\n",
    "\n",
    "\n",
    "\n",
    "\n",
    "\n",
    "\n",
    "\n",
    "\n",
    "mu=fe.Constant(mu)\n",
    "sympy.sym(fe.nabla_grad(v))"
   ]
  },
  {
   "cell_type": "code",
   "execution_count": null,
   "metadata": {},
   "outputs": [],
   "source": []
  },
  {
   "cell_type": "code",
   "execution_count": null,
   "metadata": {},
   "outputs": [
    {
     "data": {
      "text/plain": [
       "Coefficient(FunctionSpace(Mesh(VectorElement(FiniteElement('Lagrange', interval, 1), dim=1), 0), FiniteElement('Lagrange', interval, 1)), 16)"
      ]
     },
     "execution_count": 12,
     "metadata": {},
     "output_type": "execute_result"
    },
    {
     "data": {
      "image/png": "[encoded data removed]",
      "text/plain": [
       "<Figure size 432x288 with 1 Axes>"
      ]
     },
     "metadata": {
      "needs_background": "light"
     },
     "output_type": "display_data"
    }
   ],
   "source": [
    "test1=fe.Function(space)\n",
    "fe.plot(test1);\n",
    "test1"
   ]
  },
  {
   "cell_type": "code",
   "execution_count": null,
   "metadata": {},
   "outputs": [
    {
     "ename": "RuntimeError",
     "evalue": "Expecting a mesh as keyword argument",
     "output_type": "error",
     "traceback": [
      "\u001b[0;31m---------------------------------------------------------------------------\u001b[0m",
      "\u001b[0;31mRuntimeError\u001b[0m                              Traceback (most recent call last)",
      "\u001b[1;32m/home/homeubuntu/MyFenics/Test/1.ipynb Cell 5'\u001b[0m in \u001b[0;36m<cell line: 2>\u001b[0;34m()\u001b[0m\n\u001b[1;32m      <a href='vscode-notebook-cell://wsl%2Bubuntu/home/homeubuntu/MyFenics/Test/1.ipynb#ch0000004vscode-remote?line=0'>1</a>\u001b[0m test1 \u001b[39m=\u001b[39m fe\u001b[39m.\u001b[39mExpression(\u001b[39m'\u001b[39m\u001b[39m1\u001b[39m\u001b[39m'\u001b[39m,degree\u001b[39m=\u001b[39m\u001b[39m0\u001b[39m)\n\u001b[0;32m----> <a href='vscode-notebook-cell://wsl%2Bubuntu/home/homeubuntu/MyFenics/Test/1.ipynb#ch0000004vscode-remote?line=1'>2</a>\u001b[0m fe\u001b[39m.\u001b[39mplot(test1)\n",
      "File \u001b[0;32m/usr/lib/petsc/lib/python3/dist-packages/dolfin/common/plotting.py:416\u001b[0m, in \u001b[0;36mplot\u001b[0;34m(object, *args, **kwargs)\u001b[0m\n\u001b[1;32m    <a href='file:///usr/lib/petsc/lib/python3/dist-packages/dolfin/common/plotting.py?line=413'>414</a>\u001b[0m \u001b[39m# Expressions do not carry their own mesh\u001b[39;00m\n\u001b[1;32m    <a href='file:///usr/lib/petsc/lib/python3/dist-packages/dolfin/common/plotting.py?line=414'>415</a>\u001b[0m \u001b[39mif\u001b[39;00m \u001b[39misinstance\u001b[39m(\u001b[39mobject\u001b[39m, cpp\u001b[39m.\u001b[39mfunction\u001b[39m.\u001b[39mExpression) \u001b[39mand\u001b[39;00m mesh \u001b[39mis\u001b[39;00m \u001b[39mNone\u001b[39;00m:\n\u001b[0;32m--> <a href='file:///usr/lib/petsc/lib/python3/dist-packages/dolfin/common/plotting.py?line=415'>416</a>\u001b[0m     \u001b[39mraise\u001b[39;00m \u001b[39mRuntimeError\u001b[39;00m(\u001b[39m\"\u001b[39m\u001b[39mExpecting a mesh as keyword argument\u001b[39m\u001b[39m\"\u001b[39m)\n\u001b[1;32m    <a href='file:///usr/lib/petsc/lib/python3/dist-packages/dolfin/common/plotting.py?line=417'>418</a>\u001b[0m backend \u001b[39m=\u001b[39m kwargs\u001b[39m.\u001b[39mpop(\u001b[39m\"\u001b[39m\u001b[39mbackend\u001b[39m\u001b[39m\"\u001b[39m, \u001b[39m\"\u001b[39m\u001b[39mmatplotlib\u001b[39m\u001b[39m\"\u001b[39m)\n\u001b[1;32m    <a href='file:///usr/lib/petsc/lib/python3/dist-packages/dolfin/common/plotting.py?line=418'>419</a>\u001b[0m \u001b[39mif\u001b[39;00m backend \u001b[39mnot\u001b[39;00m \u001b[39min\u001b[39;00m (\u001b[39m\"\u001b[39m\u001b[39mmatplotlib\u001b[39m\u001b[39m\"\u001b[39m, \u001b[39m\"\u001b[39m\u001b[39mx3dom\u001b[39m\u001b[39m\"\u001b[39m):\n",
      "\u001b[0;31mRuntimeError\u001b[0m: Expecting a mesh as keyword argument"
     ]
    }
   ],
   "source": [
    "test1 = fe.Expression('1',degree=0)\n",
    "fe.plot(test1)"
   ]
  },
  {
   "cell_type": "code",
   "execution_count": null,
   "metadata": {},
   "outputs": [],
   "source": []
  }
 ],
 "metadata": {
  "interpreter": {
   "hash": "916dbcbb3f70747c44a77c7bcd40155683ae19c65e1c03b4aa3499c5328201f1"
  },
  "kernelspec": {
   "display_name": "Python 3.8.10 64-bit",
   "language": "python",
   "name": "python3"
  },
  "language_info": {
   "codemirror_mode": {
    "name": "ipython",
    "version": 3
   },
   "file_extension": ".py",
   "mimetype": "text/x-python",
   "name": "python",
   "nbconvert_exporter": "python",
   "pygments_lexer": "ipython3",
   "version": "3.8.10"
  },
  "orig_nbformat": 4
 },
 "nbformat": 4,
 "nbformat_minor": 2
}
