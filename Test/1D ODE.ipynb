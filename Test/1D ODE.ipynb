{
 "cells": [
  {
   "cell_type": "code",
   "execution_count": 1,
   "metadata": {},
   "outputs": [],
   "source": [
    "import fenics as fe\n",
    "import matplotlib.pyplot as plt\n",
    "import numpy as np"
   ]
  },
  {
   "cell_type": "code",
   "execution_count": 2,
   "metadata": {},
   "outputs": [],
   "source": [
    "# from ipywidgets import IntProgress\n",
    "# from IPython.display import display\n",
    "\n",
    "# from mpl_toolkits.mplot3d import Axes3D"
   ]
  },
  {
   "cell_type": "code",
   "execution_count": 3,
   "metadata": {},
   "outputs": [],
   "source": [
    "from ipywidgets import IntProgress\n",
    "from IPython.display import display\n",
    "\n",
    "def log_progress(sequence, every=10):\n",
    "    progress = IntProgress(min=0, max=len(sequence), value=0)\n",
    "    display(progress)\n",
    "\n",
    "    for index, record in enumerate(sequence):\n",
    "        \n",
    "        if index % every == 0:\n",
    "            progress.value = index\n",
    "        yield record\n",
    "    progress.value = len(sequence)"
   ]
  },
  {
   "cell_type": "markdown",
   "metadata": {},
   "source": [
    "# Solving"
   ]
  },
  {
   "cell_type": "markdown",
   "metadata": {},
   "source": [
    "### Space"
   ]
  },
  {
   "cell_type": "code",
   "execution_count": 4,
   "metadata": {},
   "outputs": [],
   "source": [
    "# mesh= fe.UnitSquareMesh(20,20)\n",
    "mesh = fe.UnitIntervalMesh(30)\n",
    "space = fe.FunctionSpace(mesh, 'Lagrange', 1)\n",
    "\n",
    "\n",
    "def boundary(x):\n",
    "    tol = 1e-14\n",
    "    a = (fe.near(x[0], 0, tol) or fe.near(x[0], 1, tol))\n",
    "\n",
    "    return a"
   ]
  },
  {
   "cell_type": "code",
   "execution_count": 5,
   "metadata": {},
   "outputs": [],
   "source": [
    "trial_f=fe.TrialFunction(space);\n",
    "test_f=fe.TestFunction(space);"
   ]
  },
  {
   "cell_type": "markdown",
   "metadata": {},
   "source": [
    "### Boundaries"
   ]
  },
  {
   "cell_type": "code",
   "execution_count": 8,
   "metadata": {},
   "outputs": [
    {
     "name": "stderr",
     "output_type": "stream",
     "text": [
      "------------------- Start compiler output ------------------------\n",
      "/tmp/tmpapcol1ev/dolfin_expression_328d687ef22d91b6ce149a10b9ad4471.cpp: In member function ‘virtual void dolfin::dolfin_expression_328d687ef22d91b6ce149a10b9ad4471::eval(Eigen::Ref<Eigen::Matrix<double, -1, 1> >, Eigen::Ref<const Eigen::Matrix<double, -1, 1> >) const’:\n",
      "/tmp/tmpapcol1ev/dolfin_expression_328d687ef22d91b6ce149a10b9ad4471.cpp:61:35: error: lvalue required as left operand of assignment\n",
      "   61 |           values[0] = x[0]=0 ? 1 :0.5;\n",
      "      |                                   ^~~\n",
      "\n",
      "-------------------  End compiler output  ------------------------\n",
      "Compilation failed! Sources, command, and errors have been written to: /home/homeubuntu/Git Fenics/Equations/jitfailure-dolfin_expression_328d687ef22d91b6ce149a10b9ad4471\n"
     ]
    },
    {
     "ename": "RuntimeError",
     "evalue": "Unable to compile C++ code with dijitso",
     "output_type": "error",
     "traceback": [
      "\u001b[0;31m---------------------------------------------------------------------------\u001b[0m",
      "\u001b[0;31mDijitsoError\u001b[0m                              Traceback (most recent call last)",
      "File \u001b[0;32m/usr/lib/petsc/lib/python3/dist-packages/dolfin/jit/jit.py:168\u001b[0m, in \u001b[0;36mcompile_class\u001b[0;34m(cpp_data, mpi_comm)\u001b[0m\n\u001b[1;32m    <a href='file:///usr/lib/petsc/lib/python3/dist-packages/dolfin/jit/jit.py?line=166'>167</a>\u001b[0m \u001b[39mtry\u001b[39;00m:\n\u001b[0;32m--> <a href='file:///usr/lib/petsc/lib/python3/dist-packages/dolfin/jit/jit.py?line=167'>168</a>\u001b[0m     module, signature \u001b[39m=\u001b[39m dijitso_jit(cpp_data, module_name, params,\n\u001b[1;32m    <a href='file:///usr/lib/petsc/lib/python3/dist-packages/dolfin/jit/jit.py?line=168'>169</a>\u001b[0m                                     generate\u001b[39m=\u001b[39;49mcpp_data[\u001b[39m'\u001b[39;49m\u001b[39mjit_generate\u001b[39;49m\u001b[39m'\u001b[39;49m],\n\u001b[1;32m    <a href='file:///usr/lib/petsc/lib/python3/dist-packages/dolfin/jit/jit.py?line=169'>170</a>\u001b[0m                                     mpi_comm\u001b[39m=\u001b[39;49mmpi_comm)\n\u001b[1;32m    <a href='file:///usr/lib/petsc/lib/python3/dist-packages/dolfin/jit/jit.py?line=170'>171</a>\u001b[0m     submodule \u001b[39m=\u001b[39m dijitso\u001b[39m.\u001b[39mextract_factory_function(module, \u001b[39m\"\u001b[39m\u001b[39mcreate_\u001b[39m\u001b[39m\"\u001b[39m \u001b[39m+\u001b[39m module_name)()\n",
      "File \u001b[0;32m/usr/lib/petsc/lib/python3/dist-packages/dolfin/jit/jit.py:50\u001b[0m, in \u001b[0;36mmpi_jit_decorator.<locals>.mpi_jit\u001b[0;34m(*args, **kwargs)\u001b[0m\n\u001b[1;32m     <a href='file:///usr/lib/petsc/lib/python3/dist-packages/dolfin/jit/jit.py?line=48'>49</a>\u001b[0m \u001b[39mif\u001b[39;00m MPI\u001b[39m.\u001b[39msize(mpi_comm) \u001b[39m==\u001b[39m \u001b[39m1\u001b[39m:\n\u001b[0;32m---> <a href='file:///usr/lib/petsc/lib/python3/dist-packages/dolfin/jit/jit.py?line=49'>50</a>\u001b[0m     \u001b[39mreturn\u001b[39;00m local_jit(\u001b[39m*\u001b[39;49margs, \u001b[39m*\u001b[39;49m\u001b[39m*\u001b[39;49mkwargs)\n\u001b[1;32m     <a href='file:///usr/lib/petsc/lib/python3/dist-packages/dolfin/jit/jit.py?line=51'>52</a>\u001b[0m \u001b[39m# Default status (0 == ok, 1 == fail)\u001b[39;00m\n",
      "File \u001b[0;32m/usr/lib/petsc/lib/python3/dist-packages/dolfin/jit/jit.py:106\u001b[0m, in \u001b[0;36mdijitso_jit\u001b[0;34m(*args, **kwargs)\u001b[0m\n\u001b[1;32m    <a href='file:///usr/lib/petsc/lib/python3/dist-packages/dolfin/jit/jit.py?line=103'>104</a>\u001b[0m \u001b[39m@mpi_jit_decorator\u001b[39m\n\u001b[1;32m    <a href='file:///usr/lib/petsc/lib/python3/dist-packages/dolfin/jit/jit.py?line=104'>105</a>\u001b[0m \u001b[39mdef\u001b[39;00m \u001b[39mdijitso_jit\u001b[39m(\u001b[39m*\u001b[39margs, \u001b[39m*\u001b[39m\u001b[39m*\u001b[39mkwargs):\n\u001b[0;32m--> <a href='file:///usr/lib/petsc/lib/python3/dist-packages/dolfin/jit/jit.py?line=105'>106</a>\u001b[0m     \u001b[39mreturn\u001b[39;00m dijitso\u001b[39m.\u001b[39;49mjit(\u001b[39m*\u001b[39;49margs, \u001b[39m*\u001b[39;49m\u001b[39m*\u001b[39;49mkwargs)\n",
      "File \u001b[0;32m/usr/lib/python3/dist-packages/dijitso/jit.py:216\u001b[0m, in \u001b[0;36mjit\u001b[0;34m(jitable, name, params, generate, send, receive, wait)\u001b[0m\n\u001b[1;32m    <a href='file:///usr/lib/python3/dist-packages/dijitso/jit.py?line=213'>214</a>\u001b[0m \u001b[39mif\u001b[39;00m err_info:\n\u001b[1;32m    <a href='file:///usr/lib/python3/dist-packages/dijitso/jit.py?line=214'>215</a>\u001b[0m     \u001b[39m# TODO: Parse output to find error(s) for better error messages\u001b[39;00m\n\u001b[0;32m--> <a href='file:///usr/lib/python3/dist-packages/dijitso/jit.py?line=215'>216</a>\u001b[0m     \u001b[39mraise\u001b[39;00m DijitsoError(\u001b[39m\"\u001b[39m\u001b[39mDijitso JIT compilation failed, see \u001b[39m\u001b[39m'\u001b[39m\u001b[39m%s\u001b[39;00m\u001b[39m'\u001b[39m\u001b[39m for details\u001b[39m\u001b[39m\"\u001b[39m\n\u001b[1;32m    <a href='file:///usr/lib/python3/dist-packages/dijitso/jit.py?line=216'>217</a>\u001b[0m                        \u001b[39m%\u001b[39m err_info[\u001b[39m'\u001b[39m\u001b[39mfail_dir\u001b[39m\u001b[39m'\u001b[39m], err_info)\n\u001b[1;32m    <a href='file:///usr/lib/python3/dist-packages/dijitso/jit.py?line=218'>219</a>\u001b[0m \u001b[39m# Return built library and its signature\u001b[39;00m\n",
      "\u001b[0;31mDijitsoError\u001b[0m: Dijitso JIT compilation failed, see '/home/homeubuntu/Git Fenics/Equations/jitfailure-dolfin_expression_328d687ef22d91b6ce149a10b9ad4471' for details",
      "\nDuring handling of the above exception, another exception occurred:\n",
      "\u001b[0;31mRuntimeError\u001b[0m                              Traceback (most recent call last)",
      "\u001b[1;32m/home/homeubuntu/Git Fenics/Equations/1D ODE.ipynb Cell 9'\u001b[0m in \u001b[0;36m<cell line: 3>\u001b[0;34m()\u001b[0m\n\u001b[1;32m      <a href='vscode-notebook-cell://wsl%2Bubuntu/home/homeubuntu/Git%20Fenics/Equations/1D%20ODE.ipynb#ch0000008vscode-remote?line=0'>1</a>\u001b[0m \u001b[39m# f_bound = fe.Expression('2*x[0]', degree=1)\u001b[39;00m\n\u001b[0;32m----> <a href='vscode-notebook-cell://wsl%2Bubuntu/home/homeubuntu/Git%20Fenics/Equations/1D%20ODE.ipynb#ch0000008vscode-remote?line=2'>3</a>\u001b[0m f_bound \u001b[39m=\u001b[39m fe\u001b[39m.\u001b[39mExpression(\u001b[39m'\u001b[39m\u001b[39mx[0]=0 ? 1 :0.5\u001b[39m\u001b[39m'\u001b[39m, degree\u001b[39m=\u001b[39m\u001b[39m2\u001b[39m)\n\u001b[1;32m      <a href='vscode-notebook-cell://wsl%2Bubuntu/home/homeubuntu/Git%20Fenics/Equations/1D%20ODE.ipynb#ch0000008vscode-remote?line=3'>4</a>\u001b[0m \u001b[39m# f_bound =fe.Constant(1)\u001b[39;00m\n\u001b[1;32m      <a href='vscode-notebook-cell://wsl%2Bubuntu/home/homeubuntu/Git%20Fenics/Equations/1D%20ODE.ipynb#ch0000008vscode-remote?line=5'>6</a>\u001b[0m bcs \u001b[39m=\u001b[39m fe\u001b[39m.\u001b[39mDirichletBC(space, f_bound, boundary)\n",
      "File \u001b[0;32m/usr/lib/petsc/lib/python3/dist-packages/dolfin/function/expression.py:400\u001b[0m, in \u001b[0;36mExpression.__init__\u001b[0;34m(self, cpp_code, *args, **kwargs)\u001b[0m\n\u001b[1;32m    <a href='file:///usr/lib/petsc/lib/python3/dist-packages/dolfin/function/expression.py?line=396'>397</a>\u001b[0m         \u001b[39mif\u001b[39;00m \u001b[39mnot\u001b[39;00m \u001b[39misinstance\u001b[39m(k, \u001b[39mstr\u001b[39m):\n\u001b[1;32m    <a href='file:///usr/lib/petsc/lib/python3/dist-packages/dolfin/function/expression.py?line=397'>398</a>\u001b[0m             \u001b[39mraise\u001b[39;00m \u001b[39mKeyError\u001b[39;00m(\u001b[39m\"\u001b[39m\u001b[39mUser parameter key must be a string\u001b[39m\u001b[39m\"\u001b[39m)\n\u001b[0;32m--> <a href='file:///usr/lib/petsc/lib/python3/dist-packages/dolfin/function/expression.py?line=399'>400</a>\u001b[0m     \u001b[39mself\u001b[39m\u001b[39m.\u001b[39m_cpp_object \u001b[39m=\u001b[39m jit\u001b[39m.\u001b[39;49mcompile_expression(cpp_code, params)\n\u001b[1;32m    <a href='file:///usr/lib/petsc/lib/python3/dist-packages/dolfin/function/expression.py?line=400'>401</a>\u001b[0m     \u001b[39mself\u001b[39m\u001b[39m.\u001b[39m_parameters \u001b[39m=\u001b[39m ExpressionParameters(\u001b[39mself\u001b[39m\u001b[39m.\u001b[39m_cpp_object, params)\n\u001b[1;32m    <a href='file:///usr/lib/petsc/lib/python3/dist-packages/dolfin/function/expression.py?line=402'>403</a>\u001b[0m \u001b[39mif\u001b[39;00m element \u001b[39mand\u001b[39;00m degree:\n",
      "File \u001b[0;32m/usr/lib/petsc/lib/python3/dist-packages/dolfin/function/jit.py:158\u001b[0m, in \u001b[0;36mcompile_expression\u001b[0;34m(statements, properties)\u001b[0m\n\u001b[1;32m    <a href='file:///usr/lib/petsc/lib/python3/dist-packages/dolfin/function/jit.py?line=153'>154</a>\u001b[0m mpi_comm \u001b[39m=\u001b[39m properties\u001b[39m.\u001b[39mpop(\u001b[39m\"\u001b[39m\u001b[39mmpi_comm\u001b[39m\u001b[39m\"\u001b[39m, MPI\u001b[39m.\u001b[39mcomm_world)\n\u001b[1;32m    <a href='file:///usr/lib/petsc/lib/python3/dist-packages/dolfin/function/jit.py?line=154'>155</a>\u001b[0m cpp_data \u001b[39m=\u001b[39m {\u001b[39m'\u001b[39m\u001b[39mstatements\u001b[39m\u001b[39m'\u001b[39m: statements, \u001b[39m'\u001b[39m\u001b[39mproperties\u001b[39m\u001b[39m'\u001b[39m: properties,\n\u001b[1;32m    <a href='file:///usr/lib/petsc/lib/python3/dist-packages/dolfin/function/jit.py?line=155'>156</a>\u001b[0m             \u001b[39m'\u001b[39m\u001b[39mname\u001b[39m\u001b[39m'\u001b[39m: \u001b[39m'\u001b[39m\u001b[39mexpression\u001b[39m\u001b[39m'\u001b[39m, \u001b[39m'\u001b[39m\u001b[39mjit_generate\u001b[39m\u001b[39m'\u001b[39m: jit_generate}\n\u001b[0;32m--> <a href='file:///usr/lib/petsc/lib/python3/dist-packages/dolfin/function/jit.py?line=157'>158</a>\u001b[0m expression \u001b[39m=\u001b[39m compile_class(cpp_data, mpi_comm\u001b[39m=\u001b[39;49mmpi_comm)\n\u001b[1;32m    <a href='file:///usr/lib/petsc/lib/python3/dist-packages/dolfin/function/jit.py?line=158'>159</a>\u001b[0m \u001b[39mreturn\u001b[39;00m expression\n",
      "File \u001b[0;32m/usr/lib/petsc/lib/python3/dist-packages/dolfin/jit/jit.py:173\u001b[0m, in \u001b[0;36mcompile_class\u001b[0;34m(cpp_data, mpi_comm)\u001b[0m\n\u001b[1;32m    <a href='file:///usr/lib/petsc/lib/python3/dist-packages/dolfin/jit/jit.py?line=170'>171</a>\u001b[0m     submodule \u001b[39m=\u001b[39m dijitso\u001b[39m.\u001b[39mextract_factory_function(module, \u001b[39m\"\u001b[39m\u001b[39mcreate_\u001b[39m\u001b[39m\"\u001b[39m \u001b[39m+\u001b[39m module_name)()\n\u001b[1;32m    <a href='file:///usr/lib/petsc/lib/python3/dist-packages/dolfin/jit/jit.py?line=171'>172</a>\u001b[0m \u001b[39mexcept\u001b[39;00m \u001b[39mException\u001b[39;00m:\n\u001b[0;32m--> <a href='file:///usr/lib/petsc/lib/python3/dist-packages/dolfin/jit/jit.py?line=172'>173</a>\u001b[0m     \u001b[39mraise\u001b[39;00m \u001b[39mRuntimeError\u001b[39;00m(\u001b[39m\"\u001b[39m\u001b[39mUnable to compile C++ code with dijitso\u001b[39m\u001b[39m\"\u001b[39m)\n\u001b[1;32m    <a href='file:///usr/lib/petsc/lib/python3/dist-packages/dolfin/jit/jit.py?line=174'>175</a>\u001b[0m \u001b[39mif\u001b[39;00m name \u001b[39m==\u001b[39m \u001b[39m'\u001b[39m\u001b[39mexpression\u001b[39m\u001b[39m'\u001b[39m:\n\u001b[1;32m    <a href='file:///usr/lib/petsc/lib/python3/dist-packages/dolfin/jit/jit.py?line=175'>176</a>\u001b[0m     python_object \u001b[39m=\u001b[39m cpp\u001b[39m.\u001b[39mfunction\u001b[39m.\u001b[39mmake_dolfin_expression(submodule)\n",
      "\u001b[0;31mRuntimeError\u001b[0m: Unable to compile C++ code with dijitso"
     ]
    }
   ],
   "source": [
    "# f_bound = fe.Expression('2*x[0]', degree=1)\n",
    "\n",
    "f_bound = fe.Expression('x[0]=0 ? 1 :0.5', degree=2)\n",
    "# f_bound =fe.Constant(1)\n",
    "\n",
    "bcs = fe.DirichletBC(space, f_bound, boundary)"
   ]
  },
  {
   "cell_type": "markdown",
   "metadata": {},
   "source": [
    "### Equations"
   ]
  },
  {
   "cell_type": "code",
   "execution_count": null,
   "metadata": {},
   "outputs": [],
   "source": [
    "dx=fe.dx"
   ]
  },
  {
   "cell_type": "code",
   "execution_count": null,
   "metadata": {},
   "outputs": [],
   "source": [
    "g=fe.Constant(1)\n",
    "g2 = fe.Expression(\n",
    "    '''\n",
    "    x[0]>=0 && x[1]>=0 ? pow(x[0], 2) \n",
    "    :exp(-kappa*pow(pi, 2)*t)*sin(pi*k*x[0])\n",
    "    ''',\n",
    "    kappa=1,t=3,k=2,\n",
    "    degree=2)\n",
    "# g=fe.Expression('1',degree=0)"
   ]
  },
  {
   "cell_type": "code",
   "execution_count": null,
   "metadata": {},
   "outputs": [],
   "source": [
    "eqB = fe.dot(fe.grad(trial_f), fe.grad(test_f)) * dx\n",
    "eqL = g * test_f * dx"
   ]
  },
  {
   "cell_type": "markdown",
   "metadata": {},
   "source": [
    "### Solving"
   ]
  },
  {
   "cell_type": "code",
   "execution_count": null,
   "metadata": {},
   "outputs": [
    {
     "data": {
      "text/plain": [
       "[<matplotlib.lines.Line2D at 0x7fd5c77f3f10>]"
      ]
     },
     "execution_count": 10,
     "metadata": {},
     "output_type": "execute_result"
    },
    {
     "data": {
      "image/png": "[encoded data removed]",
      "text/plain": [
       "<Figure size 432x288 with 1 Axes>"
      ]
     },
     "metadata": {
      "needs_background": "light"
     },
     "output_type": "display_data"
    }
   ],
   "source": [
    "f=fe.Function(space)\n",
    "fe.plot(f)"
   ]
  },
  {
   "cell_type": "code",
   "execution_count": null,
   "metadata": {},
   "outputs": [
    {
     "name": "stdout",
     "output_type": "stream",
     "text": [
      "Solving linear variational problem.\n"
     ]
    },
    {
     "data": {
      "text/plain": [
       "[<matplotlib.lines.Line2D at 0x7fd5c778e730>]"
      ]
     },
     "execution_count": 11,
     "metadata": {},
     "output_type": "execute_result"
    },
    {
     "data": {
      "image/png": "[encoded data removed]",
      "text/plain": [
       "<Figure size 432x288 with 1 Axes>"
      ]
     },
     "metadata": {
      "needs_background": "light"
     },
     "output_type": "display_data"
    }
   ],
   "source": [
    "fe.solve(eqB==eqL,f,bcs)\n",
    "fe.plot(f)"
   ]
  },
  {
   "cell_type": "code",
   "execution_count": null,
   "metadata": {},
   "outputs": [],
   "source": []
  }
 ],
 "metadata": {
  "interpreter": {
   "hash": "31f2aee4e71d21fbe5cf8b01ff0e069b9275f58929596ceb00d14d90e3e16cd6"
  },
  "kernelspec": {
   "display_name": "Python 3.8.10 64-bit",
   "language": "python",
   "name": "python3"
  },
  "language_info": {
   "codemirror_mode": {
    "name": "ipython",
    "version": 3
   },
   "file_extension": ".py",
   "mimetype": "text/x-python",
   "name": "python",
   "nbconvert_exporter": "python",
   "pygments_lexer": "ipython3",
   "version": "3.8.10"
  },
  "orig_nbformat": 4
 },
 "nbformat": 4,
 "nbformat_minor": 2
}
