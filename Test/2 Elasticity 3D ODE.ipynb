{
 "cells": [
  {
   "cell_type": "code",
   "execution_count": 25,
   "metadata": {},
   "outputs": [],
   "source": [
    "import fenics as fe\n",
    "import matplotlib.pyplot as plt\n",
    "import numpy as np "
   ]
  },
  {
   "cell_type": "code",
   "execution_count": 26,
   "metadata": {},
   "outputs": [],
   "source": [
    "from ipywidgets import IntProgress\n",
    "from IPython.display import display\n",
    "\n",
    "def log_progress(sequence, every=10):\n",
    "    progress = IntProgress(min=0, max=len(sequence), value=0)\n",
    "    display(progress)\n",
    "\n",
    "    for index, record in enumerate(sequence):\n",
    "        \n",
    "        if index % every == 0:\n",
    "            progress.value = index\n",
    "        yield record\n",
    "    progress.value = len(sequence)"
   ]
  },
  {
   "cell_type": "code",
   "execution_count": 27,
   "metadata": {},
   "outputs": [],
   "source": [
    "L=1\n",
    "W=0.2\n",
    "mu=1\n",
    "rho=1\n",
    "delta = W/L\n",
    "gamma=0.4*delta**2\n",
    "beta=1.25"
   ]
  },
  {
   "cell_type": "code",
   "execution_count": 28,
   "metadata": {},
   "outputs": [],
   "source": [
    "mesh = fe.BoxMesh(fe.Point(0, 0, 0), fe.Point(L, W, W),10,5,3)\n",
    "space=fe.VectorFunctionSpace(mesh,'P',1)"
   ]
  },
  {
   "cell_type": "code",
   "execution_count": 29,
   "metadata": {},
   "outputs": [],
   "source": [
    "Grad=fe.nabla_grad\n",
    "Div=fe.div\n",
    "dx=fe.dx\n",
    "ds=fe.ds\n",
    "Dot=fe.dot\n"
   ]
  },
  {
   "cell_type": "code",
   "execution_count": 30,
   "metadata": {},
   "outputs": [],
   "source": [
    "tol = 1E-14\n",
    "\n",
    "\n",
    "def claim_bound(x, on_bound):\n",
    "    return on_bound and x[0] < tol\n",
    "\n",
    "\n",
    "bc = fe.DirichletBC(space, fe.Constant((0, 0, 0)), claim_bound)"
   ]
  },
  {
   "cell_type": "code",
   "execution_count": 44,
   "metadata": {},
   "outputs": [],
   "source": [
    "def epsilon_scalar(f):\n",
    "    # return 0.5 * (Grad(f) + Grad(f).T)\n",
    "    return fe.sym(fe.nabla_grad(f))\n",
    "\n",
    "\n",
    "def sigma_vector(f):\n",
    "    return beta * Dot(Grad(f),Grad(f)) * fe.Identity(3) + 2 * mu * epsilon_scalar(f)\n"
   ]
  },
  {
   "cell_type": "code",
   "execution_count": 45,
   "metadata": {},
   "outputs": [],
   "source": [
    "f = fe.TrialFunction(space)\n",
    "test_f = fe.TestFunction(space)\n",
    "\n",
    "const_f = fe.Constant((0, 0, -rho * gamma))\n",
    "const_T = fe.Constant((0, 0, 0))\n",
    "\n",
    "rhs = fe.inner(sigma_vector(f), epsilon_scalar(f)) * dx\n",
    "lhs = Dot(const_f, test_f) * dx + Dot(const_T, f) * ds\n"
   ]
  },
  {
   "cell_type": "code",
   "execution_count": 46,
   "metadata": {},
   "outputs": [
    {
     "name": "stdout",
     "output_type": "stream",
     "text": [
      "        Calling FFC just-in-time (JIT) compiler, this may take some time.\n"
     ]
    },
    {
     "ename": "ArityMismatch",
     "evalue": "Integrand arguments (Argument(FunctionSpace(Mesh(VectorElement(FiniteElement('Lagrange', tetrahedron, 1), dim=3), 29), VectorElement(FiniteElement('Lagrange', tetrahedron, 1), dim=3)), 0, None),) differ from form arguments (Argument(FunctionSpace(Mesh(VectorElement(FiniteElement('Lagrange', tetrahedron, 1), dim=3), 29), VectorElement(FiniteElement('Lagrange', tetrahedron, 1), dim=3)), 0, None), Argument(FunctionSpace(Mesh(VectorElement(FiniteElement('Lagrange', tetrahedron, 1), dim=3), 29), VectorElement(FiniteElement('Lagrange', tetrahedron, 1), dim=3)), 1, None)).",
     "output_type": "error",
     "traceback": [
      "\u001b[0;31m---------------------------------------------------------------------------\u001b[0m",
      "\u001b[0;31mArityMismatch\u001b[0m                             Traceback (most recent call last)",
      "\u001b[1;32m/home/homeubuntu/Git Fenics/Test/2 Elasticity 3D ODE.ipynb Cell 9'\u001b[0m in \u001b[0;36m<cell line: 2>\u001b[0;34m()\u001b[0m\n\u001b[1;32m      <a href='vscode-notebook-cell://wsl%2Bubuntu/home/homeubuntu/Git%20Fenics/Test/2%20Elasticity%203D%20ODE.ipynb#ch0000010vscode-remote?line=0'>1</a>\u001b[0m sol_f\u001b[39m=\u001b[39mfe\u001b[39m.\u001b[39mFunction(space)\n\u001b[0;32m----> <a href='vscode-notebook-cell://wsl%2Bubuntu/home/homeubuntu/Git%20Fenics/Test/2%20Elasticity%203D%20ODE.ipynb#ch0000010vscode-remote?line=1'>2</a>\u001b[0m fe\u001b[39m.\u001b[39msolve(rhs\u001b[39m==\u001b[39mlhs,sol_f,bc)\n",
      "File \u001b[0;32m/usr/lib/petsc/lib/python3/dist-packages/dolfin/fem/solving.py:233\u001b[0m, in \u001b[0;36msolve\u001b[0;34m(*args, **kwargs)\u001b[0m\n\u001b[1;32m    <a href='file:///usr/lib/petsc/lib/python3/dist-packages/dolfin/fem/solving.py?line=229'>230</a>\u001b[0m \u001b[39m# Call variational problem solver if we get an equation (but not a\u001b[39;00m\n\u001b[1;32m    <a href='file:///usr/lib/petsc/lib/python3/dist-packages/dolfin/fem/solving.py?line=230'>231</a>\u001b[0m \u001b[39m# tolerance)\u001b[39;00m\n\u001b[1;32m    <a href='file:///usr/lib/petsc/lib/python3/dist-packages/dolfin/fem/solving.py?line=231'>232</a>\u001b[0m \u001b[39melif\u001b[39;00m \u001b[39misinstance\u001b[39m(args[\u001b[39m0\u001b[39m], ufl\u001b[39m.\u001b[39mclasses\u001b[39m.\u001b[39mEquation):\n\u001b[0;32m--> <a href='file:///usr/lib/petsc/lib/python3/dist-packages/dolfin/fem/solving.py?line=232'>233</a>\u001b[0m     _solve_varproblem(\u001b[39m*\u001b[39;49margs, \u001b[39m*\u001b[39;49m\u001b[39m*\u001b[39;49mkwargs)\n\u001b[1;32m    <a href='file:///usr/lib/petsc/lib/python3/dist-packages/dolfin/fem/solving.py?line=234'>235</a>\u001b[0m \u001b[39m# Default case, just call the wrapped C++ solve function\u001b[39;00m\n\u001b[1;32m    <a href='file:///usr/lib/petsc/lib/python3/dist-packages/dolfin/fem/solving.py?line=235'>236</a>\u001b[0m \u001b[39melse\u001b[39;00m:\n\u001b[1;32m    <a href='file:///usr/lib/petsc/lib/python3/dist-packages/dolfin/fem/solving.py?line=236'>237</a>\u001b[0m     \u001b[39mif\u001b[39;00m kwargs:\n",
      "File \u001b[0;32m/usr/lib/petsc/lib/python3/dist-packages/dolfin/fem/solving.py:268\u001b[0m, in \u001b[0;36m_solve_varproblem\u001b[0;34m(*args, **kwargs)\u001b[0m\n\u001b[1;32m    <a href='file:///usr/lib/petsc/lib/python3/dist-packages/dolfin/fem/solving.py?line=263'>264</a>\u001b[0m     solver\u001b[39m.\u001b[39msolve()\n\u001b[1;32m    <a href='file:///usr/lib/petsc/lib/python3/dist-packages/dolfin/fem/solving.py?line=265'>266</a>\u001b[0m \u001b[39melse\u001b[39;00m:\n\u001b[1;32m    <a href='file:///usr/lib/petsc/lib/python3/dist-packages/dolfin/fem/solving.py?line=266'>267</a>\u001b[0m     \u001b[39m# Create problem\u001b[39;00m\n\u001b[0;32m--> <a href='file:///usr/lib/petsc/lib/python3/dist-packages/dolfin/fem/solving.py?line=267'>268</a>\u001b[0m     problem \u001b[39m=\u001b[39m LinearVariationalProblem(eq\u001b[39m.\u001b[39;49mlhs, eq\u001b[39m.\u001b[39;49mrhs, u, bcs,\n\u001b[1;32m    <a href='file:///usr/lib/petsc/lib/python3/dist-packages/dolfin/fem/solving.py?line=268'>269</a>\u001b[0m                                        form_compiler_parameters\u001b[39m=\u001b[39;49mform_compiler_parameters)\n\u001b[1;32m    <a href='file:///usr/lib/petsc/lib/python3/dist-packages/dolfin/fem/solving.py?line=269'>270</a>\u001b[0m     \u001b[39m# Create solver and call solve\u001b[39;00m\n\u001b[1;32m    <a href='file:///usr/lib/petsc/lib/python3/dist-packages/dolfin/fem/solving.py?line=270'>271</a>\u001b[0m     solver \u001b[39m=\u001b[39m LinearVariationalSolver(problem)\n",
      "File \u001b[0;32m/usr/lib/petsc/lib/python3/dist-packages/dolfin/fem/problem.py:58\u001b[0m, in \u001b[0;36mLinearVariationalProblem.__init__\u001b[0;34m(self, a, L, u, bcs, form_compiler_parameters)\u001b[0m\n\u001b[1;32m     <a href='file:///usr/lib/petsc/lib/python3/dist-packages/dolfin/fem/problem.py?line=55'>56</a>\u001b[0m     L \u001b[39m=\u001b[39m cpp\u001b[39m.\u001b[39mfem\u001b[39m.\u001b[39mForm(\u001b[39m1\u001b[39m, \u001b[39m0\u001b[39m)\n\u001b[1;32m     <a href='file:///usr/lib/petsc/lib/python3/dist-packages/dolfin/fem/problem.py?line=56'>57</a>\u001b[0m \u001b[39melse\u001b[39;00m:\n\u001b[0;32m---> <a href='file:///usr/lib/petsc/lib/python3/dist-packages/dolfin/fem/problem.py?line=57'>58</a>\u001b[0m     L \u001b[39m=\u001b[39m Form(L, form_compiler_parameters\u001b[39m=\u001b[39;49mform_compiler_parameters)\n\u001b[1;32m     <a href='file:///usr/lib/petsc/lib/python3/dist-packages/dolfin/fem/problem.py?line=58'>59</a>\u001b[0m a \u001b[39m=\u001b[39m Form(a, form_compiler_parameters\u001b[39m=\u001b[39mform_compiler_parameters)\n\u001b[1;32m     <a href='file:///usr/lib/petsc/lib/python3/dist-packages/dolfin/fem/problem.py?line=60'>61</a>\u001b[0m \u001b[39m# Initialize C++ base class\u001b[39;00m\n",
      "File \u001b[0;32m/usr/lib/petsc/lib/python3/dist-packages/dolfin/fem/form.py:43\u001b[0m, in \u001b[0;36mForm.__init__\u001b[0;34m(self, form, **kwargs)\u001b[0m\n\u001b[1;32m     <a href='file:///usr/lib/petsc/lib/python3/dist-packages/dolfin/fem/form.py?line=39'>40</a>\u001b[0m \u001b[39mif\u001b[39;00m form_compiler_parameters \u001b[39mis\u001b[39;00m \u001b[39mNone\u001b[39;00m:\n\u001b[1;32m     <a href='file:///usr/lib/petsc/lib/python3/dist-packages/dolfin/fem/form.py?line=40'>41</a>\u001b[0m     form_compiler_parameters \u001b[39m=\u001b[39m {\u001b[39m\"\u001b[39m\u001b[39mexternal_include_dirs\u001b[39m\u001b[39m\"\u001b[39m: dolfin_pc[\u001b[39m\"\u001b[39m\u001b[39minclude_dirs\u001b[39m\u001b[39m\"\u001b[39m]}\n\u001b[0;32m---> <a href='file:///usr/lib/petsc/lib/python3/dist-packages/dolfin/fem/form.py?line=42'>43</a>\u001b[0m ufc_form \u001b[39m=\u001b[39m ffc_jit(form, form_compiler_parameters\u001b[39m=\u001b[39;49mform_compiler_parameters,\n\u001b[1;32m     <a href='file:///usr/lib/petsc/lib/python3/dist-packages/dolfin/fem/form.py?line=43'>44</a>\u001b[0m                    mpi_comm\u001b[39m=\u001b[39;49mmesh\u001b[39m.\u001b[39;49mmpi_comm())\n\u001b[1;32m     <a href='file:///usr/lib/petsc/lib/python3/dist-packages/dolfin/fem/form.py?line=44'>45</a>\u001b[0m ufc_form \u001b[39m=\u001b[39m cpp\u001b[39m.\u001b[39mfem\u001b[39m.\u001b[39mmake_ufc_form(ufc_form[\u001b[39m0\u001b[39m])\n\u001b[1;32m     <a href='file:///usr/lib/petsc/lib/python3/dist-packages/dolfin/fem/form.py?line=46'>47</a>\u001b[0m \u001b[39m# TO BE CHECKED\u001b[39;00m\n",
      "File \u001b[0;32m/usr/lib/petsc/lib/python3/dist-packages/dolfin/jit/jit.py:50\u001b[0m, in \u001b[0;36mmpi_jit_decorator.<locals>.mpi_jit\u001b[0;34m(*args, **kwargs)\u001b[0m\n\u001b[1;32m     <a href='file:///usr/lib/petsc/lib/python3/dist-packages/dolfin/jit/jit.py?line=47'>48</a>\u001b[0m \u001b[39m# Just call JIT compiler when running in serial\u001b[39;00m\n\u001b[1;32m     <a href='file:///usr/lib/petsc/lib/python3/dist-packages/dolfin/jit/jit.py?line=48'>49</a>\u001b[0m \u001b[39mif\u001b[39;00m MPI\u001b[39m.\u001b[39msize(mpi_comm) \u001b[39m==\u001b[39m \u001b[39m1\u001b[39m:\n\u001b[0;32m---> <a href='file:///usr/lib/petsc/lib/python3/dist-packages/dolfin/jit/jit.py?line=49'>50</a>\u001b[0m     \u001b[39mreturn\u001b[39;00m local_jit(\u001b[39m*\u001b[39;49margs, \u001b[39m*\u001b[39;49m\u001b[39m*\u001b[39;49mkwargs)\n\u001b[1;32m     <a href='file:///usr/lib/petsc/lib/python3/dist-packages/dolfin/jit/jit.py?line=51'>52</a>\u001b[0m \u001b[39m# Default status (0 == ok, 1 == fail)\u001b[39;00m\n\u001b[1;32m     <a href='file:///usr/lib/petsc/lib/python3/dist-packages/dolfin/jit/jit.py?line=52'>53</a>\u001b[0m status \u001b[39m=\u001b[39m \u001b[39m0\u001b[39m\n",
      "File \u001b[0;32m/usr/lib/petsc/lib/python3/dist-packages/dolfin/jit/jit.py:100\u001b[0m, in \u001b[0;36mffc_jit\u001b[0;34m(ufl_form, form_compiler_parameters)\u001b[0m\n\u001b[1;32m     <a href='file:///usr/lib/petsc/lib/python3/dist-packages/dolfin/jit/jit.py?line=97'>98</a>\u001b[0m p\u001b[39m.\u001b[39mupdate(\u001b[39mdict\u001b[39m(parameters[\u001b[39m\"\u001b[39m\u001b[39mform_compiler\u001b[39m\u001b[39m\"\u001b[39m]))\n\u001b[1;32m     <a href='file:///usr/lib/petsc/lib/python3/dist-packages/dolfin/jit/jit.py?line=98'>99</a>\u001b[0m p\u001b[39m.\u001b[39mupdate(form_compiler_parameters \u001b[39mor\u001b[39;00m {})\n\u001b[0;32m--> <a href='file:///usr/lib/petsc/lib/python3/dist-packages/dolfin/jit/jit.py?line=99'>100</a>\u001b[0m \u001b[39mreturn\u001b[39;00m ffc\u001b[39m.\u001b[39;49mjit(ufl_form, parameters\u001b[39m=\u001b[39;49mp)\n",
      "File \u001b[0;32m/usr/lib/python3/dist-packages/ffc/jitcompiler.py:217\u001b[0m, in \u001b[0;36mjit\u001b[0;34m(ufl_object, parameters, indirect)\u001b[0m\n\u001b[1;32m    <a href='file:///usr/lib/python3/dist-packages/ffc/jitcompiler.py?line=213'>214</a>\u001b[0m kind, module_name \u001b[39m=\u001b[39m compute_jit_prefix(ufl_object, parameters)\n\u001b[1;32m    <a href='file:///usr/lib/python3/dist-packages/ffc/jitcompiler.py?line=215'>216</a>\u001b[0m \u001b[39m# Inspect cache and generate+build if necessary\u001b[39;00m\n\u001b[0;32m--> <a href='file:///usr/lib/python3/dist-packages/ffc/jitcompiler.py?line=216'>217</a>\u001b[0m module \u001b[39m=\u001b[39m jit_build(ufl_object, module_name, parameters)\n\u001b[1;32m    <a href='file:///usr/lib/python3/dist-packages/ffc/jitcompiler.py?line=218'>219</a>\u001b[0m \u001b[39m# Raise exception on failure to build or import module\u001b[39;00m\n\u001b[1;32m    <a href='file:///usr/lib/python3/dist-packages/ffc/jitcompiler.py?line=219'>220</a>\u001b[0m \u001b[39mif\u001b[39;00m module \u001b[39mis\u001b[39;00m \u001b[39mNone\u001b[39;00m:\n\u001b[1;32m    <a href='file:///usr/lib/python3/dist-packages/ffc/jitcompiler.py?line=220'>221</a>\u001b[0m     \u001b[39m# TODO: To communicate directory name here, need dijitso params to call\u001b[39;00m\n\u001b[1;32m    <a href='file:///usr/lib/python3/dist-packages/ffc/jitcompiler.py?line=221'>222</a>\u001b[0m     \u001b[39m#fail_dir = dijitso.cache.create_fail_dir_path(signature, dijitso_cache_params)\u001b[39;00m\n",
      "File \u001b[0;32m/usr/lib/python3/dist-packages/ffc/jitcompiler.py:130\u001b[0m, in \u001b[0;36mjit_build\u001b[0;34m(ufl_object, module_name, parameters)\u001b[0m\n\u001b[1;32m    <a href='file:///usr/lib/python3/dist-packages/ffc/jitcompiler.py?line=122'>123</a>\u001b[0m params \u001b[39m=\u001b[39m dijitso\u001b[39m.\u001b[39mvalidate_params({\n\u001b[1;32m    <a href='file:///usr/lib/python3/dist-packages/ffc/jitcompiler.py?line=123'>124</a>\u001b[0m     \u001b[39m\"\u001b[39m\u001b[39mcache\u001b[39m\u001b[39m\"\u001b[39m: cache_params,\n\u001b[1;32m    <a href='file:///usr/lib/python3/dist-packages/ffc/jitcompiler.py?line=124'>125</a>\u001b[0m     \u001b[39m\"\u001b[39m\u001b[39mbuild\u001b[39m\u001b[39m\"\u001b[39m: build_params,\n\u001b[1;32m    <a href='file:///usr/lib/python3/dist-packages/ffc/jitcompiler.py?line=125'>126</a>\u001b[0m     \u001b[39m\"\u001b[39m\u001b[39mgenerator\u001b[39m\u001b[39m\"\u001b[39m: parameters,  \u001b[39m# ffc parameters, just passed on to jit_generate\u001b[39;00m\n\u001b[1;32m    <a href='file:///usr/lib/python3/dist-packages/ffc/jitcompiler.py?line=126'>127</a>\u001b[0m })\n\u001b[1;32m    <a href='file:///usr/lib/python3/dist-packages/ffc/jitcompiler.py?line=128'>129</a>\u001b[0m \u001b[39m# Carry out jit compilation, calling jit_generate only if needed\u001b[39;00m\n\u001b[0;32m--> <a href='file:///usr/lib/python3/dist-packages/ffc/jitcompiler.py?line=129'>130</a>\u001b[0m module, signature \u001b[39m=\u001b[39m dijitso\u001b[39m.\u001b[39;49mjit(jitable\u001b[39m=\u001b[39;49mufl_object,\n\u001b[1;32m    <a href='file:///usr/lib/python3/dist-packages/ffc/jitcompiler.py?line=130'>131</a>\u001b[0m                                 name\u001b[39m=\u001b[39;49mmodule_name,\n\u001b[1;32m    <a href='file:///usr/lib/python3/dist-packages/ffc/jitcompiler.py?line=131'>132</a>\u001b[0m                                 params\u001b[39m=\u001b[39;49mparams,\n\u001b[1;32m    <a href='file:///usr/lib/python3/dist-packages/ffc/jitcompiler.py?line=132'>133</a>\u001b[0m                                 generate\u001b[39m=\u001b[39;49mjit_generate)\n\u001b[1;32m    <a href='file:///usr/lib/python3/dist-packages/ffc/jitcompiler.py?line=133'>134</a>\u001b[0m \u001b[39mreturn\u001b[39;00m module\n",
      "File \u001b[0;32m/usr/lib/python3/dist-packages/dijitso/jit.py:165\u001b[0m, in \u001b[0;36mjit\u001b[0;34m(jitable, name, params, generate, send, receive, wait)\u001b[0m\n\u001b[1;32m    <a href='file:///usr/lib/python3/dist-packages/dijitso/jit.py?line=160'>161</a>\u001b[0m     error(\u001b[39m\"\u001b[39m\u001b[39mPlease provide only one of generate or receive.\u001b[39m\u001b[39m\"\u001b[39m)\n\u001b[1;32m    <a href='file:///usr/lib/python3/dist-packages/dijitso/jit.py?line=162'>163</a>\u001b[0m \u001b[39melif\u001b[39;00m generate:\n\u001b[1;32m    <a href='file:///usr/lib/python3/dist-packages/dijitso/jit.py?line=163'>164</a>\u001b[0m     \u001b[39m# 1) Generate source code\u001b[39;00m\n\u001b[0;32m--> <a href='file:///usr/lib/python3/dist-packages/dijitso/jit.py?line=164'>165</a>\u001b[0m     header, source, dependencies \u001b[39m=\u001b[39m generate(jitable, name, signature, params[\u001b[39m\"\u001b[39;49m\u001b[39mgenerator\u001b[39;49m\u001b[39m\"\u001b[39;49m])\n\u001b[1;32m    <a href='file:///usr/lib/python3/dist-packages/dijitso/jit.py?line=165'>166</a>\u001b[0m     \u001b[39m# Ensure we got unicode from generate\u001b[39;00m\n\u001b[1;32m    <a href='file:///usr/lib/python3/dist-packages/dijitso/jit.py?line=166'>167</a>\u001b[0m     header \u001b[39m=\u001b[39m as_unicode(header)\n",
      "File \u001b[0;32m/usr/lib/python3/dist-packages/ffc/jitcompiler.py:65\u001b[0m, in \u001b[0;36mjit_generate\u001b[0;34m(ufl_object, module_name, signature, parameters)\u001b[0m\n\u001b[1;32m     <a href='file:///usr/lib/python3/dist-packages/ffc/jitcompiler.py?line=61'>62</a>\u001b[0m \u001b[39melif\u001b[39;00m \u001b[39misinstance\u001b[39m(ufl_object, ufl\u001b[39m.\u001b[39mMesh):\n\u001b[1;32m     <a href='file:///usr/lib/python3/dist-packages/ffc/jitcompiler.py?line=62'>63</a>\u001b[0m     compile_object \u001b[39m=\u001b[39m compile_coordinate_mapping\n\u001b[0;32m---> <a href='file:///usr/lib/python3/dist-packages/ffc/jitcompiler.py?line=64'>65</a>\u001b[0m code_h, code_c, dependent_ufl_objects \u001b[39m=\u001b[39m compile_object(ufl_object,\n\u001b[1;32m     <a href='file:///usr/lib/python3/dist-packages/ffc/jitcompiler.py?line=65'>66</a>\u001b[0m         prefix\u001b[39m=\u001b[39;49mmodule_name, parameters\u001b[39m=\u001b[39;49mparameters, jit\u001b[39m=\u001b[39;49m\u001b[39mTrue\u001b[39;49;00m)\n\u001b[1;32m     <a href='file:///usr/lib/python3/dist-packages/ffc/jitcompiler.py?line=67'>68</a>\u001b[0m \u001b[39m# Jit compile dependent objects separately,\u001b[39;00m\n\u001b[1;32m     <a href='file:///usr/lib/python3/dist-packages/ffc/jitcompiler.py?line=68'>69</a>\u001b[0m \u001b[39m# but pass indirect=True to skip instantiating objects.\u001b[39;00m\n\u001b[1;32m     <a href='file:///usr/lib/python3/dist-packages/ffc/jitcompiler.py?line=69'>70</a>\u001b[0m \u001b[39m# (this is done in here such that it's only triggered\u001b[39;00m\n\u001b[1;32m     <a href='file:///usr/lib/python3/dist-packages/ffc/jitcompiler.py?line=70'>71</a>\u001b[0m \u001b[39m# if parent jit module is missing, and it's done after\u001b[39;00m\n\u001b[1;32m     <a href='file:///usr/lib/python3/dist-packages/ffc/jitcompiler.py?line=71'>72</a>\u001b[0m \u001b[39m# compile_object because some misformed ufl objects may\u001b[39;00m\n\u001b[1;32m     <a href='file:///usr/lib/python3/dist-packages/ffc/jitcompiler.py?line=72'>73</a>\u001b[0m \u001b[39m# require analysis to determine (looking at you Expression...))\u001b[39;00m\n\u001b[1;32m     <a href='file:///usr/lib/python3/dist-packages/ffc/jitcompiler.py?line=73'>74</a>\u001b[0m dependencies \u001b[39m=\u001b[39m []\n",
      "File \u001b[0;32m/usr/lib/python3/dist-packages/ffc/compiler.py:142\u001b[0m, in \u001b[0;36mcompile_form\u001b[0;34m(forms, object_names, prefix, parameters, jit)\u001b[0m\n\u001b[1;32m    <a href='file:///usr/lib/python3/dist-packages/ffc/compiler.py?line=138'>139</a>\u001b[0m \u001b[39mdef\u001b[39;00m \u001b[39mcompile_form\u001b[39m(forms, object_names\u001b[39m=\u001b[39m\u001b[39mNone\u001b[39;00m,\n\u001b[1;32m    <a href='file:///usr/lib/python3/dist-packages/ffc/compiler.py?line=139'>140</a>\u001b[0m                  prefix\u001b[39m=\u001b[39m\u001b[39m\"\u001b[39m\u001b[39mForm\u001b[39m\u001b[39m\"\u001b[39m, parameters\u001b[39m=\u001b[39m\u001b[39mNone\u001b[39;00m, jit\u001b[39m=\u001b[39m\u001b[39mFalse\u001b[39;00m):\n\u001b[1;32m    <a href='file:///usr/lib/python3/dist-packages/ffc/compiler.py?line=140'>141</a>\u001b[0m     \u001b[39m\"\"\"This function generates UFC code for a given UFL form or list of UFL forms.\"\"\"\u001b[39;00m\n\u001b[0;32m--> <a href='file:///usr/lib/python3/dist-packages/ffc/compiler.py?line=141'>142</a>\u001b[0m     \u001b[39mreturn\u001b[39;00m compile_ufl_objects(forms, \u001b[39m\"\u001b[39;49m\u001b[39mform\u001b[39;49m\u001b[39m\"\u001b[39;49m, object_names,\n\u001b[1;32m    <a href='file:///usr/lib/python3/dist-packages/ffc/compiler.py?line=142'>143</a>\u001b[0m                                prefix, parameters, jit)\n",
      "File \u001b[0;32m/usr/lib/python3/dist-packages/ffc/compiler.py:185\u001b[0m, in \u001b[0;36mcompile_ufl_objects\u001b[0;34m(ufl_objects, kind, object_names, prefix, parameters, jit)\u001b[0m\n\u001b[1;32m    <a href='file:///usr/lib/python3/dist-packages/ffc/compiler.py?line=182'>183</a>\u001b[0m \u001b[39m# Stage 1: analysis\u001b[39;00m\n\u001b[1;32m    <a href='file:///usr/lib/python3/dist-packages/ffc/compiler.py?line=183'>184</a>\u001b[0m cpu_time \u001b[39m=\u001b[39m time()\n\u001b[0;32m--> <a href='file:///usr/lib/python3/dist-packages/ffc/compiler.py?line=184'>185</a>\u001b[0m analysis \u001b[39m=\u001b[39m analyze_ufl_objects(ufl_objects, kind, parameters)\n\u001b[1;32m    <a href='file:///usr/lib/python3/dist-packages/ffc/compiler.py?line=185'>186</a>\u001b[0m _print_timing(\u001b[39m1\u001b[39m, time() \u001b[39m-\u001b[39m cpu_time)\n\u001b[1;32m    <a href='file:///usr/lib/python3/dist-packages/ffc/compiler.py?line=187'>188</a>\u001b[0m \u001b[39m# Stage 2: intermediate representation\u001b[39;00m\n",
      "File \u001b[0;32m/usr/lib/python3/dist-packages/ffc/analysis.py:89\u001b[0m, in \u001b[0;36manalyze_ufl_objects\u001b[0;34m(ufl_objects, kind, parameters)\u001b[0m\n\u001b[1;32m     <a href='file:///usr/lib/python3/dist-packages/ffc/analysis.py?line=85'>86</a>\u001b[0m forms \u001b[39m=\u001b[39m ufl_objects\n\u001b[1;32m     <a href='file:///usr/lib/python3/dist-packages/ffc/analysis.py?line=87'>88</a>\u001b[0m \u001b[39m# Analyze forms\u001b[39;00m\n\u001b[0;32m---> <a href='file:///usr/lib/python3/dist-packages/ffc/analysis.py?line=88'>89</a>\u001b[0m form_datas \u001b[39m=\u001b[39m \u001b[39mtuple\u001b[39;49m(_analyze_form(form, parameters)\n\u001b[1;32m     <a href='file:///usr/lib/python3/dist-packages/ffc/analysis.py?line=89'>90</a>\u001b[0m                    \u001b[39mfor\u001b[39;49;00m form \u001b[39min\u001b[39;49;00m forms)\n\u001b[1;32m     <a href='file:///usr/lib/python3/dist-packages/ffc/analysis.py?line=91'>92</a>\u001b[0m \u001b[39m# Extract unique elements accross all forms\u001b[39;00m\n\u001b[1;32m     <a href='file:///usr/lib/python3/dist-packages/ffc/analysis.py?line=92'>93</a>\u001b[0m \u001b[39mfor\u001b[39;00m form_data \u001b[39min\u001b[39;00m form_datas:\n",
      "File \u001b[0;32m/usr/lib/python3/dist-packages/ffc/analysis.py:89\u001b[0m, in \u001b[0;36m<genexpr>\u001b[0;34m(.0)\u001b[0m\n\u001b[1;32m     <a href='file:///usr/lib/python3/dist-packages/ffc/analysis.py?line=85'>86</a>\u001b[0m forms \u001b[39m=\u001b[39m ufl_objects\n\u001b[1;32m     <a href='file:///usr/lib/python3/dist-packages/ffc/analysis.py?line=87'>88</a>\u001b[0m \u001b[39m# Analyze forms\u001b[39;00m\n\u001b[0;32m---> <a href='file:///usr/lib/python3/dist-packages/ffc/analysis.py?line=88'>89</a>\u001b[0m form_datas \u001b[39m=\u001b[39m \u001b[39mtuple\u001b[39m(_analyze_form(form, parameters)\n\u001b[1;32m     <a href='file:///usr/lib/python3/dist-packages/ffc/analysis.py?line=89'>90</a>\u001b[0m                    \u001b[39mfor\u001b[39;00m form \u001b[39min\u001b[39;00m forms)\n\u001b[1;32m     <a href='file:///usr/lib/python3/dist-packages/ffc/analysis.py?line=91'>92</a>\u001b[0m \u001b[39m# Extract unique elements accross all forms\u001b[39;00m\n\u001b[1;32m     <a href='file:///usr/lib/python3/dist-packages/ffc/analysis.py?line=92'>93</a>\u001b[0m \u001b[39mfor\u001b[39;00m form_data \u001b[39min\u001b[39;00m form_datas:\n",
      "File \u001b[0;32m/usr/lib/python3/dist-packages/ffc/analysis.py:169\u001b[0m, in \u001b[0;36m_analyze_form\u001b[0;34m(form, parameters)\u001b[0m\n\u001b[1;32m    <a href='file:///usr/lib/python3/dist-packages/ffc/analysis.py?line=161'>162</a>\u001b[0m \u001b[39mif\u001b[39;00m r \u001b[39m==\u001b[39m \u001b[39m\"\u001b[39m\u001b[39muflacs\u001b[39m\u001b[39m\"\u001b[39m:\n\u001b[1;32m    <a href='file:///usr/lib/python3/dist-packages/ffc/analysis.py?line=162'>163</a>\u001b[0m     \u001b[39m# Temporary workaround to let uflacs have a different\u001b[39;00m\n\u001b[1;32m    <a href='file:///usr/lib/python3/dist-packages/ffc/analysis.py?line=163'>164</a>\u001b[0m     \u001b[39m# preprocessing pipeline than the legacy quadrature\u001b[39;00m\n\u001b[1;32m    <a href='file:///usr/lib/python3/dist-packages/ffc/analysis.py?line=164'>165</a>\u001b[0m     \u001b[39m# representation. This approach imposes a limitation that,\u001b[39;00m\n\u001b[1;32m    <a href='file:///usr/lib/python3/dist-packages/ffc/analysis.py?line=165'>166</a>\u001b[0m     \u001b[39m# e.g. uflacs and qudrature, representations cannot be mixed\u001b[39;00m\n\u001b[1;32m    <a href='file:///usr/lib/python3/dist-packages/ffc/analysis.py?line=166'>167</a>\u001b[0m     \u001b[39m# in the same form.\u001b[39;00m\n\u001b[1;32m    <a href='file:///usr/lib/python3/dist-packages/ffc/analysis.py?line=167'>168</a>\u001b[0m     \u001b[39mfrom\u001b[39;00m \u001b[39mufl\u001b[39;00m\u001b[39m.\u001b[39;00m\u001b[39mclasses\u001b[39;00m \u001b[39mimport\u001b[39;00m Jacobian\n\u001b[0;32m--> <a href='file:///usr/lib/python3/dist-packages/ffc/analysis.py?line=168'>169</a>\u001b[0m     form_data \u001b[39m=\u001b[39m compute_form_data(form,\n\u001b[1;32m    <a href='file:///usr/lib/python3/dist-packages/ffc/analysis.py?line=169'>170</a>\u001b[0m                                   do_apply_function_pullbacks\u001b[39m=\u001b[39;49m\u001b[39mTrue\u001b[39;49;00m,\n\u001b[1;32m    <a href='file:///usr/lib/python3/dist-packages/ffc/analysis.py?line=170'>171</a>\u001b[0m                                   do_apply_integral_scaling\u001b[39m=\u001b[39;49m\u001b[39mTrue\u001b[39;49;00m,\n\u001b[1;32m    <a href='file:///usr/lib/python3/dist-packages/ffc/analysis.py?line=171'>172</a>\u001b[0m                                   do_apply_geometry_lowering\u001b[39m=\u001b[39;49m\u001b[39mTrue\u001b[39;49;00m,\n\u001b[1;32m    <a href='file:///usr/lib/python3/dist-packages/ffc/analysis.py?line=172'>173</a>\u001b[0m                                   preserve_geometry_types\u001b[39m=\u001b[39;49m(Jacobian,),\n\u001b[1;32m    <a href='file:///usr/lib/python3/dist-packages/ffc/analysis.py?line=173'>174</a>\u001b[0m                                   do_apply_restrictions\u001b[39m=\u001b[39;49m\u001b[39mTrue\u001b[39;49;00m)\n\u001b[1;32m    <a href='file:///usr/lib/python3/dist-packages/ffc/analysis.py?line=174'>175</a>\u001b[0m \u001b[39melif\u001b[39;00m r \u001b[39m==\u001b[39m \u001b[39m\"\u001b[39m\u001b[39mtsfc\u001b[39m\u001b[39m\"\u001b[39m:\n\u001b[1;32m    <a href='file:///usr/lib/python3/dist-packages/ffc/analysis.py?line=175'>176</a>\u001b[0m     \u001b[39mtry\u001b[39;00m:\n\u001b[1;32m    <a href='file:///usr/lib/python3/dist-packages/ffc/analysis.py?line=176'>177</a>\u001b[0m         \u001b[39m# TSFC provides compute_form_data wrapper using correct\u001b[39;00m\n\u001b[1;32m    <a href='file:///usr/lib/python3/dist-packages/ffc/analysis.py?line=177'>178</a>\u001b[0m         \u001b[39m# kwargs\u001b[39;00m\n",
      "File \u001b[0;32m/usr/lib/python3/dist-packages/ufl/algorithms/compute_form_data.py:407\u001b[0m, in \u001b[0;36mcompute_form_data\u001b[0;34m(form, do_apply_function_pullbacks, do_apply_integral_scaling, do_apply_geometry_lowering, preserve_geometry_types, do_apply_default_restrictions, do_apply_restrictions, do_estimate_degrees, do_append_everywhere_integrals, complex_mode)\u001b[0m\n\u001b[1;32m    <a href='file:///usr/lib/python3/dist-packages/ufl/algorithms/compute_form_data.py?line=402'>403</a>\u001b[0m \u001b[39m# TODO: This is a very expensive check... Replace with something\u001b[39;00m\n\u001b[1;32m    <a href='file:///usr/lib/python3/dist-packages/ufl/algorithms/compute_form_data.py?line=403'>404</a>\u001b[0m \u001b[39m# faster!\u001b[39;00m\n\u001b[1;32m    <a href='file:///usr/lib/python3/dist-packages/ufl/algorithms/compute_form_data.py?line=404'>405</a>\u001b[0m preprocessed_form \u001b[39m=\u001b[39m reconstruct_form_from_integral_data(\u001b[39mself\u001b[39m\u001b[39m.\u001b[39mintegral_data)\n\u001b[0;32m--> <a href='file:///usr/lib/python3/dist-packages/ufl/algorithms/compute_form_data.py?line=406'>407</a>\u001b[0m check_form_arity(preprocessed_form, \u001b[39mself\u001b[39;49m\u001b[39m.\u001b[39;49moriginal_form\u001b[39m.\u001b[39;49marguments(), complex_mode)  \u001b[39m# Currently testing how fast this is\u001b[39;00m\n\u001b[1;32m    <a href='file:///usr/lib/python3/dist-packages/ufl/algorithms/compute_form_data.py?line=408'>409</a>\u001b[0m \u001b[39m# TODO: This member is used by unit tests, change the tests to\u001b[39;00m\n\u001b[1;32m    <a href='file:///usr/lib/python3/dist-packages/ufl/algorithms/compute_form_data.py?line=409'>410</a>\u001b[0m \u001b[39m# remove this!\u001b[39;00m\n\u001b[1;32m    <a href='file:///usr/lib/python3/dist-packages/ufl/algorithms/compute_form_data.py?line=410'>411</a>\u001b[0m \u001b[39mself\u001b[39m\u001b[39m.\u001b[39mpreprocessed_form \u001b[39m=\u001b[39m preprocessed_form\n",
      "File \u001b[0;32m/usr/lib/python3/dist-packages/ufl/algorithms/check_arities.py:177\u001b[0m, in \u001b[0;36mcheck_form_arity\u001b[0;34m(form, arguments, complex_mode)\u001b[0m\n\u001b[1;32m    <a href='file:///usr/lib/python3/dist-packages/ufl/algorithms/check_arities.py?line=174'>175</a>\u001b[0m \u001b[39mdef\u001b[39;00m \u001b[39mcheck_form_arity\u001b[39m(form, arguments, complex_mode\u001b[39m=\u001b[39m\u001b[39mFalse\u001b[39;00m):\n\u001b[1;32m    <a href='file:///usr/lib/python3/dist-packages/ufl/algorithms/check_arities.py?line=175'>176</a>\u001b[0m     \u001b[39mfor\u001b[39;00m itg \u001b[39min\u001b[39;00m form\u001b[39m.\u001b[39mintegrals():\n\u001b[0;32m--> <a href='file:///usr/lib/python3/dist-packages/ufl/algorithms/check_arities.py?line=176'>177</a>\u001b[0m         check_integrand_arity(itg\u001b[39m.\u001b[39;49mintegrand(), arguments, complex_mode)\n",
      "File \u001b[0;32m/usr/lib/python3/dist-packages/ufl/algorithms/check_arities.py:162\u001b[0m, in \u001b[0;36mcheck_integrand_arity\u001b[0;34m(expr, arguments, complex_mode)\u001b[0m\n\u001b[1;32m    <a href='file:///usr/lib/python3/dist-packages/ufl/algorithms/check_arities.py?line=159'>160</a>\u001b[0m args \u001b[39m=\u001b[39m \u001b[39mtuple\u001b[39m(a[\u001b[39m0\u001b[39m] \u001b[39mfor\u001b[39;00m a \u001b[39min\u001b[39;00m arg_tuples)\n\u001b[1;32m    <a href='file:///usr/lib/python3/dist-packages/ufl/algorithms/check_arities.py?line=160'>161</a>\u001b[0m \u001b[39mif\u001b[39;00m args \u001b[39m!=\u001b[39m arguments:\n\u001b[0;32m--> <a href='file:///usr/lib/python3/dist-packages/ufl/algorithms/check_arities.py?line=161'>162</a>\u001b[0m     \u001b[39mraise\u001b[39;00m ArityMismatch(\u001b[39m\"\u001b[39m\u001b[39mIntegrand arguments \u001b[39m\u001b[39m{0}\u001b[39;00m\u001b[39m differ from form arguments \u001b[39m\u001b[39m{1}\u001b[39;00m\u001b[39m.\u001b[39m\u001b[39m\"\u001b[39m\u001b[39m.\u001b[39mformat(args, arguments))\n\u001b[1;32m    <a href='file:///usr/lib/python3/dist-packages/ufl/algorithms/check_arities.py?line=162'>163</a>\u001b[0m \u001b[39mif\u001b[39;00m complex_mode:\n\u001b[1;32m    <a href='file:///usr/lib/python3/dist-packages/ufl/algorithms/check_arities.py?line=163'>164</a>\u001b[0m     \u001b[39m# Check that the test function is conjugated and that any\u001b[39;00m\n\u001b[1;32m    <a href='file:///usr/lib/python3/dist-packages/ufl/algorithms/check_arities.py?line=164'>165</a>\u001b[0m     \u001b[39m# trial function is not conjugated. Further arguments are\u001b[39;00m\n\u001b[1;32m    <a href='file:///usr/lib/python3/dist-packages/ufl/algorithms/check_arities.py?line=165'>166</a>\u001b[0m     \u001b[39m# treated as trial funtions (i.e. no conjugation) but this\u001b[39;00m\n\u001b[1;32m    <a href='file:///usr/lib/python3/dist-packages/ufl/algorithms/check_arities.py?line=166'>167</a>\u001b[0m     \u001b[39m# might not be correct.\u001b[39;00m\n\u001b[1;32m    <a href='file:///usr/lib/python3/dist-packages/ufl/algorithms/check_arities.py?line=167'>168</a>\u001b[0m     \u001b[39mfor\u001b[39;00m arg, conj \u001b[39min\u001b[39;00m arg_tuples:\n",
      "\u001b[0;31mArityMismatch\u001b[0m: Integrand arguments (Argument(FunctionSpace(Mesh(VectorElement(FiniteElement('Lagrange', tetrahedron, 1), dim=3), 29), VectorElement(FiniteElement('Lagrange', tetrahedron, 1), dim=3)), 0, None),) differ from form arguments (Argument(FunctionSpace(Mesh(VectorElement(FiniteElement('Lagrange', tetrahedron, 1), dim=3), 29), VectorElement(FiniteElement('Lagrange', tetrahedron, 1), dim=3)), 0, None), Argument(FunctionSpace(Mesh(VectorElement(FiniteElement('Lagrange', tetrahedron, 1), dim=3), 29), VectorElement(FiniteElement('Lagrange', tetrahedron, 1), dim=3)), 1, None))."
     ]
    }
   ],
   "source": [
    "sol_f=fe.Function(space)\n",
    "fe.solve(rhs==lhs,sol_f,bc)"
   ]
  },
  {
   "cell_type": "code",
   "execution_count": null,
   "metadata": {},
   "outputs": [],
   "source": []
  }
 ],
 "metadata": {
  "interpreter": {
   "hash": "31f2aee4e71d21fbe5cf8b01ff0e069b9275f58929596ceb00d14d90e3e16cd6"
  },
  "kernelspec": {
   "display_name": "Python 3.8.10 64-bit",
   "language": "python",
   "name": "python3"
  },
  "language_info": {
   "codemirror_mode": {
    "name": "ipython",
    "version": 3
   },
   "file_extension": ".py",
   "mimetype": "text/x-python",
   "name": "python",
   "nbconvert_exporter": "python",
   "pygments_lexer": "ipython3",
   "version": "3.8.10"
  },
  "orig_nbformat": 4
 },
 "nbformat": 4,
 "nbformat_minor": 2
}
