{
 "cells": [
  {
   "cell_type": "code",
   "execution_count": 1,
   "metadata": {},
   "outputs": [],
   "source": [
    "from FEnicS_base import *\n",
    "import dolfinx\n",
    "from dolfinx import mesh, fem, io, nls\n",
    "from dolfinx.fem import VectorFunctionSpace\n",
    "from mpi4py import MPI\n",
    "import numpy as np\n",
    "import ufl\n",
    "import matplotlib.pyplot as plt\n",
    "\n",
    "import jsonpickle as jp\n",
    "import shutil\n",
    "import re\n",
    "import inspect\n",
    "from tqdm import tqdm"
   ]
  },
  {
   "cell_type": "code",
   "execution_count": 3,
   "metadata": {},
   "outputs": [],
   "source": [
    "# domain = mesh.create_interval(nx=100, comm=MPI.COMM_WORLD, points=[0, 1])\n",
    "domain = mesh.create_unit_square(\n",
    "    MPI.COMM_WORLD,\n",
    "    10,\n",
    "    10,\n",
    "    cell_type=mesh.CellType.quadrilateral,\n",
    ")\n",
    "element = ufl.FiniteElement(family='CG', cell=domain.ufl_cell(), degree=1)\n",
    "element2 = ufl.VectorElement(family='CG', cell=domain.ufl_cell(), degree=1)\n",
    "space = FunctionSpace(domain, element=ufl.MixedElement(element, element2))\n",
    "U = space.sub(0).collapse()[0]\n",
    "V = space.sub(1).collapse()[0]\n",
    "\n",
    "x = SpatialCoordinate(space)[0]\n",
    "y = SpatialCoordinate(space)[1]\n",
    "set_connectivity(domain)\n",
    "\n",
    "ds = Measure(\"ds\", domain=domain)\n",
    "norm = FacetNormal(domain)\n",
    "\n",
    "func = Function(space)\n",
    "sub_u, sub_g = func.sub(0), func.sub(1)\n",
    "\n",
    "u, v = TrialFunctions(space)\n",
    "fi, psi = TestFunctions(space)\n",
    "\n",
    "f = Constant(space, 2)\n",
    "\n",
    "F = (v|inner|grad(fi)) * dx - (f|dot|fi)*dx\n",
    "F += (v|inner|psi) * dx - (grad(u)|inner|psi) * dx\n",
    "\n",
    "bcs = [\n",
    "    #  DirichletBC(\n",
    "    #      space=(space.sub(1), V),\n",
    "    #      form=Function(V, vector(1, 1)),\n",
    "    #      combined_marker=lambda x: np.isclose(x[0], 0)\n",
    "    #  ),\n",
    "    #  DirichletBC(\n",
    "    #      space=(space.sub(1), V),\n",
    "    #      form=Function(V, vector(1, 1)),\n",
    "    #      combined_marker=lambda x: np.isclose(x[0], 1)\n",
    "    #  ),\n",
    "    DirichletBC(\n",
    "        space=(space.sub(0), U),\n",
    "        form=Function(U, 2),\n",
    "        combined_marker=lambda x: np.isclose(x[0], 0)\n",
    "    ),\n",
    "    # DirichletBC(\n",
    "    #     space=(space.sub(0), U),\n",
    "    #     form=Function(U, 1),\n",
    "    #     combined_marker=lambda x: np.isclose(x[0], 1)\n",
    "    # ),\n",
    "]\n",
    "problem = LinearProblem(\n",
    "    L=rhs(F),\n",
    "    a=lhs(F),\n",
    "    bcs=bcs,\n",
    ")"
   ]
  },
  {
   "cell_type": "code",
   "execution_count": 4,
   "metadata": {},
   "outputs": [
    {
     "data": {
      "text/plain": [
       "array([inf, inf, inf, ..., inf, inf, inf])"
      ]
     },
     "execution_count": 4,
     "metadata": {},
     "output_type": "execute_result"
    }
   ],
   "source": [
    "us = problem.solve()\n",
    "us.x.array"
   ]
  },
  {
   "cell_type": "code",
   "execution_count": 5,
   "metadata": {},
   "outputs": [
    {
     "ename": "RuntimeError",
     "evalue": "Interpolation: elements have different value dimensions",
     "output_type": "error",
     "traceback": [
      "\u001b[0;31m---------------------------------------------------------------------------\u001b[0m",
      "\u001b[0;31mRuntimeError\u001b[0m                              Traceback (most recent call last)",
      "\u001b[1;32m/home/Test/test1.ipynb Cell 4\u001b[0m in \u001b[0;36m<cell line: 1>\u001b[0;34m()\u001b[0m\n\u001b[0;32m----> <a href='vscode-notebook-cell://attached-container%2B7b22636f6e7461696e65724e616d65223a222f46456e69435378227d/home/Test/test1.ipynb#W3sdnNjb2RlLXJlbW90ZQ%3D%3D?line=0'>1</a>\u001b[0m func_plot2D(\u001b[39m*\u001b[39m[Function(U, us,\u001b[39m'\u001b[39;49m\u001b[39mbase\u001b[39;49m\u001b[39m'\u001b[39;49m)])\n",
      "File \u001b[0;32m/home/Test/FEnicS_base.py:253\u001b[0m, in \u001b[0;36mFunction.__new__\u001b[0;34m(cls, space, form, name)\u001b[0m\n\u001b[1;32m    250\u001b[0m \u001b[39melse\u001b[39;00m:\n\u001b[1;32m    251\u001b[0m     \u001b[39mraise\u001b[39;00m \u001b[39mValueError\u001b[39;00m(\u001b[39mf\u001b[39m\u001b[39m'\u001b[39m\u001b[39mUncorrect form:\u001b[39m\u001b[39m{\u001b[39;00mform_type\u001b[39m}\u001b[39;00m\u001b[39m'\u001b[39m)\n\u001b[0;32m--> 253\u001b[0m func\u001b[39m.\u001b[39;49minterpolate(expression)\n\u001b[1;32m    254\u001b[0m \u001b[39mreturn\u001b[39;00m func\n",
      "File \u001b[0;32m/usr/local/dolfinx-real/lib/python3.10/dist-packages/dolfinx/fem/function.py:343\u001b[0m, in \u001b[0;36mFunction.interpolate\u001b[0;34m(self, u, cells)\u001b[0m\n\u001b[1;32m    339\u001b[0m     cells \u001b[39m=\u001b[39m np\u001b[39m.\u001b[39marange(\u001b[39mmap\u001b[39m\u001b[39m.\u001b[39msize_local \u001b[39m+\u001b[39m \u001b[39mmap\u001b[39m\u001b[39m.\u001b[39mnum_ghosts, dtype\u001b[39m=\u001b[39mnp\u001b[39m.\u001b[39mint32)\n\u001b[1;32m    341\u001b[0m \u001b[39mtry\u001b[39;00m:\n\u001b[1;32m    342\u001b[0m     \u001b[39m# u is a Function or Expression (or pointer to one)\u001b[39;00m\n\u001b[0;32m--> 343\u001b[0m     _interpolate(u, cells)\n\u001b[1;32m    344\u001b[0m \u001b[39mexcept\u001b[39;00m \u001b[39mTypeError\u001b[39;00m:\n\u001b[1;32m    345\u001b[0m     \u001b[39m# u is callable\u001b[39;00m\n\u001b[1;32m    346\u001b[0m     \u001b[39massert\u001b[39;00m callable(u)\n",
      "File \u001b[0;32m/usr/lib/python3.10/functools.py:889\u001b[0m, in \u001b[0;36msingledispatch.<locals>.wrapper\u001b[0;34m(*args, **kw)\u001b[0m\n\u001b[1;32m    885\u001b[0m \u001b[39mif\u001b[39;00m \u001b[39mnot\u001b[39;00m args:\n\u001b[1;32m    886\u001b[0m     \u001b[39mraise\u001b[39;00m \u001b[39mTypeError\u001b[39;00m(\u001b[39mf\u001b[39m\u001b[39m'\u001b[39m\u001b[39m{\u001b[39;00mfuncname\u001b[39m}\u001b[39;00m\u001b[39m requires at least \u001b[39m\u001b[39m'\u001b[39m\n\u001b[1;32m    887\u001b[0m                     \u001b[39m'\u001b[39m\u001b[39m1 positional argument\u001b[39m\u001b[39m'\u001b[39m)\n\u001b[0;32m--> 889\u001b[0m \u001b[39mreturn\u001b[39;00m dispatch(args[\u001b[39m0\u001b[39;49m]\u001b[39m.\u001b[39;49m\u001b[39m__class__\u001b[39;49m)(\u001b[39m*\u001b[39;49margs, \u001b[39m*\u001b[39;49m\u001b[39m*\u001b[39;49mkw)\n",
      "File \u001b[0;32m/usr/local/dolfinx-real/lib/python3.10/dist-packages/dolfinx/fem/function.py:324\u001b[0m, in \u001b[0;36mFunction.interpolate.<locals>._\u001b[0;34m(u, cells)\u001b[0m\n\u001b[1;32m    321\u001b[0m \u001b[39m@_interpolate\u001b[39m\u001b[39m.\u001b[39mregister(Function)\n\u001b[1;32m    322\u001b[0m \u001b[39mdef\u001b[39;00m \u001b[39m_\u001b[39m(u: Function, cells: typing\u001b[39m.\u001b[39mOptional[np\u001b[39m.\u001b[39mndarray] \u001b[39m=\u001b[39m \u001b[39mNone\u001b[39;00m):\n\u001b[1;32m    323\u001b[0m     \u001b[39m\"\"\"Interpolate a fem.Function\"\"\"\u001b[39;00m\n\u001b[0;32m--> 324\u001b[0m     \u001b[39mself\u001b[39;49m\u001b[39m.\u001b[39;49m_cpp_object\u001b[39m.\u001b[39;49minterpolate(u\u001b[39m.\u001b[39;49m_cpp_object, cells)\n",
      "\u001b[0;31mRuntimeError\u001b[0m: Interpolation: elements have different value dimensions"
     ]
    }
   ],
   "source": [
    "func_plot2D(*[Function(U, us,'base')])"
   ]
  }
 ],
 "metadata": {
  "kernelspec": {
   "display_name": "Python 3.10.4 64-bit",
   "language": "python",
   "name": "python3"
  },
  "language_info": {
   "codemirror_mode": {
    "name": "ipython",
    "version": 3
   },
   "file_extension": ".py",
   "mimetype": "text/x-python",
   "name": "python",
   "nbconvert_exporter": "python",
   "pygments_lexer": "ipython3",
   "version": "3.10.4"
  },
  "orig_nbformat": 4,
  "vscode": {
   "interpreter": {
    "hash": "916dbcbb3f70747c44a77c7bcd40155683ae19c65e1c03b4aa3499c5328201f1"
   }
  }
 },
 "nbformat": 4,
 "nbformat_minor": 2
}
