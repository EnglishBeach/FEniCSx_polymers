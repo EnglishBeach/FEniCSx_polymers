{
 "cells": [
  {
   "cell_type": "code",
   "execution_count": 1,
   "metadata": {},
   "outputs": [],
   "source": [
    "import pandas as pd\n",
    "import numpy as np\n",
    "from datetime import date, time, datetime, timedelta\n",
    "\n",
    "import plotly.graph_objects as go\n",
    "\n",
    "import matplotlib.pyplot as plt\n",
    "from matplotlib.ticker import FormatStrFormatter,ScalarFormatter"
   ]
  },
  {
   "cell_type": "code",
   "execution_count": 2,
   "metadata": {},
   "outputs": [],
   "source": [
    "PATH = r'D:\\WORKS\\PolimerSolve\\Comsol\\tables'\n",
    "STD_VALUES = {\n",
    "        'k1': 1E+9,\n",
    "        'k2': 1.00E+09,\n",
    "        'k3': 1.00E+09,\n",
    "        'k4': 1.00E+09,\n",
    "        'k5': 2000,\n",
    "        'k6': 2.00E+00,\n",
    "        'k7': 0.05,\n",
    "        'k8': 1.00E+00,\n",
    "        'k9': 0.001,\n",
    "        'k10': 1.00E+09,\n",
    "        'k11': 1.00E-05,\n",
    "    }"
   ]
  },
  {
   "cell_type": "code",
   "execution_count": 3,
   "metadata": {},
   "outputs": [],
   "source": [
    "def df_from_comsol(\n",
    "    name,\n",
    "    from_name=r'\\out.csv',\n",
    "    temp_name=r'\\temp.csv',\n",
    "):\n",
    "    with open(PATH + from_name, 'r') as file:\n",
    "        lines = file.readlines()\n",
    "\n",
    "    with open(PATH + temp_name, 'w') as file:\n",
    "        for line in lines[4:]:\n",
    "            file.write(line)\n",
    "    df = pd.read_csv(PATH + r'\\temp.csv')\n",
    "    df = df.rename(\n",
    "        columns={\n",
    "            df.columns[0]: df.columns[0].replace('% ', ''),\n",
    "            'Time=1E-4, timeint(0, 1E-4, D)': 'target',\n",
    "        })\n",
    "    df['name'] = name\n",
    "    df['date'] = datetime.now().replace(second=0, microsecond=0)\n",
    "    return df\n",
    "\n",
    "\n",
    "def add_notes(from_name=r'\\out.csv'):\n",
    "    name = ''\n",
    "    while True:\n",
    "        name = input('Name (q for quit): ')\n",
    "        if (name != '') and (name != 'q'):\n",
    "            try:\n",
    "                old_df = pd.read_excel(PATH + r'\\base.xlsx', index_col=0)\n",
    "            except FileNotFoundError:\n",
    "                old_df = pd.DataFrame(\n",
    "                    {key: [None]\n",
    "                     for key in STD_VALUES.keys()})\n",
    "                old_df = old_df.drop(index=0)\n",
    "\n",
    "            new_df = pd.concat(\n",
    "                [old_df, df_from_comsol(name, from_name=from_name)],\n",
    "                ignore_index=True,\n",
    "            )\n",
    "            new_df = new_df.fillna(STD_VALUES)\n",
    "            new_df.to_excel(PATH + r'\\base.xlsx')\n",
    "\n",
    "            return new_df, old_df\n",
    "        elif name == 'q':\n",
    "            break\n",
    "\n",
    "\n",
    "def get_const_diap(df, print_only=False):\n",
    "    useless = [\n",
    "        'light',\n",
    "        'target',\n",
    "        'name',\n",
    "        'date',\n",
    "    ]\n",
    "    values = {}\n",
    "    for i in df:\n",
    "        if i in useless: continue\n",
    "        values.update({i: df[i].unique()})\n",
    "        if print_only: print(f'{i:<5}:{values[i]}')\n",
    "\n",
    "    if not print_only: return values\n"
   ]
  },
  {
   "cell_type": "markdown",
   "metadata": {},
   "source": [
    "# Check all notes"
   ]
  },
  {
   "cell_type": "code",
   "execution_count": 4,
   "metadata": {},
   "outputs": [],
   "source": [
    "df = pd.read_excel(PATH + r'\\base.xlsx', index_col=0)\n",
    "# df = df[(df['name']=='test2')|(df['name']=='new')]"
   ]
  },
  {
   "cell_type": "code",
   "execution_count": 5,
   "metadata": {},
   "outputs": [
    {
     "data": {
      "text/plain": [
       "array(['start', 'continue', 'test', 'new', 'new2', 'big', 'test2'],\n",
       "      dtype=object)"
      ]
     },
     "execution_count": 5,
     "metadata": {},
     "output_type": "execute_result"
    }
   ],
   "source": [
    "df['flag'] = df.groupby(list(STD_VALUES.keys())).ngroup()\n",
    "df['name'].unique()"
   ]
  },
  {
   "cell_type": "code",
   "execution_count": 6,
   "metadata": {},
   "outputs": [
    {
     "data": {
      "application/vnd.jupyter.widget-view+json": {
       "model_id": "0928c772aa7b411581c740ff427f2f08",
       "version_major": 2,
       "version_minor": 0
      },
      "text/plain": [
       "FigureWidget({\n",
       "    'data': [{'hovertemplate': ('light: %{x:.1e}\\n        <br>in' ... ' <br>Name: %{text[1]}\\n        '),\n",
       "              'marker': {'color': array([12, 12, 12, ..., 12, 12, 12], dtype=int64)},\n",
       "              'mode': 'markers',\n",
       "              'name': '',\n",
       "              'text': array([[12, 'start'],\n",
       "                             [12, 'start'],\n",
       "                             [12, 'start'],\n",
       "                             ...,\n",
       "                             [12, 'test2'],\n",
       "                             [12, 'test2'],\n",
       "                             [12, 'test2']], dtype=object),\n",
       "              'type': 'scatter',\n",
       "              'uid': '9518fbd9-cfa2-42e8-ad2c-264ebca10d81',\n",
       "              'x': array([0.0e+00, 1.0e-06, 2.0e-06, ..., 5.8e-04, 5.9e-04, 6.0e-04]),\n",
       "              'y': array([0.00000000e+00, 5.43242476e-08, 7.42346599e-08, ..., 8.46475694e-15,\n",
       "                          8.53444328e-15, 8.60701921e-15])}],\n",
       "    'layout': {'height': 500,\n",
       "               'legend': {'x': -0.1, 'xanchor': 'center', 'y': 1},\n",
       "               'margin': {'b': 0, 'l': 0, 'r': 0, 't': 0},\n",
       "               'template': '...'}\n",
       "})"
      ]
     },
     "execution_count": 6,
     "metadata": {},
     "output_type": "execute_result"
    },
    {
     "name": "stdout",
     "output_type": "stream",
     "text": [
      "Flag:12\n",
      "k3: 1e+09 k4: 1e+09 k5: 2000 k6: 2 k7: 0.05 k8: 1 k9: 0.001 k10: 1e+09\n"
     ]
    }
   ],
   "source": [
    "fig = go.FigureWidget()\n",
    "fig.add_trace(\n",
    "    go.Scatter(\n",
    "        name='',\n",
    "        x=df['light'],\n",
    "        y=df['target'],\n",
    "        mode='markers',\n",
    "        marker={'color': df['flag']},\n",
    "        text=df[['flag','name']],\n",
    "        hovertemplate=\"\"\"light: %{x:.1e}\n",
    "        <br>integral: %{y:.2s}\n",
    "        <br>Flag: %{text[0]}\n",
    "        <br>Name: %{text[1]}\n",
    "        \"\"\"\n",
    "        ,\n",
    "    ))\n",
    "fig.update_layout(\n",
    "    height=500,\n",
    "    margin={'r': 0, 'l': 0, 't': 0, 'b': 0},\n",
    "    legend=dict(x=-0.1, y=1, xanchor=\"center\"),    \n",
    ")\n",
    "\n",
    "\n",
    "def update_point(trace, points, selector):\n",
    "    for i in points.point_inds:\n",
    "        cur_flag = int(trace.text[i][0])\n",
    "        mask = df['flag'] == cur_flag\n",
    "        show_consts = [\n",
    "            i for i in STD_VALUES.keys() \n",
    "            if i not in ['k1', 'k2', 'k11']\n",
    "        ]\n",
    "        consts = df[mask][show_consts].drop_duplicates().head(1).squeeze()\n",
    "        consts_dict = dict(consts)\n",
    "        consts_list = [\n",
    "            f'{key:>}: {consts_dict[key]:<.5g}' for key in consts_dict\n",
    "        ]\n",
    "        print(f'Flag:{cur_flag}')\n",
    "        print(' '.join(consts_list))\n",
    "\n",
    "\n",
    "scatter = fig.data[0]\n",
    "scatter.on_click(update_point)\n",
    "fig"
   ]
  },
  {
   "cell_type": "code",
   "execution_count": 16,
   "metadata": {},
   "outputs": [
    {
     "name": "stdout",
     "output_type": "stream",
     "text": [
      "Max value = 1.55E-07\n",
      "Light     = 3.70E-05\n",
      "Max value = 7.46E-08\n",
      "Light     = 3.78E-05\n"
     ]
    },
    {
     "data": {
      "image/png": "[encoded data removed]",
      "text/plain": [
       "<Figure size 1500x900 with 1 Axes>"
      ]
     },
     "metadata": {},
     "output_type": "display_data"
    }
   ],
   "source": [
    "fig, ax = plt.subplots(figsize=(15, 9))\n",
    "df1 = df[df['flag']==12]\n",
    "df_max = df1[df1['target'] == df1['target'].max()]\n",
    "ax.plot(\n",
    "    df1['light'],\n",
    "    df1['target'],\n",
    ")\n",
    "ax.scatter(\n",
    "    df_max['light'],\n",
    "    df_max['target'],\n",
    "    c='r',\n",
    ")\n",
    "max_value = df_max['target'].iloc[0]\n",
    "max_light = df_max['light'].iloc[0]\n",
    "print(f'Max value = {max_value:.2E}\\nLight     = {max_light:.2E}')\n",
    "\n",
    "\n",
    "df1 = df[df['flag']==1]\n",
    "df1 = df1.sort_values(by='light')\n",
    "df_max = df1[df1['target'] == df1['target'].max()]\n",
    "ax.plot(\n",
    "    df1['light'],\n",
    "    df1['target'],\n",
    ")\n",
    "ax.scatter(\n",
    "    df_max['light'],\n",
    "    df_max['target'],\n",
    "    c='r',\n",
    ")\n",
    "max_value = df_max['target'].iloc[0]\n",
    "max_light = df_max['light'].iloc[0]\n",
    "print(f'Max value = {max_value:.2E}\\nLight     = {max_light:.2E}')\n",
    "\n",
    "ax.set_xlabel('light')\n",
    "ax.set_ylabel('integral: $0 - 10^{-4}$')\n",
    "scal_form = ScalarFormatter(1)\n",
    "scal_form.set_powerlimits((0, 0.1))\n",
    "ax.xaxis.set_major_formatter(scal_form)"
   ]
  },
  {
   "cell_type": "markdown",
   "metadata": {},
   "source": [
    "# Add notes"
   ]
  },
  {
   "cell_type": "code",
   "execution_count": 17,
   "metadata": {},
   "outputs": [],
   "source": [
    "base, old_df = add_notes()"
   ]
  }
 ],
 "metadata": {
  "kernelspec": {
   "display_name": "Python 3.11.1 ('polymer_env': venv)",
   "language": "python",
   "name": "python3"
  },
  "language_info": {
   "codemirror_mode": {
    "name": "ipython",
    "version": 3
   },
   "file_extension": ".py",
   "mimetype": "text/x-python",
   "name": "python",
   "nbconvert_exporter": "python",
   "pygments_lexer": "ipython3",
   "version": "3.11.1"
  },
  "orig_nbformat": 4,
  "vscode": {
   "interpreter": {
    "hash": "869083f89cd2653c07b4c7c7228bb19b4bda268d35c0d209ba3d86d7e51ecb06"
   }
  }
 },
 "nbformat": 4,
 "nbformat_minor": 2
}
