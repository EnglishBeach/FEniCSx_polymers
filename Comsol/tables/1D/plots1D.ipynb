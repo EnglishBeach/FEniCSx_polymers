{
 "cells": [
  {
   "cell_type": "code",
   "execution_count": 1,
   "metadata": {},
   "outputs": [],
   "source": [
    "import pandas as pd\n",
    "import numpy as np\n",
    "from datetime import date, time, datetime, timedelta\n",
    "\n",
    "import plotly.graph_objects as go\n",
    "\n",
    "import matplotlib.pyplot as plt\n",
    "from matplotlib.ticker import FormatStrFormatter,ScalarFormatter"
   ]
  },
  {
   "cell_type": "code",
   "execution_count": 2,
   "metadata": {},
   "outputs": [],
   "source": [
    "PATH = r'D:\\WORKS\\PolimerSolve\\Comsol\\tables\\1D'"
   ]
  },
  {
   "cell_type": "code",
   "execution_count": 8,
   "metadata": {},
   "outputs": [],
   "source": [
    "def df_from_comsol(\n",
    "    name,\n",
    "    from_name=r'\\out.csv',\n",
    "    temp_name=r'\\temp.csv',\n",
    "):\n",
    "    with open(PATH + from_name, 'r') as file:\n",
    "        lines = file.readlines()\n",
    "\n",
    "    with open(PATH + temp_name, 'w') as file:\n",
    "        for line in lines[4:]:\n",
    "            file.write(line)\n",
    "    df = pd.read_csv(PATH + r'\\temp.csv')\n",
    "    df = df.rename(\n",
    "        columns={\n",
    "            df.columns[0]: df.columns[0].replace('% ', ''),\n",
    "            'Time=0.001, timeint(0, 1E-4, D)': 'target',\n",
    "        })\n",
    "    df['name'] = name\n",
    "    df['date'] = datetime.now().replace(second=0, microsecond=0)\n",
    "    return df\n",
    "\n",
    "\n",
    "def add_notes(from_name=r'\\out.csv'):\n",
    "    standart_values = {\n",
    "        'k1': 1E+9,\n",
    "        'k2': 1.00E+09,\n",
    "        'k3': 1.00E+09,\n",
    "        'k4': 1.00E+09,\n",
    "        'k5': 2000,\n",
    "        'k6': 2.00E+00,\n",
    "        'k7': 0.05,\n",
    "        'k8': 1.00E+00,\n",
    "        'k9': 0.001,\n",
    "        'k10': 1.00E+09,\n",
    "        'k11': 1.00E-05,\n",
    "        'K2': 2.00E-06,\n",
    "        'K4': 0.05,\n",
    "        'light': 1.00E-04,\n",
    "    }\n",
    "\n",
    "    name = ''\n",
    "    while True:\n",
    "        name = input('Name (q for quit): ')\n",
    "        if (name != '') and (name != 'q'):\n",
    "            try:\n",
    "                old_df = pd.read_excel(PATH + r'\\base.xlsx', index_col=0)\n",
    "            except FileNotFoundError:\n",
    "                old_df = pd.DataFrame(\n",
    "                    {key: [None]\n",
    "                     for key in standart_values.keys()})\n",
    "                old_df = old_df.drop(index=0)\n",
    "\n",
    "            new_df = pd.concat(\n",
    "                [old_df, df_from_comsol(name, from_name=from_name)],\n",
    "                ignore_index=True,\n",
    "            )\n",
    "            new_df = new_df.fillna(standart_values)\n",
    "            new_df.to_excel(PATH + r'\\base.xlsx')\n",
    "\n",
    "            return new_df, old_df\n",
    "        elif name == 'q':\n",
    "            break"
   ]
  },
  {
   "cell_type": "markdown",
   "metadata": {},
   "source": [
    "# Add notes"
   ]
  },
  {
   "cell_type": "code",
   "execution_count": 15,
   "metadata": {},
   "outputs": [],
   "source": [
    "base, old_df = add_notes()"
   ]
  },
  {
   "cell_type": "markdown",
   "metadata": {},
   "source": [
    "# Check all notes"
   ]
  },
  {
   "cell_type": "code",
   "execution_count": 16,
   "metadata": {},
   "outputs": [
    {
     "data": {
      "text/plain": [
       "array(['start', 'continue', 'test'], dtype=object)"
      ]
     },
     "execution_count": 16,
     "metadata": {},
     "output_type": "execute_result"
    }
   ],
   "source": [
    "df = pd.read_excel(PATH + r'\\base.xlsx', index_col=0)\n",
    "df['name'].unique()"
   ]
  },
  {
   "cell_type": "code",
   "execution_count": 17,
   "metadata": {},
   "outputs": [
    {
     "data": {
      "application/vnd.plotly.v1+json": {
       "config": {
        "plotlyServerURL": "https://plot.ly"
       },
       "data": [
        {
         "hovertemplate": "light: %{x:.1e}<br>integral: %{y:.2s} <br>%{text}",
         "mode": "markers",
         "name": "",
         "text": [
          "test",
          "test",
          "test",
          "test",
          "test",
          "test",
          "test",
          "test",
          "test",
          "test",
          "test",
          "test",
          "test",
          "test",
          "test",
          "test",
          "test",
          "test",
          "test",
          "test",
          "test",
          "test",
          "test",
          "test",
          "test",
          "test",
          "test",
          "test",
          "test",
          "test",
          "test",
          "test",
          "test",
          "test",
          "test",
          "test",
          "test",
          "test",
          "test",
          "test",
          "test",
          "test",
          "test",
          "test",
          "test",
          "test",
          "test",
          "test",
          "test",
          "test",
          "test",
          "test",
          "test",
          "test",
          "test",
          "test",
          "test",
          "test",
          "test",
          "test"
         ],
         "type": "scatter",
         "x": [
          0.00002,
          0.00002,
          0.00002,
          0.00002,
          0.00002,
          0.00002,
          0.00002888888888888889,
          0.00002888888888888889,
          0.00002888888888888889,
          0.00002888888888888889,
          0.00002888888888888889,
          0.00002888888888888889,
          0.00003777777777777779,
          0.00003777777777777779,
          0.00003777777777777779,
          0.00003777777777777779,
          0.00003777777777777779,
          0.00003777777777777779,
          0.00004666666666666667,
          0.00004666666666666667,
          0.00004666666666666667,
          0.00004666666666666667,
          0.00004666666666666667,
          0.00004666666666666667,
          0.00005555555555555556,
          0.00005555555555555556,
          0.00005555555555555556,
          0.00005555555555555556,
          0.00005555555555555556,
          0.00005555555555555556,
          0.00006444444444444444,
          0.00006444444444444444,
          0.00006444444444444444,
          0.00006444444444444444,
          0.00006444444444444444,
          0.00006444444444444444,
          0.00007333333333333334,
          0.00007333333333333334,
          0.00007333333333333334,
          0.00007333333333333334,
          0.00007333333333333334,
          0.00007333333333333334,
          0.00008222222222222223,
          0.00008222222222222223,
          0.00008222222222222223,
          0.00008222222222222223,
          0.00008222222222222223,
          0.00008222222222222223,
          0.00009111111111111112,
          0.00009111111111111112,
          0.00009111111111111112,
          0.00009111111111111112,
          0.00009111111111111112,
          0.00009111111111111112,
          0.0001,
          0.0001,
          0.0001,
          0.0001,
          0.0001,
          0.0001
         ],
         "y": [
          7.208666512423437e-8,
          1.645886432950764e-7,
          1.683908509711593e-7,
          7.208666508065488e-8,
          1.645886427050892e-7,
          1.683908504058924e-7,
          7.412874116686099e-8,
          1.698436102672103e-7,
          1.736685791178522e-7,
          7.412874112165621e-8,
          1.698436096134846e-7,
          1.736685784997113e-7,
          7.46066956093736e-8,
          1.705740059908063e-7,
          1.742535359004694e-7,
          7.460669556356695e-8,
          1.705740052904519e-7,
          1.742535352473335e-7,
          7.439058708222001e-8,
          1.691150972962644e-7,
          1.725659028192962e-7,
          7.439058703623781e-8,
          1.691150965588914e-7,
          1.72565902141312e-7,
          7.383649197769975e-8,
          1.664970506997815e-7,
          1.696798128750112e-7,
          7.383649193172742e-8,
          1.664970499319084e-7,
          1.696798121789769e-7,
          7.311159165523798e-8,
          1.632445855728187e-7,
          1.661455670655322e-7,
          7.311159160935264e-8,
          1.632445847796624e-7,
          1.661455663566739e-7,
          7.230159111847633e-8,
          1.596524680920991e-7,
          1.622737518592993e-7,
          7.230159107270308e-8,
          1.596524672783865e-7,
          1.622737511420853e-7,
          7.145306881220779e-8,
          1.558982387620668e-7,
          1.582518785208852e-7,
          7.145306876654397e-8,
          1.558982379324094e-7,
          1.582518777994253e-7,
          7.059231365649004e-8,
          1.520942157940983e-7,
          1.541984261440495e-7,
          7.059231361092002e-8,
          1.520942149531589e-7,
          1.541984254222862e-7,
          6.97344766026148e-8,
          1.483137784500968e-7,
          1.501903227598059e-7,
          6.973447655711621e-8,
          1.483137776026227e-7,
          1.50190322041594e-7
         ]
        }
       ],
       "layout": {
        "margin": {
         "b": 0,
         "l": 0,
         "r": 0,
         "t": 0
        },
        "template": {
         "data": {
          "bar": [
           {
            "error_x": {
             "color": "#2a3f5f"
            },
            "error_y": {
             "color": "#2a3f5f"
            },
            "marker": {
             "line": {
              "color": "#E5ECF6",
              "width": 0.5
             },
             "pattern": {
              "fillmode": "overlay",
              "size": 10,
              "solidity": 0.2
             }
            },
            "type": "bar"
           }
          ],
          "barpolar": [
           {
            "marker": {
             "line": {
              "color": "#E5ECF6",
              "width": 0.5
             },
             "pattern": {
              "fillmode": "overlay",
              "size": 10,
              "solidity": 0.2
             }
            },
            "type": "barpolar"
           }
          ],
          "carpet": [
           {
            "aaxis": {
             "endlinecolor": "#2a3f5f",
             "gridcolor": "white",
             "linecolor": "white",
             "minorgridcolor": "white",
             "startlinecolor": "#2a3f5f"
            },
            "baxis": {
             "endlinecolor": "#2a3f5f",
             "gridcolor": "white",
             "linecolor": "white",
             "minorgridcolor": "white",
             "startlinecolor": "#2a3f5f"
            },
            "type": "carpet"
           }
          ],
          "choropleth": [
           {
            "colorbar": {
             "outlinewidth": 0,
             "ticks": ""
            },
            "type": "choropleth"
           }
          ],
          "contour": [
           {
            "colorbar": {
             "outlinewidth": 0,
             "ticks": ""
            },
            "colorscale": [
             [
              0,
              "#0d0887"
             ],
             [
              0.1111111111111111,
              "#46039f"
             ],
             [
              0.2222222222222222,
              "#7201a8"
             ],
             [
              0.3333333333333333,
              "#9c179e"
             ],
             [
              0.4444444444444444,
              "#bd3786"
             ],
             [
              0.5555555555555556,
              "#d8576b"
             ],
             [
              0.6666666666666666,
              "#ed7953"
             ],
             [
              0.7777777777777778,
              "#fb9f3a"
             ],
             [
              0.8888888888888888,
              "#fdca26"
             ],
             [
              1,
              "#f0f921"
             ]
            ],
            "type": "contour"
           }
          ],
          "contourcarpet": [
           {
            "colorbar": {
             "outlinewidth": 0,
             "ticks": ""
            },
            "type": "contourcarpet"
           }
          ],
          "heatmap": [
           {
            "colorbar": {
             "outlinewidth": 0,
             "ticks": ""
            },
            "colorscale": [
             [
              0,
              "#0d0887"
             ],
             [
              0.1111111111111111,
              "#46039f"
             ],
             [
              0.2222222222222222,
              "#7201a8"
             ],
             [
              0.3333333333333333,
              "#9c179e"
             ],
             [
              0.4444444444444444,
              "#bd3786"
             ],
             [
              0.5555555555555556,
              "#d8576b"
             ],
             [
              0.6666666666666666,
              "#ed7953"
             ],
             [
              0.7777777777777778,
              "#fb9f3a"
             ],
             [
              0.8888888888888888,
              "#fdca26"
             ],
             [
              1,
              "#f0f921"
             ]
            ],
            "type": "heatmap"
           }
          ],
          "heatmapgl": [
           {
            "colorbar": {
             "outlinewidth": 0,
             "ticks": ""
            },
            "colorscale": [
             [
              0,
              "#0d0887"
             ],
             [
              0.1111111111111111,
              "#46039f"
             ],
             [
              0.2222222222222222,
              "#7201a8"
             ],
             [
              0.3333333333333333,
              "#9c179e"
             ],
             [
              0.4444444444444444,
              "#bd3786"
             ],
             [
              0.5555555555555556,
              "#d8576b"
             ],
             [
              0.6666666666666666,
              "#ed7953"
             ],
             [
              0.7777777777777778,
              "#fb9f3a"
             ],
             [
              0.8888888888888888,
              "#fdca26"
             ],
             [
              1,
              "#f0f921"
             ]
            ],
            "type": "heatmapgl"
           }
          ],
          "histogram": [
           {
            "marker": {
             "pattern": {
              "fillmode": "overlay",
              "size": 10,
              "solidity": 0.2
             }
            },
            "type": "histogram"
           }
          ],
          "histogram2d": [
           {
            "colorbar": {
             "outlinewidth": 0,
             "ticks": ""
            },
            "colorscale": [
             [
              0,
              "#0d0887"
             ],
             [
              0.1111111111111111,
              "#46039f"
             ],
             [
              0.2222222222222222,
              "#7201a8"
             ],
             [
              0.3333333333333333,
              "#9c179e"
             ],
             [
              0.4444444444444444,
              "#bd3786"
             ],
             [
              0.5555555555555556,
              "#d8576b"
             ],
             [
              0.6666666666666666,
              "#ed7953"
             ],
             [
              0.7777777777777778,
              "#fb9f3a"
             ],
             [
              0.8888888888888888,
              "#fdca26"
             ],
             [
              1,
              "#f0f921"
             ]
            ],
            "type": "histogram2d"
           }
          ],
          "histogram2dcontour": [
           {
            "colorbar": {
             "outlinewidth": 0,
             "ticks": ""
            },
            "colorscale": [
             [
              0,
              "#0d0887"
             ],
             [
              0.1111111111111111,
              "#46039f"
             ],
             [
              0.2222222222222222,
              "#7201a8"
             ],
             [
              0.3333333333333333,
              "#9c179e"
             ],
             [
              0.4444444444444444,
              "#bd3786"
             ],
             [
              0.5555555555555556,
              "#d8576b"
             ],
             [
              0.6666666666666666,
              "#ed7953"
             ],
             [
              0.7777777777777778,
              "#fb9f3a"
             ],
             [
              0.8888888888888888,
              "#fdca26"
             ],
             [
              1,
              "#f0f921"
             ]
            ],
            "type": "histogram2dcontour"
           }
          ],
          "mesh3d": [
           {
            "colorbar": {
             "outlinewidth": 0,
             "ticks": ""
            },
            "type": "mesh3d"
           }
          ],
          "parcoords": [
           {
            "line": {
             "colorbar": {
              "outlinewidth": 0,
              "ticks": ""
             }
            },
            "type": "parcoords"
           }
          ],
          "pie": [
           {
            "automargin": true,
            "type": "pie"
           }
          ],
          "scatter": [
           {
            "fillpattern": {
             "fillmode": "overlay",
             "size": 10,
             "solidity": 0.2
            },
            "type": "scatter"
           }
          ],
          "scatter3d": [
           {
            "line": {
             "colorbar": {
              "outlinewidth": 0,
              "ticks": ""
             }
            },
            "marker": {
             "colorbar": {
              "outlinewidth": 0,
              "ticks": ""
             }
            },
            "type": "scatter3d"
           }
          ],
          "scattercarpet": [
           {
            "marker": {
             "colorbar": {
              "outlinewidth": 0,
              "ticks": ""
             }
            },
            "type": "scattercarpet"
           }
          ],
          "scattergeo": [
           {
            "marker": {
             "colorbar": {
              "outlinewidth": 0,
              "ticks": ""
             }
            },
            "type": "scattergeo"
           }
          ],
          "scattergl": [
           {
            "marker": {
             "colorbar": {
              "outlinewidth": 0,
              "ticks": ""
             }
            },
            "type": "scattergl"
           }
          ],
          "scattermapbox": [
           {
            "marker": {
             "colorbar": {
              "outlinewidth": 0,
              "ticks": ""
             }
            },
            "type": "scattermapbox"
           }
          ],
          "scatterpolar": [
           {
            "marker": {
             "colorbar": {
              "outlinewidth": 0,
              "ticks": ""
             }
            },
            "type": "scatterpolar"
           }
          ],
          "scatterpolargl": [
           {
            "marker": {
             "colorbar": {
              "outlinewidth": 0,
              "ticks": ""
             }
            },
            "type": "scatterpolargl"
           }
          ],
          "scatterternary": [
           {
            "marker": {
             "colorbar": {
              "outlinewidth": 0,
              "ticks": ""
             }
            },
            "type": "scatterternary"
           }
          ],
          "surface": [
           {
            "colorbar": {
             "outlinewidth": 0,
             "ticks": ""
            },
            "colorscale": [
             [
              0,
              "#0d0887"
             ],
             [
              0.1111111111111111,
              "#46039f"
             ],
             [
              0.2222222222222222,
              "#7201a8"
             ],
             [
              0.3333333333333333,
              "#9c179e"
             ],
             [
              0.4444444444444444,
              "#bd3786"
             ],
             [
              0.5555555555555556,
              "#d8576b"
             ],
             [
              0.6666666666666666,
              "#ed7953"
             ],
             [
              0.7777777777777778,
              "#fb9f3a"
             ],
             [
              0.8888888888888888,
              "#fdca26"
             ],
             [
              1,
              "#f0f921"
             ]
            ],
            "type": "surface"
           }
          ],
          "table": [
           {
            "cells": {
             "fill": {
              "color": "#EBF0F8"
             },
             "line": {
              "color": "white"
             }
            },
            "header": {
             "fill": {
              "color": "#C8D4E3"
             },
             "line": {
              "color": "white"
             }
            },
            "type": "table"
           }
          ]
         },
         "layout": {
          "annotationdefaults": {
           "arrowcolor": "#2a3f5f",
           "arrowhead": 0,
           "arrowwidth": 1
          },
          "autotypenumbers": "strict",
          "coloraxis": {
           "colorbar": {
            "outlinewidth": 0,
            "ticks": ""
           }
          },
          "colorscale": {
           "diverging": [
            [
             0,
             "#8e0152"
            ],
            [
             0.1,
             "#c51b7d"
            ],
            [
             0.2,
             "#de77ae"
            ],
            [
             0.3,
             "#f1b6da"
            ],
            [
             0.4,
             "#fde0ef"
            ],
            [
             0.5,
             "#f7f7f7"
            ],
            [
             0.6,
             "#e6f5d0"
            ],
            [
             0.7,
             "#b8e186"
            ],
            [
             0.8,
             "#7fbc41"
            ],
            [
             0.9,
             "#4d9221"
            ],
            [
             1,
             "#276419"
            ]
           ],
           "sequential": [
            [
             0,
             "#0d0887"
            ],
            [
             0.1111111111111111,
             "#46039f"
            ],
            [
             0.2222222222222222,
             "#7201a8"
            ],
            [
             0.3333333333333333,
             "#9c179e"
            ],
            [
             0.4444444444444444,
             "#bd3786"
            ],
            [
             0.5555555555555556,
             "#d8576b"
            ],
            [
             0.6666666666666666,
             "#ed7953"
            ],
            [
             0.7777777777777778,
             "#fb9f3a"
            ],
            [
             0.8888888888888888,
             "#fdca26"
            ],
            [
             1,
             "#f0f921"
            ]
           ],
           "sequentialminus": [
            [
             0,
             "#0d0887"
            ],
            [
             0.1111111111111111,
             "#46039f"
            ],
            [
             0.2222222222222222,
             "#7201a8"
            ],
            [
             0.3333333333333333,
             "#9c179e"
            ],
            [
             0.4444444444444444,
             "#bd3786"
            ],
            [
             0.5555555555555556,
             "#d8576b"
            ],
            [
             0.6666666666666666,
             "#ed7953"
            ],
            [
             0.7777777777777778,
             "#fb9f3a"
            ],
            [
             0.8888888888888888,
             "#fdca26"
            ],
            [
             1,
             "#f0f921"
            ]
           ]
          },
          "colorway": [
           "#636efa",
           "#EF553B",
           "#00cc96",
           "#ab63fa",
           "#FFA15A",
           "#19d3f3",
           "#FF6692",
           "#B6E880",
           "#FF97FF",
           "#FECB52"
          ],
          "font": {
           "color": "#2a3f5f"
          },
          "geo": {
           "bgcolor": "white",
           "lakecolor": "white",
           "landcolor": "#E5ECF6",
           "showlakes": true,
           "showland": true,
           "subunitcolor": "white"
          },
          "hoverlabel": {
           "align": "left"
          },
          "hovermode": "closest",
          "mapbox": {
           "style": "light"
          },
          "paper_bgcolor": "white",
          "plot_bgcolor": "#E5ECF6",
          "polar": {
           "angularaxis": {
            "gridcolor": "white",
            "linecolor": "white",
            "ticks": ""
           },
           "bgcolor": "#E5ECF6",
           "radialaxis": {
            "gridcolor": "white",
            "linecolor": "white",
            "ticks": ""
           }
          },
          "scene": {
           "xaxis": {
            "backgroundcolor": "#E5ECF6",
            "gridcolor": "white",
            "gridwidth": 2,
            "linecolor": "white",
            "showbackground": true,
            "ticks": "",
            "zerolinecolor": "white"
           },
           "yaxis": {
            "backgroundcolor": "#E5ECF6",
            "gridcolor": "white",
            "gridwidth": 2,
            "linecolor": "white",
            "showbackground": true,
            "ticks": "",
            "zerolinecolor": "white"
           },
           "zaxis": {
            "backgroundcolor": "#E5ECF6",
            "gridcolor": "white",
            "gridwidth": 2,
            "linecolor": "white",
            "showbackground": true,
            "ticks": "",
            "zerolinecolor": "white"
           }
          },
          "shapedefaults": {
           "line": {
            "color": "#2a3f5f"
           }
          },
          "ternary": {
           "aaxis": {
            "gridcolor": "white",
            "linecolor": "white",
            "ticks": ""
           },
           "baxis": {
            "gridcolor": "white",
            "linecolor": "white",
            "ticks": ""
           },
           "bgcolor": "#E5ECF6",
           "caxis": {
            "gridcolor": "white",
            "linecolor": "white",
            "ticks": ""
           }
          },
          "title": {
           "x": 0.05
          },
          "xaxis": {
           "automargin": true,
           "gridcolor": "white",
           "linecolor": "white",
           "ticks": "",
           "title": {
            "standoff": 15
           },
           "zerolinecolor": "white",
           "zerolinewidth": 2
          },
          "yaxis": {
           "automargin": true,
           "gridcolor": "white",
           "linecolor": "white",
           "ticks": "",
           "title": {
            "standoff": 15
           },
           "zerolinecolor": "white",
           "zerolinewidth": 2
          }
         }
        }
       }
      }
     },
     "metadata": {},
     "output_type": "display_data"
    }
   ],
   "source": [
    "df_show = df\n",
    "df_show = df[df['name']=='test']\n",
    "\n",
    "fig = go.Figure()\n",
    "fig.update_layout(margin={'r': 0, 'l': 0, 't': 0, 'b': 0})\n",
    "fig.add_traces(\n",
    "    go.Scatter(\n",
    "        x=df_show['light'],\n",
    "        y=df_show['target'],\n",
    "        text=df_show['name'],\n",
    "        mode='markers',\n",
    "        hovertemplate='light: %{x:.1e}<br>integral: %{y:.2s} <br>%{text}',\n",
    "        name='',\n",
    "    ))"
   ]
  },
  {
   "cell_type": "code",
   "execution_count": 66,
   "metadata": {},
   "outputs": [
    {
     "name": "stdout",
     "output_type": "stream",
     "text": [
      "Max value = 1.55E-07\n",
      "Light     = 3.70E-05\n"
     ]
    },
    {
     "data": {
      "image/png": "[encoded data removed]",
      "text/plain": [
       "<Figure size 1500x900 with 1 Axes>"
      ]
     },
     "metadata": {},
     "output_type": "display_data"
    }
   ],
   "source": [
    "fig, ax = plt.subplots(figsize=(15, 9))\n",
    "ax.plot(\n",
    "    df_show['light'],\n",
    "    df_show['target'],\n",
    ")\n",
    "ax.set_xlabel('light')\n",
    "ax.set_ylabel('integral: $0 - 10^{-4}$')\n",
    "df_max = df_show[df_show['target'] == df_show['target'].max()]\n",
    "ax.scatter(\n",
    "    df_max['light'],\n",
    "    df_max['target'],\n",
    "    c='r',\n",
    ")\n",
    "max_value = df_max['target'].iloc[0]\n",
    "max_light = df_max['light'].iloc[0]\n",
    "print(f'Max value = {max_value:.2E}\\nLight     = {max_light:.2E}')\n",
    "scal_form = ScalarFormatter(1)\n",
    "scal_form.set_powerlimits((0, 0.1))\n",
    "ax.xaxis.set_major_formatter(scal_form)"
   ]
  }
 ],
 "metadata": {
  "kernelspec": {
   "display_name": "Python 3.11.1 ('polymer_env': venv)",
   "language": "python",
   "name": "python3"
  },
  "language_info": {
   "codemirror_mode": {
    "name": "ipython",
    "version": 3
   },
   "file_extension": ".py",
   "mimetype": "text/x-python",
   "name": "python",
   "nbconvert_exporter": "python",
   "pygments_lexer": "ipython3",
   "version": "3.11.1"
  },
  "orig_nbformat": 4,
  "vscode": {
   "interpreter": {
    "hash": "96273da12dac1f1eac70f0f528514a6c8e027bc24c802bbe4de4962cd95b528f"
   }
  }
 },
 "nbformat": 4,
 "nbformat_minor": 2
}
