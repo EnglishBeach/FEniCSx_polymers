{
 "cells": [
  {
   "cell_type": "code",
   "execution_count": 38,
   "metadata": {},
   "outputs": [],
   "source": [
    "import pandas as pd\n",
    "import numpy as np\n",
    "from datetime import date, time, datetime, timedelta\n",
    "\n",
    "import plotly.graph_objects as go\n",
    "\n",
    "import matplotlib.pyplot as plt\n",
    "from matplotlib.ticker import FormatStrFormatter,ScalarFormatter"
   ]
  },
  {
   "cell_type": "code",
   "execution_count": 2,
   "metadata": {},
   "outputs": [],
   "source": [
    "PATH = r'D:\\WORKS\\PolimerSolve\\Comsol\\tables\\1D'\n"
   ]
  },
  {
   "cell_type": "code",
   "execution_count": 9,
   "metadata": {},
   "outputs": [],
   "source": [
    "def df_from_comsol(\n",
    "    name,\n",
    "    from_name=r'\\out.csv',\n",
    "    temp_name=r'\\temp.csv',\n",
    "):\n",
    "    with open(PATH + from_name, 'r') as file:\n",
    "        lines = file.readlines()\n",
    "\n",
    "    with open(PATH + temp_name, 'w') as file:\n",
    "        for line in lines[4:]:\n",
    "            file.write(line)\n",
    "    df = pd.read_csv(PATH + r'\\temp.csv')\n",
    "    df = df.rename(columns={\n",
    "        '% light': 'light',\n",
    "        df.columns[1]: 'target',\n",
    "    })\n",
    "    df['name'] = name\n",
    "    df['time'] = datetime.now().replace(second=0, microsecond=0)\n",
    "    return df\n",
    "\n",
    "\n",
    "def add_notes(from_name=r'\\out.csv'):\n",
    "    name = ''\n",
    "    while True:\n",
    "        name = input('Name: ')\n",
    "        if (name != '') and (name != 'q'):\n",
    "            try:\n",
    "                old_df = pd.read_csv(PATH + r'\\base.csv', index_col=0)\n",
    "                new_df = pd.concat(\n",
    "                    [old_df, df_from_comsol(name, from_name=from_name)],\n",
    "                    ignore_index=True,\n",
    "                )\n",
    "            except FileNotFoundError:\n",
    "                old_df = None\n",
    "                new_df = df_from_comsol(name, from_name=from_name)\n",
    "            new_df.to_csv(PATH + r'\\base.csv')\n",
    "\n",
    "            return new_df, old_df\n",
    "        elif name == 'q':\n",
    "            break"
   ]
  },
  {
   "cell_type": "markdown",
   "metadata": {},
   "source": [
    "# Add notes"
   ]
  },
  {
   "cell_type": "code",
   "execution_count": 63,
   "metadata": {},
   "outputs": [],
   "source": [
    "base, old_df = add_notes()\n"
   ]
  },
  {
   "cell_type": "markdown",
   "metadata": {},
   "source": [
    "# Check all notes"
   ]
  },
  {
   "cell_type": "code",
   "execution_count": 64,
   "metadata": {},
   "outputs": [
    {
     "data": {
      "text/plain": [
       "array(['start', 'continue'], dtype=object)"
      ]
     },
     "execution_count": 64,
     "metadata": {},
     "output_type": "execute_result"
    }
   ],
   "source": [
    "df = pd.read_csv(PATH + '/base.csv', index_col=0)\n",
    "df['name'].unique()"
   ]
  },
  {
   "cell_type": "code",
   "execution_count": 65,
   "metadata": {},
   "outputs": [
    {
     "data": {
      "application/vnd.plotly.v1+json": {
       "config": {
        "plotlyServerURL": "https://plot.ly"
       },
       "data": [
        {
         "hovertemplate": "k1: %{x:.2}<br>integral: %{y:.2E} <br>%{text}",
         "mode": "markers",
         "name": "",
         "text": [
          "start",
          "start",
          "start",
          "start",
          "start",
          "start",
          "start",
          "start",
          "start",
          "start",
          "start",
          "start",
          "start",
          "start",
          "start",
          "start",
          "start",
          "start",
          "start",
          "start",
          "start",
          "start",
          "start",
          "start",
          "start",
          "start",
          "start",
          "start",
          "start",
          "start",
          "start",
          "start",
          "start",
          "start",
          "start",
          "start",
          "start",
          "start",
          "start",
          "start",
          "start",
          "start",
          "start",
          "start",
          "start",
          "start",
          "start",
          "start",
          "start",
          "start",
          "start",
          "start",
          "start",
          "start",
          "start",
          "start",
          "start",
          "start",
          "start",
          "start",
          "start",
          "start",
          "start",
          "start",
          "start",
          "start",
          "start",
          "start",
          "start",
          "start",
          "start",
          "start",
          "start",
          "start",
          "start",
          "start",
          "start",
          "start",
          "start",
          "start",
          "start",
          "start",
          "start",
          "start",
          "start",
          "start",
          "start",
          "start",
          "start",
          "start",
          "start",
          "start",
          "start",
          "start",
          "start",
          "start",
          "start",
          "start",
          "start",
          "start",
          "start",
          "continue",
          "continue",
          "continue",
          "continue",
          "continue",
          "continue",
          "continue",
          "continue",
          "continue",
          "continue",
          "continue",
          "continue",
          "continue",
          "continue",
          "continue",
          "continue",
          "continue",
          "continue",
          "continue",
          "continue",
          "continue",
          "continue",
          "continue",
          "continue",
          "continue",
          "continue",
          "continue",
          "continue",
          "continue",
          "continue",
          "continue",
          "continue",
          "continue",
          "continue",
          "continue",
          "continue",
          "continue",
          "continue",
          "continue",
          "continue",
          "continue",
          "continue",
          "continue",
          "continue",
          "continue",
          "continue",
          "continue",
          "continue",
          "continue",
          "continue",
          "continue",
          "continue",
          "continue",
          "continue",
          "continue",
          "continue",
          "continue",
          "continue",
          "continue",
          "continue",
          "continue",
          "continue",
          "continue",
          "continue",
          "continue",
          "continue",
          "continue",
          "continue",
          "continue",
          "continue",
          "continue",
          "continue",
          "continue",
          "continue",
          "continue",
          "continue",
          "continue",
          "continue",
          "continue",
          "continue",
          "continue",
          "continue",
          "continue",
          "continue",
          "continue",
          "continue",
          "continue",
          "continue",
          "continue",
          "continue",
          "continue",
          "continue",
          "continue",
          "continue",
          "continue",
          "continue",
          "continue",
          "continue",
          "continue",
          "continue",
          "continue"
         ],
         "type": "scatter",
         "x": [
          0,
          0.000001,
          0.000002,
          0.000003,
          0.000004,
          0.000005,
          0.000006,
          0.000007,
          0.000008,
          0.000009,
          0.000009999999999999996,
          0.000011,
          0.000012,
          0.000013,
          0.000014,
          0.000015,
          0.000016,
          0.000017,
          0.000018,
          0.000019,
          0.00002,
          0.000021,
          0.000022,
          0.000023,
          0.000024,
          0.000025,
          0.000026,
          0.000027,
          0.000028,
          0.000029,
          0.00003,
          0.000031,
          0.000032,
          0.000033,
          0.000034,
          0.000035,
          0.000036,
          0.000037,
          0.000038,
          0.000039,
          0.00004,
          0.000041,
          0.000042,
          0.000043,
          0.000044,
          0.000045,
          0.000046,
          0.000047,
          0.000048,
          0.000049,
          0.00005,
          0.000051,
          0.000052,
          0.000053,
          0.000054,
          0.000055,
          0.000056,
          0.000057,
          0.000058,
          0.000059,
          0.00006,
          0.000061,
          0.000062,
          0.000063,
          0.000064,
          0.000065,
          0.00006599999999999999,
          0.000067,
          0.000068,
          0.000069,
          0.00007,
          0.00007099999999999999,
          0.000072,
          0.000073,
          0.000074,
          0.000075,
          0.00007599999999999999,
          0.000077,
          0.000078,
          0.000079,
          0.00007999999999999999,
          0.000081,
          0.000082,
          0.000083,
          0.000084,
          0.00008499999999999999,
          0.000086,
          0.000087,
          0.000088,
          0.000089,
          0.00008999999999999999,
          0.000091,
          0.000092,
          0.000093,
          0.000094,
          0.000095,
          0.000096,
          0.000097,
          0.000098,
          0.000099,
          0.0001,
          0.0001,
          0.000109,
          0.000118,
          0.000127,
          0.000136,
          0.000145,
          0.000154,
          0.000163,
          0.000172,
          0.000181,
          0.00019,
          0.000199,
          0.000208,
          0.000217,
          0.000226,
          0.000235,
          0.000244,
          0.000253,
          0.000262,
          0.000271,
          0.00028,
          0.000289,
          0.000298,
          0.000307,
          0.000316,
          0.000325,
          0.000334,
          0.000343,
          0.000352,
          0.000361,
          0.00037,
          0.000379,
          0.000388,
          0.000397,
          0.0004059999999999,
          0.000415,
          0.000424,
          0.000433,
          0.000442,
          0.0004509999999999,
          0.00046,
          0.000469,
          0.000478,
          0.000487,
          0.000496,
          0.000505,
          0.000514,
          0.000523,
          0.000532,
          0.000541,
          0.00055,
          0.000559,
          0.000568,
          0.000577,
          0.000586,
          0.000595,
          0.000604,
          0.000613,
          0.000622,
          0.000631,
          0.00064,
          0.000649,
          0.000658,
          0.000667,
          0.000676,
          0.000685,
          0.000694,
          0.000703,
          0.000712,
          0.000721,
          0.00073,
          0.000739,
          0.000748,
          0.000757,
          0.000766,
          0.000775,
          0.000784,
          0.000793,
          0.000802,
          0.000811,
          0.00082,
          0.000829,
          0.000838,
          0.000847,
          0.000856,
          0.000865,
          0.000874,
          0.000883,
          0.000892,
          0.000901,
          0.00091,
          0.000919,
          0.000928,
          0.000937,
          0.000946,
          0.000955,
          0.000964,
          0.000973,
          0.000982,
          0.000991,
          0.001
         ],
         "y": [
          0,
          5.4324247571525714e-8,
          7.423465989854132e-8,
          8.786274966719685e-8,
          9.816754252606609e-8,
          1.063448040772419e-7,
          1.130266674359987e-7,
          1.185964583164939e-7,
          1.233070938445579e-7,
          1.273353052323398e-7,
          1.308098444695273e-7,
          1.338275358705703e-7,
          1.364630416012838e-7,
          1.3877511793984e-7,
          1.408107917473466e-7,
          1.426082437118268e-7,
          1.441988551349036e-7,
          1.456086955923538e-7,
          1.468596262684723e-7,
          1.479701327073942e-7,
          1.489559630530688e-7,
          1.498306238876803e-7,
          1.506057701212368e-7,
          1.512915149113419e-7,
          1.518966784384164e-7,
          1.524289893819431e-7,
          1.528952494191455e-7,
          1.533014685355313e-7,
          1.536529770907148e-7,
          1.539545192219443e-7,
          1.542103311515277e-7,
          1.544242071971339e-7,
          1.545995557004905e-7,
          1.547394466405923e-7,
          1.548466523491292e-7,
          1.549236824742511e-7,
          1.549728141240868e-7,
          1.549961179518552e-7,
          1.549954808088905e-7,
          1.54972625483052e-7,
          1.549291279521262e-7,
          1.548664325107876e-7,
          1.547858650711973e-7,
          1.546886448897851e-7,
          1.54575894933526e-7,
          1.544486510662972e-7,
          1.543078702092313e-7,
          1.541544376059009e-7,
          1.539891733051261e-7,
          1.538128379573254e-7,
          1.536261380079915e-7,
          1.534297303596455e-7,
          1.532242265647313e-7,
          1.53010196603239e-7,
          1.527881722921517e-7,
          1.52558650367757e-7,
          1.52322095276609e-7,
          1.520789417065413e-7,
          1.518295968857241e-7,
          1.515744426735911e-7,
          1.51313837465455e-7,
          1.51048117929746e-7,
          1.507776005945089e-7,
          1.505025832982939e-7,
          1.502233465184493e-7,
          1.499401545889238e-7,
          1.49653256817795e-7,
          1.493628885140816e-7,
          1.4906927193228e-7,
          1.487726171420059e-7,
          1.484731228297278e-7,
          1.481709770383828e-7,
          1.478663578506804e-7,
          1.475594340206104e-7,
          1.472503655580548e-7,
          1.469393042700996e-7,
          1.466263942629788e-7,
          1.463117724078151e-7,
          1.45995568773018e-7,
          1.456779070264152e-7,
          1.453589048090566e-7,
          1.450386740834487e-7,
          1.447173214578178e-7,
          1.443949484886276e-7,
          1.440716519627202e-7,
          1.437475241608683e-7,
          1.434226531040391e-7,
          1.430971227836824e-7,
          1.42771013377256e-7,
          1.424444014500137e-7,
          1.421173601441289e-7,
          1.417899593560361e-7,
          1.414622659028288e-7,
          1.411343436784246e-7,
          1.408062538004097e-7,
          1.404780547479626e-7,
          1.401498024916147e-7,
          1.398215506154541e-7,
          1.394933504321014e-7,
          1.391652510911199e-7,
          1.388372996811764e-7,
          1.388372996811765e-7,
          1.358992587257793e-7,
          1.330030042098425e-7,
          1.301672593885793e-7,
          1.274049543209256e-7,
          1.247249185010004e-7,
          1.221329951508548e-7,
          1.196304173598464e-7,
          1.172235878447546e-7,
          1.149110017405809e-7,
          1.126920832451489e-7,
          1.105658750956813e-7,
          1.085296715713099e-7,
          1.065812563725131e-7,
          1.047176294744397e-7,
          1.02935511250842e-7,
          1.012313956752143e-7,
          9.960164699827901e-8,
          9.804257365708832e-8,
          9.65504910159184e-8,
          9.512177288173205e-8,
          9.375289211805885e-8,
          9.244045109385837e-8,
          9.11812030409052e-8,
          8.997206560328102e-8,
          8.880934033982943e-8,
          8.769180131310133e-8,
          8.661615752555746e-8,
          8.558001007384986e-8,
          8.4581120048351e-8,
          8.361740048676406e-8,
          8.26869075994567e-8,
          8.17878316801703e-8,
          8.091848800442771e-8,
          8.007730792902384e-8,
          7.926283033676601e-8,
          7.847369351801908e-8,
          7.770862754148195e-8,
          7.69664471380875e-8,
          7.62460451015985e-8,
          7.554638619537821e-8,
          7.486650154539298e-8,
          7.420548349356136e-8,
          7.356247817452753e-8,
          7.293666381977722e-8,
          7.232731618291191e-8,
          7.173372911543805e-8,
          7.115523780561545e-8,
          7.059121576269455e-8,
          7.004107205787966e-8,
          6.950424879844945e-8,
          6.898021881343547e-8,
          6.846848353117971e-8,
          6.796857103093213e-8,
          6.748003425234617e-8,
          6.700244934831589e-8,
          6.653541416801805e-8,
          6.607854685836631e-8,
          6.563148457322057e-8,
          6.519388228078397e-8,
          6.476541166055873e-8,
          6.434576008208735e-8,
          6.393420964041744e-8,
          6.353130197649573e-8,
          6.313636024610796e-8,
          6.274912577976452e-8,
          6.236935149503523e-8,
          6.199680124001993e-8,
          6.163124918148792e-8,
          6.127247923415409e-8,
          6.092028452789256e-8,
          6.05744669099506e-8,
          6.02348364794993e-8,
          5.990121115207547e-8,
          5.9573416251691897e-8,
          5.9251284128563e-8,
          5.8934653800584655e-8,
          5.862337061684695e-8,
          5.831728594160512e-8,
          5.801625685726125e-8,
          5.772014588502705e-8,
          5.742882072203982e-8,
          5.7142153993802425e-8,
          5.686002302091222e-8,
          5.658230959910863e-8,
          5.630889979176183e-8,
          5.603968373397323e-8,
          5.5774555447542406e-8,
          5.551341266607971e-8,
          5.5256156669634905e-8,
          5.500269212822073e-8,
          5.4752926953684616e-8,
          5.450677215940228e-8,
          5.426414172731214e-8,
          5.4024952481843944e-8,
          5.378912397032013e-8,
          5.3556578349446274e-8,
          5.3327240277524266e-8,
          5.310103680494569e-8,
          5.287789732938405e-8,
          5.265775376815081e-8
         ]
        }
       ],
       "layout": {
        "margin": {
         "b": 0,
         "l": 0,
         "r": 0,
         "t": 0
        },
        "template": {
         "data": {
          "bar": [
           {
            "error_x": {
             "color": "#2a3f5f"
            },
            "error_y": {
             "color": "#2a3f5f"
            },
            "marker": {
             "line": {
              "color": "#E5ECF6",
              "width": 0.5
             },
             "pattern": {
              "fillmode": "overlay",
              "size": 10,
              "solidity": 0.2
             }
            },
            "type": "bar"
           }
          ],
          "barpolar": [
           {
            "marker": {
             "line": {
              "color": "#E5ECF6",
              "width": 0.5
             },
             "pattern": {
              "fillmode": "overlay",
              "size": 10,
              "solidity": 0.2
             }
            },
            "type": "barpolar"
           }
          ],
          "carpet": [
           {
            "aaxis": {
             "endlinecolor": "#2a3f5f",
             "gridcolor": "white",
             "linecolor": "white",
             "minorgridcolor": "white",
             "startlinecolor": "#2a3f5f"
            },
            "baxis": {
             "endlinecolor": "#2a3f5f",
             "gridcolor": "white",
             "linecolor": "white",
             "minorgridcolor": "white",
             "startlinecolor": "#2a3f5f"
            },
            "type": "carpet"
           }
          ],
          "choropleth": [
           {
            "colorbar": {
             "outlinewidth": 0,
             "ticks": ""
            },
            "type": "choropleth"
           }
          ],
          "contour": [
           {
            "colorbar": {
             "outlinewidth": 0,
             "ticks": ""
            },
            "colorscale": [
             [
              0,
              "#0d0887"
             ],
             [
              0.1111111111111111,
              "#46039f"
             ],
             [
              0.2222222222222222,
              "#7201a8"
             ],
             [
              0.3333333333333333,
              "#9c179e"
             ],
             [
              0.4444444444444444,
              "#bd3786"
             ],
             [
              0.5555555555555556,
              "#d8576b"
             ],
             [
              0.6666666666666666,
              "#ed7953"
             ],
             [
              0.7777777777777778,
              "#fb9f3a"
             ],
             [
              0.8888888888888888,
              "#fdca26"
             ],
             [
              1,
              "#f0f921"
             ]
            ],
            "type": "contour"
           }
          ],
          "contourcarpet": [
           {
            "colorbar": {
             "outlinewidth": 0,
             "ticks": ""
            },
            "type": "contourcarpet"
           }
          ],
          "heatmap": [
           {
            "colorbar": {
             "outlinewidth": 0,
             "ticks": ""
            },
            "colorscale": [
             [
              0,
              "#0d0887"
             ],
             [
              0.1111111111111111,
              "#46039f"
             ],
             [
              0.2222222222222222,
              "#7201a8"
             ],
             [
              0.3333333333333333,
              "#9c179e"
             ],
             [
              0.4444444444444444,
              "#bd3786"
             ],
             [
              0.5555555555555556,
              "#d8576b"
             ],
             [
              0.6666666666666666,
              "#ed7953"
             ],
             [
              0.7777777777777778,
              "#fb9f3a"
             ],
             [
              0.8888888888888888,
              "#fdca26"
             ],
             [
              1,
              "#f0f921"
             ]
            ],
            "type": "heatmap"
           }
          ],
          "heatmapgl": [
           {
            "colorbar": {
             "outlinewidth": 0,
             "ticks": ""
            },
            "colorscale": [
             [
              0,
              "#0d0887"
             ],
             [
              0.1111111111111111,
              "#46039f"
             ],
             [
              0.2222222222222222,
              "#7201a8"
             ],
             [
              0.3333333333333333,
              "#9c179e"
             ],
             [
              0.4444444444444444,
              "#bd3786"
             ],
             [
              0.5555555555555556,
              "#d8576b"
             ],
             [
              0.6666666666666666,
              "#ed7953"
             ],
             [
              0.7777777777777778,
              "#fb9f3a"
             ],
             [
              0.8888888888888888,
              "#fdca26"
             ],
             [
              1,
              "#f0f921"
             ]
            ],
            "type": "heatmapgl"
           }
          ],
          "histogram": [
           {
            "marker": {
             "pattern": {
              "fillmode": "overlay",
              "size": 10,
              "solidity": 0.2
             }
            },
            "type": "histogram"
           }
          ],
          "histogram2d": [
           {
            "colorbar": {
             "outlinewidth": 0,
             "ticks": ""
            },
            "colorscale": [
             [
              0,
              "#0d0887"
             ],
             [
              0.1111111111111111,
              "#46039f"
             ],
             [
              0.2222222222222222,
              "#7201a8"
             ],
             [
              0.3333333333333333,
              "#9c179e"
             ],
             [
              0.4444444444444444,
              "#bd3786"
             ],
             [
              0.5555555555555556,
              "#d8576b"
             ],
             [
              0.6666666666666666,
              "#ed7953"
             ],
             [
              0.7777777777777778,
              "#fb9f3a"
             ],
             [
              0.8888888888888888,
              "#fdca26"
             ],
             [
              1,
              "#f0f921"
             ]
            ],
            "type": "histogram2d"
           }
          ],
          "histogram2dcontour": [
           {
            "colorbar": {
             "outlinewidth": 0,
             "ticks": ""
            },
            "colorscale": [
             [
              0,
              "#0d0887"
             ],
             [
              0.1111111111111111,
              "#46039f"
             ],
             [
              0.2222222222222222,
              "#7201a8"
             ],
             [
              0.3333333333333333,
              "#9c179e"
             ],
             [
              0.4444444444444444,
              "#bd3786"
             ],
             [
              0.5555555555555556,
              "#d8576b"
             ],
             [
              0.6666666666666666,
              "#ed7953"
             ],
             [
              0.7777777777777778,
              "#fb9f3a"
             ],
             [
              0.8888888888888888,
              "#fdca26"
             ],
             [
              1,
              "#f0f921"
             ]
            ],
            "type": "histogram2dcontour"
           }
          ],
          "mesh3d": [
           {
            "colorbar": {
             "outlinewidth": 0,
             "ticks": ""
            },
            "type": "mesh3d"
           }
          ],
          "parcoords": [
           {
            "line": {
             "colorbar": {
              "outlinewidth": 0,
              "ticks": ""
             }
            },
            "type": "parcoords"
           }
          ],
          "pie": [
           {
            "automargin": true,
            "type": "pie"
           }
          ],
          "scatter": [
           {
            "fillpattern": {
             "fillmode": "overlay",
             "size": 10,
             "solidity": 0.2
            },
            "type": "scatter"
           }
          ],
          "scatter3d": [
           {
            "line": {
             "colorbar": {
              "outlinewidth": 0,
              "ticks": ""
             }
            },
            "marker": {
             "colorbar": {
              "outlinewidth": 0,
              "ticks": ""
             }
            },
            "type": "scatter3d"
           }
          ],
          "scattercarpet": [
           {
            "marker": {
             "colorbar": {
              "outlinewidth": 0,
              "ticks": ""
             }
            },
            "type": "scattercarpet"
           }
          ],
          "scattergeo": [
           {
            "marker": {
             "colorbar": {
              "outlinewidth": 0,
              "ticks": ""
             }
            },
            "type": "scattergeo"
           }
          ],
          "scattergl": [
           {
            "marker": {
             "colorbar": {
              "outlinewidth": 0,
              "ticks": ""
             }
            },
            "type": "scattergl"
           }
          ],
          "scattermapbox": [
           {
            "marker": {
             "colorbar": {
              "outlinewidth": 0,
              "ticks": ""
             }
            },
            "type": "scattermapbox"
           }
          ],
          "scatterpolar": [
           {
            "marker": {
             "colorbar": {
              "outlinewidth": 0,
              "ticks": ""
             }
            },
            "type": "scatterpolar"
           }
          ],
          "scatterpolargl": [
           {
            "marker": {
             "colorbar": {
              "outlinewidth": 0,
              "ticks": ""
             }
            },
            "type": "scatterpolargl"
           }
          ],
          "scatterternary": [
           {
            "marker": {
             "colorbar": {
              "outlinewidth": 0,
              "ticks": ""
             }
            },
            "type": "scatterternary"
           }
          ],
          "surface": [
           {
            "colorbar": {
             "outlinewidth": 0,
             "ticks": ""
            },
            "colorscale": [
             [
              0,
              "#0d0887"
             ],
             [
              0.1111111111111111,
              "#46039f"
             ],
             [
              0.2222222222222222,
              "#7201a8"
             ],
             [
              0.3333333333333333,
              "#9c179e"
             ],
             [
              0.4444444444444444,
              "#bd3786"
             ],
             [
              0.5555555555555556,
              "#d8576b"
             ],
             [
              0.6666666666666666,
              "#ed7953"
             ],
             [
              0.7777777777777778,
              "#fb9f3a"
             ],
             [
              0.8888888888888888,
              "#fdca26"
             ],
             [
              1,
              "#f0f921"
             ]
            ],
            "type": "surface"
           }
          ],
          "table": [
           {
            "cells": {
             "fill": {
              "color": "#EBF0F8"
             },
             "line": {
              "color": "white"
             }
            },
            "header": {
             "fill": {
              "color": "#C8D4E3"
             },
             "line": {
              "color": "white"
             }
            },
            "type": "table"
           }
          ]
         },
         "layout": {
          "annotationdefaults": {
           "arrowcolor": "#2a3f5f",
           "arrowhead": 0,
           "arrowwidth": 1
          },
          "autotypenumbers": "strict",
          "coloraxis": {
           "colorbar": {
            "outlinewidth": 0,
            "ticks": ""
           }
          },
          "colorscale": {
           "diverging": [
            [
             0,
             "#8e0152"
            ],
            [
             0.1,
             "#c51b7d"
            ],
            [
             0.2,
             "#de77ae"
            ],
            [
             0.3,
             "#f1b6da"
            ],
            [
             0.4,
             "#fde0ef"
            ],
            [
             0.5,
             "#f7f7f7"
            ],
            [
             0.6,
             "#e6f5d0"
            ],
            [
             0.7,
             "#b8e186"
            ],
            [
             0.8,
             "#7fbc41"
            ],
            [
             0.9,
             "#4d9221"
            ],
            [
             1,
             "#276419"
            ]
           ],
           "sequential": [
            [
             0,
             "#0d0887"
            ],
            [
             0.1111111111111111,
             "#46039f"
            ],
            [
             0.2222222222222222,
             "#7201a8"
            ],
            [
             0.3333333333333333,
             "#9c179e"
            ],
            [
             0.4444444444444444,
             "#bd3786"
            ],
            [
             0.5555555555555556,
             "#d8576b"
            ],
            [
             0.6666666666666666,
             "#ed7953"
            ],
            [
             0.7777777777777778,
             "#fb9f3a"
            ],
            [
             0.8888888888888888,
             "#fdca26"
            ],
            [
             1,
             "#f0f921"
            ]
           ],
           "sequentialminus": [
            [
             0,
             "#0d0887"
            ],
            [
             0.1111111111111111,
             "#46039f"
            ],
            [
             0.2222222222222222,
             "#7201a8"
            ],
            [
             0.3333333333333333,
             "#9c179e"
            ],
            [
             0.4444444444444444,
             "#bd3786"
            ],
            [
             0.5555555555555556,
             "#d8576b"
            ],
            [
             0.6666666666666666,
             "#ed7953"
            ],
            [
             0.7777777777777778,
             "#fb9f3a"
            ],
            [
             0.8888888888888888,
             "#fdca26"
            ],
            [
             1,
             "#f0f921"
            ]
           ]
          },
          "colorway": [
           "#636efa",
           "#EF553B",
           "#00cc96",
           "#ab63fa",
           "#FFA15A",
           "#19d3f3",
           "#FF6692",
           "#B6E880",
           "#FF97FF",
           "#FECB52"
          ],
          "font": {
           "color": "#2a3f5f"
          },
          "geo": {
           "bgcolor": "white",
           "lakecolor": "white",
           "landcolor": "#E5ECF6",
           "showlakes": true,
           "showland": true,
           "subunitcolor": "white"
          },
          "hoverlabel": {
           "align": "left"
          },
          "hovermode": "closest",
          "mapbox": {
           "style": "light"
          },
          "paper_bgcolor": "white",
          "plot_bgcolor": "#E5ECF6",
          "polar": {
           "angularaxis": {
            "gridcolor": "white",
            "linecolor": "white",
            "ticks": ""
           },
           "bgcolor": "#E5ECF6",
           "radialaxis": {
            "gridcolor": "white",
            "linecolor": "white",
            "ticks": ""
           }
          },
          "scene": {
           "xaxis": {
            "backgroundcolor": "#E5ECF6",
            "gridcolor": "white",
            "gridwidth": 2,
            "linecolor": "white",
            "showbackground": true,
            "ticks": "",
            "zerolinecolor": "white"
           },
           "yaxis": {
            "backgroundcolor": "#E5ECF6",
            "gridcolor": "white",
            "gridwidth": 2,
            "linecolor": "white",
            "showbackground": true,
            "ticks": "",
            "zerolinecolor": "white"
           },
           "zaxis": {
            "backgroundcolor": "#E5ECF6",
            "gridcolor": "white",
            "gridwidth": 2,
            "linecolor": "white",
            "showbackground": true,
            "ticks": "",
            "zerolinecolor": "white"
           }
          },
          "shapedefaults": {
           "line": {
            "color": "#2a3f5f"
           }
          },
          "ternary": {
           "aaxis": {
            "gridcolor": "white",
            "linecolor": "white",
            "ticks": ""
           },
           "baxis": {
            "gridcolor": "white",
            "linecolor": "white",
            "ticks": ""
           },
           "bgcolor": "#E5ECF6",
           "caxis": {
            "gridcolor": "white",
            "linecolor": "white",
            "ticks": ""
           }
          },
          "title": {
           "x": 0.05
          },
          "xaxis": {
           "automargin": true,
           "gridcolor": "white",
           "linecolor": "white",
           "ticks": "",
           "title": {
            "standoff": 15
           },
           "zerolinecolor": "white",
           "zerolinewidth": 2
          },
          "yaxis": {
           "automargin": true,
           "gridcolor": "white",
           "linecolor": "white",
           "ticks": "",
           "title": {
            "standoff": 15
           },
           "zerolinecolor": "white",
           "zerolinewidth": 2
          }
         }
        }
       }
      }
     },
     "metadata": {},
     "output_type": "display_data"
    }
   ],
   "source": [
    "df_show = df\n",
    "# df_show = df[df['l']<=6E+5]\n",
    "\n",
    "fig = go.Figure()\n",
    "fig.update_layout(margin={'r': 0, 'l': 0, 't': 0, 'b': 0})\n",
    "fig.add_traces(\n",
    "    go.Scatter(\n",
    "        x=df_show['light'],\n",
    "        y=df_show['target'],\n",
    "        text=df_show['name'],\n",
    "        mode='markers',\n",
    "        hovertemplate='k1: %{x:.2}<br>integral: %{y:.2E} <br>%{text}',\n",
    "        name='',\n",
    "    ))"
   ]
  },
  {
   "cell_type": "code",
   "execution_count": 66,
   "metadata": {},
   "outputs": [
    {
     "name": "stdout",
     "output_type": "stream",
     "text": [
      "Max value = 1.55E-07\n",
      "Light     = 3.70E-05\n"
     ]
    },
    {
     "data": {
      "image/png": "[encoded data removed]",
      "text/plain": [
       "<Figure size 1500x900 with 1 Axes>"
      ]
     },
     "metadata": {},
     "output_type": "display_data"
    }
   ],
   "source": [
    "fig, ax = plt.subplots(figsize=(15, 9))\n",
    "ax.plot(\n",
    "    df_show['light'],\n",
    "    df_show['target'],\n",
    ")\n",
    "ax.set_xlabel('light')\n",
    "ax.set_ylabel('integral: $0 - 10^{-4}$')\n",
    "df_max = df_show[df_show['target'] == df_show['target'].max()]\n",
    "ax.scatter(\n",
    "    df_max['light'],\n",
    "    df_max['target'],\n",
    "    c='r',\n",
    ")\n",
    "max_value = df_max['target'].iloc[0]\n",
    "max_light = df_max['light'].iloc[0]\n",
    "print(f'Max value = {max_value:.2E}\\nLight     = {max_light:.2E}')\n",
    "scal_form = ScalarFormatter(1)\n",
    "scal_form.set_powerlimits((0, 0.1))\n",
    "ax.xaxis.set_major_formatter(scal_form)"
   ]
  },
  {
   "cell_type": "markdown",
   "metadata": {},
   "source": [
    "# Check curent file"
   ]
  },
  {
   "cell_type": "code",
   "execution_count": 14,
   "metadata": {},
   "outputs": [
    {
     "data": {
      "application/vnd.plotly.v1+json": {
       "config": {
        "plotlyServerURL": "https://plot.ly"
       },
       "data": [
        {
         "hovertemplate": "k1: %{x}<br>integral: %{y:.2f}",
         "name": "",
         "type": "scatter",
         "x": [
          0,
          100,
          200,
          300,
          400,
          500,
          600,
          700,
          800,
          900,
          1000,
          1100,
          1200,
          1300,
          1400,
          1500,
          1600,
          1700,
          1800,
          1900,
          2000,
          2100,
          2200,
          2300,
          2400,
          2500,
          2600,
          2700,
          2800,
          2900,
          3000,
          3100,
          3200,
          3300,
          3400,
          3500,
          3600,
          3700,
          3800,
          3900
         ],
         "y": [
          0,
          0.15842204727133383,
          0.2478110608685814,
          0.30995207339195435,
          0.35925824628242625,
          0.40090592241262324,
          0.4373874855967695,
          0.47011159929040675,
          0.49995946139160863,
          0.527522488628662,
          0.5532187100290455,
          0.5773555942321738,
          0.6001665435266113,
          0.6218333438834196,
          0.6425006286171234,
          0.6622855581199514,
          0.6812845079854688,
          0.6995778173069862,
          0.7172332396007844,
          0.7343085024875371,
          0.750853240638701,
          0.7669104788115071,
          0.7825177859377714,
          0.797199088531043,
          0.8119621474888377,
          0.8263746766028288,
          0.8404399062582257,
          0.8542562608101116,
          0.8677069543617535,
          0.8808795115170809,
          0.8937884206686231,
          0.9064444076112471,
          0.9188623232923266,
          0.9310538869789968,
          0.9430298834714732,
          0.9548002633641127,
          0.9663742299972206,
          0.977760315183586,
          0.9889664454205441,
          1
         ]
        }
       ],
       "layout": {
        "margin": {
         "b": 0,
         "l": 0,
         "r": 0,
         "t": 0
        },
        "template": {
         "data": {
          "bar": [
           {
            "error_x": {
             "color": "#2a3f5f"
            },
            "error_y": {
             "color": "#2a3f5f"
            },
            "marker": {
             "line": {
              "color": "#E5ECF6",
              "width": 0.5
             },
             "pattern": {
              "fillmode": "overlay",
              "size": 10,
              "solidity": 0.2
             }
            },
            "type": "bar"
           }
          ],
          "barpolar": [
           {
            "marker": {
             "line": {
              "color": "#E5ECF6",
              "width": 0.5
             },
             "pattern": {
              "fillmode": "overlay",
              "size": 10,
              "solidity": 0.2
             }
            },
            "type": "barpolar"
           }
          ],
          "carpet": [
           {
            "aaxis": {
             "endlinecolor": "#2a3f5f",
             "gridcolor": "white",
             "linecolor": "white",
             "minorgridcolor": "white",
             "startlinecolor": "#2a3f5f"
            },
            "baxis": {
             "endlinecolor": "#2a3f5f",
             "gridcolor": "white",
             "linecolor": "white",
             "minorgridcolor": "white",
             "startlinecolor": "#2a3f5f"
            },
            "type": "carpet"
           }
          ],
          "choropleth": [
           {
            "colorbar": {
             "outlinewidth": 0,
             "ticks": ""
            },
            "type": "choropleth"
           }
          ],
          "contour": [
           {
            "colorbar": {
             "outlinewidth": 0,
             "ticks": ""
            },
            "colorscale": [
             [
              0,
              "#0d0887"
             ],
             [
              0.1111111111111111,
              "#46039f"
             ],
             [
              0.2222222222222222,
              "#7201a8"
             ],
             [
              0.3333333333333333,
              "#9c179e"
             ],
             [
              0.4444444444444444,
              "#bd3786"
             ],
             [
              0.5555555555555556,
              "#d8576b"
             ],
             [
              0.6666666666666666,
              "#ed7953"
             ],
             [
              0.7777777777777778,
              "#fb9f3a"
             ],
             [
              0.8888888888888888,
              "#fdca26"
             ],
             [
              1,
              "#f0f921"
             ]
            ],
            "type": "contour"
           }
          ],
          "contourcarpet": [
           {
            "colorbar": {
             "outlinewidth": 0,
             "ticks": ""
            },
            "type": "contourcarpet"
           }
          ],
          "heatmap": [
           {
            "colorbar": {
             "outlinewidth": 0,
             "ticks": ""
            },
            "colorscale": [
             [
              0,
              "#0d0887"
             ],
             [
              0.1111111111111111,
              "#46039f"
             ],
             [
              0.2222222222222222,
              "#7201a8"
             ],
             [
              0.3333333333333333,
              "#9c179e"
             ],
             [
              0.4444444444444444,
              "#bd3786"
             ],
             [
              0.5555555555555556,
              "#d8576b"
             ],
             [
              0.6666666666666666,
              "#ed7953"
             ],
             [
              0.7777777777777778,
              "#fb9f3a"
             ],
             [
              0.8888888888888888,
              "#fdca26"
             ],
             [
              1,
              "#f0f921"
             ]
            ],
            "type": "heatmap"
           }
          ],
          "heatmapgl": [
           {
            "colorbar": {
             "outlinewidth": 0,
             "ticks": ""
            },
            "colorscale": [
             [
              0,
              "#0d0887"
             ],
             [
              0.1111111111111111,
              "#46039f"
             ],
             [
              0.2222222222222222,
              "#7201a8"
             ],
             [
              0.3333333333333333,
              "#9c179e"
             ],
             [
              0.4444444444444444,
              "#bd3786"
             ],
             [
              0.5555555555555556,
              "#d8576b"
             ],
             [
              0.6666666666666666,
              "#ed7953"
             ],
             [
              0.7777777777777778,
              "#fb9f3a"
             ],
             [
              0.8888888888888888,
              "#fdca26"
             ],
             [
              1,
              "#f0f921"
             ]
            ],
            "type": "heatmapgl"
           }
          ],
          "histogram": [
           {
            "marker": {
             "pattern": {
              "fillmode": "overlay",
              "size": 10,
              "solidity": 0.2
             }
            },
            "type": "histogram"
           }
          ],
          "histogram2d": [
           {
            "colorbar": {
             "outlinewidth": 0,
             "ticks": ""
            },
            "colorscale": [
             [
              0,
              "#0d0887"
             ],
             [
              0.1111111111111111,
              "#46039f"
             ],
             [
              0.2222222222222222,
              "#7201a8"
             ],
             [
              0.3333333333333333,
              "#9c179e"
             ],
             [
              0.4444444444444444,
              "#bd3786"
             ],
             [
              0.5555555555555556,
              "#d8576b"
             ],
             [
              0.6666666666666666,
              "#ed7953"
             ],
             [
              0.7777777777777778,
              "#fb9f3a"
             ],
             [
              0.8888888888888888,
              "#fdca26"
             ],
             [
              1,
              "#f0f921"
             ]
            ],
            "type": "histogram2d"
           }
          ],
          "histogram2dcontour": [
           {
            "colorbar": {
             "outlinewidth": 0,
             "ticks": ""
            },
            "colorscale": [
             [
              0,
              "#0d0887"
             ],
             [
              0.1111111111111111,
              "#46039f"
             ],
             [
              0.2222222222222222,
              "#7201a8"
             ],
             [
              0.3333333333333333,
              "#9c179e"
             ],
             [
              0.4444444444444444,
              "#bd3786"
             ],
             [
              0.5555555555555556,
              "#d8576b"
             ],
             [
              0.6666666666666666,
              "#ed7953"
             ],
             [
              0.7777777777777778,
              "#fb9f3a"
             ],
             [
              0.8888888888888888,
              "#fdca26"
             ],
             [
              1,
              "#f0f921"
             ]
            ],
            "type": "histogram2dcontour"
           }
          ],
          "mesh3d": [
           {
            "colorbar": {
             "outlinewidth": 0,
             "ticks": ""
            },
            "type": "mesh3d"
           }
          ],
          "parcoords": [
           {
            "line": {
             "colorbar": {
              "outlinewidth": 0,
              "ticks": ""
             }
            },
            "type": "parcoords"
           }
          ],
          "pie": [
           {
            "automargin": true,
            "type": "pie"
           }
          ],
          "scatter": [
           {
            "fillpattern": {
             "fillmode": "overlay",
             "size": 10,
             "solidity": 0.2
            },
            "type": "scatter"
           }
          ],
          "scatter3d": [
           {
            "line": {
             "colorbar": {
              "outlinewidth": 0,
              "ticks": ""
             }
            },
            "marker": {
             "colorbar": {
              "outlinewidth": 0,
              "ticks": ""
             }
            },
            "type": "scatter3d"
           }
          ],
          "scattercarpet": [
           {
            "marker": {
             "colorbar": {
              "outlinewidth": 0,
              "ticks": ""
             }
            },
            "type": "scattercarpet"
           }
          ],
          "scattergeo": [
           {
            "marker": {
             "colorbar": {
              "outlinewidth": 0,
              "ticks": ""
             }
            },
            "type": "scattergeo"
           }
          ],
          "scattergl": [
           {
            "marker": {
             "colorbar": {
              "outlinewidth": 0,
              "ticks": ""
             }
            },
            "type": "scattergl"
           }
          ],
          "scattermapbox": [
           {
            "marker": {
             "colorbar": {
              "outlinewidth": 0,
              "ticks": ""
             }
            },
            "type": "scattermapbox"
           }
          ],
          "scatterpolar": [
           {
            "marker": {
             "colorbar": {
              "outlinewidth": 0,
              "ticks": ""
             }
            },
            "type": "scatterpolar"
           }
          ],
          "scatterpolargl": [
           {
            "marker": {
             "colorbar": {
              "outlinewidth": 0,
              "ticks": ""
             }
            },
            "type": "scatterpolargl"
           }
          ],
          "scatterternary": [
           {
            "marker": {
             "colorbar": {
              "outlinewidth": 0,
              "ticks": ""
             }
            },
            "type": "scatterternary"
           }
          ],
          "surface": [
           {
            "colorbar": {
             "outlinewidth": 0,
             "ticks": ""
            },
            "colorscale": [
             [
              0,
              "#0d0887"
             ],
             [
              0.1111111111111111,
              "#46039f"
             ],
             [
              0.2222222222222222,
              "#7201a8"
             ],
             [
              0.3333333333333333,
              "#9c179e"
             ],
             [
              0.4444444444444444,
              "#bd3786"
             ],
             [
              0.5555555555555556,
              "#d8576b"
             ],
             [
              0.6666666666666666,
              "#ed7953"
             ],
             [
              0.7777777777777778,
              "#fb9f3a"
             ],
             [
              0.8888888888888888,
              "#fdca26"
             ],
             [
              1,
              "#f0f921"
             ]
            ],
            "type": "surface"
           }
          ],
          "table": [
           {
            "cells": {
             "fill": {
              "color": "#EBF0F8"
             },
             "line": {
              "color": "white"
             }
            },
            "header": {
             "fill": {
              "color": "#C8D4E3"
             },
             "line": {
              "color": "white"
             }
            },
            "type": "table"
           }
          ]
         },
         "layout": {
          "annotationdefaults": {
           "arrowcolor": "#2a3f5f",
           "arrowhead": 0,
           "arrowwidth": 1
          },
          "autotypenumbers": "strict",
          "coloraxis": {
           "colorbar": {
            "outlinewidth": 0,
            "ticks": ""
           }
          },
          "colorscale": {
           "diverging": [
            [
             0,
             "#8e0152"
            ],
            [
             0.1,
             "#c51b7d"
            ],
            [
             0.2,
             "#de77ae"
            ],
            [
             0.3,
             "#f1b6da"
            ],
            [
             0.4,
             "#fde0ef"
            ],
            [
             0.5,
             "#f7f7f7"
            ],
            [
             0.6,
             "#e6f5d0"
            ],
            [
             0.7,
             "#b8e186"
            ],
            [
             0.8,
             "#7fbc41"
            ],
            [
             0.9,
             "#4d9221"
            ],
            [
             1,
             "#276419"
            ]
           ],
           "sequential": [
            [
             0,
             "#0d0887"
            ],
            [
             0.1111111111111111,
             "#46039f"
            ],
            [
             0.2222222222222222,
             "#7201a8"
            ],
            [
             0.3333333333333333,
             "#9c179e"
            ],
            [
             0.4444444444444444,
             "#bd3786"
            ],
            [
             0.5555555555555556,
             "#d8576b"
            ],
            [
             0.6666666666666666,
             "#ed7953"
            ],
            [
             0.7777777777777778,
             "#fb9f3a"
            ],
            [
             0.8888888888888888,
             "#fdca26"
            ],
            [
             1,
             "#f0f921"
            ]
           ],
           "sequentialminus": [
            [
             0,
             "#0d0887"
            ],
            [
             0.1111111111111111,
             "#46039f"
            ],
            [
             0.2222222222222222,
             "#7201a8"
            ],
            [
             0.3333333333333333,
             "#9c179e"
            ],
            [
             0.4444444444444444,
             "#bd3786"
            ],
            [
             0.5555555555555556,
             "#d8576b"
            ],
            [
             0.6666666666666666,
             "#ed7953"
            ],
            [
             0.7777777777777778,
             "#fb9f3a"
            ],
            [
             0.8888888888888888,
             "#fdca26"
            ],
            [
             1,
             "#f0f921"
            ]
           ]
          },
          "colorway": [
           "#636efa",
           "#EF553B",
           "#00cc96",
           "#ab63fa",
           "#FFA15A",
           "#19d3f3",
           "#FF6692",
           "#B6E880",
           "#FF97FF",
           "#FECB52"
          ],
          "font": {
           "color": "#2a3f5f"
          },
          "geo": {
           "bgcolor": "white",
           "lakecolor": "white",
           "landcolor": "#E5ECF6",
           "showlakes": true,
           "showland": true,
           "subunitcolor": "white"
          },
          "hoverlabel": {
           "align": "left"
          },
          "hovermode": "closest",
          "mapbox": {
           "style": "light"
          },
          "paper_bgcolor": "white",
          "plot_bgcolor": "#E5ECF6",
          "polar": {
           "angularaxis": {
            "gridcolor": "white",
            "linecolor": "white",
            "ticks": ""
           },
           "bgcolor": "#E5ECF6",
           "radialaxis": {
            "gridcolor": "white",
            "linecolor": "white",
            "ticks": ""
           }
          },
          "scene": {
           "xaxis": {
            "backgroundcolor": "#E5ECF6",
            "gridcolor": "white",
            "gridwidth": 2,
            "linecolor": "white",
            "showbackground": true,
            "ticks": "",
            "zerolinecolor": "white"
           },
           "yaxis": {
            "backgroundcolor": "#E5ECF6",
            "gridcolor": "white",
            "gridwidth": 2,
            "linecolor": "white",
            "showbackground": true,
            "ticks": "",
            "zerolinecolor": "white"
           },
           "zaxis": {
            "backgroundcolor": "#E5ECF6",
            "gridcolor": "white",
            "gridwidth": 2,
            "linecolor": "white",
            "showbackground": true,
            "ticks": "",
            "zerolinecolor": "white"
           }
          },
          "shapedefaults": {
           "line": {
            "color": "#2a3f5f"
           }
          },
          "ternary": {
           "aaxis": {
            "gridcolor": "white",
            "linecolor": "white",
            "ticks": ""
           },
           "baxis": {
            "gridcolor": "white",
            "linecolor": "white",
            "ticks": ""
           },
           "bgcolor": "#E5ECF6",
           "caxis": {
            "gridcolor": "white",
            "linecolor": "white",
            "ticks": ""
           }
          },
          "title": {
           "x": 0.05
          },
          "xaxis": {
           "automargin": true,
           "gridcolor": "white",
           "linecolor": "white",
           "ticks": "",
           "title": {
            "standoff": 15
           },
           "zerolinecolor": "white",
           "zerolinewidth": 2
          },
          "yaxis": {
           "automargin": true,
           "gridcolor": "white",
           "linecolor": "white",
           "ticks": "",
           "title": {
            "standoff": 15
           },
           "zerolinecolor": "white",
           "zerolinewidth": 2
          }
         }
        }
       }
      }
     },
     "metadata": {},
     "output_type": "display_data"
    }
   ],
   "source": [
    "out_name = input('Write task name: ')\n",
    "cur_filename = '\\\\' + out_name + '.csv'\n",
    "df = pd.read_csv(PATH + r'\\cleared' + cur_filename)\n",
    "df = df.rename(columns={\n",
    "    '% k1': 'k1',\n",
    "    df.columns[1]: 'target',\n",
    "})\n",
    "fig = go.Figure()\n",
    "fig.update_layout(margin={'r': 0, 'l': 0, 't': 0, 'b': 0})\n",
    "fig.add_traces(\n",
    "    go.Scatter(\n",
    "        x=df['k1'],\n",
    "        y=df['target'],\n",
    "        hovertemplate='k1: %{x}<br>integral: %{y:.2f}',\n",
    "        name='',\n",
    "    ))"
   ]
  }
 ],
 "metadata": {
  "kernelspec": {
   "display_name": "Python 3.11.1 ('polymer_env': venv)",
   "language": "python",
   "name": "python3"
  },
  "language_info": {
   "codemirror_mode": {
    "name": "ipython",
    "version": 3
   },
   "file_extension": ".py",
   "mimetype": "text/x-python",
   "name": "python",
   "nbconvert_exporter": "python",
   "pygments_lexer": "ipython3",
   "version": "3.11.1"
  },
  "orig_nbformat": 4,
  "vscode": {
   "interpreter": {
    "hash": "96273da12dac1f1eac70f0f528514a6c8e027bc24c802bbe4de4962cd95b528f"
   }
  }
 },
 "nbformat": 4,
 "nbformat_minor": 2
}
