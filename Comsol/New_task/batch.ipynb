{
 "cells": [
  {
   "cell_type": "code",
   "execution_count": null,
   "metadata": {},
   "outputs": [],
   "source": [
    "\"\"\"\n",
    "comsolbatch -inputfile system.mph -pname kdisp,kq -plist \"\",\"\"\n",
    "-outputfile system_out.mph \n",
    "\n",
    "\"\"\""
   ]
  },
  {
   "cell_type": "code",
   "execution_count": null,
   "metadata": {},
   "outputs": [],
   "source": [
    "\"\"\"\n",
    "comsolbatch -inputfile system.mph -methodcall solve_full -nosave\n",
    "\n",
    "\n",
    "\"\"\""
   ]
  },
  {
   "cell_type": "code",
   "execution_count": null,
   "metadata": {},
   "outputs": [],
   "source": [
    "\"\"\"\n",
    "comsolbatch -inputfile system.mph -methodcall solve_full -nosave -batchlog system_test_log.log\n",
    "\"\"\"\n"
   ]
  }
 ],
 "metadata": {
  "kernelspec": {
   "display_name": "Python 3.11.1 ('polymer_env': venv)",
   "language": "python",
   "name": "python3"
  },
  "language_info": {
   "name": "python",
   "version": "3.11.1"
  },
  "orig_nbformat": 4,
  "vscode": {
   "interpreter": {
    "hash": "869083f89cd2653c07b4c7c7228bb19b4bda268d35c0d209ba3d86d7e51ecb06"
   }
  }
 },
 "nbformat": 4,
 "nbformat_minor": 2
}
