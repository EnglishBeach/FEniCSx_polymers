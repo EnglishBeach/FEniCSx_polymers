{
 "cells": [
  {
   "cell_type": "code",
   "execution_count": 2,
   "metadata": {},
   "outputs": [],
   "source": [
    "# Saving and type checking\n",
    "import shutil\n",
    "import typing\n",
    "# Solving\n",
    "import dolfinx\n",
    "from dolfinx import mesh, fem, io, nls\n",
    "from dolfinx.fem import FunctionSpace, VectorFunctionSpace\n",
    "from mpi4py import MPI\n",
    "import numpy as np\n",
    "\n",
    "# Operators\n",
    "import ufl\n",
    "from ufl import TrialFunction, TestFunction, TrialFunctions, TestFunctions\n",
    "from ufl import FacetNormal, SpatialCoordinate, variable\n",
    "from ufl import diff as D\n",
    "from ufl import nabla_div, nabla_grad, grad, div\n",
    "from ufl import as_matrix as matrix\n",
    "from ufl import lhs, rhs, split\n",
    "from ufl import exp, sym, tr, sqrt, ln, sin, cos\n",
    "# Graphics\n",
    "import matplotlib.pyplot as plt\n",
    "# Logging\n",
    "from tqdm import tqdm\n",
    "\n",
    "from local_fenics.fenics import *"
   ]
  },
  {
   "cell_type": "code",
   "execution_count": 3,
   "metadata": {},
   "outputs": [],
   "source": [
    "N=10\n",
    "domain = mesh.create_unit_square(\n",
    "    nx=N,\n",
    "    ny=N,\n",
    "    comm=MPI.COMM_WORLD,\n",
    "    cell_type=mesh.CellType.triangle,\n",
    "    )\n",
    "# domain = mesh.create_unit_square(\n",
    "#     points=((-0.5, -0.5), (1.5, 1.5)),\n",
    "#     n=(N, N),\n",
    "#     comm=MPI.COMM_WORLD,\n",
    "#     cell_type=mesh.CellType.triangle\n",
    "#     )\n",
    "\n",
    "el = ufl.FiniteElement(family='CG', cell=domain.ufl_cell(), degree=1)\n",
    "Mix_el = el * el\n",
    "W = FunctionSpace(mesh=domain, element=Mix_el)\n",
    "W0, _ = W.sub(0).collapse()\n",
    "W1, _ = W.sub(1).collapse()\n",
    "\n",
    "x, y = SpatialCoordinate(W)\n",
    "dx = ufl.Measure('cell', subdomain_id='everywhere')\n",
    "u, v = TestFunctions(W)\n",
    "s, s0 = Function(W), Function(W)\n",
    "\n",
    "cN, cP = split(s)\n",
    "cN0, cP0 = split(s0)\n",
    "\n",
    "cNS = s.sub(0)\n",
    "cPS = s.sub(1)\n",
    "cNS.name = 'C neutral'\n",
    "cPS.name = 'C polimer'\n",
    "\n",
    "\n",
    "save_dir = '/home/VTK/System_files'\n",
    "num_save = 1"
   ]
  },
  {
   "cell_type": "code",
   "execution_count": 4,
   "metadata": {},
   "outputs": [],
   "source": [
    "n_steps = 100\n",
    "\n",
    "# dt = 0.001\n",
    "# T = n_steps * dt\n",
    "# OR\n",
    "T = 3\n",
    "dt = T / n_steps\n",
    "\n",
    "n_shecks = 10\n",
    "check_every = int(n_steps / n_shecks)\n",
    "\n",
    "s.sub(0).interpolate(lambda x: 0.2 + x[0] - x[0])\n",
    "s.sub(1).interpolate(lambda x: 0.001 + x[0] - x[0])\n",
    "s.x.scatter_forward()\n",
    "\n",
    "p1 = 0.13\n",
    "a = 0.1\n",
    "e = a * exp(-cP / p1)\n",
    "b = a * exp(-cP / p1)\n",
    "g = 4\n",
    "\n",
    "light_f = lambda x: np.where(\n",
    "    npand(\n",
    "        npand(x[0] < 0.7, x[0] > 0.3),\n",
    "        npand(x[1] < 0.7, x[1] > 0.3),\n",
    "        ),\n",
    "    1,\n",
    "    0,\n",
    "    )\n",
    "# light_f = lambda x: np.where(\n",
    "#     npand(x[0]<0.5,x[1]<0.5\n",
    "#         ),\n",
    "#     1,\n",
    "#     0,\n",
    "#     )\n"
   ]
  },
  {
   "cell_type": "code",
   "execution_count": 5,
   "metadata": {},
   "outputs": [],
   "source": [
    "# create_connectivity(domain=domain)\n",
    "# x0,x1,y0,y1 = 1,2,3,4\n",
    "# markers=[\n",
    "#     [x0,lambda]\n",
    "# ]\n",
    "# bcs = [\n",
    "#     DirichletBC(space=(W.sub(0),))\n",
    "# ]"
   ]
  },
  {
   "cell_type": "code",
   "execution_count": 6,
   "metadata": {},
   "outputs": [],
   "source": [
    "light = Function(W1, light_f)\n",
    "light.name = 'Light'\n",
    "\n",
    "f = g * (1-cP-cN) * (-ln((1-cP-cN) / (1-cN)))**((g-1) / g)\n",
    "\n",
    "F1 = (1/dt) * (cN-cN0) * u * dx\n",
    "F1 += a * (grad(cN)|dot|grad(u)) * dx\n",
    "F1 += -a * cP * (grad(cN)|dot|grad(u)) * dx\n",
    "F1 += a * cN * (grad(cP)|dot|grad(u)) * dx\n",
    "F1 += e * cP * (grad(cN)|dot|grad(u)) * dx\n",
    "F1 += -e * cN * (grad(cP)|dot|grad(u)) * dx\n",
    "F1 += (e/p1) * cP * (grad(cP)|dot|grad(cN)) * u * dx\n",
    "F1 += -(e / p1) * cN * (grad(cP)|dot|grad(cP)) * u * dx\n",
    "\n",
    "F2 = (1/dt) * (cP-cP0) * v * dx\n",
    "F2 += b * (grad(cP)|dot|grad(v)) * dx\n",
    "F2 += b * cP * (grad(cN)|dot|grad(v)) * dx\n",
    "F2 += -b * cN * (grad(cP)|dot|grad(v)) * dx\n",
    "F2 += -e * cP * (grad(cN)|dot|grad(v)) * dx\n",
    "F2 += e * cN * (grad(cP)|dot|grad(v)) * dx\n",
    "F2 += (b/p1) * cP * (grad(cP)|dot|grad(cN)) * v * dx\n",
    "F2 += -(b / p1) * cN * (grad(cP)|dot|grad(cP)) * v * dx\n",
    "F2 += -(e / p1) * cP * (grad(cN)|dot|grad(cP)) * v * dx\n",
    "F2 += (e/p1) * cN * (grad(cP)|dot|grad(cP)) * v * dx\n",
    "F2 += (b/p1) * (grad(cP)|dot|grad(cP)) * v * dx\n",
    "F2 += -light * f * v * dx\n",
    "\n",
    "F = F1 + F2"
   ]
  },
  {
   "cell_type": "code",
   "execution_count": 7,
   "metadata": {},
   "outputs": [],
   "source": [
    "problem = NonlinearProblem(\n",
    "    F=F,\n",
    "    bcs=[],\n",
    "    u=s,\n",
    "    petsc_options={\n",
    "        'ksp_type': 'cg',\n",
    "        'pc_type': 'lu',\n",
    "        'pc_factor_mat_solver_type': 'superlu_dist',\n",
    "        }\n",
    "    )"
   ]
  },
  {
   "cell_type": "code",
   "execution_count": 8,
   "metadata": {},
   "outputs": [
    {
     "name": "stderr",
     "output_type": "stream",
     "text": [
      "Solving PDE: 100%|██████████| 100/100 [00:01<00:00, 57.94it/s]\n"
     ]
    }
   ],
   "source": [
    "try:\n",
    "    shutil.rmtree(save_dir)\n",
    "except:\n",
    "    print('Directory empty yet')\n",
    "with io.XDMFFile(\n",
    "    domain.comm, save_dir + f'/System{num_save}.xdmf', 'w'\n",
    "    ) as file:\n",
    "    file.write_mesh(domain)\n",
    "\n",
    "    time = 0\n",
    "    file.write_function(cNS, 0)\n",
    "    file.write_function(cPS, 0)\n",
    "    file.write_function(light, 0)\n",
    "    s0.interpolate(s)\n",
    "\n",
    "    for step in tqdm(\n",
    "        desc='Solving PDE', iterable=np.arange(0, n_steps, dtype=int)\n",
    "        ):\n",
    "        s = problem.solve()\n",
    "        s0.interpolate(s)\n",
    "        # light.interpolate()\n",
    "        if step % check_every == 0:\n",
    "            file.write_function(cNS, time + dt)\n",
    "            file.write_function(cPS, time + dt)\n",
    "            file.write_function(light, time + dt)\n",
    "        time += dt"
   ]
  },
  {
   "cell_type": "code",
   "execution_count": 9,
   "metadata": {},
   "outputs": [
    {
     "name": "stdout",
     "output_type": "stream",
     "text": [
      "(FDM1) CFL: 0.3\n",
      "Norm of polimer: 2.01\n",
      "Norm of neutral: 2.83\n"
     ]
    },
    {
     "data": {
      "image/png": "[encoded data removed]",
      "text/plain": [
       "<Figure size 1152x576 with 4 Axes>"
      ]
     },
     "metadata": {
      "needs_background": "light"
     },
     "output_type": "display_data"
    }
   ],
   "source": [
    "light_col = Function(W0, light)\n",
    "cNS_col = Function(W0, cNS)\n",
    "cPS_col = Function(W0, cPS)\n",
    "cMS_col = Function(W0, 1 - cNS_col - cPS_col)\n",
    "\n",
    "print(f'(FDM1) CFL: {a*N**2*dt}')\n",
    "print(f\"Norm of polimer: {cPS_col.x.norm():.2f}\")\n",
    "print(f\"Norm of neutral: {cNS_col.x.norm():.2f}\")\n",
    "fig, (ax, ax2) = plt.subplots(1, 2)\n",
    "fig.set_size_inches(16, 8)\n",
    "PostProcess.graph2D(\n",
    "    fig=fig,\n",
    "    natural_show=True,\n",
    "     # points_on=True,\n",
    "    lists=[\n",
    "        [cPS_col, ax, 'Polimer'],\n",
    "        [cMS_col, ax2, 'Monomer'],\n",
    "        ],\n",
    "    )"
   ]
  }
 ],
 "metadata": {
  "kernelspec": {
   "display_name": "Python 3.10.4 64-bit",
   "language": "python",
   "name": "python3"
  },
  "language_info": {
   "codemirror_mode": {
    "name": "ipython",
    "version": 3
   },
   "file_extension": ".py",
   "mimetype": "text/x-python",
   "name": "python",
   "nbconvert_exporter": "python",
   "pygments_lexer": "ipython3",
   "version": "3.10.4"
  },
  "orig_nbformat": 4,
  "vscode": {
   "interpreter": {
    "hash": "31f2aee4e71d21fbe5cf8b01ff0e069b9275f58929596ceb00d14d90e3e16cd6"
   }
  }
 },
 "nbformat": 4,
 "nbformat_minor": 2
}
