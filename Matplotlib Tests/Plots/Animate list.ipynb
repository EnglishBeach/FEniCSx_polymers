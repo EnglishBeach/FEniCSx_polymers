{
 "cells": [
  {
   "cell_type": "markdown",
   "metadata": {},
   "source": [
    "# Animate Lists"
   ]
  },
  {
   "cell_type": "code",
   "execution_count": null,
   "metadata": {},
   "outputs": [
    {
     "ename": "NameError",
     "evalue": "name 'animate_list' is not defined",
     "output_type": "error",
     "traceback": [
      "\u001b[0;31m---------------------------------------------------------------------------\u001b[0m\n",
      "\u001b[0;31mNameError\u001b[0m                                 Traceback (most recent call last)\n",
      "\u001b[1;32m/home/homeubuntu/MyFenics/Matplotlib Tests/Animation Jupyter.ipynb Cell 41'\u001b[0m in \u001b[0;36m<cell line: 47>\u001b[0;34m()\u001b[0m\n",
      "\u001b[1;32m     <a href='vscode-notebook-cell://wsl%2Bubuntu/home/homeubuntu/MyFenics/Matplotlib%20Tests/Animation%20Jupyter.ipynb#ch0000040vscode-remote?line=43'>44</a>\u001b[0m     \u001b[39melse\u001b[39;00m:\n",
      "\u001b[1;32m     <a href='vscode-notebook-cell://wsl%2Bubuntu/home/homeubuntu/MyFenics/Matplotlib%20Tests/Animation%20Jupyter.ipynb#ch0000040vscode-remote?line=44'>45</a>\u001b[0m         trajectory \u001b[39m=\u001b[39m trajectory[:\u001b[39m-\u001b[39m\u001b[39m1\u001b[39m]\n",
      "\u001b[0;32m---> <a href='vscode-notebook-cell://wsl%2Bubuntu/home/homeubuntu/MyFenics/Matplotlib%20Tests/Animation%20Jupyter.ipynb#ch0000040vscode-remote?line=46'>47</a>\u001b[0m animate_list(plots, play\u001b[39m=\u001b[39m\u001b[39mTrue\u001b[39;00m, interval\u001b[39m=\u001b[39m\u001b[39m300\u001b[39m)\n",
      "\n",
      "\u001b[0;31mNameError\u001b[0m: name 'animate_list' is not defined"
     ]
    }
   ],
   "source": [
    "import numpy as np\n",
    "import matplotlib.pyplot as plt\n",
    "\n",
    "# Функция, которую минимизируем, минимум в точке (0, 0)\n",
    "def f(x, y):\n",
    "    return 1.3 * (x-1 - y) ** 3 + 0.7 * (x + y) ** 2\n",
    "\n",
    "# Отрисовка траектории и линий уровня функции\n",
    "def plot_trajectory(func, traj, limit_point=None):\n",
    "    fig = plt.figure(figsize=(7, 7))\n",
    "    ax = fig.add_axes([0, 0, 1, 1])    \n",
    "    \n",
    "    if limit_point:\n",
    "        ax.plot([limit_point[0]], [limit_point[1]], 'o', color='green')\n",
    "    #Level contours\n",
    "    delta = 0.025\n",
    "    x = np.arange(-2, 2, delta)\n",
    "    y = np.arange(-2, 2, delta)\n",
    "    X, Y = np.meshgrid(x, y)\n",
    "    Z = np.zeros_like(X)\n",
    "    for i in range(X.shape[0]):\n",
    "        for j in range(X.shape[1]):\n",
    "            Z[i][j] = func(X[i][j], Y[i][j])\n",
    "    CS = ax.contour(X, Y, Z, [0.5, 1.5, 3], colors=['blue', 'purple', 'red'])\n",
    "    ax.plot([u[0] for u in traj], [u[1] for u in traj], color='black')\n",
    "    ax.plot([u[0] for u in traj], [u[1] for u in traj], 'o', color='black')\n",
    "    \n",
    "    plt.close(fig)\n",
    "    return fig\n",
    "\n",
    "x, y = (1.0, 1.0)\n",
    "num_iters = 100\n",
    "trajectory = [(x, y)]\n",
    "plots = []\n",
    "# Итерируемся и сохраняем текущий путь на каждом шаге\n",
    "for i in range(num_iters):\n",
    "    angle = 2 * np.pi * np.random.rand(1)\n",
    "    dx, dy = (np.cos(angle) / 2 / (i + 1) ** 0.5, np.sin(angle) / 2 / (i + 1) ** 0.5)\n",
    "    trajectory.append((x + dx, y + dy))\n",
    "    plots.append(plot_trajectory(f, trajectory, limit_point=(0, 0)))\n",
    "    if f(x, y) > f(x + dx, y + dy):\n",
    "        x = x + dx\n",
    "        y = y + dy\n",
    "    else:\n",
    "        trajectory = trajectory[:-1]\n",
    "\n",
    "animate_list(plots, play=True, interval=300);"
   ]
  },
  {
   "cell_type": "code",
   "execution_count": null,
   "metadata": {},
   "outputs": [
    {
     "data": {
      "application/vnd.jupyter.widget-view+json": {
       "model_id": "07cc2d9a2567413183ff53e1363935c0",
       "version_major": 2,
       "version_minor": 0
      },
      "text/plain": [
       "interactive(children=(FloatSlider(value=3.0, description='f', max=5.0, min=1.0, step=0.001), FloatSlider(value…"
      ]
     },
     "metadata": {},
     "output_type": "display_data"
    }
   ],
   "source": [
    "import numpy as np\n",
    "import matplotlib.pyplot as plt\n",
    "\n",
    "from ipywidgets import interact\n",
    "\n",
    "@interact(f=(1, 5, 0.001), phase=(0, 3.14, 0.1))\n",
    "def plot_f(f, phase):\n",
    "    x = np.linspace(0, 10, 100)\n",
    "    y = np.sin(f * x + phase)\n",
    "    plt.plot(x, y, 'r')\n",
    "    plt.show()"
   ]
  },
  {
   "cell_type": "code",
   "execution_count": null,
   "metadata": {},
   "outputs": [],
   "source": [
    "from ipywidgets import interact, interactive, fixed, interact_manual\n",
    "import ipywidgets as widgets\n",
    "from IPython.display import display\n",
    "\n",
    "\n",
    "def step_slice(lst, step):\n",
    "    return lst[step]\n",
    "\n",
    "\n",
    "def animate_list(lst, play=False, interval=200):\n",
    "    slider = widgets.IntSlider(min=0, max=len(lst) - 1, step=1, value=0)\n",
    "    if play:\n",
    "        play_widjet = widgets.Play(interval=interval)\n",
    "        widgets.jslink((play_widjet, 'value'), (slider, 'value'))\n",
    "        display(play_widjet)\n",
    "        # slider = widgets.Box([play_widject, slider])\n",
    "    return interact(step_slice,\n",
    "                    lst=fixed(lst),\n",
    "                    step=slider)"
   ]
  },
  {
   "cell_type": "code",
   "execution_count": null,
   "metadata": {},
   "outputs": [
    {
     "data": {
      "application/vnd.jupyter.widget-view+json": {
       "model_id": "d09ea97bb2fe4e6c984ffd0c4cb614b3",
       "version_major": 2,
       "version_minor": 0
      },
      "text/plain": [
       "Play(value=0, interval=200)"
      ]
     },
     "metadata": {},
     "output_type": "display_data"
    },
    {
     "data": {
      "application/vnd.jupyter.widget-view+json": {
       "model_id": "b539f9b839cf41be8b7d32fa3d5e3a3f",
       "version_major": 2,
       "version_minor": 0
      },
      "text/plain": [
       "interactive(children=(IntSlider(value=0, description='step', max=9), Output()), _dom_classes=('widget-interact…"
      ]
     },
     "metadata": {},
     "output_type": "display_data"
    }
   ],
   "source": [
    "a = [10, 9, 8, 7, 6, 5, 4, 3, 2, 1]\n",
    "animate_list(a, play=True, interval=200);"
   ]
  },
  {
   "cell_type": "markdown",
   "metadata": {},
   "source": [
    "Normal picture plt"
   ]
  },
  {
   "cell_type": "code",
   "execution_count": null,
   "metadata": {},
   "outputs": [
    {
     "data": {
      "image/png": "[encoded data removed]",
      "text/plain": [
       "<Figure size 432x288 with 4 Axes>"
      ]
     },
     "metadata": {},
     "output_type": "display_data"
    }
   ],
   "source": [
    "import numpy as np\n",
    "import matplotlib.pyplot as plt\n",
    "from matplotlib.widgets import Slider, Button\n",
    "\n",
    "\n",
    "# The parametrized function to be plotted\n",
    "def f(t, amplitude, frequency):\n",
    "    return amplitude * np.sin(2 * np.pi * frequency * t)\n",
    "\n",
    "t = np.linspace(0, 1, 1000)\n",
    "\n",
    "# Define initial parameters\n",
    "init_amplitude = 5\n",
    "init_frequency = 3\n",
    "\n",
    "# Create the figure and the line that we will manipulate\n",
    "fig, ax = plt.subplots()\n",
    "line, = plt.plot(t, f(t, init_amplitude, init_frequency), lw=2)\n",
    "ax.set_xlabel('Time [s]')\n",
    "\n",
    "# adjust the main plot to make room for the sliders\n",
    "plt.subplots_adjust(left=0.25, bottom=0.25)\n",
    "\n",
    "# Make a horizontal slider to control the frequency.\n",
    "axfreq = plt.axes([0.25, 0.1, 0.65, 0.3])\n",
    "freq_slider = Slider(\n",
    "    ax=axfreq,\n",
    "    label='Frequency [Hz]',\n",
    "    valmin=0.1,\n",
    "    valmax=30,\n",
    "    valinit=init_frequency,\n",
    ")\n",
    "\n",
    "# Make a vertically oriented slider to control the amplitude\n",
    "axamp = plt.axes([0.1, 0.25, 0.0225, 0.63])\n",
    "amp_slider = Slider(\n",
    "    ax=axamp,\n",
    "    label=\"Amplitude\",\n",
    "    valmin=0,\n",
    "    valmax=10,\n",
    "    valinit=init_amplitude,\n",
    "    orientation=\"vertical\"\n",
    ")\n",
    "\n",
    "\n",
    "# The function to be called anytime a slider's value changes\n",
    "def update(val):\n",
    "    line.set_ydata(f(t, amp_slider.val, freq_slider.val))\n",
    "    fig.canvas.draw_idle()\n",
    "\n",
    "\n",
    "# register the update function with each slider\n",
    "freq_slider.on_changed(update)\n",
    "amp_slider.on_changed(update)\n",
    "\n",
    "# Create a `matplotlib.widgets.Button` to reset the sliders to initial values.\n",
    "resetax = plt.axes([0.8, 0.025, 0.1, 0.04])\n",
    "button = Button(resetax, 'Reset', hovercolor='0.975')\n",
    "\n",
    "\n",
    "def reset(event):\n",
    "    freq_slider.reset()\n",
    "    amp_slider.reset()\n",
    "button.on_clicked(reset)\n",
    "\n",
    "plt.show()"
   ]
  },
  {
   "cell_type": "code",
   "execution_count": null,
   "metadata": {},
   "outputs": [],
   "source": []
  }
 ],
 "metadata": {
  "language_info": {
   "name": "python"
  },
  "orig_nbformat": 4
 },
 "nbformat": 4,
 "nbformat_minor": 2
}
