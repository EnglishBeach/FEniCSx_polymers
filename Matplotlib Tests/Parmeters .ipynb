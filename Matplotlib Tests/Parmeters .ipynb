{
 "cells": [
  {
   "cell_type": "markdown",
   "metadata": {},
   "source": [
    "# Parametrs function"
   ]
  },
  {
   "cell_type": "code",
   "execution_count": 9,
   "metadata": {},
   "outputs": [],
   "source": [
    "import numpy as np\n",
    "import matplotlib.pyplot as plt\n",
    "\n",
    "from ipywidgets import interact,interact_manual,interactive\n",
    "from ipywidgets import FloatSlider\n",
    "import ipywidgets as widgets\n",
    "\n",
    "from IPython.display import display"
   ]
  },
  {
   "cell_type": "code",
   "execution_count": 10,
   "metadata": {},
   "outputs": [],
   "source": [
    "def f_params (x,params: dict):\n",
    "    a= params['a']\n",
    "    c= params['c']\n",
    "    return x**a+c\n",
    "    "
   ]
  },
  {
   "cell_type": "code",
   "execution_count": 11,
   "metadata": {},
   "outputs": [],
   "source": [
    "x_f_params_list = np.linspace(-5,5,100)"
   ]
  },
  {
   "cell_type": "code",
   "execution_count": 12,
   "metadata": {},
   "outputs": [
    {
     "data": {
      "text/plain": [
       "[<matplotlib.lines.Line2D at 0x7f3cc8168760>]"
      ]
     },
     "execution_count": 12,
     "metadata": {},
     "output_type": "execute_result"
    },
    {
     "data": {
      "image/png": "[encoded data removed]",
      "text/plain": [
       "<Figure size 432x288 with 1 Axes>"
      ]
     },
     "metadata": {
      "needs_background": "light"
     },
     "output_type": "display_data"
    }
   ],
   "source": [
    "plt.plot(x_f_params_list,f_params(x_f_params_list,{'a':3,'c':1000}))"
   ]
  },
  {
   "cell_type": "markdown",
   "metadata": {},
   "source": [
    "# Interactive"
   ]
  },
  {
   "cell_type": "markdown",
   "metadata": {},
   "source": [
    "Simple way"
   ]
  },
  {
   "cell_type": "code",
   "execution_count": 13,
   "metadata": {},
   "outputs": [
    {
     "data": {
      "application/vnd.jupyter.widget-view+json": {
       "model_id": "523d49264c7d41f8a38797f51d9b6054",
       "version_major": 2,
       "version_minor": 0
      },
      "text/plain": [
       "interactive(children=(IntSlider(value=2, description='m', max=6, min=-2), FloatSlider(value=0.0, description='…"
      ]
     },
     "metadata": {},
     "output_type": "display_data"
    }
   ],
   "source": [
    "def f(m, b):\n",
    "    plt.figure()\n",
    "    x = np.linspace(-10, 10, num=1000)\n",
    "    plt.plot(x, m * x + b)\n",
    "    plt.ylim(-5, 5)\n",
    "    plt.show()\n",
    "\n",
    "\n",
    "interactive_plot = interactive(f, m= 2, b= (-3, 3, 0.5))\n",
    "output = interactive_plot.children[-1]\n",
    "output.layout.height = '300px'\n",
    "interactive_plot"
   ]
  },
  {
   "cell_type": "code",
   "execution_count": 14,
   "metadata": {},
   "outputs": [
    {
     "data": {
      "application/vnd.jupyter.widget-view+json": {
       "model_id": "3d540b3aef704c368be27ad8e3f54b30",
       "version_major": 2,
       "version_minor": 0
      },
      "text/plain": [
       "HBox(children=(VBox(children=(IntSlider(value=0, description='a'), IntSlider(value=0, description='b'), IntSli…"
      ]
     },
     "metadata": {},
     "output_type": "display_data"
    }
   ],
   "source": [
    "a_slide = widgets.IntSlider(description='a')\n",
    "b_slide = widgets.IntSlider(description='b')\n",
    "c_slide = widgets.IntSlider(description='c')\n",
    "\n",
    "\n",
    "def f(a, b, c):\n",
    "    print('{}*{}*{}={}'.format(a, b, c, a * b * c))\n",
    "    return '{}*{}*{}={}'.format(a, b, c, a * b * c)\n",
    "\n",
    "\n",
    "out = widgets.interactive_output(f, {'a': a_slide, 'b': b_slide, 'c': c_slide})\n",
    "\n",
    "widgets.HBox([widgets.VBox([a_slide, b_slide, c_slide]), out])"
   ]
  },
  {
   "cell_type": "markdown",
   "metadata": {},
   "source": [
    "Smart way"
   ]
  },
  {
   "cell_type": "code",
   "execution_count": 15,
   "metadata": {},
   "outputs": [
    {
     "data": {
      "application/vnd.jupyter.widget-view+json": {
       "model_id": "abb27af5c4d44928bf6627a36c62ff39",
       "version_major": 2,
       "version_minor": 0
      },
      "text/plain": [
       "interactive(children=(FloatSlider(value=0.0, description='m', max=3.0, min=-3.0, step=0.5), Dropdown(descripti…"
      ]
     },
     "metadata": {},
     "output_type": "display_data"
    },
    {
     "data": {
      "text/plain": [
       "<Figure size 432x288 with 0 Axes>"
      ]
     },
     "metadata": {},
     "output_type": "display_data"
    }
   ],
   "source": [
    "def f1(m, par):\n",
    "    plt.figure()\n",
    "    x = np.linspace(-10, 10, num=1000)\n",
    "\n",
    "    a = par['a']\n",
    "    b = par['b']\n",
    "    plt.plot(x, m * x + b)\n",
    "    plt.ylim(-5, 5)\n",
    "    plt.show()\n",
    "\n",
    "\n",
    "interactive_plot = interactive(f1, m= (-3, 3, 0.5), par ={'a': (-3, 3, 0.5), 'b': (-3, 3, 1)} )\n",
    "output = interactive_plot.children[-1]\n",
    "output.layout.height = '300px'\n",
    "interactive_plot"
   ]
  },
  {
   "cell_type": "code",
   "execution_count": 16,
   "metadata": {},
   "outputs": [
    {
     "ename": "NameError",
     "evalue": "name 'param' is not defined",
     "output_type": "error",
     "traceback": [
      "\u001b[0;31m---------------------------------------------------------------------------\u001b[0m",
      "\u001b[0;31mNameError\u001b[0m                                 Traceback (most recent call last)",
      "\u001b[1;32m/home/homeubuntu/MyFenics/Matplotlib Tests/Parmeters .ipynb Cell 12'\u001b[0m in \u001b[0;36m<cell line: 15>\u001b[0;34m()\u001b[0m\n\u001b[1;32m     <a href='vscode-notebook-cell://wsl%2Bubuntu/home/homeubuntu/MyFenics/Matplotlib%20Tests/Parmeters%20.ipynb#ch0000011vscode-remote?line=10'>11</a>\u001b[0m     c \u001b[39m=\u001b[39m param[\u001b[39m'\u001b[39m\u001b[39mc\u001b[39m\u001b[39m'\u001b[39m]\n\u001b[1;32m     <a href='vscode-notebook-cell://wsl%2Bubuntu/home/homeubuntu/MyFenics/Matplotlib%20Tests/Parmeters%20.ipynb#ch0000011vscode-remote?line=11'>12</a>\u001b[0m     \u001b[39mreturn\u001b[39;00m \u001b[39m'\u001b[39m\u001b[39m{}\u001b[39;00m\u001b[39m*\u001b[39m\u001b[39m{}\u001b[39;00m\u001b[39m*\u001b[39m\u001b[39m{}\u001b[39;00m\u001b[39m=\u001b[39m\u001b[39m{}\u001b[39;00m\u001b[39m'\u001b[39m\u001b[39m.\u001b[39mformat(a, b, c, a \u001b[39m*\u001b[39m b \u001b[39m*\u001b[39m c)\n\u001b[1;32m     <a href='vscode-notebook-cell://wsl%2Bubuntu/home/homeubuntu/MyFenics/Matplotlib%20Tests/Parmeters%20.ipynb#ch0000011vscode-remote?line=14'>15</a>\u001b[0m out \u001b[39m=\u001b[39m widgets\u001b[39m.\u001b[39minteractive_output(\n\u001b[1;32m     <a href='vscode-notebook-cell://wsl%2Bubuntu/home/homeubuntu/MyFenics/Matplotlib%20Tests/Parmeters%20.ipynb#ch0000011vscode-remote?line=15'>16</a>\u001b[0m     f2, {\n\u001b[0;32m---> <a href='vscode-notebook-cell://wsl%2Bubuntu/home/homeubuntu/MyFenics/Matplotlib%20Tests/Parmeters%20.ipynb#ch0000011vscode-remote?line=16'>17</a>\u001b[0m         param[\u001b[39m'\u001b[39m\u001b[39ma\u001b[39m\u001b[39m'\u001b[39m]: a_slide,\n\u001b[1;32m     <a href='vscode-notebook-cell://wsl%2Bubuntu/home/homeubuntu/MyFenics/Matplotlib%20Tests/Parmeters%20.ipynb#ch0000011vscode-remote?line=17'>18</a>\u001b[0m         param[\u001b[39m'\u001b[39m\u001b[39mb\u001b[39m\u001b[39m'\u001b[39m]: \u001b[39m3\u001b[39m,\n\u001b[1;32m     <a href='vscode-notebook-cell://wsl%2Bubuntu/home/homeubuntu/MyFenics/Matplotlib%20Tests/Parmeters%20.ipynb#ch0000011vscode-remote?line=18'>19</a>\u001b[0m         param[\u001b[39m'\u001b[39m\u001b[39mc\u001b[39m\u001b[39m'\u001b[39m]: c_slide\n\u001b[1;32m     <a href='vscode-notebook-cell://wsl%2Bubuntu/home/homeubuntu/MyFenics/Matplotlib%20Tests/Parmeters%20.ipynb#ch0000011vscode-remote?line=19'>20</a>\u001b[0m     })\n\u001b[1;32m     <a href='vscode-notebook-cell://wsl%2Bubuntu/home/homeubuntu/MyFenics/Matplotlib%20Tests/Parmeters%20.ipynb#ch0000011vscode-remote?line=21'>22</a>\u001b[0m widgets\u001b[39m.\u001b[39mHBox([widgets\u001b[39m.\u001b[39mVBox([a_slide, b_slide, c_slide]), out])\n",
      "\u001b[0;31mNameError\u001b[0m: name 'param' is not defined"
     ]
    }
   ],
   "source": [
    "a_slide = widgets.IntSlider(description='a')\n",
    "b_slide = widgets.IntSlider(description='b')\n",
    "c_slide = widgets.IntSlider(description='c')\n",
    "\n",
    "param_list = {'a': a_slide, 'b': b_slide, 'c': c_slide}\n",
    "\n",
    "\n",
    "def f2(param):\n",
    "    a = param['a']\n",
    "    b = param['b']\n",
    "    c = param['c']\n",
    "    return '{}*{}*{}={}'.format(a, b, c, a * b * c)\n",
    "\n",
    "\n",
    "out = widgets.interactive_output(\n",
    "    f2, {\n",
    "        param['a']: a_slide,\n",
    "        param['b']: 3,\n",
    "        param['c']: c_slide\n",
    "    })\n",
    "\n",
    "widgets.HBox([widgets.VBox([a_slide, b_slide, c_slide]), out])"
   ]
  },
  {
   "cell_type": "code",
   "execution_count": null,
   "metadata": {},
   "outputs": [
    {
     "data": {
      "application/vnd.jupyter.widget-view+json": {
       "model_id": "1fe16cc6426b4508aa9edc98d31e87b3",
       "version_major": 2,
       "version_minor": 0
      },
      "text/plain": [
       "HBox(children=(VBox(children=(IntSlider(value=0, description='a'), IntSlider(value=0, description='b'), IntSli…"
      ]
     },
     "metadata": {},
     "output_type": "display_data"
    }
   ],
   "source": [
    "a_slide = widgets.IntSlider(description='a')\n",
    "b_slide = widgets.IntSlider(description='b')\n",
    "c_slide = widgets.IntSlider(description='c')\n",
    "\n",
    "param_list = {'a': a_slide, 'b': b_slide, 'c': c_slide}\n",
    "\n",
    "\n",
    "def f2(param):\n",
    "    a = param['a']\n",
    "    b = param['b']\n",
    "    c = param['c']\n",
    "    return '{}*{}*{}={}'.format(a, b, c, a * b * c)\n",
    "\n",
    "\n",
    "out = widgets.interactive(f2, param= param_list)\n",
    "\n",
    "widgets.HBox([widgets.VBox([a_slide, b_slide, c_slide]), out])"
   ]
  },
  {
   "cell_type": "code",
   "execution_count": null,
   "metadata": {},
   "outputs": [],
   "source": [
    "import threading\n",
    "from IPython.display import display, HTML\n",
    "import ipywidgets as widgets\n",
    "import time\n",
    "\n",
    "def thread_func(something, out):\n",
    "    for i in range(1, 5):\n",
    "        time.sleep(0.3)\n",
    "        out.append_stdout('{} {} {}\\n'.format(i, '**'*i, something))\n",
    "    out.append_display_data(HTML(\"<em>All done!</em>\"))\n",
    "\n",
    "display('Display in main thread')\n",
    "out = widgets.Output()\n",
    "# Now the key: the container is displayed (while empty) in the main thread\n",
    "display(out)\n",
    "\n",
    "thread = threading.Thread(\n",
    "    target=thread_func,\n",
    "    args=(\"some text\", out))\n",
    "thread.start()"
   ]
  }
 ],
 "metadata": {
  "interpreter": {
   "hash": "31f2aee4e71d21fbe5cf8b01ff0e069b9275f58929596ceb00d14d90e3e16cd6"
  },
  "kernelspec": {
   "display_name": "Python 3.8.10 64-bit",
   "language": "python",
   "name": "python3"
  },
  "language_info": {
   "codemirror_mode": {
    "name": "ipython",
    "version": 3
   },
   "file_extension": ".py",
   "mimetype": "text/x-python",
   "name": "python",
   "nbconvert_exporter": "python",
   "pygments_lexer": "ipython3",
   "version": "3.8.10"
  },
  "orig_nbformat": 4
 },
 "nbformat": 4,
 "nbformat_minor": 2
}
