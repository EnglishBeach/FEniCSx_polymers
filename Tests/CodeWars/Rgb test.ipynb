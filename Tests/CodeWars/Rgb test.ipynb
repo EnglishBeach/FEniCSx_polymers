{
 "cells": [
  {
   "cell_type": "code",
   "execution_count": 59,
   "metadata": {},
   "outputs": [],
   "source": [
    "l = [1, 3, 4, 5, 6, -1, 0, 0]\n"
   ]
  },
  {
   "cell_type": "code",
   "execution_count": 64,
   "metadata": {},
   "outputs": [],
   "source": [
    "l.sort(key=lambda x: 0 if x // 10 == 0 else 1)\n"
   ]
  },
  {
   "cell_type": "code",
   "execution_count": 65,
   "metadata": {},
   "outputs": [
    {
     "data": {
      "text/plain": [
       "[0, 0, 1, 3, 4, 5, 6, -1]"
      ]
     },
     "execution_count": 65,
     "metadata": {},
     "output_type": "execute_result"
    }
   ],
   "source": [
    "l"
   ]
  },
  {
   "cell_type": "code",
   "execution_count": 69,
   "metadata": {},
   "outputs": [],
   "source": [
    "def move_zeros(lst):\n",
    "\n",
    "    return sorted(lst, key=lambda x: 0 if x == 0 else 1)\n"
   ]
  },
  {
   "cell_type": "code",
   "execution_count": 70,
   "metadata": {},
   "outputs": [
    {
     "name": "stdout",
     "output_type": "stream",
     "text": [
      "[0, 0, 1, 2, 7, 8, 6, 5, 2]\n"
     ]
    }
   ],
   "source": [
    "print(move_zeros([1, 2, 0, 7, 0, 8, 6, 5, 2]))\n"
   ]
  },
  {
   "cell_type": "code",
   "execution_count": null,
   "metadata": {},
   "outputs": [],
   "source": [
    "def sortsmiles(str):\n",
    "    "
   ]
  },
  {
   "cell_type": "code",
   "execution_count": 74,
   "metadata": {},
   "outputs": [],
   "source": [
    "str = list('((((((()))(())')"
   ]
  },
  {
   "cell_type": "code",
   "execution_count": 77,
   "metadata": {},
   "outputs": [
    {
     "data": {
      "text/plain": [
       "['(', '(', '(', '(', '(', '(', '(', '(', '(', ')', ')', ')', ')', ')']"
      ]
     },
     "execution_count": 77,
     "metadata": {},
     "output_type": "execute_result"
    }
   ],
   "source": [
    "str.sort()\n",
    "str"
   ]
  },
  {
   "cell_type": "code",
   "execution_count": 81,
   "metadata": {},
   "outputs": [],
   "source": [
    "def bracet(string):\n",
    "    sum = 0\n",
    "    if string[0] == ')': -99999\n",
    "    for i in string:\n",
    "        if i == '(': sum += 1\n",
    "        else: sum -= 1\n",
    "    return sum == 0"
   ]
  },
  {
   "cell_type": "code",
   "execution_count": 83,
   "metadata": {},
   "outputs": [
    {
     "data": {
      "text/plain": [
       "False"
      ]
     },
     "execution_count": 83,
     "metadata": {},
     "output_type": "execute_result"
    }
   ],
   "source": [
    "bracet(')(()())')"
   ]
  },
  {
   "cell_type": "code",
   "execution_count": 84,
   "metadata": {},
   "outputs": [],
   "source": [
    "s = '()()()()(()'\n"
   ]
  },
  {
   "cell_type": "code",
   "execution_count": 85,
   "metadata": {},
   "outputs": [
    {
     "data": {
      "text/plain": [
       "')'"
      ]
     },
     "execution_count": 85,
     "metadata": {},
     "output_type": "execute_result"
    }
   ],
   "source": [
    "s[-1]"
   ]
  },
  {
   "cell_type": "code",
   "execution_count": 86,
   "metadata": {},
   "outputs": [],
   "source": [
    "def valid_parentheses(string):\n",
    "    sum = 1\n",
    "    for i in string:\n",
    "        if i == '(': sum *= 2\n",
    "        elif i == ')': sum //= 2\n",
    "    return sum == 1"
   ]
  },
  {
   "cell_type": "code",
   "execution_count": 90,
   "metadata": {},
   "outputs": [
    {
     "data": {
      "text/plain": [
       "False"
      ]
     },
     "execution_count": 90,
     "metadata": {},
     "output_type": "execute_result"
    }
   ],
   "source": [
    "valid_parentheses('()(')"
   ]
  },
  {
   "cell_type": "code",
   "execution_count": 3,
   "metadata": {},
   "outputs": [],
   "source": [
    "a = 5\n"
   ]
  },
  {
   "cell_type": "code",
   "execution_count": 6,
   "metadata": {},
   "outputs": [
    {
     "data": {
      "text/plain": [
       "5"
      ]
     },
     "execution_count": 6,
     "metadata": {},
     "output_type": "execute_result"
    }
   ],
   "source": [
    "def func1():\n",
    "    return a\n",
    "\n",
    "\n",
    "func1()"
   ]
  },
  {
   "cell_type": "code",
   "execution_count": 15,
   "metadata": {},
   "outputs": [],
   "source": [
    "def func2():\n",
    "    b = 10\n",
    "\n",
    "    def subfunc():\n",
    "        nonlocal b\n",
    "        b += 1\n",
    "        return b\n",
    "\n",
    "    return subfunc\n"
   ]
  },
  {
   "cell_type": "code",
   "execution_count": 18,
   "metadata": {},
   "outputs": [],
   "source": [
    "cal1 = func2()\n"
   ]
  },
  {
   "cell_type": "code",
   "execution_count": 23,
   "metadata": {},
   "outputs": [
    {
     "data": {
      "text/plain": [
       "15"
      ]
     },
     "execution_count": 23,
     "metadata": {},
     "output_type": "execute_result"
    }
   ],
   "source": [
    "cal1()"
   ]
  },
  {
   "cell_type": "code",
   "execution_count": 25,
   "metadata": {},
   "outputs": [],
   "source": [
    "cal2 = func2()"
   ]
  },
  {
   "cell_type": "code",
   "execution_count": 26,
   "metadata": {},
   "outputs": [
    {
     "data": {
      "text/plain": [
       "11"
      ]
     },
     "execution_count": 26,
     "metadata": {},
     "output_type": "execute_result"
    }
   ],
   "source": [
    "cal2()"
   ]
  },
  {
   "cell_type": "code",
   "execution_count": 55,
   "metadata": {},
   "outputs": [],
   "source": [
    "def func3():\n",
    "    c = 50\n",
    "    n = 99\n",
    "\n",
    "    def subfunc():\n",
    "        global c\n",
    "        c += 1\n",
    "        return c\n",
    "\n",
    "    return subfunc"
   ]
  },
  {
   "cell_type": "code",
   "execution_count": 56,
   "metadata": {},
   "outputs": [],
   "source": [
    "a = func3()\n"
   ]
  },
  {
   "cell_type": "code",
   "execution_count": 60,
   "metadata": {},
   "outputs": [
    {
     "data": {
      "text/plain": [
       "88"
      ]
     },
     "execution_count": 60,
     "metadata": {},
     "output_type": "execute_result"
    }
   ],
   "source": [
    "c = 88\n",
    "c"
   ]
  },
  {
   "cell_type": "code",
   "execution_count": 61,
   "metadata": {},
   "outputs": [
    {
     "data": {
      "text/plain": [
       "89"
      ]
     },
     "execution_count": 61,
     "metadata": {},
     "output_type": "execute_result"
    }
   ],
   "source": [
    "a()"
   ]
  },
  {
   "cell_type": "code",
   "execution_count": 1,
   "metadata": {},
   "outputs": [],
   "source": [
    "class Node():\n",
    "    next = None\n"
   ]
  },
  {
   "cell_type": "code",
   "execution_count": 4,
   "metadata": {},
   "outputs": [],
   "source": [
    "def loop_size(node):\n",
    "    nodeset = set()\n",
    "    i = node\n",
    "    while i not in nodeset:\n",
    "        nodeset.add(i)\n",
    "        i = i.next\n",
    "    nodeset.clear()\n",
    "    while i not in nodeset:\n",
    "        nodeset.add(i)\n",
    "        i = i.next\n",
    "    return len(nodeset)"
   ]
  },
  {
   "cell_type": "code",
   "execution_count": 12,
   "metadata": {},
   "outputs": [],
   "source": [
    "a1 = Node()\n",
    "a2 = Node()\n",
    "a3 = Node()\n",
    "a4 = Node()\n",
    "a5 = Node()\n",
    "a6 = Node()\n",
    "\n",
    "a1.next = a2\n",
    "a2.next = a3\n",
    "\n",
    "a3.next = a4\n",
    "a4.next = a6\n",
    "a6.next = a5\n",
    "a5.next = a4"
   ]
  },
  {
   "cell_type": "code",
   "execution_count": 13,
   "metadata": {},
   "outputs": [
    {
     "data": {
      "text/plain": [
       "3"
      ]
     },
     "execution_count": 13,
     "metadata": {},
     "output_type": "execute_result"
    }
   ],
   "source": [
    "loop_size(a2)"
   ]
  },
  {
   "cell_type": "code",
   "execution_count": 34,
   "metadata": {},
   "outputs": [
    {
     "data": {
      "text/plain": [
       "1.5500000000000007"
      ]
     },
     "execution_count": 34,
     "metadata": {},
     "output_type": "execute_result"
    }
   ],
   "source": [
    "15.55%2"
   ]
  },
  {
   "cell_type": "code",
   "execution_count": 30,
   "metadata": {},
   "outputs": [],
   "source": [
    "def divisions(num):\n",
    "    sum([(num // i)**2 for i in range(1, num+1) if num % i == 0])\n",
    "    \n"
   ]
  },
  {
   "cell_type": "code",
   "execution_count": 47,
   "metadata": {},
   "outputs": [],
   "source": [
    "from math import sqrt\n",
    "\n",
    "\n",
    "def list_squared(m, n):\n",
    "    output = []\n",
    "    for num in range(m, n):\n",
    "        squresum = 0\n",
    "        for i in range(1, num + 1):\n",
    "            if num % i == 0: squresum += (num // i)**2\n",
    "        if float(sqrt(squresum)) % 1 == 0: output.append([num, squresum])\n",
    "    return output"
   ]
  },
  {
   "cell_type": "code",
   "execution_count": 50,
   "metadata": {},
   "outputs": [
    {
     "ename": "KeyboardInterrupt",
     "evalue": "",
     "output_type": "error",
     "traceback": [
      "\u001b[1;31m---------------------------------------------------------------------------\u001b[0m",
      "\u001b[1;31mKeyboardInterrupt\u001b[0m                         Traceback (most recent call last)",
      "\u001b[1;32md:\\Works\\PolimerSolve\\Tests\\CodeWars\\Rgb test.ipynb Ячейка 33\u001b[0m in \u001b[0;36m<cell line: 1>\u001b[1;34m()\u001b[0m\n\u001b[1;32m----> <a href='vscode-notebook-cell:/d%3A/Works/PolimerSolve/Tests/CodeWars/Rgb%20test.ipynb#ch0000046?line=0'>1</a>\u001b[0m list_squared(\u001b[39m1\u001b[39;49m,\u001b[39m1000000\u001b[39;49m)\n",
      "\u001b[1;32md:\\Works\\PolimerSolve\\Tests\\CodeWars\\Rgb test.ipynb Ячейка 33\u001b[0m in \u001b[0;36mlist_squared\u001b[1;34m(m, n)\u001b[0m\n\u001b[0;32m      <a href='vscode-notebook-cell:/d%3A/Works/PolimerSolve/Tests/CodeWars/Rgb%20test.ipynb#ch0000046?line=6'>7</a>\u001b[0m     squresum \u001b[39m=\u001b[39m \u001b[39m0\u001b[39m\n\u001b[0;32m      <a href='vscode-notebook-cell:/d%3A/Works/PolimerSolve/Tests/CodeWars/Rgb%20test.ipynb#ch0000046?line=7'>8</a>\u001b[0m     \u001b[39mfor\u001b[39;00m i \u001b[39min\u001b[39;00m \u001b[39mrange\u001b[39m(\u001b[39m1\u001b[39m, num \u001b[39m+\u001b[39m \u001b[39m1\u001b[39m):\n\u001b[1;32m----> <a href='vscode-notebook-cell:/d%3A/Works/PolimerSolve/Tests/CodeWars/Rgb%20test.ipynb#ch0000046?line=8'>9</a>\u001b[0m         \u001b[39mif\u001b[39;00m num \u001b[39m%\u001b[39;49m i \u001b[39m==\u001b[39m \u001b[39m0\u001b[39m: squresum \u001b[39m+\u001b[39m\u001b[39m=\u001b[39m (num \u001b[39m/\u001b[39m\u001b[39m/\u001b[39m i)\u001b[39m*\u001b[39m\u001b[39m*\u001b[39m\u001b[39m2\u001b[39m\n\u001b[0;32m     <a href='vscode-notebook-cell:/d%3A/Works/PolimerSolve/Tests/CodeWars/Rgb%20test.ipynb#ch0000046?line=9'>10</a>\u001b[0m     \u001b[39mif\u001b[39;00m \u001b[39mfloat\u001b[39m(sqrt(squresum)) \u001b[39m%\u001b[39m \u001b[39m1\u001b[39m \u001b[39m==\u001b[39m \u001b[39m0\u001b[39m: output\u001b[39m.\u001b[39mappend([num, squresum])\n\u001b[0;32m     <a href='vscode-notebook-cell:/d%3A/Works/PolimerSolve/Tests/CodeWars/Rgb%20test.ipynb#ch0000046?line=10'>11</a>\u001b[0m \u001b[39mreturn\u001b[39;00m output\n",
      "\u001b[1;31mKeyboardInterrupt\u001b[0m: "
     ]
    }
   ],
   "source": [
    "list_squared(1,1000000)"
   ]
  },
  {
   "cell_type": "code",
   "execution_count": null,
   "metadata": {},
   "outputs": [],
   "source": []
  }
 ],
 "metadata": {
  "kernelspec": {
   "display_name": "Python 3.8.0 64-bit",
   "language": "python",
   "name": "python3"
  },
  "language_info": {
   "codemirror_mode": {
    "name": "ipython",
    "version": 3
   },
   "file_extension": ".py",
   "mimetype": "text/x-python",
   "name": "python",
   "nbconvert_exporter": "python",
   "pygments_lexer": "ipython3",
   "version": "3.8.0"
  },
  "orig_nbformat": 4,
  "vscode": {
   "interpreter": {
    "hash": "54f20e7e3e360f2961354ec07feee89ca859933b5816359cc03524f014ca106e"
   }
  }
 },
 "nbformat": 4,
 "nbformat_minor": 2
}
