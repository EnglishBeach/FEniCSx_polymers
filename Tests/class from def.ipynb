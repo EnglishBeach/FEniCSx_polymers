{
 "cells": [
  {
   "cell_type": "code",
   "execution_count": 28,
   "metadata": {},
   "outputs": [],
   "source": [
    "def func_clas(name : str,x1):\n",
    "    \n",
    "    c1 = 10\n",
    "    c2 = 100\n",
    "    x1= x1\n",
    "    global x1\n",
    "    \n",
    "    def change_x1(new_x1):\n",
    "        # nonlocal x1\n",
    "        x1 = new_x1\n",
    "        func_clas.x1 = x1\n",
    "    \n",
    "    def change_c2(new_c2):\n",
    "        nonlocal c2\n",
    "        c2 = new_c2\n",
    "    \n",
    "    def print_change(add_x):\n",
    "        print(f'Additional_value= {add_x} ; obj_value= {x1}')\n",
    "    \n",
    "    def printer():\n",
    "        print(f\"{name} : x1= {x1}; c1= {c1}; c2= {c2} \")\n",
    "        # printer2()\n",
    "    \n",
    "    def printer2(**kwargs):\n",
    "        print(kwargs)\n",
    "    \n",
    "    def calculate1():\n",
    "        return c1+x1\n",
    "\n",
    "    def calculate2():\n",
    "        return c2+x1\n",
    "    # def method_selector(select):\n",
    "    #     if select=='print_change': return print_change\n",
    "    #     elif select=='printer': return printer\n",
    "    #     elif select=='calculate12': return calculate12\n",
    "    #     elif select=='calculate23': return calculate23\n",
    "    #     elif select=='change_class_x1': return change_x1\n",
    "    #     elif select=='change_class_x2': return change_class_x2\n",
    "        \n",
    "    func_clas.print_change = print_change       \n",
    "    func_clas.printer = printer\n",
    "    func_clas.calculate1 = calculate1\n",
    "    func_clas.calculate2 = calculate2\n",
    "    func_clas.change_x1 = change_x1\n",
    "    func_clas.change_c2 = change_c2\n",
    "    func_clas.x1 = x1\n",
    "    \n",
    "    return func_clas"
   ]
  },
  {
   "cell_type": "code",
   "execution_count": 29,
   "metadata": {},
   "outputs": [
    {
     "name": "stdout",
     "output_type": "stream",
     "text": [
      "func1 : x1= 5; c1= 10; c2= 100 \n"
     ]
    }
   ],
   "source": [
    "a = func_clas('func1',5)\n",
    "a.printer()"
   ]
  },
  {
   "cell_type": "code",
   "execution_count": 30,
   "metadata": {},
   "outputs": [
    {
     "name": "stdout",
     "output_type": "stream",
     "text": [
      "func1 : x1= 5; c1= 10; c2= 30 \n"
     ]
    }
   ],
   "source": [
    "a.change_c2(30)\n",
    "a.printer()"
   ]
  },
  {
   "cell_type": "code",
   "execution_count": 32,
   "metadata": {},
   "outputs": [
    {
     "name": "stdout",
     "output_type": "stream",
     "text": [
      "func1 : x1= 888; c1= 10; c2= 30 \n"
     ]
    }
   ],
   "source": [
    "a.change_x1(888)\n",
    "a.printer()"
   ]
  },
  {
   "cell_type": "code",
   "execution_count": 35,
   "metadata": {},
   "outputs": [],
   "source": [
    "a.x1=66"
   ]
  },
  {
   "cell_type": "code",
   "execution_count": 36,
   "metadata": {},
   "outputs": [
    {
     "data": {
      "text/plain": [
       "66"
      ]
     },
     "execution_count": 36,
     "metadata": {},
     "output_type": "execute_result"
    }
   ],
   "source": [
    "a.x1"
   ]
  },
  {
   "cell_type": "code",
   "execution_count": 46,
   "metadata": {},
   "outputs": [],
   "source": [
    "def close_fib():\n",
    "    x0,x1 = 0,1\n",
    "    def get_next():\n",
    "        nonlocal x0,x1\n",
    "        x0,x1 = x1,x0+x1\n",
    "        return x1\n",
    "    return get_next\n",
    "\n",
    "def rec_fib(step : int):\n",
    "    if step==0: return 0\n",
    "    elif step==1: return 1\n",
    "    else: return rec_fib(step-1)+rec_fib(step-2)\n",
    "        "
   ]
  },
  {
   "cell_type": "code",
   "execution_count": 52,
   "metadata": {},
   "outputs": [
    {
     "name": "stdout",
     "output_type": "stream",
     "text": [
      "1\n",
      "2\n",
      "3\n",
      "5\n",
      "8\n",
      "13\n",
      "21\n",
      "34\n",
      "55\n",
      "89\n",
      "144\n",
      "233\n",
      "377\n",
      "610\n",
      "987\n",
      "1597\n",
      "2584\n",
      "4181\n"
     ]
    }
   ],
   "source": [
    "fib1= close_fib()\n",
    "for i in range(2,20):\n",
    "    print(fib1())"
   ]
  },
  {
   "cell_type": "code",
   "execution_count": null,
   "metadata": {},
   "outputs": [],
   "source": []
  }
 ],
 "metadata": {
  "interpreter": {
   "hash": "9650cb4e16cdd4a8e8e2d128bf38d875813998db22a3c986335f89e0cb4d7bb2"
  },
  "kernelspec": {
   "display_name": "Python 3.8.0 64-bit",
   "language": "python",
   "name": "python3"
  },
  "language_info": {
   "codemirror_mode": {
    "name": "ipython",
    "version": 3
   },
   "file_extension": ".py",
   "mimetype": "text/x-python",
   "name": "python",
   "nbconvert_exporter": "python",
   "pygments_lexer": "ipython3",
   "version": "3.8.0"
  },
  "orig_nbformat": 4
 },
 "nbformat": 4,
 "nbformat_minor": 2
}
