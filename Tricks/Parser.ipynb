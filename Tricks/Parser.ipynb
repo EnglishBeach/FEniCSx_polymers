{
 "cells": [
  {
   "cell_type": "code",
   "execution_count": 1,
   "metadata": {},
   "outputs": [],
   "source": [
    "from latex2sympy2 import latex2sympy, latex2latex\n",
    "import sympy as smp"
   ]
  },
  {
   "cell_type": "code",
   "execution_count": 2,
   "metadata": {},
   "outputs": [
    {
     "name": "stdout",
     "output_type": "stream",
     "text": [
      "2*sqrt(\\text{asd})*g*sin(c)*dx/2\n"
     ]
    }
   ],
   "source": [
    "tex = r'\\frac{2}{2} \\sqrt{\\text{asd}} g \\sin (c) dx'\n",
    "tex1_s=latex2sympy(tex)\n",
    "print(tex1_s)"
   ]
  },
  {
   "cell_type": "code",
   "execution_count": 3,
   "metadata": {},
   "outputs": [
    {
     "data": {
      "text/latex": [
       "$\\displaystyle \\sqrt{\\text{asd}} dx g \\sin{\\left(2 \\right)}$"
      ],
      "text/plain": [
       "sqrt(\\text{asd})*dx*g*sin(2)"
      ]
     },
     "execution_count": 3,
     "metadata": {},
     "output_type": "execute_result"
    }
   ],
   "source": [
    "c=smp.Symbol('c')\n",
    "tex1_s.subs(c,2)"
   ]
  },
  {
   "cell_type": "code",
   "execution_count": 18,
   "metadata": {},
   "outputs": [
    {
     "name": "stdout",
     "output_type": "stream",
     "text": [
      "[v_f*x, \\nabla*dx*g*x]\n"
     ]
    },
    {
     "data": {
      "text/plain": [
       "[v_f*x, \\nabla*dx*g*x]"
      ]
     },
     "execution_count": 18,
     "metadata": {},
     "output_type": "execute_result"
    }
   ],
   "source": [
    "tex2=r'\\frac{dx \\nabla _{\\{x\\}}f(x)}{42 \\pi  e^{4 (-f(x))}}'\n",
    "tex2_s=latex2sympy(tex2)\n",
    "print(tex2_s)\n",
    "tex2_s"
   ]
  }
 ],
 "metadata": {
  "interpreter": {
   "hash": "916dbcbb3f70747c44a77c7bcd40155683ae19c65e1c03b4aa3499c5328201f1"
  },
  "kernelspec": {
   "display_name": "Python 3.9.7 64-bit",
   "language": "python",
   "name": "python3"
  },
  "language_info": {
   "codemirror_mode": {
    "name": "ipython",
    "version": 3
   },
   "file_extension": ".py",
   "mimetype": "text/x-python",
   "name": "python",
   "nbconvert_exporter": "python",
   "pygments_lexer": "ipython3",
   "version": "3.9.7"
  },
  "orig_nbformat": 4
 },
 "nbformat": 4,
 "nbformat_minor": 2
}
