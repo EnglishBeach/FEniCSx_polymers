{
 "cells": [
  {
   "cell_type": "code",
   "execution_count": null,
   "metadata": {},
   "outputs": [],
   "source": [
    "import inspect\n",
    "def retrieve_name(var):\n",
    "    callers_local_vars = inspect.currentframe().f_back.f_locals.items()\n",
    "    return [var_name for var_name, var_val in callers_local_vars if var_val is var]"
   ]
  },
  {
   "cell_type": "code",
   "execution_count": null,
   "metadata": {},
   "outputs": [],
   "source": [
    "ufl_func = set(dir(euEx))\n",
    "func= set(dir(uEx))\n",
    "const = set(dir(k))\n",
    "pyfunc = set(dir(lambda x: x[1]+x[0]))\n",
    "list_of_types = [ufl_func,func,const,pyfunc]"
   ]
  },
  {
   "cell_type": "code",
   "execution_count": null,
   "metadata": {},
   "outputs": [
    {
     "data": {
      "text/plain": [
       "{'T',\n",
       " '__abs__',\n",
       " '__add__',\n",
       " '__bool__',\n",
       " '__complex__',\n",
       " '__div__',\n",
       " '__float__',\n",
       " '__floordiv__',\n",
       " '__getitem__',\n",
       " '__getnewargs__',\n",
       " '__iter__',\n",
       " '__len__',\n",
       " '__mul__',\n",
       " '__neg__',\n",
       " '__nonzero__',\n",
       " '__pos__',\n",
       " '__pow__',\n",
       " '__radd__',\n",
       " '__rdiv__',\n",
       " '__rmul__',\n",
       " '__round__',\n",
       " '__rpow__',\n",
       " '__rsub__',\n",
       " '__rtruediv__',\n",
       " '__slots__',\n",
       " '__sub__',\n",
       " '__truediv__',\n",
       " '__weakref__',\n",
       " '__xor__',\n",
       " '_hash',\n",
       " '_init',\n",
       " '_ufl_all_classes_',\n",
       " '_ufl_all_handler_names_',\n",
       " '_ufl_class_',\n",
       " '_ufl_coerce_',\n",
       " '_ufl_compute_hash_',\n",
       " '_ufl_err_str_',\n",
       " '_ufl_evaluate_scalar_',\n",
       " '_ufl_expr_reconstruct_',\n",
       " '_ufl_handler_name_',\n",
       " '_ufl_is_abstract_',\n",
       " '_ufl_is_differential_',\n",
       " '_ufl_is_evaluation_',\n",
       " '_ufl_is_in_reference_frame_',\n",
       " '_ufl_is_index_free_',\n",
       " '_ufl_is_literal_',\n",
       " '_ufl_is_restriction_',\n",
       " '_ufl_is_scalar_',\n",
       " '_ufl_is_shaping_',\n",
       " '_ufl_is_terminal_',\n",
       " '_ufl_is_terminal_modifier_',\n",
       " '_ufl_language_operators_',\n",
       " '_ufl_num_ops_',\n",
       " '_ufl_num_typecodes_',\n",
       " '_ufl_obj_del_counts_',\n",
       " '_ufl_obj_init_counts_',\n",
       " '_ufl_profiling__del__',\n",
       " '_ufl_profiling__init__',\n",
       " '_ufl_regular__init__',\n",
       " '_ufl_required_methods_',\n",
       " '_ufl_required_properties_',\n",
       " '_ufl_signature_data_',\n",
       " '_ufl_terminal_modifiers_',\n",
       " '_ufl_typecode_',\n",
       " 'dx',\n",
       " 'evaluate',\n",
       " 'geometric_dimension',\n",
       " 'ufl_disable_profiling',\n",
       " 'ufl_domain',\n",
       " 'ufl_domains',\n",
       " 'ufl_enable_profiling',\n",
       " 'ufl_free_indices',\n",
       " 'ufl_index_dimensions',\n",
       " 'ufl_operands',\n",
       " 'ufl_shape'}"
      ]
     },
     "metadata": {},
     "output_type": "display_data"
    }
   ],
   "source": [
    "ufl_func.difference(pyfunc)"
   ]
  },
  {
   "cell_type": "code",
   "execution_count": null,
   "metadata": {},
   "outputs": [
    {
     "name": "stdout",
     "output_type": "stream",
     "text": [
      "_init in ufl_func = True\n",
      "_init in func = False\n",
      "_init in const = False\n",
      "_init in pyfunc = False\n"
     ]
    }
   ],
   "source": [
    "find = '_init'\n",
    "for element in list_of_types:\n",
    "    print( f'{find} in {retrieve_name(element)[1]} = { find in element}')"
   ]
  }
 ],
 "metadata": {
  "kernelspec": {
   "display_name": "Python 3.10.4 64-bit",
   "language": "python",
   "name": "python3"
  },
  "language_info": {
   "name": "python",
   "version": "3.10.4"
  },
  "orig_nbformat": 4,
  "vscode": {
   "interpreter": {
    "hash": "916dbcbb3f70747c44a77c7bcd40155683ae19c65e1c03b4aa3499c5328201f1"
   }
  }
 },
 "nbformat": 4,
 "nbformat_minor": 2
}
