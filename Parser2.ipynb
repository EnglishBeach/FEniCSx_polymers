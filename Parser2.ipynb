{
 "cells": [
  {
   "cell_type": "code",
   "execution_count": 11,
   "metadata": {},
   "outputs": [],
   "source": [
    "from latex2sympy2 import latex2sympy, latex2latex\n",
    "import sympy as smp"
   ]
  },
  {
   "cell_type": "code",
   "execution_count": 12,
   "metadata": {},
   "outputs": [
    {
     "name": "stdout",
     "output_type": "stream",
     "text": [
      "2*sqrt(\\text{asd})*g*sin(c)*dx/2\n"
     ]
    }
   ],
   "source": [
    "tex = r'\\frac{2}{2} \\sqrt{\\text{asd}} g \\sin (c) dx'\n",
    "tex1_s=latex2sympy(tex)\n",
    "print(tex1_s)"
   ]
  },
  {
   "cell_type": "code",
   "execution_count": 13,
   "metadata": {},
   "outputs": [
    {
     "data": {
      "text/latex": [
       "$\\displaystyle \\sqrt{\\text{asd}} dx g \\sin{\\left(2 \\right)}$"
      ],
      "text/plain": [
       "sqrt(\\text{asd})*dx*g*sin(2)"
      ]
     },
     "execution_count": 13,
     "metadata": {},
     "output_type": "execute_result"
    }
   ],
   "source": [
    "c=smp.Symbol('c')\n",
    "tex1_s.subs(c,2)"
   ]
  },
  {
   "cell_type": "code",
   "execution_count": 17,
   "metadata": {},
   "outputs": [
    {
     "ename": "Exception",
     "evalue": "I expected something else here\n\nabla _{\\{x,y\\}}f(x,y) . \nabla _{\\{x,y\\}}g(x,y)\n~~~~~~~~~~^",
     "output_type": "error",
     "traceback": [
      "\u001b[0;31m---------------------------------------------------------------------------\u001b[0m",
      "\u001b[0;31mNoViableAltException\u001b[0m                      Traceback (most recent call last)",
      "File \u001b[0;32m/usr/local/lib/python3.9/dist-packages/gen/PSParser.py:951\u001b[0m, in \u001b[0;36mPSParser.math\u001b[0;34m(self)\u001b[0m\n\u001b[1;32m    <a href='file:///usr/local/lib/python3.9/dist-packages/gen/PSParser.py?line=949'>950</a>\u001b[0m \u001b[39mself\u001b[39m\u001b[39m.\u001b[39m_errHandler\u001b[39m.\u001b[39msync(\u001b[39mself\u001b[39m)\n\u001b[0;32m--> <a href='file:///usr/local/lib/python3.9/dist-packages/gen/PSParser.py?line=950'>951</a>\u001b[0m la_ \u001b[39m=\u001b[39m \u001b[39mself\u001b[39;49m\u001b[39m.\u001b[39;49m_interp\u001b[39m.\u001b[39;49madaptivePredict(\u001b[39mself\u001b[39;49m\u001b[39m.\u001b[39;49m_input,\u001b[39m0\u001b[39;49m,\u001b[39mself\u001b[39;49m\u001b[39m.\u001b[39;49m_ctx)\n\u001b[1;32m    <a href='file:///usr/local/lib/python3.9/dist-packages/gen/PSParser.py?line=951'>952</a>\u001b[0m \u001b[39mif\u001b[39;00m la_ \u001b[39m==\u001b[39m \u001b[39m1\u001b[39m:\n",
      "File \u001b[0;32m/usr/local/lib/python3.9/dist-packages/antlr4/atn/ParserATNSimulator.py:342\u001b[0m, in \u001b[0;36mParserATNSimulator.adaptivePredict\u001b[0;34m(self, input, decision, outerContext)\u001b[0m\n\u001b[1;32m    <a href='file:///usr/local/lib/python3.9/dist-packages/antlr4/atn/ParserATNSimulator.py?line=339'>340</a>\u001b[0m         dfa\u001b[39m.\u001b[39ms0 \u001b[39m=\u001b[39m s0\n\u001b[0;32m--> <a href='file:///usr/local/lib/python3.9/dist-packages/antlr4/atn/ParserATNSimulator.py?line=341'>342</a>\u001b[0m alt \u001b[39m=\u001b[39m \u001b[39mself\u001b[39;49m\u001b[39m.\u001b[39;49mexecATN(dfa, s0, \u001b[39minput\u001b[39;49m, index, outerContext)\n\u001b[1;32m    <a href='file:///usr/local/lib/python3.9/dist-packages/antlr4/atn/ParserATNSimulator.py?line=342'>343</a>\u001b[0m \u001b[39mif\u001b[39;00m ParserATNSimulator\u001b[39m.\u001b[39mdebug:\n",
      "File \u001b[0;32m/usr/local/lib/python3.9/dist-packages/antlr4/atn/ParserATNSimulator.py:414\u001b[0m, in \u001b[0;36mParserATNSimulator.execATN\u001b[0;34m(self, dfa, s0, input, startIndex, outerContext)\u001b[0m\n\u001b[1;32m    <a href='file:///usr/local/lib/python3.9/dist-packages/antlr4/atn/ParserATNSimulator.py?line=412'>413</a>\u001b[0m         \u001b[39mreturn\u001b[39;00m alt\n\u001b[0;32m--> <a href='file:///usr/local/lib/python3.9/dist-packages/antlr4/atn/ParserATNSimulator.py?line=413'>414</a>\u001b[0m     \u001b[39mraise\u001b[39;00m e\n\u001b[1;32m    <a href='file:///usr/local/lib/python3.9/dist-packages/antlr4/atn/ParserATNSimulator.py?line=415'>416</a>\u001b[0m \u001b[39mif\u001b[39;00m D\u001b[39m.\u001b[39mrequiresFullContext \u001b[39mand\u001b[39;00m \u001b[39mself\u001b[39m\u001b[39m.\u001b[39mpredictionMode \u001b[39m!=\u001b[39m PredictionMode\u001b[39m.\u001b[39mSLL:\n\u001b[1;32m    <a href='file:///usr/local/lib/python3.9/dist-packages/antlr4/atn/ParserATNSimulator.py?line=416'>417</a>\u001b[0m     \u001b[39m# IF PREDS, MIGHT RESOLVE TO SINGLE ALT => SLL (or syntax error)\u001b[39;00m\n",
      "\u001b[0;31mNoViableAltException\u001b[0m: None",
      "\nDuring handling of the above exception, another exception occurred:\n",
      "\u001b[0;31mException\u001b[0m                                 Traceback (most recent call last)",
      "\u001b[1;32m/home/Parser 2.ipynb Cell 4'\u001b[0m in \u001b[0;36m<cell line: 2>\u001b[0;34m()\u001b[0m\n\u001b[1;32m      <a href='vscode-notebook-cell://attached-container%2B7b22636f6e7461696e65724e616d65223a222f696e66616c6c69626c655f697368697a616b61227d/home/Parser%202.ipynb#ch0000006vscode-remote?line=0'>1</a>\u001b[0m tex2\u001b[39m=\u001b[39m\u001b[39m'\u001b[39m\u001b[39m\\n\u001b[39;00m\u001b[39mabla _\u001b[39m\u001b[39m{\u001b[39m\u001b[39m\\\u001b[39m\u001b[39m{\u001b[39m\u001b[39mx,y\u001b[39m\u001b[39m\\\u001b[39m\u001b[39m}}f(x,y) . \u001b[39m\u001b[39m\\n\u001b[39;00m\u001b[39mabla _\u001b[39m\u001b[39m{\u001b[39m\u001b[39m\\\u001b[39m\u001b[39m{\u001b[39m\u001b[39mx,y\u001b[39m\u001b[39m\\\u001b[39m\u001b[39m}}g(x,y)\u001b[39m\u001b[39m'\u001b[39m\n\u001b[0;32m----> <a href='vscode-notebook-cell://attached-container%2B7b22636f6e7461696e65724e616d65223a222f696e66616c6c69626c655f697368697a616b61227d/home/Parser%202.ipynb#ch0000006vscode-remote?line=1'>2</a>\u001b[0m tex2_s\u001b[39m=\u001b[39mlatex2sympy(tex2)\n\u001b[1;32m      <a href='vscode-notebook-cell://attached-container%2B7b22636f6e7461696e65724e616d65223a222f696e66616c6c69626c655f697368697a616b61227d/home/Parser%202.ipynb#ch0000006vscode-remote?line=2'>3</a>\u001b[0m \u001b[39mprint\u001b[39m(tex2_s)\n\u001b[1;32m      <a href='vscode-notebook-cell://attached-container%2B7b22636f6e7461696e65724e616d65223a222f696e66616c6c69626c655f697368697a616b61227d/home/Parser%202.ipynb#ch0000006vscode-remote?line=3'>4</a>\u001b[0m tex2_s\n",
      "File \u001b[0;32m/usr/local/lib/python3.9/dist-packages/latex2sympy2.py:83\u001b[0m, in \u001b[0;36mlatex2sympy\u001b[0;34m(sympy, variable_values)\u001b[0m\n\u001b[1;32m     <a href='file:///usr/local/lib/python3.9/dist-packages/latex2sympy2.py?line=80'>81</a>\u001b[0m \u001b[39m# process the input\u001b[39;00m\n\u001b[1;32m     <a href='file:///usr/local/lib/python3.9/dist-packages/latex2sympy2.py?line=81'>82</a>\u001b[0m return_data \u001b[39m=\u001b[39m \u001b[39mNone\u001b[39;00m\n\u001b[0;32m---> <a href='file:///usr/local/lib/python3.9/dist-packages/latex2sympy2.py?line=82'>83</a>\u001b[0m math \u001b[39m=\u001b[39m parser\u001b[39m.\u001b[39;49mmath()\n\u001b[1;32m     <a href='file:///usr/local/lib/python3.9/dist-packages/latex2sympy2.py?line=84'>85</a>\u001b[0m \u001b[39m# if a list\u001b[39;00m\n\u001b[1;32m     <a href='file:///usr/local/lib/python3.9/dist-packages/latex2sympy2.py?line=85'>86</a>\u001b[0m \u001b[39mif\u001b[39;00m math\u001b[39m.\u001b[39mrelation_list():\n",
      "File \u001b[0;32m/usr/local/lib/python3.9/dist-packages/gen/PSParser.py:967\u001b[0m, in \u001b[0;36mPSParser.math\u001b[0;34m(self)\u001b[0m\n\u001b[1;32m    <a href='file:///usr/local/lib/python3.9/dist-packages/gen/PSParser.py?line=964'>965</a>\u001b[0m \u001b[39mexcept\u001b[39;00m RecognitionException \u001b[39mas\u001b[39;00m re:\n\u001b[1;32m    <a href='file:///usr/local/lib/python3.9/dist-packages/gen/PSParser.py?line=965'>966</a>\u001b[0m     localctx\u001b[39m.\u001b[39mexception \u001b[39m=\u001b[39m re\n\u001b[0;32m--> <a href='file:///usr/local/lib/python3.9/dist-packages/gen/PSParser.py?line=966'>967</a>\u001b[0m     \u001b[39mself\u001b[39;49m\u001b[39m.\u001b[39;49m_errHandler\u001b[39m.\u001b[39;49mreportError(\u001b[39mself\u001b[39;49m, re)\n\u001b[1;32m    <a href='file:///usr/local/lib/python3.9/dist-packages/gen/PSParser.py?line=967'>968</a>\u001b[0m     \u001b[39mself\u001b[39m\u001b[39m.\u001b[39m_errHandler\u001b[39m.\u001b[39mrecover(\u001b[39mself\u001b[39m, re)\n\u001b[1;32m    <a href='file:///usr/local/lib/python3.9/dist-packages/gen/PSParser.py?line=968'>969</a>\u001b[0m \u001b[39mfinally\u001b[39;00m:\n",
      "File \u001b[0;32m/usr/local/lib/python3.9/dist-packages/antlr4/error/ErrorStrategy.py:124\u001b[0m, in \u001b[0;36mDefaultErrorStrategy.reportError\u001b[0;34m(self, recognizer, e)\u001b[0m\n\u001b[1;32m    <a href='file:///usr/local/lib/python3.9/dist-packages/antlr4/error/ErrorStrategy.py?line=121'>122</a>\u001b[0m \u001b[39mself\u001b[39m\u001b[39m.\u001b[39mbeginErrorCondition(recognizer)\n\u001b[1;32m    <a href='file:///usr/local/lib/python3.9/dist-packages/antlr4/error/ErrorStrategy.py?line=122'>123</a>\u001b[0m \u001b[39mif\u001b[39;00m \u001b[39misinstance\u001b[39m( e, NoViableAltException ):\n\u001b[0;32m--> <a href='file:///usr/local/lib/python3.9/dist-packages/antlr4/error/ErrorStrategy.py?line=123'>124</a>\u001b[0m     \u001b[39mself\u001b[39;49m\u001b[39m.\u001b[39;49mreportNoViableAlternative(recognizer, e)\n\u001b[1;32m    <a href='file:///usr/local/lib/python3.9/dist-packages/antlr4/error/ErrorStrategy.py?line=124'>125</a>\u001b[0m \u001b[39melif\u001b[39;00m \u001b[39misinstance\u001b[39m( e, InputMismatchException ):\n\u001b[1;32m    <a href='file:///usr/local/lib/python3.9/dist-packages/antlr4/error/ErrorStrategy.py?line=125'>126</a>\u001b[0m     \u001b[39mself\u001b[39m\u001b[39m.\u001b[39mreportInputMismatch(recognizer, e)\n",
      "File \u001b[0;32m/usr/local/lib/python3.9/dist-packages/antlr4/error/ErrorStrategy.py:250\u001b[0m, in \u001b[0;36mDefaultErrorStrategy.reportNoViableAlternative\u001b[0;34m(self, recognizer, e)\u001b[0m\n\u001b[1;32m    <a href='file:///usr/local/lib/python3.9/dist-packages/antlr4/error/ErrorStrategy.py?line=247'>248</a>\u001b[0m     \u001b[39minput\u001b[39m \u001b[39m=\u001b[39m \u001b[39m\"\u001b[39m\u001b[39m<unknown input>\u001b[39m\u001b[39m\"\u001b[39m\n\u001b[1;32m    <a href='file:///usr/local/lib/python3.9/dist-packages/antlr4/error/ErrorStrategy.py?line=248'>249</a>\u001b[0m msg \u001b[39m=\u001b[39m \u001b[39m\"\u001b[39m\u001b[39mno viable alternative at input \u001b[39m\u001b[39m\"\u001b[39m \u001b[39m+\u001b[39m \u001b[39mself\u001b[39m\u001b[39m.\u001b[39mescapeWSAndQuote(\u001b[39minput\u001b[39m)\n\u001b[0;32m--> <a href='file:///usr/local/lib/python3.9/dist-packages/antlr4/error/ErrorStrategy.py?line=249'>250</a>\u001b[0m recognizer\u001b[39m.\u001b[39;49mnotifyErrorListeners(msg, e\u001b[39m.\u001b[39;49moffendingToken, e)\n",
      "File \u001b[0;32m/usr/local/lib/python3.9/dist-packages/antlr4/Parser.py:314\u001b[0m, in \u001b[0;36mParser.notifyErrorListeners\u001b[0;34m(self, msg, offendingToken, e)\u001b[0m\n\u001b[1;32m    <a href='file:///usr/local/lib/python3.9/dist-packages/antlr4/Parser.py?line=311'>312</a>\u001b[0m column \u001b[39m=\u001b[39m offendingToken\u001b[39m.\u001b[39mcolumn\n\u001b[1;32m    <a href='file:///usr/local/lib/python3.9/dist-packages/antlr4/Parser.py?line=312'>313</a>\u001b[0m listener \u001b[39m=\u001b[39m \u001b[39mself\u001b[39m\u001b[39m.\u001b[39mgetErrorListenerDispatch()\n\u001b[0;32m--> <a href='file:///usr/local/lib/python3.9/dist-packages/antlr4/Parser.py?line=313'>314</a>\u001b[0m listener\u001b[39m.\u001b[39;49msyntaxError(\u001b[39mself\u001b[39;49m, offendingToken, line, column, msg, e)\n",
      "File \u001b[0;32m/usr/local/lib/python3.9/dist-packages/antlr4/error/ErrorListener.py:60\u001b[0m, in \u001b[0;36mProxyErrorListener.syntaxError\u001b[0;34m(self, recognizer, offendingSymbol, line, column, msg, e)\u001b[0m\n\u001b[1;32m     <a href='file:///usr/local/lib/python3.9/dist-packages/antlr4/error/ErrorListener.py?line=57'>58</a>\u001b[0m \u001b[39mdef\u001b[39;00m \u001b[39msyntaxError\u001b[39m(\u001b[39mself\u001b[39m, recognizer, offendingSymbol, line, column, msg, e):\n\u001b[1;32m     <a href='file:///usr/local/lib/python3.9/dist-packages/antlr4/error/ErrorListener.py?line=58'>59</a>\u001b[0m     \u001b[39mfor\u001b[39;00m delegate \u001b[39min\u001b[39;00m \u001b[39mself\u001b[39m\u001b[39m.\u001b[39mdelegates:\n\u001b[0;32m---> <a href='file:///usr/local/lib/python3.9/dist-packages/antlr4/error/ErrorListener.py?line=59'>60</a>\u001b[0m         delegate\u001b[39m.\u001b[39;49msyntaxError(recognizer, offendingSymbol, line, column, msg, e)\n",
      "File \u001b[0;32m/usr/local/lib/python3.9/dist-packages/latex2sympy2.py:127\u001b[0m, in \u001b[0;36mMathErrorListener.syntaxError\u001b[0;34m(self, recog, symbol, line, col, msg, e)\u001b[0m\n\u001b[1;32m    <a href='file:///usr/local/lib/python3.9/dist-packages/latex2sympy2.py?line=124'>125</a>\u001b[0m \u001b[39melse\u001b[39;00m:\n\u001b[1;32m    <a href='file:///usr/local/lib/python3.9/dist-packages/latex2sympy2.py?line=125'>126</a>\u001b[0m     err \u001b[39m=\u001b[39m fmt \u001b[39m%\u001b[39m (\u001b[39m\"\u001b[39m\u001b[39mI don\u001b[39m\u001b[39m'\u001b[39m\u001b[39mt understand this\u001b[39m\u001b[39m\"\u001b[39m, \u001b[39mself\u001b[39m\u001b[39m.\u001b[39msrc, marker)\n\u001b[0;32m--> <a href='file:///usr/local/lib/python3.9/dist-packages/latex2sympy2.py?line=126'>127</a>\u001b[0m \u001b[39mraise\u001b[39;00m \u001b[39mException\u001b[39;00m(err)\n",
      "\u001b[0;31mException\u001b[0m: I expected something else here\n\nabla _{\\{x,y\\}}f(x,y) . \nabla _{\\{x,y\\}}g(x,y)\n~~~~~~~~~~^"
     ]
    }
   ],
   "source": [
    "tex2='\\nabla _{\\{x,y\\}}f(x,y) . \\nabla _{\\{x,y\\}}g(x,y)'\n",
    "tex2_s=latex2sympy(tex2)\n",
    "print(tex2_s)\n",
    "tex2_s"
   ]
  },
  {
   "cell_type": "code",
   "execution_count": null,
   "metadata": {},
   "outputs": [],
   "source": []
  }
 ],
 "metadata": {
  "interpreter": {
   "hash": "916dbcbb3f70747c44a77c7bcd40155683ae19c65e1c03b4aa3499c5328201f1"
  },
  "kernelspec": {
   "display_name": "Python 3.9.7 64-bit",
   "language": "python",
   "name": "python3"
  },
  "language_info": {
   "codemirror_mode": {
    "name": "ipython",
    "version": 3
   },
   "file_extension": ".py",
   "mimetype": "text/x-python",
   "name": "python",
   "nbconvert_exporter": "python",
   "pygments_lexer": "ipython3",
   "version": "3.9.7"
  },
  "orig_nbformat": 4
 },
 "nbformat": 4,
 "nbformat_minor": 2
}
