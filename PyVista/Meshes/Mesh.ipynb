{
 "cells": [
  {
   "cell_type": "code",
   "execution_count": 11,
   "metadata": {},
   "outputs": [],
   "source": [
    "import pyvista as pv\n",
    "import numpy as np"
   ]
  },
  {
   "cell_type": "code",
   "execution_count": 12,
   "metadata": {},
   "outputs": [],
   "source": [
    "pv.set_jupyter_backend('pythreejs')\n",
    "# pv.set_jupyter_backend('ipygany')\n",
    "# pv.set_jupyter_backend('static')\n",
    "pv.start_xvfb() #start backend xserver"
   ]
  },
  {
   "cell_type": "markdown",
   "metadata": {},
   "source": [
    "### From Matrix XYZ"
   ]
  },
  {
   "cell_type": "code",
   "execution_count": 13,
   "metadata": {},
   "outputs": [
    {
     "data": {
      "application/vnd.jupyter.widget-view+json": {
       "model_id": "5f65c74a358c4710908016d96a7c3f7b",
       "version_major": 2,
       "version_minor": 0
      },
      "text/plain": [
       "Renderer(camera=PerspectiveCamera(aspect=1.3333333333333333, children=(DirectionalLight(intensity=0.25, positi…"
      ]
     },
     "metadata": {},
     "output_type": "display_data"
    }
   ],
   "source": [
    "mesh = [\n",
    "        [0.,0.,0.],\n",
    "        [1.,0.,0.],\n",
    "        [1.,1.,1.]\n",
    "    ]\n",
    "\n",
    "plot_data= pv.PolyData(mesh)\n",
    "plot_data.plot(point_size=20,style='points',cpos='xy',show_bounds=True)"
   ]
  },
  {
   "cell_type": "markdown",
   "metadata": {},
   "source": [
    "### From MeshGrid"
   ]
  },
  {
   "cell_type": "code",
   "execution_count": 14,
   "metadata": {},
   "outputs": [],
   "source": [
    "# Make data\n",
    "x = np.arange(-10, 10, 0.25)\n",
    "y = np.arange(-10, 10, 0.25)\n",
    "x, y = np.meshgrid(x, y)\n",
    "r = np.sqrt(x**2 + y**2)\n",
    "z = np.sin(r)"
   ]
  },
  {
   "cell_type": "code",
   "execution_count": 15,
   "metadata": {},
   "outputs": [],
   "source": [
    "mesh1= pv.StructuredGrid(x, y, z)"
   ]
  },
  {
   "cell_type": "code",
   "execution_count": 16,
   "metadata": {},
   "outputs": [],
   "source": [
    "n, m = 29, 32\n",
    "x = np.linspace(-200, 200, num=n) + np.random.uniform(-5, 5, size=n)\n",
    "y = np.linspace(-200, 200, num=m) + np.random.uniform(-5, 5, size=m)\n",
    "xx, yy = np.meshgrid(x, y)\n",
    "A, b = 100, 100\n",
    "zz = A * np.exp(-0.5 * ((xx / b) ** 2.0 + (yy / b) ** 2.0))\n",
    "points = np.c_[xx.reshape(-1), yy.reshape(-1), zz.reshape(-1)]\n",
    "\n",
    "foo = pv.PolyData(points)\n",
    "foo.rotate_z(36.6, inplace=True)\n",
    "data_xyz=foo.points\n",
    "# data_xyz"
   ]
  },
  {
   "cell_type": "code",
   "execution_count": 17,
   "metadata": {},
   "outputs": [
    {
     "data": {
      "text/plain": [
       "pyvista_ndarray([[ -40.81070499, -283.93094331,    1.63404   ],\n",
       "                 [ -31.34506591, -276.90113933,    2.05923073],\n",
       "                 [ -19.24273861, -267.91315788,    2.71226215],\n",
       "                 ...,\n",
       "                 [  21.60677953,  261.01379291,    3.23949527],\n",
       "                 [  35.56730882,  271.38179696,    2.36201372],\n",
       "                 [  43.76733297,  277.47167233,    1.9345307 ]])"
      ]
     },
     "execution_count": 17,
     "metadata": {},
     "output_type": "execute_result"
    }
   ],
   "source": [
    "mesh2=pv.StructuredGrid()\n",
    "mesh2.points=data_xyz\n",
    "mesh2.dimensions = [n, m, 1]\n",
    "mesh2.points"
   ]
  },
  {
   "cell_type": "code",
   "execution_count": 25,
   "metadata": {},
   "outputs": [
    {
     "data": {
      "application/vnd.jupyter.widget-view+json": {
       "model_id": "3e8ab743f3214f639aeccc95b65a0602",
       "version_major": 2,
       "version_minor": 0
      },
      "text/plain": [
       "GridspecLayout(children=(Renderer(camera=PerspectiveCamera(children=(DirectionalLight(intensity=0.25, position…"
      ]
     },
     "metadata": {},
     "output_type": "display_data"
    }
   ],
   "source": [
    "plot= pv.Plotter(window_size=(800,400),shape=(1,2))\n",
    "plot.subplot(0,0)\n",
    "plot.add_axes()\n",
    "plot.add_mesh(mesh1,show_edges=False)\n",
    "# grid.plot_curvature(clim=[-1, 1])\n",
    "\n",
    "plot.subplot(0,1)\n",
    "plot.add_mesh(mesh2,show_edges=True)\n",
    "plot.show()"
   ]
  }
 ],
 "metadata": {
  "interpreter": {
   "hash": "916dbcbb3f70747c44a77c7bcd40155683ae19c65e1c03b4aa3499c5328201f1"
  },
  "kernelspec": {
   "display_name": "Python 3.9.7 64-bit",
   "language": "python",
   "name": "python3"
  },
  "language_info": {
   "codemirror_mode": {
    "name": "ipython",
    "version": 3
   },
   "file_extension": ".py",
   "mimetype": "text/x-python",
   "name": "python",
   "nbconvert_exporter": "python",
   "pygments_lexer": "ipython3",
   "version": "3.9.7"
  },
  "orig_nbformat": 4
 },
 "nbformat": 4,
 "nbformat_minor": 2
}
